{
 "cells": [
  {
   "cell_type": "markdown",
   "metadata": {},
   "source": [
    "# 의사 결정 분석"
   ]
  },
  {
   "cell_type": "markdown",
   "metadata": {},
   "source": [
    "### (1) '그 가격이 적당해요' 문제"
   ]
  },
  {
   "cell_type": "markdown",
   "metadata": {},
   "source": [
    "나다니엘과 레티아 두 사람은 진열대 위 물건들의 실제 가격보다 높지 않은 가장 가까운 가격을 부르는 참가자가 이기는 게임을 한다. <br />\n",
    "나다니엘은 26,000달러를 예상가로 적었고 실제 가격은 25,347달러였다. <br />\n",
    "레티아는 21,500달러를 예상가로 적었고 실제 가격은 21,578달러였다. <br />\n",
    "레티아의 예상가가 실제 가격보다 78달러 낮아서 우선 자신의 진열대에서 성공했고 <br />\n",
    "예상가와 실제가의 차이가 250달러 이하였던 터라 나다니엘에게도 이겼다."
   ]
  },
  {
   "cell_type": "markdown",
   "metadata": {},
   "source": [
    "베이지안 사고방식에 입각해서 3가지 질문을 생각해보자.\n",
    "- 결과를 보기 전에, 진열대의 가격에 대한 참가자들은 어떤 사전 믿음이 있었을까?\n",
    "- 결과를 본 후, 참가자들의 이런 믿음은 어떻게 바뀌었을까?\n",
    "- 사후 분포를 기반으로 참가자들은 예상가를 얼마나 적어야 할까? "
   ]
  },
  {
   "cell_type": "markdown",
   "metadata": {},
   "source": [
    "### (2) 사전 분포"
   ]
  },
  {
   "cell_type": "markdown",
   "metadata": {},
   "source": [
    "<img src=\"./Images/1.png\" width=400 />"
   ]
  },
  {
   "cell_type": "markdown",
   "metadata": {},
   "source": [
    "위 그림은 회차의 가격 분포를 보여준다. 두 회에 가장 많이 나온 금액은 28000달러 정도였다. <br />\n",
    "하지만 1회차는 두 번째로 많은 금액이 50000달러 부근이고, 2회차는 상대적으로 70000달러 이상의 값이 많이 나왔다."
   ]
  },
  {
   "cell_type": "markdown",
   "metadata": {},
   "source": [
    "이 분포는 실제 데이터에 기반하고 있지만 KDE에 의해 다듬어졌다."
   ]
  },
  {
   "cell_type": "markdown",
   "metadata": {},
   "source": [
    "### (3) 확률 밀도 함수"
   ]
  },
  {
   "cell_type": "markdown",
   "metadata": {},
   "source": [
    "다음은 평균이 0이고 표준편차가 1인 가우시안 분포인 PDF를 나타낸 것이다."
   ]
  },
  {
   "cell_type": "markdown",
   "metadata": {},
   "source": [
    "<img src=\"./Images/2.png\" width=300 />"
   ]
  },
  {
   "cell_type": "markdown",
   "metadata": {},
   "source": [
    "이 함수는 주어진 x에 대한 확률 밀도를 계산한다. 밀도는 높을수록 근삿값에 가까워지다는 점에서 확률 누적값과 비슷하다. <br />\n",
    "하지만 밀도는 확률이 아니다. 밀도는 0이나 어떤 양수도 될 수 있고, 확률처럼 0과 1의 제한이 걸려있지 않다. <br />\n",
    "만약 밀도를 연속적 범위로 적분한다면 결과값은 확률이 나올 것이다. <br />\n",
    "이 책에서는 기본적으로 우도 함수의 일부로 확률 밀도를 사용할 것이다. 예제를 살펴보자"
   ]
  },
  {
   "cell_type": "markdown",
   "metadata": {},
   "source": [
    "### (4) PDF 나타내기"
   ]
  },
  {
   "cell_type": "markdown",
   "metadata": {},
   "source": [
    "Pdf는 Pdf에 있을 것이라고 예상되는 인터페이스를 정의하지만 이것이 완전히 구현된 것은 아니라는 것을 의미하는 추상형이다. <br />\n",
    "Pdf 인터페이스는 Density와 MakePmf 두 가지 방법을 포함한다."
   ]
  },
  {
   "cell_type": "code",
   "execution_count": null,
   "metadata": {
    "collapsed": true
   },
   "outputs": [],
   "source": [
    "class Pdf(object):\n",
    "    \n",
    "    def Density(self, x):\n",
    "        raise UnimplementedMethodExpectation()\n",
    "    \n",
    "    def MakePmf(self, xs):\n",
    "        pmf = Pmf()\n",
    "        for x in xs:\n",
    "            pmf.Set(x, self.Density(x))\n",
    "        pmf.Normalize()\n",
    "        return pmf"
   ]
  },
  {
   "cell_type": "markdown",
   "metadata": {
    "collapsed": true
   },
   "source": [
    "Density는 값 x를 받아서 이에 해다하는 확률 밀도를 반환한다. <br />\n",
    "MakePmg는 PDF의 이산 추정값을 생성한다. <br />\n",
    "Pdf는 MakePmf의 구현을 제공하지만, 하위 클래스로 제공되는 Density는 구현을 제공하지 않는다."
   ]
  },
  {
   "cell_type": "markdown",
   "metadata": {
    "collapsed": true
   },
   "source": [
    "구체형은 추상형을 확장하여 누락된 메서드 구현을 제공하는 하위 클래스다. <br />\n",
    "GaussianPdf는 Pdf를 확장한 형태로 Density를 제공한다."
   ]
  },
  {
   "cell_type": "code",
   "execution_count": null,
   "metadata": {
    "collapsed": true
   },
   "outputs": [],
   "source": [
    "class GaussianPdf(Pdf):\n",
    "    def __init__(self, mu, sigma):\n",
    "        self.mu = mu\n",
    "        self.sigma = sigma\n",
    "    def Density(self, x):\n",
    "        return scipy.stats.norm.pdf(x, self.mu, self.sigma)"
   ]
  },
  {
   "cell_type": "markdown",
   "metadata": {
    "collapsed": true
   },
   "source": [
    "__init__는 분포의 평균 mu와 표준편차 sigma를 입력받아 이를 속성으로 저장한다. <br />\n",
    "Density에서는 가우시간 PDF구현에 scipy.stats의 함수를 사용한다."
   ]
  },
  {
   "cell_type": "markdown",
   "metadata": {},
   "source": [
    "가우시안 PDF는 간단한 수학 함수로 정의되어 있어서, 구현하기 쉽다. <br />\n",
    "또한 실생활에서는 가우시안에 근접한 분포를 갖는 수치들이 많으므로 유용하게 사용될 수 있다. <br />\n",
    "하지만 실제 데이터의 분포를 가우시안이나 다른 간단한 수학 함수로 나타낼 수 있다는 보장이 없다. <br />\n",
    "이런 경우는 전체 개체의 PDF를 추정하기 위해 샘플을 골라서 사용한다. <br />"
   ]
  },
  {
   "cell_type": "markdown",
   "metadata": {},
   "source": [
    "예를 들어. '그 가격이 적당해요'데이터는 1회차에 대해 313개의 금액이 있다. <br />\n",
    "여기서 모든 가능한 회차의 가격에서 샘플을 추출하는 것을 고려할 수 있다. <br />"
   ]
  },
  {
   "cell_type": "markdown",
   "metadata": {},
   "source": [
    "아래의 샘플에는 다음 데이터가 순서대로 들어있다. "
   ]
  },
  {
   "cell_type": "code",
   "execution_count": null,
   "metadata": {
    "collapsed": true
   },
   "outputs": [],
   "source": [
    "28800, 28868, 28941, 28957, 28958"
   ]
  },
  {
   "cell_type": "markdown",
   "metadata": {},
   "source": [
    "샘플을 보면 28801부터 28867까지 값에 없지만, 이 값들이 나올 일이 없다고 생각할 근거가 없다. <br />\n",
    "우리는 배경 지식을 기반으로 이 범위 내의 값일 가능성이 있는 모든 값을 예상해야 한다. <br />\n",
    "즉 PDF곡선이 부드럽게 이어질 것을 유추해야 한다. "
   ]
  },
  {
   "cell_type": "markdown",
   "metadata": {},
   "source": [
    "커널 밀도 추정(KDE)는 샘플로 데이터에 적합한 추정 평활 PDF를 찾아내는 것이다."
   ]
  },
  {
   "cell_type": "code",
   "execution_count": null,
   "metadata": {
    "collapsed": true
   },
   "outputs": [],
   "source": [
    "class EstimatedPdf(Pdf):\n",
    "    def __init__(self, sample):\n",
    "        self.kde = scipy.stats.gaussian_kde(sample)\n",
    "    def Density(self, x):\n",
    "        return self.kde.evaluate(x)"
   ]
  },
  {
   "cell_type": "markdown",
   "metadata": {},
   "source": [
    "__init__은 샘플을 받은 후에 이에 대한 커널 밀도 값을 추정한다. <br />\n",
    "결과는 gaussian_kde객체에서 evaluate메서드를 사용할 수 있다.\n",
    "Density에서 값을 받아와서, Gaussian_kde.evaluate를 호출한 후 결과로 밀도값을 반환한다. <br />"
   ]
  },
  {
   "cell_type": "code",
   "execution_count": null,
   "metadata": {
    "collapsed": true
   },
   "outputs": [],
   "source": [
    "prices = ReadData()\n",
    "pdf = thinkbayes2.EstimatedPdf(prices)\n",
    "low, high = 0, 75000\n",
    "n = 101\n",
    "xs = numpy.linspace(low, high, n)\n",
    "pmf = pdf.Makepmf(xs)"
   ]
  },
  {
   "cell_type": "markdown",
   "metadata": {},
   "source": [
    "pdf는 KDE의 근사치를 구하는 Pdf 객체다. <br /> \n",
    "pmf는 Pmf 객체로 동일한 간격의 연속적인 값의 밀도를 계산하는 Pdf를 추정할 수 있다."
   ]
  },
  {
   "cell_type": "markdown",
   "metadata": {},
   "source": [
    "#### 전체 코드"
   ]
  },
  {
   "cell_type": "code",
   "execution_count": null,
   "metadata": {
    "collapsed": true
   },
   "outputs": [],
   "source": [
    "from __future__ import print_function, division\n",
    "\n",
    "import csv\n",
    "import numpy\n",
    "import thinkbayes2\n",
    "import thinkplot\n",
    "\n",
    "import matplotlib.pyplot as pyplot\n",
    "\n",
    "\n",
    "FORMATS = ['png', 'pdf', 'eps']\n",
    "\n",
    "\n",
    "def ReadData(filename='showcases.2011.csv'):\n",
    "    \"\"\"Reads a CSV file of data.\n",
    "\n",
    "    Args:\n",
    "      filename: string filename\n",
    "\n",
    "    Returns: sequence of (price1 price2 bid1 bid2 diff1 diff2) tuples\n",
    "    \"\"\"\n",
    "    fp = open(filename)\n",
    "    reader = csv.reader(fp)\n",
    "    res = []\n",
    "\n",
    "    for t in reader:\n",
    "        _heading = t[0]\n",
    "        data = t[1:]\n",
    "        try:\n",
    "            data = [int(x) for x in data]\n",
    "            # print heading, data[0], len(data)\n",
    "            res.append(data)\n",
    "        except ValueError:\n",
    "            pass\n",
    "\n",
    "    fp.close()\n",
    "    return list(zip(*res))\n",
    "    \n",
    "\n",
    "class Price(thinkbayes2.Suite):\n",
    "    \"\"\"Represents hypotheses about the price of a showcase.\"\"\"\n",
    "\n",
    "    def __init__(self, pmf, player, label=None):\n",
    "        \"\"\"Constructs the suite.\n",
    "\n",
    "        pmf: prior distribution of price\n",
    "        player: Player object\n",
    "        label: string\n",
    "        \"\"\"\n",
    "        thinkbayes2.Suite.__init__(self, pmf, label=label)\n",
    "        self.player = player\n",
    "\n",
    "    def Likelihood(self, data, hypo):\n",
    "        \"\"\"Computes the likelihood of the data under the hypothesis.\n",
    "\n",
    "        hypo: actual price\n",
    "        data: the contestant's guess\n",
    "        \"\"\"\n",
    "        price = hypo\n",
    "        guess = data\n",
    "\n",
    "        error = price - guess\n",
    "        like = self.player.ErrorDensity(error)\n",
    "\n",
    "        return like\n",
    "\n",
    "\n",
    "class GainCalculator(object):\n",
    "    \"\"\"Encapsulates computation of expected gain.\"\"\"\n",
    "\n",
    "    def __init__(self, player, opponent):\n",
    "        \"\"\"Constructs the calculator.\n",
    "\n",
    "        player: Player\n",
    "        opponent: Player\n",
    "        \"\"\"\n",
    "        self.player = player\n",
    "        self.opponent = opponent\n",
    "\n",
    "    def ExpectedGains(self, low=0, high=75000, n=101):\n",
    "        \"\"\"Computes expected gains for a range of bids.\n",
    "\n",
    "        low: low bid\n",
    "        high: high bid\n",
    "        n: number of bids to evaluates\n",
    "\n",
    "        returns: tuple (sequence of bids, sequence of gains)\n",
    "    \n",
    "        \"\"\"\n",
    "        bids = numpy.linspace(low, high, n)\n",
    "\n",
    "        gains = [self.ExpectedGain(bid) for bid in bids]\n",
    "\n",
    "        return bids, gains\n",
    "\n",
    "    def ExpectedGain(self, bid):\n",
    "        \"\"\"Computes the expected return of a given bid.\n",
    "\n",
    "        bid: your bid\n",
    "        \"\"\"\n",
    "        suite = self.player.posterior\n",
    "        total = 0\n",
    "        for price, prob in sorted(suite.Items()):\n",
    "            gain = self.Gain(bid, price)\n",
    "            total += prob * gain\n",
    "        return total\n",
    "\n",
    "    def Gain(self, bid, price):\n",
    "        \"\"\"Computes the return of a bid, given the actual price.\n",
    "\n",
    "        bid: number\n",
    "        price: actual price\n",
    "        \"\"\"\n",
    "        # if you overbid, you get nothing\n",
    "        if bid > price:\n",
    "            return 0\n",
    "\n",
    "        # otherwise compute the probability of winning\n",
    "        diff = price - bid\n",
    "        prob = self.ProbWin(diff)\n",
    "\n",
    "        # if you are within 250 dollars, you win both showcases\n",
    "        if diff <= 250:\n",
    "            return 2 * price * prob\n",
    "        else:\n",
    "            return price * prob\n",
    "\n",
    "    def ProbWin(self, diff):\n",
    "        \"\"\"Computes the probability of winning for a given diff.\n",
    "\n",
    "        diff: how much your bid was off by\n",
    "        \"\"\"\n",
    "        prob = (self.opponent.ProbOverbid() + \n",
    "                self.opponent.ProbWorseThan(diff))\n",
    "        return prob\n",
    "\n",
    "\n",
    "class Player(object):\n",
    "    \"\"\"Represents a player on The Price is Right.\"\"\"\n",
    "\n",
    "    n = 101\n",
    "    price_xs = numpy.linspace(0, 75000, n)\n",
    "\n",
    "    def __init__(self, prices, bids, diffs):\n",
    "        \"\"\"Construct the Player.\n",
    "\n",
    "        prices: sequence of prices\n",
    "        bids: sequence of bids\n",
    "        diffs: sequence of underness (negative means over)\n",
    "        \"\"\"\n",
    "        self.pdf_price = thinkbayes2.EstimatedPdf(prices)\n",
    "        self.cdf_diff = thinkbayes2.MakeCdfFromList(diffs)\n",
    "\n",
    "        mu = 0\n",
    "        sigma = numpy.std(diffs)\n",
    "        self.pdf_error = thinkbayes2.NormalPdf(mu, sigma)\n",
    "\n",
    "    def ErrorDensity(self, error):\n",
    "        \"\"\"Density of the given error in the distribution of error.\n",
    "\n",
    "        error: how much the bid is under the actual price\n",
    "        \"\"\"\n",
    "        return self.pdf_error.Density(error)\n",
    "\n",
    "    def PmfPrice(self):\n",
    "        \"\"\"Returns a new Pmf of prices.\n",
    "\n",
    "        A discrete version of the estimated Pdf.\n",
    "        \"\"\"\n",
    "        return self.pdf_price.MakePmf(xs=self.price_xs)\n",
    "\n",
    "    def CdfDiff(self):\n",
    "        \"\"\"Returns a reference to the Cdf of differences (underness).\n",
    "        \"\"\"\n",
    "        return self.cdf_diff\n",
    "\n",
    "    def ProbOverbid(self):\n",
    "        \"\"\"Returns the probability this player overbids.\n",
    "        \"\"\"\n",
    "        return self.cdf_diff.Prob(-1)\n",
    "\n",
    "    def ProbWorseThan(self, diff):\n",
    "        \"\"\"Probability this player's diff is greater than the given diff.\n",
    "\n",
    "        diff: how much the oppenent is off by (always positive)\n",
    "        \"\"\"\n",
    "        return 1 - self.cdf_diff.Prob(diff)\n",
    "\n",
    "    def MakeBeliefs(self, guess):\n",
    "        \"\"\"Makes a posterior distribution based on estimated price.\n",
    "\n",
    "        Sets attributes prior and posterior.\n",
    "\n",
    "        guess: what the player thinks the showcase is worth        \n",
    "        \"\"\"\n",
    "        pmf = self.PmfPrice()\n",
    "        self.prior = Price(pmf, self, label='prior')\n",
    "        self.posterior = self.prior.Copy(label='posterior')\n",
    "        self.posterior.Update(guess)\n",
    "\n",
    "    def OptimalBid(self, guess, opponent):\n",
    "        \"\"\"Computes the bid that maximizes expected return.\n",
    "        \n",
    "        guess: what the player thinks the showcase is worth \n",
    "        opponent: Player\n",
    "\n",
    "        Returns: (optimal bid, expected gain)\n",
    "        \"\"\"\n",
    "        self.MakeBeliefs(guess)\n",
    "        calc = GainCalculator(self, opponent)\n",
    "        bids, gains = calc.ExpectedGains()\n",
    "        gain, bid = max(zip(gains, bids))\n",
    "        return bid, gain\n",
    "\n",
    "    def PlotBeliefs(self, root):\n",
    "        \"\"\"Plots prior and posterior beliefs.\n",
    "\n",
    "        root: string filename root for saved figure\n",
    "        \"\"\"\n",
    "        thinkplot.Clf()\n",
    "        thinkplot.PrePlot(num=2)\n",
    "        thinkplot.Pdfs([self.prior, self.posterior])\n",
    "        thinkplot.Save(root=root,\n",
    "                    xlabel='price ($)',\n",
    "                    ylabel='PMF',\n",
    "                    formats=FORMATS)\n",
    "\n",
    "\n",
    "def MakePlots(player1, player2):\n",
    "    \"\"\"Generates two plots.\n",
    "\n",
    "    price1 shows the priors for the two players\n",
    "    price2 shows the distribution of diff for the two players\n",
    "    \"\"\"\n",
    "\n",
    "    # plot the prior distribution of price for both players\n",
    "    thinkplot.Clf()\n",
    "    thinkplot.PrePlot(num=2)\n",
    "    pmf1 = player1.PmfPrice()\n",
    "    pmf1.label = 'showcase 1'\n",
    "    pmf2 = player2.PmfPrice()\n",
    "    pmf2.label = 'showcase 2'\n",
    "    thinkplot.Pdfs([pmf1, pmf2])\n",
    "    thinkplot.Save(root='price1',\n",
    "                xlabel='price ($)',\n",
    "                ylabel='PDF',\n",
    "                formats=FORMATS)\n",
    "\n",
    "    # plot the historical distribution of underness for both players\n",
    "    thinkplot.Clf()\n",
    "    thinkplot.PrePlot(num=2)\n",
    "    cdf1 = player1.CdfDiff()\n",
    "    cdf1.label = 'player 1'\n",
    "    cdf2 = player2.CdfDiff()\n",
    "    cdf2.label = 'player 2'\n",
    "\n",
    "    print('Player median', cdf1.Percentile(50))\n",
    "    print('Player median', cdf2.Percentile(50))\n",
    "\n",
    "    print('Player 1 overbids', player1.ProbOverbid())\n",
    "    print('Player 2 overbids', player2.ProbOverbid())\n",
    "\n",
    "    thinkplot.Cdfs([cdf1, cdf2])\n",
    "    thinkplot.Save(root='price2',\n",
    "                xlabel='diff ($)',\n",
    "                ylabel='CDF',\n",
    "                formats=FORMATS)\n",
    "\n",
    "\n",
    "def MakePlayers():\n",
    "    \"\"\"Reads data and makes player objects.\"\"\"\n",
    "    data = ReadData(filename='showcases.2011.csv')\n",
    "    data += ReadData(filename='showcases.2012.csv')\n",
    "\n",
    "    cols = zip(*data)\n",
    "    price1, price2, bid1, bid2, diff1, diff2 = cols\n",
    "\n",
    "    #print(list(sorted(price1)))\n",
    "    #print(len(price1))\n",
    "\n",
    "    player1 = Player(price1, bid1, diff1)\n",
    "    player2 = Player(price2, bid2, diff2)\n",
    "\n",
    "    return player1, player2\n",
    "\n",
    "\n",
    "def PlotExpectedGains(guess1=20000, guess2=40000):\n",
    "    \"\"\"Plots expected gains as a function of bid.\n",
    "\n",
    "    guess1: player1's estimate of the price of showcase 1\n",
    "    guess2: player2's estimate of the price of showcase 2\n",
    "    \"\"\"\n",
    "    player1, player2 = MakePlayers()\n",
    "    MakePlots(player1, player2)\n",
    "\n",
    "    player1.MakeBeliefs(guess1)\n",
    "    player2.MakeBeliefs(guess2)\n",
    "\n",
    "    print('Player 1 prior mle', player1.prior.MaximumLikelihood())\n",
    "    print('Player 2 prior mle', player2.prior.MaximumLikelihood())\n",
    "    print('Player 1 mean', player1.posterior.Mean())\n",
    "    print('Player 2 mean', player2.posterior.Mean())\n",
    "    print('Player 1 mle', player1.posterior.MaximumLikelihood())\n",
    "    print('Player 2 mle', player2.posterior.MaximumLikelihood())\n",
    "\n",
    "    player1.PlotBeliefs('price3')\n",
    "    player2.PlotBeliefs('price4')\n",
    "\n",
    "    calc1 = GainCalculator(player1, player2)\n",
    "    calc2 = GainCalculator(player2, player1)\n",
    "\n",
    "    thinkplot.Clf()\n",
    "    thinkplot.PrePlot(num=2)\n",
    "\n",
    "    bids, gains = calc1.ExpectedGains()\n",
    "    thinkplot.Plot(bids, gains, label='Player 1')\n",
    "    print('Player 1 optimal bid', max(zip(gains, bids)))\n",
    "\n",
    "    bids, gains = calc2.ExpectedGains()\n",
    "    thinkplot.Plot(bids, gains, label='Player 2')\n",
    "    print('Player 2 optimal bid', max(zip(gains, bids)))\n",
    "\n",
    "    thinkplot.Save(root='price5',\n",
    "                xlabel='bid ($)',\n",
    "                ylabel='expected gain ($)',\n",
    "                formats=FORMATS)\n",
    "\n",
    "\n",
    "def PlotOptimalBid():\n",
    "    \"\"\"Plots optimal bid vs estimated price.\n",
    "    \"\"\"\n",
    "    player1, player2 = MakePlayers()\n",
    "    guesses = numpy.linspace(15000, 60000, 21)\n",
    "\n",
    "    res = []\n",
    "    for guess in guesses:\n",
    "        player1.MakeBeliefs(guess)\n",
    "\n",
    "        mean = player1.posterior.Mean()\n",
    "        mle = player1.posterior.MaximumLikelihood()\n",
    "\n",
    "        calc = GainCalculator(player1, player2)\n",
    "        bids, gains = calc.ExpectedGains()\n",
    "        gain, bid = max(zip(gains, bids))\n",
    "\n",
    "        res.append((guess, mean, mle, gain, bid))\n",
    "\n",
    "    guesses, means, _mles, gains, bids = zip(*res)\n",
    "    \n",
    "    thinkplot.PrePlot(num=3)\n",
    "    pyplot.plot([15000, 60000], [15000, 60000], color='gray')\n",
    "    thinkplot.Plot(guesses, means, label='mean')\n",
    "    #thinkplot.Plot(guesses, mles, label='MLE')\n",
    "    thinkplot.Plot(guesses, bids, label='bid')\n",
    "    thinkplot.Plot(guesses, gains, label='gain')\n",
    "    thinkplot.Save(root='price6',\n",
    "                   xlabel='guessed price ($)',\n",
    "                   formats=FORMATS)\n",
    "\n",
    "\n",
    "def TestCode(calc):\n",
    "    \"\"\"Check some intermediate results.\n",
    "\n",
    "    calc: GainCalculator\n",
    "    \"\"\"\n",
    "    # test ProbWin\n",
    "    for diff in [0, 100, 1000, 10000, 20000]:\n",
    "        print(diff, calc.ProbWin(diff))\n",
    "    print()\n",
    "\n",
    "    # test Return\n",
    "    price = 20000\n",
    "    for bid in [17000, 18000, 19000, 19500, 19800, 20001]:\n",
    "        print(bid, calc.Gain(bid, price))\n",
    "    print()\n",
    "\n",
    "\n",
    "def main():\n",
    "    PlotExpectedGains()\n",
    "    PlotOptimalBid()\n",
    "\n",
    "\n",
    "\n",
    "if __name__ == '__main__':\n",
    "    main()\n"
   ]
  },
  {
   "cell_type": "markdown",
   "metadata": {},
   "source": [
    "### (5) 참가자 모델링"
   ]
  },
  {
   "cell_type": "markdown",
   "metadata": {},
   "source": [
    "만약 당신이 쇼에 참가한 사람이라면 각 회차의 가격에 대한 사전 믿임의 값의 분포를 살펴볼 수 있을 것이다. <br />\n",
    "이런 사전 값을 보기 전에 다음 질문들을 생각해 보자.\n",
    "- 어떤 데이터를 고려해야 하고 어떤 데이터를 수치화해야 할까?\n",
    "- 우도 함수를 계산할 수 있을까? <br /> \n",
    "즉 각 price에 대한 가설 값을 정하면서 데이터의 상태 우도를 계산할 수 있을까?"
   ]
  },
  {
   "cell_type": "markdown",
   "metadata": {},
   "source": [
    "이 질문의 답을 구하고자 틀린 정보가 주어졌을 때 이를 기반으로 금액을 추측하는 용도로 <br />\n",
    "쓸 수 있는 참가자 모델을 만들기로 했다. 즉 참가자가 상품을 보고, 각 상품의 금액을 추정하고 <br /> 이렇게 구해진 금액을 더한다. 이를 총 guess라고 하자."
   ]
  },
  {
   "cell_type": "markdown",
   "metadata": {},
   "source": [
    "\"실제 가격이 price일 때 참가자가 guess라고 추정했으면 이 때 우도는 어떻게 되는가?\" <br />\n",
    "혹은 error = price - guess라고 정의할 수 있다. <br />\n",
    "그렇다면 다음으로는 \"참가자들이 배당 금액 추정값을 error로 구한 우도는 어떻게 되나요?\" <br />\n",
    "이 질문에 대답하기 위해 과거의 데이터를 다시 사용한다. "
   ]
  },
  {
   "cell_type": "markdown",
   "metadata": {},
   "source": [
    "아래의 다이어그램은 참가자들의 배당 금액과 회차의 실제 간격의 차이를 나타내는 diff에 대한 누적 분포이다. <br />\n",
    "diff = price - bid"
   ]
  },
  {
   "cell_type": "markdown",
   "metadata": {},
   "source": [
    "<img src=\"./Images/3.png\" width=400 />"
   ]
  },
  {
   "cell_type": "markdown",
   "metadata": {
    "collapsed": true
   },
   "source": [
    "diff 가 음수일 경우, 예상가가 너무 높아진다. <br /> \n",
    "이를 역이용해서 이 분포를 사용하여 참가자들이 예상가를 높게 책정할 확률을 계산할 수 있다. <br />\n",
    "첫 번째 참가자가 25% 예상가를 높게 책정하고, 두 번째 참가자는 29% 높게 했다. <br />\n",
    "또한 예상가가 한쪽으로 기울었다는 것을 알 수 있다. 즉 너무 높은 쪽보다 너무 낮게 입찰하는 경향이 있다. <br />\n",
    "이는 게임의 규칙을 생각하면 합리적인 결정이다. <br />"
   ]
  },
  {
   "cell_type": "markdown",
   "metadata": {},
   "source": [
    "마지막으로 분포를 사용하여 참가자의 추측의 신뢰도를 확인해 볼 수도 있다. <br />\n",
    "우리는 참가자들의 추측을 실제로 알 수 있는 것이 아니고 그들의 예상가만 알고 있는 것이므로 이 단계는 약간 넘겨짚는 것일 수도 있다. <br />\n",
    "따라서 여기에는 약간의 가정이 필요하다. 정확히 말해서, 여기에는 error의 분포가 평균 0에, 분산은 diff와 동일한 가우시안 분포를 따른다고 가정하였다. <br />"
   ]
  },
  {
   "cell_type": "markdown",
   "metadata": {},
   "source": [
    "Player 클래스에서 이 모델을 구현했다."
   ]
  },
  {
   "cell_type": "code",
   "execution_count": null,
   "metadata": {
    "collapsed": true
   },
   "outputs": [],
   "source": [
    "class Player(object):\n",
    "\n",
    "    def __init__(self, prices, bids, diffs):\n",
    "        self.pdf_price = thinkbayes.EstimatedPdf(prices)\n",
    "        self.cdf_diff = thinkbayes.MakeCdfFromList(diffs)\n",
    "\n",
    "        mu = 0\n",
    "        sigma = numpy.std(diffs)\n",
    "        self.pdf_error = thinkbayes.GaussianPdf(mu, sigma)"
   ]
  },
  {
   "cell_type": "markdown",
   "metadata": {},
   "source": [
    "price는 회차 가격에 대한 연속값이고, bid는 입찰 금액에 대한 연속값, diffs는 diff = price -bid와 같은 차이값을 나열한 것이다. <br />\n",
    "pdf_price는 KDE로 추정한 가격에 대해서 평활화된 PDF다. cdf_diff는 diff의 누적분포로 위의 그림과 같다. <br />\n",
    "pfg_error는 error = price - guess와 같은 오차의 분포를 나타낸 PDF다. <br />"
   ]
  },
  {
   "cell_type": "markdown",
   "metadata": {},
   "source": [
    "error의 분산 추정을 위해 diff의 분산을 사용한다. 추정값은 참가자들의 입찰 금액이 간혹 전략적인 경우가 있기 때문에 완벽하지는 않다. <br />\n",
    "예를 들어, 참가자2가 참가자1이 입찰을 너무 높게 했다고 생각해서 매우 낮은 입찰 금액을 걸 수 있다. <br />\n",
    "이런 경우 diff는 error를 반영하지 않는다. 이런 경우가 많아지면, diff의 관측 분산 값을 사용하면 error의 분산을 너무 높게 책정할 수 있다. <br />\n",
    "그렇긴 하지만, 이는 타당한 모델이라고 생각한다. <br />\n",
    "대신, 쇼에 나오기 위해 준비하는 누군가가 앞의 쇼를 보고 자신의 추정값을 기록해서 실제의 가격과 비교한 값으로 error를 만들어서 분포를 만들어 추정할 수 있을 것이다."
   ]
  },
  {
   "cell_type": "markdown",
   "metadata": {},
   "source": [
    "### (6) 우도"
   ]
  },
  {
   "cell_type": "markdown",
   "metadata": {},
   "source": [
    "thinkbayes2.Suite를 확장한 새 클래스를 정의해보자."
   ]
  },
  {
   "cell_type": "code",
   "execution_count": null,
   "metadata": {
    "collapsed": true
   },
   "outputs": [],
   "source": [
    "class Price(thinkbayes2.Suite):\n",
    "    \n",
    "    def __init__(self, pmf, player):\n",
    "        thinkbayes2.Suite.__init__(self, pmf)\n",
    "        self.player = player"
   ]
  },
  {
   "cell_type": "markdown",
   "metadata": {},
   "source": [
    "pmf는 사전 분포를 나타내고 player는 앞 장에서 말한 Player 객체다. Likelihood는 다음과 같다."
   ]
  },
  {
   "cell_type": "code",
   "execution_count": null,
   "metadata": {
    "collapsed": true
   },
   "outputs": [],
   "source": [
    "    def likelihood(self, data, hypo):\n",
    "        price = hypo\n",
    "        guess = data\n",
    "        \n",
    "        error = price - guess\n",
    "        like = self.player.ErrorDensity(error)\n",
    "        \n",
    "        return like"
   ]
  },
  {
   "cell_type": "markdown",
   "metadata": {},
   "source": [
    "hypo는 회차의 예상 가격이다. data는 참가자들이 가격을 가장 잘 추정했을 때의 값이다. error는 차이값, like는 해당 가설에 대한 데이터의 우도다. <br />\n",
    "ErrorDensity는 Player에서 정의한다."
   ]
  },
  {
   "cell_type": "code",
   "execution_count": null,
   "metadata": {
    "collapsed": true
   },
   "outputs": [],
   "source": [
    "    # class Player\n",
    "        \n",
    "        def ErrorDensity(self, error):\n",
    "            return self.pdf_error.Density(error)"
   ]
  },
  {
   "cell_type": "markdown",
   "metadata": {},
   "source": [
    "ErrorDensity는 주어진 error값에 대해 pdf_error를 계산한다. 결과를 확률 밀도값으로 반환하지만 실제 확률은 아니다. <br />\n",
    "하지만 Likelihood는 확률에 대한 비율을 구하면 될 뿐이지 확률을 계산할 필요가 없다는 것을 기억하자. <br />\n",
    "비례 상수가 모든 우도에 대해서 동일하다면 사후 분포를 정규화했을 떄 이 차이는 상쇄된다. 따라서 확률 밀도는 아주 좋은 우도이다."
   ]
  },
  {
   "cell_type": "markdown",
   "metadata": {},
   "source": [
    "### (7) 갱신"
   ]
  },
  {
   "cell_type": "markdown",
   "metadata": {},
   "source": [
    "Player에는 참가자들의 추측을 통해 사후 분포를 계산하는 메서드가 있다."
   ]
  },
  {
   "cell_type": "code",
   "execution_count": null,
   "metadata": {
    "collapsed": true
   },
   "outputs": [],
   "source": [
    "# class Player\n",
    "    \n",
    "    def MakeBeliefs(self, guess):\n",
    "        pmf = self.PmfPrice()\n",
    "        self.prior = Price(pmf, self)\n",
    "        self.posterior = self.prior.Copy()\n",
    "        self.posterior.Update(guess)"
   ]
  },
  {
   "cell_type": "markdown",
   "metadata": {},
   "source": [
    "PmfPrice는 사전 분포 값을 만드는 데에 사용하는, 가격의 PDF 이산 추정값을 생성한다. <br />\n",
    "PmfPrice는 연속값에서 pdf_price를 계산하는 MakePmf를 사용한다. "
   ]
  },
  {
   "cell_type": "code",
   "execution_count": null,
   "metadata": {
    "collapsed": true
   },
   "outputs": [],
   "source": [
    "# class Player\n",
    "    \n",
    "    n = 101\n",
    "    price_xs = numpy.linspace(0, 75000, n)\n",
    "    \n",
    "    def PmfPrice(self):\n",
    "        return self.pdf_price.MakePmf(self.price_xs)"
   ]
  },
  {
   "cell_type": "markdown",
   "metadata": {},
   "source": [
    "사후 값을 생성하려면 우선 사전 분포를 복제해서 각 가설에 대한 Likelihood를 호출하고도 사전 분포를 곱하고 다시 정규화하는 Update를 호출한다."
   ]
  },
  {
   "cell_type": "markdown",
   "metadata": {},
   "source": [
    "원래 시나리오로 돌아오자. 당신이 참가자 1이고 자신의 회차를 봤을 때 최선의 추츶ㄱ은 전체 금액이 $20,000이라는 것이다."
   ]
  },
  {
   "cell_type": "markdown",
   "metadata": {},
   "source": [
    "<img src=\"./Images/4.png\" width=500 />"
   ]
  },
  {
   "cell_type": "markdown",
   "metadata": {},
   "source": [
    "위 다이어그램은 실제 금액에 대한 사전 믿음과 사후 믿음을 보여준다. 추측값이 사전 분포의 횐쪽에 있었기 때문에 사후 분포가 왼쪽으로 좀 더 이동한 것을 할 수 있다. <br />\n",
    "한 쪽 레벨을 살펴 봤을 때 이 결과는 설득력있다. <br /> \n",
    "사전 분포에서 가장 가능성 있는 값은 27,750\\$으로 가장 최적의 추측값은 20,000\\$이며, 사후 분포의 평균은 이 사이 값 부근인 25,096\\$이다. <br />\n",
    "다른 레벨을 보면, 이 결과가 끔찍하게 느껴질 것이다. 가격이 20,000\\$일 것이라고 생각했다면 가격이 24,000\\$라는 것을 믿어야 한다고 말하고 있기 때문이다. "
   ]
  },
  {
   "cell_type": "markdown",
   "metadata": {},
   "source": [
    "이런 역설을 해결하려면 두 정보의 출처인 기존 쇼케이스로부터 나온 과거 데이터와 결과를 본 후의 추측을 잘 결합해야한다. <br />\n",
    "과거 데이터를 사전 분포로 두고 이를 추측 내용 기반으로 갱신해왔지만, 동일한 방식으로 추측 내용을 사전 분포로 둔 후 과거 데이터를 기반으로 갱신할 수도 있다. <br />\n",
    "만약 이런 방식에 대해서 고려한다면 사후 분포에서 가장 높은 가능성을 가진 값이 원래의 추측과 다르다는 것에 대해서 덜 놀랄 것이다."
   ]
  },
  {
   "cell_type": "markdown",
   "metadata": {},
   "source": [
    "### (8) 최적 입찰"
   ]
  },
  {
   "cell_type": "markdown",
   "metadata": {
    "collapsed": true
   },
   "source": [
    "이제 사후 분포를 구했으므로 예상 반환값을 최대로 하는 예상가를 정의하여 최적 예상가를 계산할 수 있다."
   ]
  },
  {
   "cell_type": "markdown",
   "metadata": {},
   "source": [
    "GainCalculator 클래스에 최적 입찰금 계산을 정의했다."
   ]
  },
  {
   "cell_type": "code",
   "execution_count": null,
   "metadata": {
    "collapsed": true
   },
   "outputs": [],
   "source": [
    "class GainCalculator(object):\n",
    "    \n",
    "    def __init__(self, player, opponent):\n",
    "        self.player = player\n",
    "        self.opponent = opponent"
   ]
  },
  {
   "cell_type": "markdown",
   "metadata": {},
   "source": [
    "player와 opponent는 Player 객체다."
   ]
  },
  {
   "cell_type": "markdown",
   "metadata": {},
   "source": [
    "GainCalculator는 각 입찰금과 입찰금에 대한 예상 이익의 배열인 ExpectedGains를 생성한다."
   ]
  },
  {
   "cell_type": "code",
   "execution_count": null,
   "metadata": {
    "collapsed": true
   },
   "outputs": [],
   "source": [
    "    def ExpectedGains(self, low=0, high=75000, n=101):\n",
    "        bids = numpy.linspace(low, high, n)\n",
    "        gains = [self.ExpectedGains(bid) for bid in bids]\n",
    "        return bids, gains"
   ]
  },
  {
   "cell_type": "markdown",
   "metadata": {},
   "source": [
    "low와 high는 가능한 입찰 금액의 범위를 나타내고, n은 시도 가능한 입찰 횟수다."
   ]
  },
  {
   "cell_type": "markdown",
   "metadata": {},
   "source": [
    "ExpectedGains에서는 주어진 예상가의 예상 이익을 계산하는 ExpectedGain을 호출한다."
   ]
  },
  {
   "cell_type": "code",
   "execution_count": null,
   "metadata": {
    "collapsed": true
   },
   "outputs": [],
   "source": [
    "    def ExpectedGain(self, bid):\n",
    "        suite = self.player.posterior\n",
    "        total = 0\n",
    "        for price, prob in sorted(suite.Items()):\n",
    "            gain = self.Gain(bid, price)\n",
    "            total += prob*gain\n",
    "        return total"
   ]
  },
  {
   "cell_type": "markdown",
   "metadata": {},
   "source": [
    "ExpectedGain은 사후 값을 반복해서 생성하면서 주어진 회차의 실제 가격에 대해 각 예상가에 대한 이익을 계산한다. <br />\n",
    "여기에 각 이익 별로 해당 확률만큼의 가중치를 주어 전체 합을 구한다."
   ]
  },
  {
   "cell_type": "markdown",
   "metadata": {},
   "source": [
    "ExpectedGain은 입찰 금액과 실제 가격을 인수로 받는 Gain을 호출해서 예상 이익을 구한다."
   ]
  },
  {
   "cell_type": "code",
   "execution_count": null,
   "metadata": {
    "collapsed": true
   },
   "outputs": [],
   "source": [
    "    def Gain(self, bid, price):\n",
    "        if bid > price:\n",
    "            return 0\n",
    "        \n",
    "        diff = price - bid\n",
    "        prob = self.ProbWin(diff)\n",
    "        \n",
    "        if diff <= 250:\n",
    "            return 2*price*prob\n",
    "        else:\n",
    "            return price*prob"
   ]
  },
  {
   "cell_type": "markdown",
   "metadata": {},
   "source": [
    "만약 너무 높게 입찰을 했다면 결과가 나오지 않는다. 아니라면 입찰금과 실제 가격의 차이를 계산해서 이길 확률을 구한다."
   ]
  },
  {
   "cell_type": "markdown",
   "metadata": {},
   "source": [
    "만약 diff가 \\$250보다 적다면 두 회차 모두 이길 것이다. 조금 더 간단히 두 회차 가격이 같다고 가정하자. 이런 결과가 나오는 일은 드물지만, 크게 차이가 나지는 않는다."
   ]
  },
  {
   "cell_type": "code",
   "execution_count": null,
   "metadata": {
    "collapsed": true
   },
   "outputs": [],
   "source": [
    "def ProbWin(self, diff):\n",
    "    prob = (self.opponent.ProbOverbid() + self.opponent.ProbWorseThan(diff))\n",
    "    return prob"
   ]
  },
  {
   "cell_type": "markdown",
   "metadata": {},
   "source": [
    "만약 상대방이 입찰을 너무 높게 했다면 당신이 이긴다. 아니라면 상대방이 diff보다 차이가 더 많이 나기를 바래야 한다. <br />\n",
    "Player는 이 두 확률을 모두 계산하는 메서드를 제공한다."
   ]
  },
  {
   "cell_type": "code",
   "execution_count": null,
   "metadata": {
    "collapsed": true
   },
   "outputs": [],
   "source": [
    "# class Player:\n",
    "    \n",
    "    def ProbOverbid(self):\n",
    "        return self.cdf_diff.Prob(-1)\n",
    "    def ProbWorseThan(self, diff):\n",
    "        return 1 - self.cdf_diff.Prob(diff)"
   ]
  },
  {
   "cell_type": "markdown",
   "metadata": {},
   "source": [
    "<img src=\"./Images/5.png\" width=500 />"
   ]
  },
  {
   "cell_type": "markdown",
   "metadata": {},
   "source": [
    "이번부터 계산이 상대방의 관점에서 이루어지므로 코드가 좀 헷갈릴 수 있다. <br />\n",
    "\"내가 높게 입찰할 확률은 얼마인가?\", \"내 예상가가 diff보다 더 크게 만들 확률이 얼마인가?\"를 상대방이 구하는 것이기 때문이다. <br />\n",
    "주어진 답은 모두 diff의 CDF에서 나온다. 만약 상대방의 diff가 -1보다 같거나 작으면, 내가 이긴다. 만약 상대방의 diff가 나보다 낮아도 내가 이긴다. 아니라면 질 것이다."
   ]
  },
  {
   "cell_type": "markdown",
   "metadata": {},
   "source": [
    "마지막으로 최적의 예상가를 구하는 코드는 다음과 같다."
   ]
  },
  {
   "cell_type": "code",
   "execution_count": null,
   "metadata": {
    "collapsed": true
   },
   "outputs": [],
   "source": [
    "# class Player:\n",
    "    def OptimalBid(self, guess, opponent):\n",
    "        self.MakeBeliefs(guess)\n",
    "        calc = GainCaculator(self, opponent)\n",
    "        bids, gains = calc.ExpectedGains()\n",
    "        gain, bid = max(zip(gains, bids))\n",
    "        return bid, gain"
   ]
  },
  {
   "cell_type": "markdown",
   "metadata": {},
   "source": [
    "주어진 추측과 상대방 정보를 사용해서, OptimalBid는 사후 분포를 계산하고, GainCalculator를 초기화한 후, <br />\n",
    "입찰 범위 내의 예상 이익을 계산하고 최적의 예상가와 이에 해당하는 예상 이익을 내놓는다. <br />\n",
    "위의 그림은 참가자1의 가장 나은 추측이 \\$20,000였고 참가자2의 가장 나은 추측이 \\$40,000이라는 시나리오를 바탕으로 두 선수의 결과를 보여준다. <br />\n",
    "참가자 1의 경우 예상가는 \\$21,000일 때 예상 이익이 약 $16,700으로 최적이다. <br />\n",
    "참가자 2의 최적 예상가는 \\$31,5000으로 이 경우 예상 이익은 약 \\$19,400다. 최적 예상가가 가장 좋은 추측값보다 작은 경우가 보통 일반적이다."
   ]
  },
  {
   "cell_type": "markdown",
   "metadata": {},
   "source": [
    "### (9) 토의"
   ]
  },
  {
   "cell_type": "markdown",
   "metadata": {},
   "source": [
    "베이지안 추정의 요소 중 하나는 결과가 사후 분포의 형태로 나오다는 것이다. 고전 추정법은 보통 단일 점 추정이나 신뢰구간 추정으로 이루어지며, <br /> \n",
    "분석은 프로세스의 끝에서야 할 때는 충분히 좋은 방법이다. 하지만 추정값을 연관된 다른 분석의 입력값으로 사용하려 할 때는 점 추정이나 신뢰구간은 큰 도움이 되지 않는다. <br />\n",
    "이 장의 예제에서는 사후 분포를 최적 입찰값을 구하는 데 사용했다. 주어진 입찰값에 대한 결과는 비대칭적이고 이산적이라서(만약 너무 높게 입찰하는 경우 지게 된다),<br />\n",
    "하나하나 분석해서 풀기는 힘들다. 하지만 계산식으로 풀기는 상대적으로 용이하다. <br />"
   ]
  },
  {
   "cell_type": "code",
   "execution_count": null,
   "metadata": {
    "collapsed": true
   },
   "outputs": [],
   "source": []
  }
 ],
 "metadata": {
  "anaconda-cloud": {},
  "kernelspec": {
   "display_name": "Python 3",
   "language": "python",
   "name": "python3"
  },
  "language_info": {
   "codemirror_mode": {
    "name": "ipython",
    "version": 3
   },
   "file_extension": ".py",
   "mimetype": "text/x-python",
   "name": "python",
   "nbconvert_exporter": "python",
   "pygments_lexer": "ipython3",
   "version": "3.6.1"
  }
 },
 "nbformat": 4,
 "nbformat_minor": 1
}
