{
 "cells": [
  {
   "cell_type": "markdown",
   "metadata": {},
   "source": [
    "# 공산과 가산"
   ]
  },
  {
   "cell_type": "markdown",
   "metadata": {},
   "source": [
    "### (1) 공산"
   ]
  },
  {
   "cell_type": "markdown",
   "metadata": {},
   "source": [
    "공산(odds)이란 어떤 사건의 승산은 이 사건이 일어나지 않을 때의 확률과 일어났을 때의 확률의 비율이다. <br />\n",
    "예로 들면 승마에서 내가 돈을 건 말이 이길 확률이 10%라면 보통 공산이 9:1이라고 말한다."
   ]
  },
  {
   "cell_type": "markdown",
   "metadata": {},
   "source": [
    "확률과 공산은 동일한 정보를 다르게 표기하는 법이다."
   ]
  },
  {
   "cell_type": "markdown",
   "metadata": {},
   "source": [
    "주어진 확률에 대해서 다음과 같이 공산을 계산할 수 있다."
   ]
  },
  {
   "cell_type": "code",
   "execution_count": 1,
   "metadata": {
    "collapsed": true
   },
   "outputs": [],
   "source": [
    "def Odds(p):\n",
    "    return p/(1-p)"
   ]
  },
  {
   "cell_type": "markdown",
   "metadata": {},
   "source": [
    "10진수 형태의 공산을 다음과 같이 확률로도 바꿀 수 있다."
   ]
  },
  {
   "cell_type": "code",
   "execution_count": 2,
   "metadata": {
    "collapsed": true
   },
   "outputs": [],
   "source": [
    "def Probability(o):\n",
    "    return o/(o+1)"
   ]
  },
  {
   "cell_type": "markdown",
   "metadata": {},
   "source": [
    "공산을 분자와 분모 형태로 나타내고 싶다면 확률을 다음과 같이 바꿀 수 있다."
   ]
  },
  {
   "cell_type": "code",
   "execution_count": null,
   "metadata": {
    "collapsed": true
   },
   "outputs": [],
   "source": [
    "def Probability2(yes, no):\n",
    "    return yes / (yes + no)"
   ]
  },
  {
   "cell_type": "markdown",
   "metadata": {},
   "source": [
    "### (2) 베이즈 이론의 공산 형태"
   ]
  },
  {
   "cell_type": "markdown",
   "metadata": {},
   "source": [
    "베이즈 이론의 확률 형태는 다음과 같다."
   ]
  },
  {
   "cell_type": "markdown",
   "metadata": {},
   "source": [
    "<img src=\"./Images/1.png\" width=200 />"
   ]
  },
  {
   "cell_type": "markdown",
   "metadata": {},
   "source": [
    "A와 B라는 두 개의 가설이 있을 때 사후 확률비는 다음과 같이 쓸 수 있다."
   ]
  },
  {
   "cell_type": "markdown",
   "metadata": {},
   "source": [
    "<img src=\"./Images/2.png\" width=200 />"
   ]
  },
  {
   "cell_type": "markdown",
   "metadata": {},
   "source": [
    "여기서 정규화 상수 p(D)는 약분되어 사라졌다."
   ]
  },
  {
   "cell_type": "markdown",
   "metadata": {},
   "source": [
    "만약 A와 B가 상호 배제적이며 전체 포괄적이라는 것은 p(A)+p(B)=1이라는 뜻이므로 <br />\n",
    "이 경우 사전 확률비, 사후 확률비를 공산으로 다시 작성해야 한다."
   ]
  },
  {
   "cell_type": "markdown",
   "metadata": {},
   "source": [
    "A에 대한 공산을 o(A)로 쓰면"
   ]
  },
  {
   "cell_type": "markdown",
   "metadata": {},
   "source": [
    "<img src=\"./Images/3.png\" width=200 />"
   ]
  },
  {
   "cell_type": "markdown",
   "metadata": {},
   "source": [
    "즉 사후 공산은 사전 공산과 우도비의 곱이란 뜻이다. 이는 베이즈 이론을 공산 형태로 나타낸 것이다."
   ]
  },
  {
   "cell_type": "markdown",
   "metadata": {},
   "source": [
    "### (3) 올리버의 혈액형"
   ]
  },
  {
   "cell_type": "markdown",
   "metadata": {},
   "source": [
    "범죄 현장에서 두 사람의 혈흔을 발견했다. 용의자 올리버는 검사 결과 'O'형이 나왔다. <br />\n",
    "두 혈흔의 혈액형이 'O'형(인구의 60% 빈도) 'AB'형(1% 빈도로 나타나는 드문 혈액형)으로 나타났다. <br />\n",
    "이 데이터(범죄 현장의 혈흔의 혈액형)가 올리버가 (현장에 혈흔을 남긴) 범인 중 한 명이라는 질문에 대한 증거가 될 수 있을까?"
   ]
  },
  {
   "cell_type": "markdown",
   "metadata": {},
   "source": [
    "이 질문에 대답하려면 데이터가 가설에 적합한 증거를 보여줄 수 있는지 생각해봐야 한다. <br />\n",
    "직관적으로 데이터가 전보다 가설에 근접해진 것 같으면 데이터가 가설에 적합하다고 할 것이다."
   ]
  },
  {
   "cell_type": "markdown",
   "metadata": {},
   "source": [
    "베이즈 이론의 공산은 이런 직관을 보다 정확하게 해준다. <br />\n",
    "다시 살펴보자"
   ]
  },
  {
   "cell_type": "markdown",
   "metadata": {},
   "source": [
    "<img src=\"./Images/4.png\" width=200 />"
   ]
  },
  {
   "cell_type": "markdown",
   "metadata": {},
   "source": [
    "혹은 o(A)로 나누면"
   ]
  },
  {
   "cell_type": "markdown",
   "metadata": {},
   "source": [
    "<img src=\"./Images/5.png\" width=150 />"
   ]
  },
  {
   "cell_type": "markdown",
   "metadata": {},
   "source": [
    "왼쪽항목은 사후 공산과 사전 공산의 비다. 오른쪽 항목은 우도비로, 베이즈 요인(Bayes factor)라고 한다."
   ]
  },
  {
   "cell_type": "markdown",
   "metadata": {},
   "source": [
    "베이즈 요인이 1보다 크면 데이터는 B 가정보다는 A 가정에 가깝다는 뜻이다. (전보다 공산 증가) <br />\n",
    "베이즈 요인이 1보다 작으면 데이터가 B 가정에 비해 A 가정일 때 더 적다는 뜻이다. (전보다 공산 감소) <br />\n",
    "마지막으로 베이즈 요인이 1인 경우, 데이터는 각 가설에서 경우가 동일하다. (공산은 그대로)"
   ]
  },
  {
   "cell_type": "markdown",
   "metadata": {},
   "source": [
    "올리버의 혈액형 문제에서 만약 올리버가 범죄 현장에 혈흔을 남겨놓은 사람 중 하나라면 <br />\n",
    "올리버는 'O'형 샘플에 대한 설명이 되고, 이 때 이 데이터의 확률은 1%의 인구가 가진 <br />\n",
    "'AB'형 혈액을 가진 임의의 사람에 대한 확률과 동일하다."
   ]
  },
  {
   "cell_type": "markdown",
   "metadata": {},
   "source": [
    "만약 올리버가 현장에 혈흔을 남기지 않았다면 설명해야 할 샘플이 2개가 필요하다. <br />\n",
    "전체 인구에서 임의로 두 사람의 혈액형을 검사했을 때 한 명이 'O'형이고 한 명이 'AB'형일 <br />\n",
    "확률은 얼마일까? 2가지 경우가 있을 수 있는데, 첫 번째 사람이 O형 이고 두 번째 사람이 AB형 <br />\n",
    "이거나 그 반대일 경우다. 따라서 총 확률은 2(0.6)(0.01)=0.012다."
   ]
  },
  {
   "cell_type": "markdown",
   "metadata": {},
   "source": [
    "올리버가 현장에 혈흔을 남긴 사람이 아닐 확률에 대한 우도가 약간 더 높으므로 <br /> 혈액 데이터는 올리버의 유죄에 대한 반증이 되었다."
   ]
  },
  {
   "cell_type": "markdown",
   "metadata": {},
   "source": [
    "### (4) 가산"
   ]
  },
  {
   "cell_type": "markdown",
   "metadata": {},
   "source": [
    "베이지안 통계의 기본 연산은 Update에서 사전 분포와 데이터를 가지고 사후 분포를 생성하는 것이다. <br />"
   ]
  },
  {
   "cell_type": "markdown",
   "metadata": {},
   "source": [
    "#### 전체 코드"
   ]
  },
  {
   "cell_type": "code",
   "execution_count": 2,
   "metadata": {},
   "outputs": [
    {
     "name": "stdout",
     "output_type": "stream",
     "text": [
      "Writing dungeons3.pdf\n",
      "Writing dungeons3.eps\n",
      "Writing dungeons3.png\n",
      "3 0.002\n",
      "4 0.017\n",
      "5 0.017\n",
      "6 0.046\n",
      "7 0.062\n",
      "8 0.095\n",
      "9 0.125\n",
      "10 0.123\n",
      "11 0.132\n",
      "12 0.127\n",
      "13 0.099\n",
      "14 0.075\n",
      "15 0.044\n",
      "16 0.022\n",
      "17 0.014\n",
      "3 0.004629629629629629\n",
      "4 0.013888888888888888\n",
      "5 0.027777777777777776\n",
      "6 0.046296296296296294\n",
      "7 0.06944444444444445\n",
      "8 0.09722222222222222\n",
      "9 0.11574074074074073\n",
      "10 0.125\n",
      "11 0.125\n",
      "12 0.11574074074074074\n",
      "13 0.09722222222222224\n",
      "14 0.06944444444444445\n",
      "15 0.046296296296296294\n",
      "16 0.027777777777777776\n",
      "17 0.013888888888888888\n",
      "18 0.004629629629629629\n",
      "Writing dungeons1.pdf\n",
      "Writing dungeons1.eps\n",
      "Writing dungeons1.png\n",
      "3 9.84640042005e-15\n",
      "4 4.03210097201e-11\n",
      "5 9.80606956393e-09\n",
      "6 6.20323226463e-07\n",
      "7 1.74701297953e-05\n",
      "8 0.000285572333648\n",
      "9 0.00247724167357\n",
      "10 0.0128440856934\n",
      "11 0.0439796447754\n",
      "12 0.105590541894\n",
      "13 0.18102225454\n",
      "14 0.212013521417\n",
      "15 0.194224527556\n",
      "16 0.141452169514\n",
      "17 0.0786340868805\n",
      "18 0.0274582534226\n",
      "Writing dungeons2.pdf\n",
      "Writing dungeons2.eps\n",
      "Writing dungeons2.png\n"
     ]
    }
   ],
   "source": [
    "import random\n",
    "\n",
    "import thinkbayes2\n",
    "import thinkplot\n",
    "\n",
    "FORMATS = ['pdf', 'eps', 'png']\n",
    "\n",
    "class Die(thinkbayes2.Pmf):\n",
    "    \"\"\"Represents the PMF of outcomes for a die.\"\"\"\n",
    "\n",
    "    def __init__(self, sides, label=''):\n",
    "        \"\"\"Initializes the die.\n",
    "\n",
    "        sides: int number of sides\n",
    "        label: string\n",
    "        \"\"\"\n",
    "        hypos = range(1, sides+1)\n",
    "        thinkbayes2.Pmf.__init__(self, hypos, label=label)\n",
    "\n",
    "def PmfMax(pmf1, pmf2):\n",
    "    \"\"\"Computes the distribution of the max of values drawn from two Pmfs.\n",
    "\n",
    "    pmf1, pmf2: Pmf objects\n",
    "\n",
    "    returns: new Pmf\n",
    "    \"\"\"\n",
    "    res = thinkbayes2.Pmf()\n",
    "    for v1, p1 in pmf1.Items():\n",
    "        for v2, p2 in pmf2.Items():\n",
    "            res.Incr(max(v1, v2), p1*p2)\n",
    "    return res\n",
    "    \n",
    "\n",
    "def main():\n",
    "    pmf_dice = thinkbayes2.Pmf()\n",
    "    pmf_dice.Set(Die(4), 5)\n",
    "    pmf_dice.Set(Die(6), 4)\n",
    "    pmf_dice.Set(Die(8), 3)\n",
    "    pmf_dice.Set(Die(12), 2)\n",
    "    pmf_dice.Set(Die(20), 1)\n",
    "    pmf_dice.Normalize()\n",
    "\n",
    "    mix = thinkbayes2.Pmf()\n",
    "    for die, weight in pmf_dice.Items():\n",
    "        for outcome, prob in die.Items():\n",
    "            mix.Incr(outcome, weight*prob)\n",
    "\n",
    "    mix = thinkbayes2.MakeMixture(pmf_dice)\n",
    "\n",
    "    thinkplot.Hist(mix, width=0.9)\n",
    "    thinkplot.Save(root='dungeons3',\n",
    "                xlabel='Outcome',\n",
    "                ylabel='Probability',\n",
    "                formats=FORMATS)\n",
    "\n",
    "    random.seed(17)\n",
    "\n",
    "    d6 = Die(6, 'd6') \n",
    "\n",
    "    dice = [d6] * 3\n",
    "    \n",
    "   \n",
    "    three = thinkbayes2.SampleSum(dice, 1000)\n",
    "    \n",
    "    \n",
    "    three.label = 'sample'\n",
    "    three.Print()\n",
    "    three_exact = d6 + d6 + d6\n",
    "    three_exact.label = 'exact'\n",
    "    three_exact.Print()\n",
    "\n",
    "    thinkplot.PrePlot(num=2)\n",
    "    thinkplot.Pmf(three)\n",
    "    thinkplot.Pmf(three_exact, linestyle='dashed')\n",
    "    thinkplot.Save(root='dungeons1',\n",
    "                xlabel='Sum of three d6',\n",
    "                ylabel='Probability',\n",
    "                axis=[2, 19, 0, 0.15],\n",
    "                formats=FORMATS)\n",
    "\n",
    "    thinkplot.Clf()\n",
    "    thinkplot.PrePlot(num=1)\n",
    "    \n",
    "    # compute the distribution of the best attribute the hard way\n",
    "    best_attr2 = PmfMax(three_exact, three_exact)\n",
    "    best_attr4 = PmfMax(best_attr2, best_attr2)\n",
    "    best_attr6 = PmfMax(best_attr4, best_attr2)\n",
    "    # thinkplot.Pmf(best_attr6)\n",
    "\n",
    "    # and the easy way\n",
    "    best_attr_cdf = three_exact.Max(6)\n",
    "    best_attr_cdf.label = ''\n",
    "    best_attr_pmf = best_attr_cdf.MakePmf()\n",
    "    best_attr_pmf.Print()\n",
    "\n",
    "    thinkplot.Pmf(best_attr_pmf)\n",
    "    thinkplot.Save(root='dungeons2',\n",
    "                   xlabel='Sum of three d6',\n",
    "                   ylabel='Probability',\n",
    "                   axis=[2, 19, 0, 0.23],\n",
    "                   formats=FORMATS,\n",
    "                   legend=False)\n",
    "    \n",
    "\n",
    "\n",
    "if __name__ == '__main__':\n",
    "    main()"
   ]
  },
  {
   "cell_type": "markdown",
   "metadata": {},
   "source": [
    "첫 번째 예제는 세 주사위의 합의 분포를 알아보는 것이다. 이를 계산할 수 있는 방법은 두 가지가 있다. <br />\n",
    "- 시뮬레이션: 하나의 주사위에 대한 분포를 나타내는 Pmf가 주어졌을 때 이를 사용해서 랜덤 샘플을 <br />\n",
    "    만들고, 더해서, 시뮬레이션으로 만들어진 값의 합에 대한 분포를 구한다. <br />\n",
    "    단점으로는 결과가 근삿값을 보여줄 뿐 아주 정확하지는 않다는 것이다. <br />\n",
    "- 나열: 주어진 두 개의 Pmf를 사용하여, 모든 가능한 수의 쌍을 나열하고 이 합의 분포를 계산한다."
   ]
  },
  {
   "cell_type": "markdown",
   "metadata": {},
   "source": [
    "우선 하나의 주사위를 나타내는 클래스를 Pmf를 사용하여 정의하자"
   ]
  },
  {
   "cell_type": "code",
   "execution_count": null,
   "metadata": {
    "collapsed": true
   },
   "outputs": [],
   "source": [
    "class Die(thinkbayes2.Pmf):\n",
    "    def __init__(self, sides):\n",
    "        thinkbayes2.Pmf.__init__(self)\n",
    "        for x in xrange(1, side+1):\n",
    "            self.Set(x, 1)\n",
    "        self.Normalize()"
   ]
  },
  {
   "cell_type": "markdown",
   "metadata": {},
   "source": [
    "그 다음 6면체 주사위를 생성하자"
   ]
  },
  {
   "cell_type": "code",
   "execution_count": null,
   "metadata": {
    "collapsed": true
   },
   "outputs": [],
   "source": [
    "d6 = Die(6)"
   ]
  },
  {
   "cell_type": "markdown",
   "metadata": {},
   "source": [
    "그 다음 주사위를 1,000번 굴린 샘플값을 생성한다."
   ]
  },
  {
   "cell_type": "code",
   "execution_count": null,
   "metadata": {
    "collapsed": true
   },
   "outputs": [],
   "source": [
    "dice = [d6]*3\n",
    "three = thinkbayes.SampleSum(dice, 1000)"
   ]
  },
  {
   "cell_type": "markdown",
   "metadata": {},
   "source": [
    "SampleSum은 (Pdf나 Cdf 객체로 된) 분포 리스트와 샘플 크기 n을 사용하여 <br />\n",
    "n개의 임의의 합을 생성한 후 이 분포를 Pmf 객체로 반환한다."
   ]
  },
  {
   "cell_type": "code",
   "execution_count": null,
   "metadata": {
    "collapsed": true
   },
   "outputs": [],
   "source": [
    "def SampleSum(dists, n):\n",
    "    pmf = MakePmfFromList(RandomSum(dists) for i in xrange(n))\n",
    "    return pmf"
   ]
  },
  {
   "cell_type": "code",
   "execution_count": null,
   "metadata": {
    "collapsed": true
   },
   "outputs": [],
   "source": [
    "SampleSum은 RandomSum을 사용한다."
   ]
  },
  {
   "cell_type": "code",
   "execution_count": null,
   "metadata": {
    "collapsed": true
   },
   "outputs": [],
   "source": [
    "def RandomSum(dists):\n",
    "    total = sum(dist.Random() for dist in dists)\n",
    "    return total"
   ]
  },
  {
   "cell_type": "markdown",
   "metadata": {},
   "source": [
    "RandomSum은 각 분포에 대해 Random을 호출하여 결과를 합산한다."
   ]
  },
  {
   "cell_type": "markdown",
   "metadata": {},
   "source": [
    "이 시뮬레이션의 문제점은 결과가 근삿값을 보여줄 뿐 아주 정확하지는 않다는 것이다. <br />\n",
    "n이 커질수록 더 정확해지지만, 당연히 실행 시간도 그 만큼 증가한다."
   ]
  },
  {
   "cell_type": "markdown",
   "metadata": {},
   "source": [
    "다른 방법은 모든 값의 쌍을 나열한 후 이를 더하고 각 쌍의 확률을 계산하는 것이다. <br />\n",
    "이 기능은 Pmf.__add__에 구현되었다."
   ]
  },
  {
   "cell_type": "code",
   "execution_count": null,
   "metadata": {
    "collapsed": true
   },
   "outputs": [],
   "source": [
    "# class Pmf\n",
    "    def __add__(self, other):\n",
    "        pmf = Pmf()\n",
    "        for v1, p1 in self.Items():\n",
    "            for v2, p2 in other.Items():\n",
    "                pmf.Incr(v1+v2, p1*p2)\n",
    "        return pmf"
   ]
  },
  {
   "cell_type": "markdown",
   "metadata": {},
   "source": [
    "self는 물론 Pmf고, other도 Item을 반환하는 Pmf나 다른 객체가 될 수도 있다. <br />\n",
    "결과는 새 Pmf다. __add__의 실행 시간은 self 및 다른 객체의 아이템 수에 따라 다르다. <br />\n",
    "이는 len(self)*len(other)에 비례한다."
   ]
  },
  {
   "cell_type": "markdown",
   "metadata": {},
   "source": [
    "그리고 이 함수는 다음과 같이 사용된다."
   ]
  },
  {
   "cell_type": "code",
   "execution_count": null,
   "metadata": {
    "collapsed": true
   },
   "outputs": [],
   "source": [
    "three_exact = d6 + d6 + d6"
   ]
  },
  {
   "cell_type": "markdown",
   "metadata": {},
   "source": [
    "Pmf에 + 연산자를 사용하면, 파이썬에서는 '__add__'를 호출한다. 이 예제에서 '__add__'는 두 번 호출된다."
   ]
  },
  {
   "cell_type": "markdown",
   "metadata": {
    "collapsed": true
   },
   "source": [
    "아래는 3개의 6면체 주사위값의 근사값 및 정확한 값의 분포이다."
   ]
  },
  {
   "cell_type": "markdown",
   "metadata": {},
   "source": [
    "<img src=\"./Images/6.png\" width=400 />"
   ]
  },
  {
   "cell_type": "markdown",
   "metadata": {},
   "source": [
    "Pmf.__add__는 각 Pmf로부터의 랜덤 선택이 독립적이라는 가정하에서 만들어진다. <br />\n",
    "주사위를 던지는 예제에서는 이 가정이 적절하다."
   ]
  },
  {
   "cell_type": "markdown",
   "metadata": {},
   "source": [
    "### (5) 최대값"
   ]
  },
  {
   "cell_type": "markdown",
   "metadata": {
    "collapsed": true
   },
   "source": [
    "최대값 분포 계산에는 세 가지 방법이 있다.\n",
    "- 시뮬레이션: 단일 선택에 대한 분포를 나타내는 Pmf를 사용하여 랜덤 샘플을 생성하고, 최대값을 찾고 <br />\n",
    "이렇게 시뮬레이션으로 만들어진 최대값의 분포를 누적한다.\n",
    "- 나열: 주어진 두 개의 Pmf로 부터 모든 가능한 값의 쌍을 나열하고 최대값의 분포를 구한다.\n",
    "- 멱법: Pmf를 Cdf로 바꿀 때 최대값에서 Cdf를 구하는 단순하고 효과적인 알고리즘이 있다. "
   ]
  },
  {
   "cell_type": "markdown",
   "metadata": {},
   "source": [
    "최대값을 시뮬레이션하는 코드는 합을 시뮬레이션 하는 코드와 거의 동일하다."
   ]
  },
  {
   "cell_type": "code",
   "execution_count": null,
   "metadata": {
    "collapsed": true
   },
   "outputs": [],
   "source": [
    "def RandomMax(dists):\n",
    "    total = max(dist.Random() for dist in dists)\n",
    "    return total\n",
    "\n",
    "def SampleMax(dists, n):\n",
    "    pmf = MakePmfFromList(RandomMax(dists) for i in xrange(n))\n",
    "    return pmf"
   ]
  },
  {
   "cell_type": "markdown",
   "metadata": {},
   "source": [
    "\"sum\"을 \"max\"로 바꾼 것 뿐, 코드는 거의 동일하다."
   ]
  },
  {
   "cell_type": "code",
   "execution_count": null,
   "metadata": {
    "collapsed": true
   },
   "outputs": [],
   "source": [
    "def PmfMax(pmf1, pmf2):\n",
    "    res = thinkbayes2.Pmf()\n",
    "    for v1, p1 in pmf1.Items():\n",
    "        for v2, p2 in pmf2.Items():\n",
    "            res.Incr(max(v1, v2), p1*p2)\n",
    "        return res"
   ]
  },
  {
   "cell_type": "markdown",
   "metadata": {},
   "source": [
    "위 함수는 원하는 기능을 변수로 받는 식으로 일반화 할 수 있다."
   ]
  },
  {
   "cell_type": "markdown",
   "metadata": {},
   "source": [
    "이 알고리즘의 문제는 만약 Pmf가 m개의 값을 가질 경우, 실행시간은 m**2에 비례한다. <br />\n",
    "그리고 만약 k개 중의 최대값을 찾으려고 한다면 k(m**2)에 비례하는 만큼의 시간이 소요된다."
   ]
  },
  {
   "cell_type": "markdown",
   "metadata": {},
   "source": [
    "Pmf를 Cdf로 변경하면 위의 동일한 계산을 훨씬 빠르게 할 수있다.(멱법)"
   ]
  },
  {
   "cell_type": "markdown",
   "metadata": {},
   "source": [
    "<img src=\"./Images/9.png\" width=200 />\n",
    "이 때 X는 \"이 분포에서 임의로 선택한 값\"의 뜻을 갖는 랜덤 변수이다."
   ]
  },
  {
   "cell_type": "markdown",
   "metadata": {},
   "source": [
    "CDF1에서 X를 고르고 CDF2에서 Y를 고르고, 최대값 Z=max(X,Y)를 계산한다고 하면 <br />\n",
    "Z가 5이하일 경우는 얼마일까? 이 경우 X와 Y 모두 5이하여야 한다. <br />\n",
    "X와 Y 선택이 독립적으로 이루어진다면 다음 식이 성립한다. <br />\n",
    "<img src=\"./Images/10.png\" width=250 /> <br />\n",
    "이 때 CDF3은 Z의 분포이다. 이 식은 z의 값과 상관없이 일반화 할 수있다.\n",
    "<img src=\"./Images/11.png\" width=250 /> <br />\n",
    "동일한 분포에서 k개의 값을 가져오는 특수한 경우는 다음과 같은 식이 성립한다.\n",
    "<img src=\"./Images/12.png\" width=200 /> <br />\n",
    "k개의 값 중 최대값의 분포를 찾으면, 주어진 Cdf의 확률을 나열한 후 이를 k회 곱하면 된다."
   ]
  },
  {
   "cell_type": "markdown",
   "metadata": {},
   "source": [
    "다음은 이를 실행하는 메서드를 보여준다."
   ]
  },
  {
   "cell_type": "code",
   "execution_count": null,
   "metadata": {
    "collapsed": true
   },
   "outputs": [],
   "source": [
    "# class Cdf\n",
    "    def Max(self, k):\n",
    "        cdf = self.Copy()\n",
    "        cdf.ps = [p**k for p in cdf.ps]\n",
    "        return cdf"
   ]
  },
  {
   "cell_type": "markdown",
   "metadata": {},
   "source": [
    "Max는 선택 개수 k를 취하고, k개의 선택 값 중 최댓값의 분포를 나타내는 새로운 Cdf를 반환한다. <br />\n",
    "이 메서드의 실행 시간은 Cdf의 아이템 개수 m에 비례한다."
   ]
  },
  {
   "cell_type": "markdown",
   "metadata": {},
   "source": [
    "Pmf.Max는 Pmf와 동일한 기능을 가진다. <br /> \n",
    "Pmf에서 Cdf로 바꾸는 약간의 작업을 더하느라 수행 시간은 mlogm에 비례하지만 제곱에 비례하는 것보다는 낫다."
   ]
  },
  {
   "cell_type": "code",
   "execution_count": null,
   "metadata": {
    "collapsed": true
   },
   "outputs": [],
   "source": [
    "best_attr_cdf = three_exact.Max(6)\n",
    "best_attr_pmf = best_attr_cdf.MakePmf()"
   ]
  },
  {
   "cell_type": "code",
   "execution_count": null,
   "metadata": {
    "collapsed": true
   },
   "outputs": [],
   "source": [
    "아래는 세 주사위를 6번 굴렸을 때의 최대값의 분포이다. \n",
    "최소 1개의 속성이 18인 캐릭터를 생성할 확률은 3%정도 라는 것을 볼 수 있다."
   ]
  },
  {
   "cell_type": "markdown",
   "metadata": {},
   "source": [
    "<img src=\"./Images/13.png\" width=400 />"
   ]
  },
  {
   "cell_type": "markdown",
   "metadata": {},
   "source": [
    "### (6) 혼합\n",
    "다음과 같은 한 상자의 주사위가 있다고 하자. <br />\n",
    "5 4면체 주사위 <br />\n",
    "4 6면체 주사위 <br />\n",
    "3 8면체 주사위 <br />\n",
    "2 12면체 주사위 <br />\n",
    "1 20면체 주사위 <br />\n",
    "상자에서 주사위를 골라서 굴렸다. 이 때 결괏값의 분포는 어떻게 될까? <br />"
   ]
  },
  {
   "cell_type": "markdown",
   "metadata": {},
   "source": [
    "만약 어떤 주사위를 골랐는지 안다면 답은 간단하다. n면의 주사위는 1부터 n까지의 균등분포를 보일 것이다."
   ]
  },
  {
   "cell_type": "markdown",
   "metadata": {},
   "source": [
    "하지만 어떤 주사위인지를 모를 경우, 결과 분포는 서로 다른 범위의 균등 분포의 혼합 형태로 나타난다. <br />\n",
    "Pmf의 형태로 분포를 간단하게 계산할 수있다. <br />\n",
    "한 가지 방법은 시나리오를 시뮬레이션해서 임의의 샘플을 생성하고, 이 샘플의 Pmf를 계산하는 것이다. <br />\n",
    "이 방법은 간단하고 근삿값을 빠르게 계산할 수 있다. 하지만 정확한 값을 원한다면 다른 방식이 필요하다."
   ]
  },
  {
   "cell_type": "markdown",
   "metadata": {},
   "source": [
    "우선 6면체와 8면체의 두개의 주사위만 있는 간단한 버전의 문제로 시작해보자. <br />\n",
    "우선 각 주사위를 나타내는 Pmf를 만들 수 있다."
   ]
  },
  {
   "cell_type": "code",
   "execution_count": null,
   "metadata": {
    "collapsed": true
   },
   "outputs": [],
   "source": [
    "    d6 = Die(6)\n",
    "    d8 = Die(8)"
   ]
  },
  {
   "cell_type": "markdown",
   "metadata": {},
   "source": [
    "다음은 혼합 형태를 나태내는 Pmf를 만든다."
   ]
  },
  {
   "cell_type": "code",
   "execution_count": null,
   "metadata": {
    "collapsed": true
   },
   "outputs": [],
   "source": [
    "    mix = thinkbayes2.Pmf()\n",
    "    for die in [d6, d8]:\n",
    "        for outcome, prob in die.Items():\n",
    "            mix.Incr(outcom, prob)\n",
    "        mix.Normalize()"
   ]
  },
  {
   "cell_type": "markdown",
   "metadata": {},
   "source": [
    "첫 번째 반복 시 주사위를 나열한 후, 두 번째에서 결과와 확률을 나열한다. <br />\n",
    "반복문 내에서 mix.Incr은 두 분포의 결과를 더한다."
   ]
  },
  {
   "cell_type": "markdown",
   "metadata": {},
   "source": [
    "위 코드에서는 두 주사위가 동일하다고 가정한다. <br />\n",
    "더 일반화하기 위해서는 각 주사위의 확률을 알아서 가중치를 부여할 수 있도록 해야 한다."
   ]
  },
  {
   "cell_type": "markdown",
   "metadata": {},
   "source": [
    "우선 Pmf에서 선택한 주사위 별로 각각의 확률을 연결할 수 있도록 한다."
   ]
  },
  {
   "cell_type": "code",
   "execution_count": null,
   "metadata": {
    "collapsed": true
   },
   "outputs": [],
   "source": [
    "    pmf_dice = thinkbayes2.Pmf()\n",
    "    pmf_dice.Set(Die(4), 2)\n",
    "    pmf_dice.Set(Die(6), 3)\n",
    "    pmf_dice.Set(Die(8), 2)\n",
    "    pmf_dice.Set(Die(12), 1)\n",
    "    pmf_dice.Set(Die(20), 1)\n",
    "    pmf_dice.Normalize()"
   ]
  },
  {
   "cell_type": "markdown",
   "metadata": {},
   "source": [
    "그리고 혼합 알고리즘의 더욱 일반화된 버전이 필요하다."
   ]
  },
  {
   "cell_type": "code",
   "execution_count": null,
   "metadata": {
    "collapsed": true
   },
   "outputs": [],
   "source": [
    "    mix = thinkbayes2.Pmf()\n",
    "    for die, weight in pmf_dice.Items():\n",
    "        for outcome, prob in die.Items():\n",
    "            mix.Incr(outcome, Weight*prob)"
   ]
  },
  {
   "cell_type": "markdown",
   "metadata": {},
   "source": [
    "이제 각 주사위 별로 주어진 가중치가 연결되었다. 혼합 알고리즘에서 각 결과가 나오면 이 결과의 확률에 weight가 곱해질 것이다."
   ]
  },
  {
   "cell_type": "markdown",
   "metadata": {},
   "source": [
    "결과는 아래의 그림과 같다. 예상대로 모든 주사위에서 나올 수 있는 1부터 4까지의 값이 가장 높은 확률을 보인다. <br />\n",
    "주사위 한 개에서만 나올 수 있는 12이상의 값은 거의 나오지 않는다."
   ]
  },
  {
   "cell_type": "markdown",
   "metadata": {},
   "source": [
    "이 알고리즘을 캡슐화 한 MakeMixture라는 함수가 있으므로 아래와 같이 코드를 작성할 수 있다."
   ]
  },
  {
   "cell_type": "code",
   "execution_count": null,
   "metadata": {
    "collapsed": true
   },
   "outputs": [],
   "source": [
    "mix = thinkbayes2.MakeMixture(pmf_dice)"
   ]
  },
  {
   "cell_type": "markdown",
   "metadata": {},
   "source": [
    "<img src=\"./Images/14.png\" width=400 />"
   ]
  }
 ],
 "metadata": {
  "kernelspec": {
   "display_name": "Python 3",
   "language": "python",
   "name": "python3"
  },
  "language_info": {
   "codemirror_mode": {
    "name": "ipython",
    "version": 3
   },
   "file_extension": ".py",
   "mimetype": "text/x-python",
   "name": "python",
   "nbconvert_exporter": "python",
   "pygments_lexer": "ipython3",
   "version": "3.6.1"
  }
 },
 "nbformat": 4,
 "nbformat_minor": 2
}
