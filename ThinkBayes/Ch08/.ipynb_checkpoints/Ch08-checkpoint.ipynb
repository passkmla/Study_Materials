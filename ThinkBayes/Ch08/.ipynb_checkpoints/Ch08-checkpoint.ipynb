{
 "cells": [
  {
   "cell_type": "markdown",
   "metadata": {},
   "source": [
    "### (1) 레드라인 문제"
   ]
  },
  {
   "cell_type": "markdown",
   "metadata": {},
   "source": [
    "메사추세츠의 레드라인은 케임브리지와 보스턴을 연결하는 지하철 노선이다. 러시아워 때 레드라인은 평균 매 7~8분 간격으로 운행했다. <br />\n",
    "역에 도착하면 플랫폼에서 기다리는 승객 수를 기초로 다음 기차가 도착할 때까지 걸리는 시간을 추정했었다. <br />\n",
    "플랫폼에 승객이 별로 없다면 바로 직전 기차를 놓쳤으니 7분정도 기다려야겠다고 생각했다. <br />\n",
    "승객이 어느정도 있다면 기차가 곧 도착할 거라고 예상했다. <br />\n",
    "하지만 플랫폼에 승객이 굉장히 많다면 기차 운행에 문제가 있다고 생각하고 다시 도로로 나가서 택시를 탔다. <br />\n",
    "이제 기차를 기다래는 동안 베이지안 추정이 대기 시간을 예측한 다음 기차를 포기하고 택시를 탈지 결정하는 데 얼마나 도움을 줄지 생각해보자."
   ]
  },
  {
   "cell_type": "markdown",
   "metadata": {},
   "source": [
    "#### 전체코드"
   ]
  },
  {
   "cell_type": "code",
   "execution_count": 4,
   "metadata": {},
   "outputs": [
    {
     "name": "stderr",
     "output_type": "stream",
     "text": [
      "/Users/choi/anaconda/lib/python3.6/site-packages/matplotlib/axes/_axes.py:545: UserWarning: No labelled objects found. Use label='...' kwarg on individual plots.\n",
      "  warnings.warn(\"No labelled objects found. \"\n"
     ]
    },
    {
     "name": "stdout",
     "output_type": "stream",
     "text": [
      "Writing redline5.pdf\n",
      "Writing redline5.eps\n",
      "Writing redline5.png\n",
      "Writing redline5.jpg\n",
      "CI z (3.1000000000000001, 12.483333333333333)\n",
      "Writing redline0.pdf\n",
      "Writing redline0.eps\n",
      "Writing redline0.png\n",
      "Writing redline0.jpg\n",
      "Mean z 7.77531374141\n",
      "Mean zb 8.89677200069\n",
      "Mean y 4.44838600035\n",
      "Writing redline2.pdf\n",
      "Writing redline2.eps\n",
      "Writing redline2.png\n",
      "Writing redline2.jpg\n",
      "Writing redline3.pdf\n",
      "Writing redline3.eps\n",
      "Writing redline3.png\n",
      "Writing redline3.jpg\n",
      "20 0.896423076342 2\n",
      "14 3.92182303717 7\n",
      "20 2.91863429547 9\n",
      "25 1.09691326515 2\n",
      "2 2.96069021004 5\n",
      "25 11.7944838842\n",
      "Average arrival rate 2.11963492812\n",
      "Mean posterior lambda 0.0367403216361\n",
      "Writing redline1.pdf\n",
      "Writing redline1.eps\n",
      "Writing redline1.png\n",
      "Writing redline1.jpg\n",
      "Writing redline4.pdf\n",
      "Writing redline4.eps\n",
      "Writing redline4.png\n",
      "Writing redline4.jpg\n"
     ]
    }
   ],
   "source": [
    "from __future__ import print_function, division\n",
    "\n",
    "import thinkbayes2\n",
    "\n",
    "import thinkplot\n",
    "import numpy\n",
    "\n",
    "import math\n",
    "import random\n",
    "import sys\n",
    "\n",
    "FORMATS = ['pdf', 'eps', 'png', 'jpg']\n",
    "\n",
    "\"\"\"\n",
    "Notation guide:\n",
    "\n",
    "z: time between trains\n",
    "x: time since the last train\n",
    "y: time until the next train\n",
    "\n",
    "zb: distribution of z as seen by a random arrival\n",
    "\n",
    "\"\"\"\n",
    "\n",
    "# longest hypothetical time between trains, in seconds\n",
    "\n",
    "UPPER_BOUND = 1200\n",
    "\n",
    "# observed gaps between trains, in seconds\n",
    "# collected using code in redline_data.py, run daily 4-6pm\n",
    "# for 5 days, Monday 6 May 2013 to Friday 10 May 2013\n",
    "\n",
    "OBSERVED_GAP_TIMES = [\n",
    "    428.0, 705.0, 407.0, 465.0, 433.0, 425.0, 204.0, 506.0, 143.0, 351.0, \n",
    "    450.0, 598.0, 464.0, 749.0, 341.0, 586.0, 754.0, 256.0, 378.0, 435.0, \n",
    "    176.0, 405.0, 360.0, 519.0, 648.0, 374.0, 483.0, 537.0, 578.0, 534.0, \n",
    "    577.0, 619.0, 538.0, 331.0, 186.0, 629.0, 193.0, 360.0, 660.0, 484.0, \n",
    "    512.0, 315.0, 457.0, 404.0, 740.0, 388.0, 357.0, 485.0, 567.0, 160.0, \n",
    "    428.0, 387.0, 901.0, 187.0, 622.0, 616.0, 585.0, 474.0, 442.0, 499.0, \n",
    "    437.0, 620.0, 351.0, 286.0, 373.0, 232.0, 393.0, 745.0, 636.0, 758.0,\n",
    "]\n",
    "\n",
    "\n",
    "def BiasPmf(pmf, label=None, invert=False):\n",
    "    \"\"\"Returns the Pmf with oversampling proportional to value.\n",
    "\n",
    "    If pmf is the distribution of true values, the result is the\n",
    "    distribution that would be seen if values are oversampled in\n",
    "    proportion to their values; for example, if you ask students\n",
    "    how big their classes are, large classes are oversampled in\n",
    "    proportion to their size.\n",
    "\n",
    "    If invert=True, computes in inverse operation; for example,\n",
    "    unbiasing a sample collected from students.\n",
    "\n",
    "    Args:\n",
    "      pmf: Pmf object.\n",
    "      label: string name for the new Pmf.\n",
    "      invert: boolean\n",
    "\n",
    "     Returns:\n",
    "       Pmf object\n",
    "    \"\"\"\n",
    "    new_pmf = pmf.Copy(label=label)\n",
    "\n",
    "    for x in pmf.Values():\n",
    "        if invert:\n",
    "            new_pmf.Mult(x, 1.0/x)\n",
    "        else:\n",
    "            new_pmf.Mult(x, x)\n",
    "        \n",
    "    new_pmf.Normalize()\n",
    "    return new_pmf\n",
    "\n",
    "\n",
    "def UnbiasPmf(pmf, label=None):\n",
    "    \"\"\"Returns the Pmf with oversampling proportional to 1/value.\n",
    "\n",
    "    Args:\n",
    "      pmf: Pmf object.\n",
    "      label: string label for the new Pmf.\n",
    "\n",
    "     Returns:\n",
    "       Pmf object\n",
    "    \"\"\"\n",
    "    return BiasPmf(pmf, label, invert=True)\n",
    "\n",
    "\n",
    "def MakeUniformPmf(low, high):\n",
    "    \"\"\"Make a uniform Pmf.\n",
    "\n",
    "    low: lowest value (inclusive)\n",
    "    high: highest value (inclusive)\n",
    "    \"\"\"\n",
    "    xs = MakeRange(low, high)\n",
    "    pmf = thinkbayes2.Pmf(xs)\n",
    "    return pmf    \n",
    "    \n",
    "\n",
    "def MakeRange(low=10, high=None, skip=10):\n",
    "    \"\"\"Makes a range representing possible gap times in seconds.\n",
    "\n",
    "    low: where to start\n",
    "    high: where to end\n",
    "    skip: how many to skip\n",
    "    \"\"\"\n",
    "    if high is None:\n",
    "        high = UPPER_BOUND\n",
    "\n",
    "    xs = numpy.arange(low, high+skip, skip)\n",
    "    return xs\n",
    "\n",
    "\n",
    "class WaitTimeCalculator(object):\n",
    "    \"\"\"Encapsulates the forward inference process.\n",
    "\n",
    "    Given the actual distribution of gap times (z),\n",
    "    computes the distribution of gaps as seen by\n",
    "    a random passenger (zb), which yields the distribution\n",
    "    of wait times (y) and the distribution of elapsed times (x).\n",
    "    \"\"\"\n",
    "\n",
    "    def __init__(self, pmf, inverse=False):\n",
    "        \"\"\"Constructor.\n",
    "\n",
    "        pmf: Pmf of either z or zb\n",
    "        inverse: boolean, true if pmf is zb, false if pmf is z\n",
    "        \"\"\"\n",
    "        if inverse:\n",
    "            self.pmf_zb = pmf\n",
    "            self.pmf_z = UnbiasPmf(pmf, label=\"z\")\n",
    "        else:\n",
    "            self.pmf_z = pmf\n",
    "            self.pmf_zb = BiasPmf(pmf, label=\"zb\")\n",
    "\n",
    "        # distribution of wait time\n",
    "        self.pmf_y = PmfOfWaitTime(self.pmf_zb)\n",
    "\n",
    "        # the distribution of elapsed time is the same as the\n",
    "        # distribution of wait time\n",
    "        self.pmf_x = self.pmf_y\n",
    "\n",
    "    def GenerateSampleWaitTimes(self, n):\n",
    "        \"\"\"Generates a random sample of wait times.\n",
    "\n",
    "        n: sample size\n",
    "\n",
    "        Returns: sequence of values\n",
    "        \"\"\"\n",
    "        cdf_y = thinkbayes2.Cdf(self.pmf_y)\n",
    "        sample = cdf_y.Sample(n)\n",
    "        return sample\n",
    "\n",
    "    def GenerateSampleGaps(self, n):\n",
    "        \"\"\"Generates a random sample of gaps seen by passengers.\n",
    "\n",
    "        n: sample size\n",
    "\n",
    "        Returns: sequence of values\n",
    "        \"\"\"\n",
    "        cdf_zb = thinkbayes2.Cdf(self.pmf_zb)\n",
    "        sample = cdf_zb.Sample(n)\n",
    "        return sample\n",
    "\n",
    "    def GenerateSamplePassengers(self, lam, n):\n",
    "        \"\"\"Generates a sample wait time and number of arrivals.\n",
    "\n",
    "        lam: arrival rate in passengers per second\n",
    "        n: number of samples\n",
    "\n",
    "        Returns: list of (k1, y, k2) tuples\n",
    "        k1: passengers there on arrival\n",
    "        y: wait time\n",
    "        k2: passengers arrived while waiting\n",
    "        \"\"\"\n",
    "        zs = self.GenerateSampleGaps(n)\n",
    "        xs, ys = SplitGaps(zs)\n",
    "\n",
    "        res = []\n",
    "        for x, y in zip(xs, ys):\n",
    "            k1 = numpy.random.poisson(lam * x)\n",
    "            k2 = numpy.random.poisson(lam * y)\n",
    "            res.append((k1, y, k2))\n",
    "\n",
    "        return res\n",
    "\n",
    "    def PlotPmfs(self, root='redline0'):\n",
    "        \"\"\"Plots the computed Pmfs.\n",
    "\n",
    "        root: string\n",
    "        \"\"\"\n",
    "        pmfs = ScaleDists([self.pmf_z, self.pmf_zb], 1.0/60)\n",
    "\n",
    "        thinkplot.Clf()\n",
    "        thinkplot.PrePlot(2)\n",
    "        thinkplot.Pmfs(pmfs)\n",
    "        thinkplot.Save(root=root,\n",
    "                       xlabel='Time (min)',\n",
    "                       ylabel='CDF',\n",
    "                       formats=FORMATS)\n",
    "\n",
    "\n",
    "    def MakePlot(self, root='redline2'):\n",
    "        \"\"\"Plots the computed CDFs.\n",
    "\n",
    "        root: string\n",
    "        \"\"\"\n",
    "        print('Mean z', self.pmf_z.Mean() / 60)\n",
    "        print('Mean zb', self.pmf_zb.Mean() / 60)\n",
    "        print('Mean y', self.pmf_y.Mean() / 60)\n",
    "\n",
    "        cdf_z = self.pmf_z.MakeCdf()\n",
    "        cdf_zb = self.pmf_zb.MakeCdf()\n",
    "        cdf_y = self.pmf_y.MakeCdf()\n",
    "\n",
    "        cdfs = ScaleDists([cdf_z, cdf_zb, cdf_y], 1.0/60)\n",
    "\n",
    "        thinkplot.Clf()\n",
    "        thinkplot.PrePlot(3)\n",
    "        thinkplot.Cdfs(cdfs)\n",
    "        thinkplot.Save(root=root,\n",
    "                       xlabel='Time (min)',\n",
    "                       ylabel='CDF',\n",
    "                       formats=FORMATS)\n",
    "\n",
    "\n",
    "def SplitGaps(zs):\n",
    "    \"\"\"Splits zs into xs and ys.\n",
    "\n",
    "    zs: sequence of gaps\n",
    "\n",
    "    Returns: tuple of sequences (xs, ys)\n",
    "    \"\"\"\n",
    "    xs = [random.uniform(0, z) for z in zs]\n",
    "    ys = [z-x for z, x in zip(zs, xs)]\n",
    "    return xs, ys\n",
    "\n",
    "\n",
    "def PmfOfWaitTime(pmf_zb):\n",
    "    \"\"\"Distribution of wait time.\n",
    "\n",
    "    pmf_zb: dist of gap time as seen by a random observer\n",
    "\n",
    "    Returns: dist of wait time (also dist of elapsed time)\n",
    "    \"\"\"\n",
    "    metapmf = thinkbayes2.Pmf()\n",
    "    for gap, prob in pmf_zb.Items():\n",
    "        uniform = MakeUniformPmf(0, gap)\n",
    "        metapmf.Set(uniform, prob)\n",
    "\n",
    "    pmf_y = thinkbayes2.MakeMixture(metapmf, label='y')\n",
    "    return pmf_y\n",
    "\n",
    "\n",
    "def ScaleDists(dists, factor):\n",
    "    \"\"\"Scales each of the distributions in a sequence.\n",
    "\n",
    "    dists: sequence of Pmf or Cdf\n",
    "    factor: float scale factor\n",
    "    \"\"\"\n",
    "    return [dist.Scale(factor) for dist in dists]\n",
    "\n",
    "\n",
    "class ElapsedTimeEstimator(object):\n",
    "    \"\"\"Uses the number of passengers to estimate time since last train.\"\"\"\n",
    "\n",
    "    def __init__(self, wtc, lam, num_passengers):\n",
    "        \"\"\"Constructor.\n",
    "\n",
    "        pmf_x: expected distribution of elapsed time\n",
    "        lam: arrival rate in passengers per second\n",
    "        num_passengers: # passengers seen on the platform\n",
    "        \"\"\"\n",
    "        # prior for elapsed time\n",
    "        self.prior_x = Elapsed(wtc.pmf_x, label='prior x')\n",
    "\n",
    "        # posterior of elapsed time (based on number of passengers)\n",
    "        self.post_x = self.prior_x.Copy(label='posterior x')\n",
    "        self.post_x.Update((lam, num_passengers))\n",
    "\n",
    "        # predictive distribution of wait time\n",
    "        self.pmf_y = PredictWaitTime(wtc.pmf_zb, self.post_x)\n",
    "\n",
    "    def MakePlot(self, root='redline3'):\n",
    "        \"\"\"Plot the CDFs.\n",
    "\n",
    "        root: string\n",
    "        \"\"\"\n",
    "        # observed gaps\n",
    "        cdf_prior_x = self.prior_x.MakeCdf()\n",
    "        cdf_post_x = self.post_x.MakeCdf()\n",
    "        cdf_y = self.pmf_y.MakeCdf()\n",
    "\n",
    "        cdfs = ScaleDists([cdf_prior_x, cdf_post_x, cdf_y], 1.0/60)\n",
    "\n",
    "        thinkplot.Clf()\n",
    "        thinkplot.PrePlot(3)\n",
    "        thinkplot.Cdfs(cdfs)\n",
    "        thinkplot.Save(root=root,\n",
    "                       xlabel='Time (min)',\n",
    "                       ylabel='CDF',\n",
    "                       formats=FORMATS)\n",
    "\n",
    "\n",
    "class ArrivalRate(thinkbayes2.Suite):\n",
    "    \"\"\"Represents the distribution of arrival rates (lambda).\"\"\"\n",
    "\n",
    "    def Likelihood(self, data, hypo):\n",
    "        \"\"\"Computes the likelihood of the data under the hypothesis.\n",
    "\n",
    "        Evaluates the Poisson PMF for lambda and k.\n",
    "\n",
    "        hypo: arrival rate in passengers per second\n",
    "        data: tuple of elapsed_time and number of passengers\n",
    "        \"\"\"\n",
    "        lam = hypo\n",
    "        x, k = data\n",
    "        like = thinkbayes2.EvalPoissonPmf(k, lam * x)\n",
    "        return like\n",
    "\n",
    "\n",
    "class ArrivalRateEstimator(object):\n",
    "    \"\"\"Estimates arrival rate based on passengers that arrive while waiting.\n",
    "    \"\"\"\n",
    "\n",
    "    def __init__(self, passenger_data):\n",
    "        \"\"\"Constructor\n",
    "\n",
    "        passenger_data: sequence of (k1, y, k2) pairs\n",
    "        \"\"\"\n",
    "        # range for lambda\n",
    "        low, high = 0, 5\n",
    "        n = 51\n",
    "        hypos = numpy.linspace(low, high, n) / 60\n",
    "\n",
    "        self.prior_lam = ArrivalRate(hypos, label='prior')\n",
    "        self.prior_lam.Remove(0)\n",
    "\n",
    "        self.post_lam = self.prior_lam.Copy(label='posterior')\n",
    "\n",
    "        for _k1, y, k2 in passenger_data:\n",
    "            self.post_lam.Update((y, k2))\n",
    "\n",
    "        print('Mean posterior lambda', self.post_lam.Mean())\n",
    "\n",
    "    def MakePlot(self, root='redline1'):\n",
    "        \"\"\"Plot the prior and posterior CDF of passengers arrival rate.\n",
    "\n",
    "        root: string\n",
    "        \"\"\"\n",
    "        thinkplot.Clf()\n",
    "        thinkplot.PrePlot(2)\n",
    "\n",
    "        # convert units to passengers per minute\n",
    "        prior = self.prior_lam.MakeCdf().Scale(60)\n",
    "        post = self.post_lam.MakeCdf().Scale(60)\n",
    "\n",
    "        thinkplot.Cdfs([prior, post])\n",
    "\n",
    "        thinkplot.Save(root=root,\n",
    "                       xlabel='Arrival rate (passengers / min)',\n",
    "                       ylabel='CDF',\n",
    "                       formats=FORMATS)\n",
    "                       \n",
    "\n",
    "class Elapsed(thinkbayes2.Suite):\n",
    "    \"\"\"Represents the distribution of elapsed time (x).\"\"\"\n",
    "\n",
    "    def Likelihood(self, data, hypo):\n",
    "        \"\"\"Computes the likelihood of the data under the hypothesis.\n",
    "\n",
    "        Evaluates the Poisson PMF for lambda and k.\n",
    "\n",
    "        hypo: elapsed time since the last train\n",
    "        data: tuple of arrival rate and number of passengers\n",
    "        \"\"\"\n",
    "        x = hypo\n",
    "        lam, k = data\n",
    "        like = thinkbayes2.EvalPoissonPmf(k, lam * x)\n",
    "        return like\n",
    "\n",
    "\n",
    "def PredictWaitTime(pmf_zb, pmf_x):\n",
    "    \"\"\"Computes the distribution of wait times.\n",
    "\n",
    "    Enumerate all pairs of zb from pmf_zb and x from pmf_x,\n",
    "    and accumulate the distribution of y = z - x.\n",
    "\n",
    "    pmf_zb: distribution of gaps seen by random observer\n",
    "    pmf_x: distribution of elapsed time\n",
    "    \"\"\"\n",
    "    pmf_y = pmf_zb - pmf_x\n",
    "    pmf_y.label = 'pred y'\n",
    "    RemoveNegatives(pmf_y)\n",
    "    return pmf_y\n",
    "\n",
    "\n",
    "def RemoveNegatives(pmf):\n",
    "    \"\"\"Removes negative values from a PMF.\n",
    "\n",
    "    pmf: Pmf\n",
    "    \"\"\"\n",
    "    for val in list(pmf.Values()):\n",
    "        if val < 0:\n",
    "            pmf.Remove(val)\n",
    "    pmf.Normalize()\n",
    "\n",
    "\n",
    "class Gaps(thinkbayes2.Suite):\n",
    "    \"\"\"Represents the distribution of gap times,\n",
    "    as updated by an observed waiting time.\"\"\"\n",
    "\n",
    "    def Likelihood(self, data, hypo):\n",
    "        \"\"\"The likelihood of the data under the hypothesis.\n",
    "\n",
    "        If the actual gap time is z, what is the likelihood\n",
    "        of waiting y seconds?\n",
    "\n",
    "        hypo: actual time between trains\n",
    "        data: observed wait time\n",
    "        \"\"\"\n",
    "        z = hypo\n",
    "        y = data\n",
    "        if y > z:\n",
    "            return 0\n",
    "        return 1.0 / z\n",
    "\n",
    "\n",
    "class GapDirichlet(thinkbayes2.Dirichlet):\n",
    "    \"\"\"Represents the distribution of prevalences for each\n",
    "    gap time.\"\"\"\n",
    "\n",
    "    def __init__(self, xs):\n",
    "        \"\"\"Constructor.\n",
    "\n",
    "        xs: sequence of possible gap times\n",
    "        \"\"\"\n",
    "        n = len(xs)\n",
    "        thinkbayes2.Dirichlet.__init__(self, n)\n",
    "        self.xs = xs\n",
    "        self.mean_zbs = []\n",
    "\n",
    "    def PmfMeanZb(self):\n",
    "        \"\"\"Makes the Pmf of mean zb.\n",
    "\n",
    "        Values stored in mean_zbs.\n",
    "        \"\"\"\n",
    "        return thinkbayes2.Pmf(self.mean_zbs)\n",
    "\n",
    "    def Preload(self, data):\n",
    "        \"\"\"Adds pseudocounts to the parameters.\n",
    "\n",
    "        data: sequence of pseudocounts\n",
    "        \"\"\"\n",
    "        thinkbayes2.Dirichlet.Update(self, data)\n",
    "\n",
    "    def Update(self, data):\n",
    "        \"\"\"Computes the likelihood of the data.\n",
    "\n",
    "        data: wait time observed by random arrival (y)\n",
    "\n",
    "        Returns: float probability\n",
    "        \"\"\"\n",
    "        k, y = data\n",
    "\n",
    "        print(k, y)\n",
    "        prior = self.PredictivePmf(self.xs)\n",
    "        gaps = Gaps(prior)\n",
    "        gaps.Update(y)\n",
    "        probs = gaps.Probs(self.xs)\n",
    "\n",
    "        self.params += numpy.array(probs)\n",
    "\n",
    "\n",
    "class GapDirichlet2(GapDirichlet):\n",
    "    \"\"\"Represents the distribution of prevalences for each\n",
    "    gap time.\"\"\"\n",
    "\n",
    "    def Update(self, data):\n",
    "        \"\"\"Computes the likelihood of the data.\n",
    "\n",
    "        data: wait time observed by random arrival (y)\n",
    "\n",
    "        Returns: float probability\n",
    "        \"\"\"\n",
    "        k, y = data\n",
    "\n",
    "        # get the current best guess for pmf_z\n",
    "        pmf_zb = self.PredictivePmf(self.xs)\n",
    "\n",
    "        # use it to compute prior pmf_x, pmf_y, pmf_z\n",
    "        wtc = WaitTimeCalculator(pmf_zb, inverse=True)\n",
    "\n",
    "        # use the observed passengers to estimate posterior pmf_x\n",
    "        elapsed = ElapsedTimeEstimator(wtc,\n",
    "                                       lam=0.0333,\n",
    "                                       num_passengers=k)\n",
    "\n",
    "        # use posterior_x and observed y to estimate observed z\n",
    "        obs_zb = elapsed.post_x + Floor(y)\n",
    "        probs = obs_zb.Probs(self.xs)\n",
    "\n",
    "        mean_zb = obs_zb.Mean()\n",
    "        self.mean_zbs.append(mean_zb)\n",
    "        print(k, y, mean_zb)\n",
    "\n",
    "        # use observed z to update beliefs about pmf_z\n",
    "        self.params += numpy.array(probs)\n",
    "\n",
    "\n",
    "class GapTimeEstimator(object):\n",
    "    \"\"\"Infers gap times using passenger data.\"\"\"\n",
    "\n",
    "    def __init__(self, xs, pcounts, passenger_data):\n",
    "        self.xs = xs\n",
    "        self.pcounts = pcounts\n",
    "        self.passenger_data = passenger_data\n",
    "\n",
    "        self.wait_times = [y for _k1, y, _k2 in passenger_data]\n",
    "        self.pmf_y = thinkbayes2.Pmf(self.wait_times, label=\"y\")\n",
    "\n",
    "        dirichlet = GapDirichlet2(self.xs)\n",
    "        dirichlet.params /= 1.0\n",
    "\n",
    "        dirichlet.Preload(self.pcounts)\n",
    "        dirichlet.params /= 20.0\n",
    "\n",
    "        self.prior_zb = dirichlet.PredictivePmf(self.xs, label=\"prior zb\")\n",
    "        \n",
    "        for k1, y, _k2 in passenger_data:\n",
    "            dirichlet.Update((k1, y))\n",
    "\n",
    "        self.pmf_mean_zb = dirichlet.PmfMeanZb()\n",
    "\n",
    "        self.post_zb = dirichlet.PredictivePmf(self.xs, label=\"post zb\")\n",
    "        self.post_z = UnbiasPmf(self.post_zb, label=\"post z\")\n",
    "\n",
    "    def PlotPmfs(self):\n",
    "        \"\"\"Plot the PMFs.\"\"\"\n",
    "        print('Mean y', self.pmf_y.Mean())\n",
    "        print('Mean z', self.post_z.Mean())\n",
    "        print('Mean zb', self.post_zb.Mean())\n",
    "\n",
    "        thinkplot.Pmf(self.pmf_y)\n",
    "        thinkplot.Pmf(self.post_z)\n",
    "        thinkplot.Pmf(self.post_zb)\n",
    "\n",
    "    def MakePlot(self):\n",
    "        \"\"\"Plot the CDFs.\"\"\"\n",
    "        thinkplot.Cdf(self.pmf_y.MakeCdf())\n",
    "        thinkplot.Cdf(self.prior_zb.MakeCdf())\n",
    "        thinkplot.Cdf(self.post_zb.MakeCdf())\n",
    "        thinkplot.Cdf(self.pmf_mean_zb.MakeCdf())\n",
    "        thinkplot.Show()\n",
    "\n",
    "\n",
    "def Floor(x, factor=10):\n",
    "    \"\"\"Rounds down to the nearest multiple of factor.\n",
    "\n",
    "    When factor=10, all numbers from 10 to 19 get floored to 10.\n",
    "    \"\"\"\n",
    "    return int(x/factor) * factor\n",
    "\n",
    "\n",
    "def TestGte():\n",
    "    \"\"\"Tests the GapTimeEstimator.\"\"\"\n",
    "    random.seed(17)\n",
    "\n",
    "    xs = [60, 120, 240]\n",
    "    \n",
    "    gap_times = [60, 60, 60, 60, 60, 120, 120, 120, 240, 240]\n",
    "\n",
    "    # distribution of gap time (z)\n",
    "    pdf_z = thinkbayes2.EstimatedPdf(gap_times)\n",
    "    pmf_z = pdf_z.MakePmf(xs=xs, label=\"z\")\n",
    "\n",
    "    wtc = WaitTimeCalculator(pmf_z, inverse=False)\n",
    "\n",
    "    lam = 0.0333\n",
    "    n = 100\n",
    "    passenger_data = wtc.GenerateSamplePassengers(lam, n)\n",
    "\n",
    "    pcounts = [0, 0, 0]\n",
    "\n",
    "    ite = GapTimeEstimator(xs, pcounts, passenger_data)\n",
    "\n",
    "    thinkplot.Clf()\n",
    "\n",
    "    # thinkplot.Cdf(wtc.pmf_z.MakeCdf(label=\"actual z\"))    \n",
    "    thinkplot.Cdf(wtc.pmf_zb.MakeCdf(label=\"actual zb\"))\n",
    "    ite.MakePlot()\n",
    "\n",
    "\n",
    "class WaitMixtureEstimator(object):\n",
    "    \"\"\"Encapsulates the process of estimating wait time with uncertain lam.\n",
    "    \"\"\"\n",
    "\n",
    "    def __init__(self, wtc, are, num_passengers=15):\n",
    "        \"\"\"Constructor.\n",
    "\n",
    "        wtc: WaitTimeCalculator\n",
    "        are: ArrivalTimeEstimator\n",
    "        num_passengers: number of passengers seen on the platform\n",
    "        \"\"\"\n",
    "        self.metapmf = thinkbayes2.Pmf()\n",
    "\n",
    "        for lam, prob in sorted(are.post_lam.Items()):\n",
    "            ete = ElapsedTimeEstimator(wtc, lam, num_passengers)\n",
    "            self.metapmf.Set(ete.pmf_y, prob)\n",
    "\n",
    "        self.mixture = thinkbayes2.MakeMixture(self.metapmf)\n",
    "\n",
    "        lam = are.post_lam.Mean()\n",
    "        ete = ElapsedTimeEstimator(wtc, lam, num_passengers)\n",
    "        self.point = ete.pmf_y\n",
    "\n",
    "    def MakePlot(self, root='redline4'):\n",
    "        \"\"\"Makes a plot showing the mixture.\"\"\"\n",
    "        thinkplot.Clf()\n",
    "\n",
    "        # plot the MetaPmf\n",
    "        for pmf, prob in self.metapmf.Items():\n",
    "            cdf = pmf.MakeCdf().Scale(1.0/60)\n",
    "            width = 2/math.log(-math.log(prob))\n",
    "            thinkplot.Plot(cdf.xs, cdf.ps,\n",
    "                           alpha=0.2, linewidth=width, color='blue', \n",
    "                           label='')\n",
    "\n",
    "        # plot the mixture and the distribution based on a point estimate\n",
    "        thinkplot.PrePlot(2)\n",
    "        #thinkplot.Cdf(self.point.MakeCdf(label='point').Scale(1.0/60))\n",
    "        thinkplot.Cdf(self.mixture.MakeCdf(label='mix').Scale(1.0/60))\n",
    "\n",
    "        thinkplot.Save(root=root,\n",
    "                       xlabel='Wait time (min)',\n",
    "                       ylabel='CDF',\n",
    "                       formats=FORMATS,\n",
    "                       axis=[0,10,0,1])\n",
    "\n",
    "\n",
    "\n",
    "def GenerateSampleData(gap_times, lam=0.0333, n=10):\n",
    "    \"\"\"Generates passenger data based on actual gap times.\n",
    "\n",
    "    gap_times: sequence of float\n",
    "    lam: arrival rate in passengers per second\n",
    "    n: number of simulated observations\n",
    "    \"\"\"\n",
    "    xs = MakeRange(low=10)\n",
    "    pdf_z = thinkbayes2.EstimatedPdf(gap_times)\n",
    "    pmf_z = pdf_z.MakePmf(xs=xs, label=\"z\")\n",
    "\n",
    "    wtc = WaitTimeCalculator(pmf_z, inverse=False)\n",
    "    passenger_data = wtc.GenerateSamplePassengers(lam, n)\n",
    "    return wtc, passenger_data\n",
    "\n",
    "\n",
    "def RandomSeed(x):\n",
    "    \"\"\"Initialize the random and numpy.random generators.\n",
    "\n",
    "    x: int seed\n",
    "    \"\"\"\n",
    "    random.seed(x)\n",
    "    numpy.random.seed(x)\n",
    "    \n",
    "\n",
    "def RunSimpleProcess(gap_times, lam=0.0333, num_passengers=15, plot=True):\n",
    "    \"\"\"Runs the basic analysis and generates figures.\n",
    "\n",
    "    gap_times: sequence of float\n",
    "    lam: arrival rate in passengers per second\n",
    "    num_passengers: int number of passengers on the platform\n",
    "    plot: boolean, whether to generate plots\n",
    "\n",
    "    Returns: WaitTimeCalculator, ElapsedTimeEstimator\n",
    "    \"\"\"\n",
    "    global UPPER_BOUND\n",
    "    UPPER_BOUND = 1200\n",
    "\n",
    "    cdf_z = thinkbayes2.Cdf(gap_times).Scale(1.0/60)\n",
    "    print('CI z', cdf_z.CredibleInterval(90))\n",
    "\n",
    "    xs = MakeRange(low=10)\n",
    "\n",
    "    pdf_z = thinkbayes2.EstimatedPdf(gap_times)\n",
    "    pmf_z = pdf_z.MakePmf(xs=xs, label=\"z\")\n",
    "\n",
    "    wtc = WaitTimeCalculator(pmf_z, inverse=False)    \n",
    "\n",
    "    if plot:\n",
    "        wtc.PlotPmfs()\n",
    "        wtc.MakePlot()\n",
    "\n",
    "    ete = ElapsedTimeEstimator(wtc, lam, num_passengers)\n",
    "\n",
    "    if plot:\n",
    "        ete.MakePlot()\n",
    "\n",
    "    return wtc, ete\n",
    "\n",
    "\n",
    "def RunMixProcess(gap_times, lam=0.0333, num_passengers=15, plot=True):\n",
    "    \"\"\"Runs the analysis for unknown lambda.\n",
    "\n",
    "    gap_times: sequence of float\n",
    "    lam: arrival rate in passengers per second\n",
    "    num_passengers: int number of passengers on the platform\n",
    "    plot: boolean, whether to generate plots\n",
    "\n",
    "    Returns: WaitMixtureEstimator\n",
    "    \"\"\"\n",
    "    global UPPER_BOUND\n",
    "    UPPER_BOUND = 1200\n",
    "\n",
    "    wtc, _ete = RunSimpleProcess(gap_times, lam, num_passengers)\n",
    "\n",
    "    RandomSeed(20)\n",
    "    passenger_data = wtc.GenerateSamplePassengers(lam, n=5)\n",
    "\n",
    "    total_y = 0\n",
    "    total_k2 = 0\n",
    "    for k1, y, k2 in passenger_data:\n",
    "        print(k1, y/60, k2)\n",
    "        total_y += y/60\n",
    "        total_k2 += k2\n",
    "    print(total_k2, total_y)\n",
    "    print('Average arrival rate', total_k2 / total_y)\n",
    "\n",
    "    are = ArrivalRateEstimator(passenger_data)\n",
    "\n",
    "    if plot:\n",
    "        are.MakePlot()\n",
    "\n",
    "    wme = WaitMixtureEstimator(wtc, are, num_passengers)\n",
    "\n",
    "    if plot:\n",
    "        wme.MakePlot()\n",
    "\n",
    "    return wme\n",
    "\n",
    "\n",
    "def RunLoop(gap_times, nums, lam=0.0333):\n",
    "    \"\"\"Runs the basic analysis for a range of num_passengers.\n",
    "\n",
    "    gap_times: sequence of float\n",
    "    nums: sequence of values for num_passengers\n",
    "    lam: arrival rate in passengers per second\n",
    "\n",
    "    Returns: WaitMixtureEstimator\n",
    "    \"\"\"\n",
    "    global UPPER_BOUND\n",
    "    UPPER_BOUND = 4000\n",
    "\n",
    "    thinkplot.Clf()\n",
    "\n",
    "    RandomSeed(18)\n",
    "\n",
    "    # resample gap_times\n",
    "    n = 220\n",
    "    cdf_z = thinkbayes2.Cdf(gap_times)\n",
    "    sample_z = cdf_z.Sample(n)\n",
    "    pmf_z = thinkbayes2.Pmf(sample_z)\n",
    "\n",
    "    # compute the biased pmf and add some long delays\n",
    "    cdf_zp = BiasPmf(pmf_z).MakeCdf()\n",
    "    sample_zb = numpy.append(cdf_zp.Sample(n), [1800, 2400, 3000])\n",
    "\n",
    "    # smooth the distribution of zb\n",
    "    pdf_zb = thinkbayes2.EstimatedPdf(sample_zb)\n",
    "    xs = MakeRange(low=60)\n",
    "    pmf_zb = pdf_zb.MakePmf(xs=xs)\n",
    "\n",
    "    # unbias the distribution of zb and make wtc\n",
    "    pmf_z = UnbiasPmf(pmf_zb)\n",
    "    wtc = WaitTimeCalculator(pmf_z)\n",
    "\n",
    "    probs = []\n",
    "    for num_passengers in nums:\n",
    "        ete = ElapsedTimeEstimator(wtc, lam, num_passengers)\n",
    "\n",
    "        # compute the posterior prob of waiting more than 15 minutes\n",
    "        cdf_y = ete.pmf_y.MakeCdf()\n",
    "        prob = 1 - cdf_y.Prob(900)\n",
    "        probs.append(prob)\n",
    "\n",
    "        # thinkplot.Cdf(ete.pmf_y.MakeCdf(label=str(num_passengers)))\n",
    "    \n",
    "    thinkplot.Plot(nums, probs)\n",
    "    thinkplot.Save(root='redline5',\n",
    "                   xlabel='Num passengers',\n",
    "                   ylabel='P(y > 15 min)',\n",
    "                   formats=FORMATS,\n",
    "                   )\n",
    "\n",
    "\n",
    "def main(script):\n",
    "    RunLoop(OBSERVED_GAP_TIMES, nums=[0, 5, 10, 15, 20, 25, 30, 35])\n",
    "    RunMixProcess(OBSERVED_GAP_TIMES)\n",
    "    \n",
    "\n",
    "if __name__ == '__main__':\n",
    "    main(sys.argv)\n"
   ]
  },
  {
   "cell_type": "markdown",
   "metadata": {
    "collapsed": true
   },
   "source": [
    "### (2) 모델"
   ]
  },
  {
   "cell_type": "markdown",
   "metadata": {},
   "source": [
    "분석에 들어가기에 앞서서 몇 가지 모델링 원칙을 만들어야 한다. <br />\n",
    "우선, 승객은 어떤 시간에든 동일한 확률로 도착하고, 이 때 분당 승객 수가 임의 비율 $\\lambda$인 포아송 프로세스를 따른다고 가정한다. <br />\n",
    "매일 동일한 시간에 짧은 시간 동안 승객을 관찰한 결과, $\\lambda$는 상수라고 가정한다. <br />\n",
    "반면, 기차 도착 프로세스는 포아송 분포를 따르지 않는다. 보스턴으로 가는 기차가 피크 타임에 매 7-8분마다 노선 끝에서 출발한다고 가정하자. <br />\n",
    "하지만 켄달 스퀘어에 도착하는 시간을 기준으로 보면 기차 간 간격은 3분에서 12분까지 다양하다. "
   ]
  },
  {
   "cell_type": "markdown",
   "metadata": {},
   "source": [
    "기차의 시간 간격에 대한 데이터를 수입하였다. <br />\n",
    "이 데이터에는 5일간 매일 오후 4시에서 6시 사이에서 일별 약 15개의 도착 내역을 기록했다. <br />\n",
    "그 후 연달아 도착하는 기차 간의 시간을 계산해서 그 간격은 아래의 그림에 z라고 표시하였다."
   ]
  },
  {
   "cell_type": "markdown",
   "metadata": {},
   "source": [
    "<img src=\"./Images/1.png\" width=500 />"
   ]
  },
  {
   "cell_type": "markdown",
   "metadata": {},
   "source": [
    "수집된 데이터를 KDE로 평활화해서 나타낸 기차 도착 간격의 PMF. <br />\n",
    "z는 실제 분포를 나타내고, zb는 보이는 승객 수의 편향 분포다."
   ]
  },
  {
   "cell_type": "markdown",
   "metadata": {},
   "source": [
    "만약 오후 4시에서 6시 사이 플랫폼에 서서 기차 간의 간격을 기록한다면 우리가 볼 수 있는 분포는 위의 그림과 같다. <br />\n",
    "하지만 임의의 시간에 플랫폼에 도착하면 다른 분포를 볼 수 있다. 임의의 승객이 보는 기차 간 평균 시간은 실제 평균보다 상당히 높다. <br />\n",
    "왜냐면 승객은 시간 간격이 짧은 경우보다 큰 경우 도착할 확률이 더 높기 때문이다. <br />\n",
    "예를 들면, 기차간 시간 간격이 5분일 때와 10분일 때의 확률이 동일하다고 해보자. 이 때 기차 간의 평균 간격은 7.5분이다. <br />\n",
    "하지만 승객은 5분 간격보다 10분 간격에 도착할 가능성이 더 높다. 대략 두배다. <br />\n",
    "도착한 승객들에게 설문을 했다면 그 중 2/3가 10분 간격일 때 도착했고, 1/3만이 5분 간격일 때 도착했다는 것을 알 수 있을 것이다. <br />\n",
    "따라서 승객이 본 기차 간 평균 시간은 8.33분이다."
   ]
  },
  {
   "cell_type": "markdown",
   "metadata": {},
   "source": [
    "각각의 경우, 실제 분포에서 가져온 값은 실제 값의 비율보다 오버 샘플링 된다. <br />\n",
    "레드라인 예제에서도, 실제 관측 결과보다 시간 간격이 두 배 정도 크다."
   ]
  },
  {
   "cell_type": "markdown",
   "metadata": {},
   "source": [
    "이를 통해 실제 시간 차의 분포가 주어졌을 때 승객들이 보는 시간 간격의 분포를 계산할 수 있다."
   ]
  },
  {
   "cell_type": "code",
   "execution_count": null,
   "metadata": {
    "collapsed": true
   },
   "outputs": [],
   "source": [
    "def BiasPmf(pmf):\n",
    "    new_pmf = pmf.Copy()\n",
    "    \n",
    "    for x, p in pmf.Items():\n",
    "        new_pmf.Mult(x, x)\n",
    "        \n",
    "    new_pmf.Normalize()\n",
    "    return new_pmf"
   ]
  },
  {
   "cell_type": "markdown",
   "metadata": {},
   "source": [
    "pmf는 실제 분포고, new_pmf는 편향된 분포다. 반목문 안에서, 각 값 x와 x에 대해 x에 비례해 관측되는 우도에 의해 나온 확률을 곱한다. 그리고 결과를 표준화 한다."
   ]
  },
  {
   "cell_type": "markdown",
   "metadata": {},
   "source": [
    "## (3) 대기 시간"
   ]
  },
  {
   "cell_type": "markdown",
   "metadata": {},
   "source": [
    "y라고 명명할 대기시간은 승객이 도착하고 다음 기차가 도착하는 사이의 시간이다. <br />\n",
    "x라고 할 경과 시간은 이전 기차가 도착하고 승객이 도착한 사이의 시간이다. 이를 zb = x + y 라고 정의해 보자. <br />\n",
    "zb의 분포가 주어지면 y의 분포를 계산할 수 있다."
   ]
  },
  {
   "cell_type": "markdown",
   "metadata": {},
   "source": [
    "간단한 예를 들어보자. <br />\n",
    "가령 앞의 예에서, 5분일 떄의 zb는 1/3의 확률이고, 10분에 대해서는 2/3확률이다. <br />\n",
    "5분 간격일 때 임의의 시간에 도착한 경우 y는 0에서 5분사이의 균등 분포를 따른다. <br />\n",
    "만약 10분 간격일 때 도착했다면 y는 0에서 10사이의 균등 분포를 따를 것이다. <br />\n",
    "따라서 전제 분포는 각 간격의 확률이 곱해진 균등 분포의 혼합 형태다."
   ]
  },
  {
   "cell_type": "markdown",
   "metadata": {},
   "source": [
    "다음 함수는 zb의 분포를 사용해서 y의 분포를 구한다."
   ]
  },
  {
   "cell_type": "code",
   "execution_count": null,
   "metadata": {
    "collapsed": true
   },
   "outputs": [],
   "source": [
    "def PmfOfWaitTime(pmf_zb):\n",
    "    metapmf = thinkbayes2.Pmf()\n",
    "    for gap, prob in pmf_zb.Items():\n",
    "        uniform = MakeUniformPmf(0, gap)\n",
    "        metapmf.Set(uniform, prob)\n",
    "    \n",
    "    pmf_y = thinkbayes2.MakeMixture(metapmf)\n",
    "    return pmf_y"
   ]
  },
  {
   "cell_type": "markdown",
   "metadata": {},
   "source": [
    "PmfOfWaitTime은 각 균등 분포를 확률에 연결해주는 메타 Pmf를 생성한다. 그리고 MakeMixture를 사용해서 혼합 형태를 계산한다."
   ]
  },
  {
   "cell_type": "markdown",
   "metadata": {},
   "source": [
    "PmfOfWaitTime에서도 다음의 MakeUniform를 사용한다."
   ]
  },
  {
   "cell_type": "code",
   "execution_count": null,
   "metadata": {
    "collapsed": true
   },
   "outputs": [],
   "source": [
    "def MakeUniformPmf(low, high):\n",
    "    pmf = thinkbayes2.Pmf()\n",
    "    for x in MakeRange(low=, high=):\n",
    "        pmf.Set(x, 1)\n",
    "        pmf.Normalize()\n",
    "        return pmf"
   ]
  },
  {
   "cell_type": "markdown",
   "metadata": {},
   "source": [
    "low와 high는 균등 분포의 범위(양 끝 값 포함)이다."
   ]
  },
  {
   "cell_type": "markdown",
   "metadata": {},
   "source": [
    "마지막으로 MakeUniformPmf는 다음에 정의된 MakeRange를 사용한다."
   ]
  },
  {
   "cell_type": "code",
   "execution_count": null,
   "metadata": {
    "collapsed": true
   },
   "outputs": [],
   "source": [
    "def MakeRange(low, high, skip=10):\n",
    "    raturn range(low, high+skip, skip)"
   ]
  },
  {
   "cell_type": "markdown",
   "metadata": {},
   "source": [
    "MakeRange는 대기 시간(초 단위)의 가능한 값의 집합을 정의한다. 기본적으로는 주어진 범위를 10초 간격으로 나눈다."
   ]
  },
  {
   "cell_type": "markdown",
   "metadata": {},
   "source": [
    "이 분포를 계산하는 과정을 캡슐화하기 위해 WaitTimeCalculator라는 클래스를 만들었다."
   ]
  },
  {
   "cell_type": "code",
   "execution_count": null,
   "metadata": {
    "collapsed": true
   },
   "outputs": [],
   "source": [
    "class WaitTimeCaculator(object):\n",
    "    def __init__(self, pmf_z):\n",
    "        self.pmf_z = pmf_z\n",
    "        self.pmf_zb = BiasPmf(pmf)\n",
    "        \n",
    "        self.pmf_y = self.PmfOfWaitTime(self.pmf_zb)\n",
    "        self.pmf_x = self.pmf_y"
   ]
  },
  {
   "cell_type": "markdown",
   "metadata": {},
   "source": [
    "변수 pmf_z는 z의 비편향 분포다. pmf_zb는 승객들이 본 시간 간격의 편향 분포다. <br />\n",
    "pmf_y는 대기 시간의 분포다. pmf_x는 경과 시간의 분포로, 대기 시간의 분포와 동일하다. <br />\n",
    "왜 인지는 zp의 특정 값에 대해서 y의 분포는 0부터 zp까지의 균등 분포라는 것을 기억하면 된다. 즉 다음과 같은 식이 성립한다. <br />\n",
    "x = zp - y <br />\n",
    "따라서 x의 분포는 0부터 zp까지의 균등 분포다."
   ]
  },
  {
   "cell_type": "markdown",
   "metadata": {},
   "source": [
    "<img src=\"./Images/2.png\" width=500 />"
   ]
  },
  {
   "cell_type": "markdown",
   "metadata": {},
   "source": [
    "위 그림은 주어진 데이터를 기반으로 z, zb, y의 분포를 나타낸 것이다. <br />\n",
    "z의 평균은 7.8분이다. zb의 평균은 8.8분으로 13%가량 더 높다. y의 평균은 4.4로 zb 평균의 반이다."
   ]
  },
  {
   "cell_type": "markdown",
   "metadata": {},
   "source": [
    "## (4) 대기 시간 예측"
   ]
  },
  {
   "cell_type": "markdown",
   "metadata": {},
   "source": [
    "내가 플랫폼에 도착했을 때 10명이 대기하고 있는 것을 봤다. 그러면 다음 기차가 도착할 때까지 얼마나 기다려야 한다고 생각할까? <br />\n",
    "실제 분포 z가 있고 승객 도착 비율 $\\lambda$가 분당 2명이라는 것을 알고 있다고 가정하자. <br />\n",
    "- z의 분포를 사용해서 승객이 보는 기차 시간 간격 zp의 사전 분포를 계산하자.\n",
    "- 지난 기차로부터의 경과 시간 x에 대한 분포 추정을 위해 승객 수를 사용할 수 있다. \n",
    "- 마지막으로 y = zp - x 관계를 사용해서 y의 분포를 구한다."
   ]
  },
  {
   "cell_type": "markdown",
   "metadata": {},
   "source": [
    "첫 번째 단계에서는 승객 수를 계산하기 전에 zp, x, y의 분포를 캡슐화하는 WaitTimeCalculator를 생성하는 것이다. "
   ]
  },
  {
   "cell_type": "code",
   "execution_count": null,
   "metadata": {
    "collapsed": true
   },
   "outputs": [],
   "source": [
    "    wtc = WaitTimeCalculator(pmf_z)"
   ]
  },
  {
   "cell_type": "markdown",
   "metadata": {},
   "source": [
    "pmf_z는 시간 간격에 대해 주어진 분포다."
   ]
  },
  {
   "cell_type": "markdown",
   "metadata": {},
   "source": [
    "다음 단계는 x의 사후 분포와 y의 예측 분포를 캡슐화하는 ElapsedTimeEstimator를 만드는 것이다."
   ]
  },
  {
   "cell_type": "code",
   "execution_count": null,
   "metadata": {
    "collapsed": true
   },
   "outputs": [],
   "source": [
    "    ete = ElapsedTimeEstimator(wtc, lam=2.0/60, num_passengers=15)"
   ]
  },
  {
   "cell_type": "markdown",
   "metadata": {},
   "source": [
    "변수는 WaitTimeCalculator, 승객 도착 비율 lam(초당 승객 수로 나타남), 관측된 승객 수 (여기서는 15)다."
   ]
  },
  {
   "cell_type": "code",
   "execution_count": null,
   "metadata": {
    "collapsed": true
   },
   "outputs": [],
   "source": [
    "class ElapsedTimeEstimator(object):\n",
    "    \n",
    "    def __init__(self, wtc, lam, num_passengers):\n",
    "        self.prior_x = Elapsed(wtc.pmf_x)\n",
    "       \n",
    "        self.post_x = self.prior_x.Copy()\n",
    "        self.post_x.Update((lam, num_passengers))\n",
    "        \n",
    "        self.pmf_y = PredictWaitTime(wtc.pmf_zb, self.post_x)"
   ]
  },
  {
   "cell_type": "markdown",
   "metadata": {},
   "source": [
    "prior_x와 posterior_x는 경과 시간의 사전 분포와 사후 분포다. pmf_y는 대기 시간의 예측 분포다."
   ]
  },
  {
   "cell_type": "markdown",
   "metadata": {},
   "source": [
    "ElapsedTimeEstimator는 다음에 정의할 Elapsed와 PredictWateTime을 사용한다."
   ]
  },
  {
   "cell_type": "markdown",
   "metadata": {},
   "source": [
    "Elapsed는 x의 가설 분포를 나타내는 Suite이다. x의 사전 분포는 WaitTimeCalculator에서 바로 나온다. <br />\n",
    "그러면 도착 비율 lam과 플랫폼의 승객 수로 구성된 데이터를 사용해서 사후 분포를 계산한다."
   ]
  },
  {
   "cell_type": "code",
   "execution_count": null,
   "metadata": {
    "collapsed": true
   },
   "outputs": [],
   "source": [
    "class Elpased(thinkbayes2.Suite):\n",
    "    \n",
    "    def Likelihood(self, data, hypo):\n",
    "        x = hypo\n",
    "        lam, k = data\n",
    "        like = thinkbayes2.EvalPoissonPmf(lam*x, k)\n",
    "        return like"
   ]
  },
  {
   "cell_type": "markdown",
   "metadata": {},
   "source": [
    "Likelihood는 가설과 데이터를 사용해서 가설하의 데이터의 우도를 계산한다. <br />\n",
    "이 경우 hypo는 마지막 기차 이후 경과 시간이고, data는 lam과 승객 수의 튜플이다. "
   ]
  },
  {
   "cell_type": "markdown",
   "metadata": {},
   "source": [
    "데이터의 우도는 주어진 도착 비율 lam에 대해 시간 x에 k대가 도착할 확률이다. 여기서는 포아송 분포를 사용해서 계산했다. "
   ]
  },
  {
   "cell_type": "code",
   "execution_count": null,
   "metadata": {
    "collapsed": true
   },
   "outputs": [],
   "source": [
    "def PredictWaitTime(pmf_zb, pmf_x):\n",
    "    pmf_y = pmf_zb - pmf_x\n",
    "    RemoveNegatives(pmf_y)\n",
    "    return pmf_y"
   ]
  },
  {
   "cell_type": "markdown",
   "metadata": {},
   "source": [
    "pmf_zb는 기차 간의 간격 분포고, pmf_x는 관측된 승객 수에 따른 경과 시간 분포다. <br />\n",
    "y = zb - x이므로 다음을 구할 수 있다."
   ]
  },
  {
   "cell_type": "code",
   "execution_count": null,
   "metadata": {
    "collapsed": true
   },
   "outputs": [],
   "source": [
    "    pmf_y = pmf_zb - pmf_x"
   ]
  },
  {
   "cell_type": "markdown",
   "metadata": {},
   "source": [
    "빼기 연산자는 zb와 x의 모든 쌍을 나열하는 Pmf.__sub__를 호출해서 차를 구한 후 이 결과를 pmf_y에 더한다. <br />\n",
    "결과 Pmf에는 우리가 불가능하다고 생각하는 경우에 대한 음수가 포함되어 있다. <br />\n",
    "예를 들어, 기차가 5분 간격일 때 도착했다면 5분 이상 기다릴 리 없다. <br />\n",
    "RemoveNegative는 이런 불가능한 값을 분포에서 제거하고 다시 정규화한다."
   ]
  },
  {
   "cell_type": "code",
   "execution_count": null,
   "metadata": {
    "collapsed": true
   },
   "outputs": [],
   "source": [
    "def RemoveNegatives(pmf):\n",
    "    for val in pmf.Values():\n",
    "        if val < 0:\n",
    "            pmf.Remove(val)\n",
    "    pmf.Normalize()"
   ]
  },
  {
   "cell_type": "markdown",
   "metadata": {},
   "source": [
    "결과는 아래와 같다. <br />\n",
    "x의 사전 분포는 y의 분포와 동일하다. x의 사후 분포는 플랫폼에 15명의 승객이 있을 경우 마지막 기차 이후 5-10분 지났을 것이라고 믿는다는 것을 보여준다. <br />\n",
    "y의 예측 분포는 약 80%의 신뢰도로 다음 기차가 5분 이내에 올 것이라고 예상한다는 것을 가리킨다."
   ]
  },
  {
   "cell_type": "markdown",
   "metadata": {},
   "source": [
    "<img src=\"./Images/3.png\" width=500 />"
   ]
  },
  {
   "cell_type": "markdown",
   "metadata": {},
   "source": [
    "## (5) 도착 비율 추정"
   ]
  },
  {
   "cell_type": "markdown",
   "metadata": {
    "collapsed": true
   },
   "source": [
    "지금까지의 분석 내용은 (1)간격 분포와 (2)승객 도착 비율을 안다는 가정에 기반했다. <br />\n",
    "이제 두 번째 가정은 잠시 무시한다. <br />\n",
    "레드라인의 승객 도착 비율에 대해 전혀 모른다고 가정하자. <br />\n",
    "정성적(출 퇴근)으로 혹은 정량적으로 $\\lambda$를 추정할 수 있다. <br />\n",
    "플랫폼에 도착하는 날 마다 시간과 대기 승객수를 기록하고, 자신이 대기한 시간과 대기하는동안 새로 도착하는 승객의 수를 기록한다. <br />\n",
    "다음은 5일동안 기록을 한 내역이다. "
   ]
  },
  {
   "cell_type": "markdown",
   "metadata": {
    "collapsed": true
   },
   "source": [
    "<img src=\"./Images/7.png\" width=200 />"
   ]
  },
  {
   "cell_type": "markdown",
   "metadata": {
    "collapsed": true
   },
   "source": [
    "k1은 도착했을 때의 대기 승객 수, y는 분 단위 대기 시간, k2는 대기하는 동안 도착한 승객 수이다. <br />\n",
    "1주일간 18분을 기다렸고 36명의 승객을 봤으므로 승객 도착 비율은 분당 2명이라고 추정할 수 있다. <br ?\n",
    "이 추정은 연습용으로는 충분하지만, 완성도를 고려해서 $\\lambda$의 사후 분포를 계산해서 이후 분석해서 이 분포를 어떻게 사용할지 살펴보겠다."
   ]
  },
  {
   "cell_type": "markdown",
   "metadata": {
    "collapsed": true
   },
   "source": [
    "ArrivalRate는 $\\lambda$에 대한 가설을 나타내는 Suite이다."
   ]
  },
  {
   "cell_type": "code",
   "execution_count": null,
   "metadata": {
    "collapsed": true
   },
   "outputs": [],
   "source": [
    "class ArrivalRate(thinkbayes2.Suite):\n",
    "    def Likelihood(self, data, hypo):\n",
    "        lam = hypo\n",
    "        y, k = data\n",
    "        like = thinkbayes2.EvalPoissonPmf(lam*y, k)\n",
    "        return like"
   ]
  },
  {
   "cell_type": "markdown",
   "metadata": {},
   "source": [
    "이 경우 가설은 $\\lambda$의 값이다. 데이터는 대기 시간 y와 도착한 승객 수 k의 쌍이다. <br />\n",
    "이 함수는 Elapsed.Likelihood와 거의 동일하다. 차이라면, 이 함수에서는 가설이 경과 시간인 x였는데 위 함수에서 <br />\n",
    "가설은 도착 비율은 lam인 것이다. 하지만 양쪽 모두 우도는 주어진 lam에 대해 특정 시간 간격 동안 k명의 도착하는m 사람을 볼 확률이다."
   ]
  },
  {
   "cell_type": "markdown",
   "metadata": {},
   "source": [
    "ArrivalRateEstimator는 $\\lambda$추정 프로세스를 캡슐화한다. 변수 passenger_data는 앞의 표 같은 k1, y, k2튜플의 리스트이다."
   ]
  },
  {
   "cell_type": "code",
   "execution_count": null,
   "metadata": {
    "collapsed": true
   },
   "outputs": [],
   "source": [
    "class ArrivalRateEstimaor(object):\n",
    "    def __init__(self, passenger_data):\n",
    "        low, high = 0, 5\n",
    "        n = 51\n",
    "        hypos = numpy.linspace(low, high, n) / 60\n",
    "        \n",
    "        self.prior_lam = ArrivalRate(hypos)\n",
    "        self.post_lam = self.Prior_lam.Copy()\n",
    "        for k1, y, k2 in passenger_data:\n",
    "            self.post_lam.Update((y, k2))"
   ]
  },
  {
   "cell_type": "markdown",
   "metadata": {},
   "source": [
    "\\__init__는 lam의 가설 값의 시퀀스인 hypos를 만들고, 사전 분포 prior_lam을 만든다. <br />\n",
    "for 반복문에서 사후 분호 post_lam을 호출해서 데이터를 사용해서 사전 값을 생성한다. <br />"
   ]
  },
  {
   "cell_type": "markdown",
   "metadata": {},
   "source": [
    "다음 그림은 사전 분포와 사후 분포를 보여준다. 예상대로, 사후 분포의 평균과 중간값은 관측 비율대로 분당 2명 부근이다. <br />\n",
    "하지만 사후 분포의 범위는 적은 샘플을 사용했을 때의 $\\lambda$가 얼마나 불확실한지 보여준다."
   ]
  },
  {
   "cell_type": "markdown",
   "metadata": {},
   "source": [
    "<img src=\"./Images/4.png\" width=400 />"
   ]
  },
  {
   "cell_type": "markdown",
   "metadata": {},
   "source": [
    "### (6) 결합 불확실성"
   ]
  },
  {
   "cell_type": "markdown",
   "metadata": {},
   "source": [
    "분석시 입력 값 중 하나라도 불확실한 것이 있다면 다음과 같은 프로세스를 고려할 수 있다. <br />\n",
    "- 불확실한 변수(이 경우 $\\lambda$)의 결정 값을 기반으로 한 분석을 구현한다.\n",
    "- 불확실한 변수값의 분포를 계산한다.\n",
    "- 변수의 각 값에 대해 분석을 실행한 후 예측 분포의 셋을 결정한다. \n",
    "- 변수의 분포에 가중치를 주어 예측 분포의 혼합을 계산한다."
   ]
  },
  {
   "cell_type": "markdown",
   "metadata": {},
   "source": [
    "(1), (2) 단계는 앞에서 이미 실행했고, (3), (4)단계를 처리하기 위해 WaitMixtureEstimator클래스를 작성했다. <br />"
   ]
  },
  {
   "cell_type": "code",
   "execution_count": null,
   "metadata": {
    "collapsed": true
   },
   "outputs": [],
   "source": [
    "class WaitMixturesEstimator(object):\n",
    "    \n",
    "    def __init__(self, wtc, are, num_passengers=15):\n",
    "        self.metapmf = thinkbayes2.Pmf()\n",
    "        \n",
    "        for lam, prob in sorted(are.post_lam.Items()):\n",
    "            ete = ElapsedTimeEstimator(wtc, lam, num_passengers)\n",
    "            self.metapmf.Set(ete.pmf_y, prob)\n",
    "        self.mixture = thinkbayes2.MakeMixture(self.metapmf)"
   ]
  },
  {
   "cell_type": "markdown",
   "metadata": {
    "collapsed": true
   },
   "source": [
    "wtc는 zb분포를 포함하는 WaitTimeCalculator이다. are는 lam의 분포를 포함하는 ArrivalTimeEstimator이다."
   ]
  },
  {
   "cell_type": "markdown",
   "metadata": {
    "collapsed": true
   },
   "source": [
    "첫 줄에서는 y 분포는 각 가능한 값에 확률을 연결하는 메타-Pmf를 생성한다. <br /> \n",
    "lam의 각 값에 대해 ElapsedTimeEstimator를 사용해서 y에 대응하는 분포를 계산하고 이를 메타-pmf에 저장한다. <br />\n",
    "그리고 MaxMixture를 사용해서 혼합 분포를 계산한다. 이 결과가 다음 그림에 나와있다. <br />\n",
    "배경의 흐린 선은 lam의 각 값에 대한 y의 분포로, 선의 굵기는 우도를 나타낸다. 진한 선은 이 분포의 혼합이다."
   ]
  },
  {
   "cell_type": "markdown",
   "metadata": {
    "collapsed": true
   },
   "source": [
    "<img src=\"./Images/5.png\" width=400 />"
   ]
  },
  {
   "cell_type": "markdown",
   "metadata": {
    "collapsed": true
   },
   "source": [
    "이 경우 lam의 단일 점 추정값을 사용해서 유사한 결과를 얻을 수 있었다. 따라서 연습 목적으로는 추정값의 불확실성을 포함 시킬 필요는 없다. <br />\n",
    "일반적으로는 시스템의 응답 값이 선형이 아닌 경우 변동성을 포하하는 것은 중요하다. <br />\n",
    "입력값에 생긴 작은 변화가 결괏값에는 큰 변화를 초래할 수 있다. 이 경우에는 lam의 사후 변동성이 작고 <br />\n",
    "시스템의 응답이 선형에 가깝고 변화가 작다."
   ]
  },
  {
   "cell_type": "markdown",
   "metadata": {
    "collapsed": true
   },
   "source": [
    "### (7) 의사 결정 분석"
   ]
  },
  {
   "cell_type": "markdown",
   "metadata": {
    "collapsed": true
   },
   "source": [
    "이제 우리는 대기 시간의 분포 예측을 위해 플랫폼의 승객 수를 사용할 수 있다. <br />\n",
    "그럼 언제 기차를 기다리는 것을 멈추고 택시를 잡으러 가야 할까?"
   ]
  },
  {
   "cell_type": "markdown",
   "metadata": {},
   "source": [
    "원래 시나리오를 생각해보면, 사무실에서 일찍 출발한 덕에 여유 시간이 15분 있고 사우스 스테이션에서 차를 갈아탄다고 가정하자. <br />\n",
    "이 경우 num_passengers 함수로 y가 15분 이상일 확률을 알 수 있을 것이다. <br />\n",
    "하지만 문제가 있다. 대기 시간이 긴 경우는 드물어서 이 경우 분석 내용은 빈도에 민감해지는데, 빈도를 추정하는 것이 어렵다. <br />\n",
    "내가 가진 데이터는 1주일치 뿐이고, 내가 관측했던 가장 긴 대기 시간은 15분이다. <br />\n",
    "대기 시간이 더 긴 경우의 빈도가 어떻게 되는 지는 정확하게 추정할 수 없다. <br />\n",
    "하지만 기존의 관측 내용을 가지고 최소한 대략적인 추정은 할 수 있다. <br />\n",
    "1년간 3개의 주요 장기 대기 시간이 있다고 추정하도록 해보자. <br />\n",
    "하지만 관측은 편향적이므로 긴 관착이 많은 승객에게 영향을 끼치므로 더 관측하기 쉽다. <br />\n",
    "그러므로 관측 내용은 z가 아니라 zb의 샘플로 사용해야 한다. 다음은 이를 코드로 나타내었다."
   ]
  },
  {
   "cell_type": "code",
   "execution_count": null,
   "metadata": {
    "collapsed": true
   },
   "outputs": [],
   "source": [
    "    n =220\n",
    "    cdf_z = thinkbayes2.MakeCdfFromList(gap_times)\n",
    "    sample_z = cdf_z.Sample(n)\n",
    "    pmf_z = thinkbayes2.MakePmfFromList(sample_z)"
   ]
  },
  {
   "cell_type": "markdown",
   "metadata": {},
   "source": [
    "그리고 zb의 분포를 얻기 위해 pmf_z를 편향시켜서 샘플을 고르고 30, 40, 50분의 대기 시간을 추가하자"
   ]
  },
  {
   "cell_type": "code",
   "execution_count": null,
   "metadata": {
    "collapsed": true
   },
   "outputs": [],
   "source": [
    "    cdf_zp = BiasPmf(pmf_z).MakeCdf()\n",
    "    sample_zb = cdf_zp.Sample(n) = [1800, 2400, 3000]"
   ]
  },
  {
   "cell_type": "markdown",
   "metadata": {},
   "source": [
    "Cdf.Sample은 Pmf.Sample보다 더 효율적이므로 보통 샘플링 전에 Pmf를 Cdf로 바꾸는게 더 빠르다. <br />\n",
    "그 다음 zb의 샘플을 사용해서 KDE로 Pdf를 추정하고, Pdf를 Pmf로 바꾼다."
   ]
  },
  {
   "cell_type": "code",
   "execution_count": null,
   "metadata": {
    "collapsed": true
   },
   "outputs": [],
   "source": [
    "    pdf_zb = thinkbayes2.EstimatedPdf(sample_zb)\n",
    "    xs = MakeRange(low=60)\n",
    "    pmf_zb = pdf_zb.MakePmf(xs)"
   ]
  },
  {
   "cell_type": "markdown",
   "metadata": {},
   "source": [
    "마지막으로 zb의 분포를 비편향화해서 z의 분포를 구하고, 이를 사용해서 WaitTimeCalculator를 생성한다. "
   ]
  },
  {
   "cell_type": "code",
   "execution_count": null,
   "metadata": {
    "collapsed": true
   },
   "outputs": [],
   "source": [
    "    pmf_z = UnbiasPmf(pmf_zb)\n",
    "    wtc = WaitTimeCalculator(pmf_z)"
   ]
  },
  {
   "cell_type": "markdown",
   "metadata": {},
   "source": [
    "그럼 이제 장기 대기 시간의 확률을 계산할 준비가 끝났다."
   ]
  },
  {
   "cell_type": "code",
   "execution_count": null,
   "metadata": {
    "collapsed": true
   },
   "outputs": [],
   "source": [
    "    def ProbLongWait(num_passengers, minutes):\n",
    "        ete = ElapsedTimeEstimator(wtc, lam, num_passengers)\n",
    "        cdf_y = ete.pmf_y.MakeCdf()\n",
    "        prob = 1 - cdf_y.Prob(minutes*60)"
   ]
  },
  {
   "cell_type": "markdown",
   "metadata": {},
   "source": [
    "주어진 플랫폼의 승객 숫자를 사용해서, ProbLongWait에서는 ElapsedTimeEstimator를 만들고, <br /> \n",
    "대기 시간의 분포를 추출해서 minutes를 초과하는 대기 시간이 발생할 확률을 계산한다. <br />\n",
    "다음 그림에서 결과가 나와있다. <br />\n",
    "승객 수가 20이하 일 때 시스템이 일반적으로 돌아가고 있다고 추론할 수 있고, 장기 대기 시간이 나올 확률이 작다. <br />\n",
    "만약 30명의 승객이 있다면 마지막 기차가 떠난 지 15분이 되었다고 추정할 수 있다. <br />\n",
    "이는 일반적인 대기 시간보다 길므로 무언가가 잘못되었다고 추론하여 더 오래 기다릴 수도 있다고 예상할 수 있다."
   ]
  },
  {
   "cell_type": "markdown",
   "metadata": {},
   "source": [
    "<img src=\"./Images/6.png\" width=400 />"
   ]
  },
  {
   "cell_type": "markdown",
   "metadata": {},
   "source": [
    "만약 사우스 스테이션에서 환승 기차를 놓칠 확률이 10%이고 플랫폼에서 대기하는 승객이 30명 미만이라면 역에서 기다리고, <br /> \n",
    "더 많으면 택시를 타야한다. <br />\n",
    "아니면, 분석을 한 단계 더 진행해서, 환승 기차를 놓쳤을 때의 비용과 택시를 타는 것의 비용을 정량화해서 예상 비용 최소화 지점을 찾을 수 있다."
   ]
  }
 ],
 "metadata": {
  "kernelspec": {
   "display_name": "Python 3",
   "language": "python",
   "name": "python3"
  },
  "language_info": {
   "codemirror_mode": {
    "name": "ipython",
    "version": 3
   },
   "file_extension": ".py",
   "mimetype": "text/x-python",
   "name": "python",
   "nbconvert_exporter": "python",
   "pygments_lexer": "ipython3",
   "version": "3.6.1"
  }
 },
 "nbformat": 4,
 "nbformat_minor": 2
}
