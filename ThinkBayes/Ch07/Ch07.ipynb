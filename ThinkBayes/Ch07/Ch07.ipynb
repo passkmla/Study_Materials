{
 "cells": [
  {
   "cell_type": "markdown",
   "metadata": {},
   "source": [
    "### (1) 보스턴 브루인스 문제"
   ]
  },
  {
   "cell_type": "markdown",
   "metadata": {},
   "source": [
    "미국 하키 리그 결승전에서 보스턴 브루인스와 벤쿠버 캐넉스가 7전 4선증제 챔피언십 시리즈 경기를 펼쳤다. <br />\n",
    "보스턴은 처음 두 게임을 0-1, 2-1으로 지고 다음 두 게임에서는 8-1과 4-0으로 이겼다. <br /> \n",
    "시리즈의 이 시점에서, 보스턴이 다음 경기에서 이길 확률은 얼마고, 챔피언십에서 우승할 확률은 얼마인가?"
   ]
  },
  {
   "cell_type": "markdown",
   "metadata": {},
   "source": [
    "#### 전체 코드"
   ]
  },
  {
   "cell_type": "code",
   "execution_count": 4,
   "metadata": {},
   "outputs": [
    {
     "name": "stdout",
     "output_type": "stream",
     "text": [
      "Writing hockey0.pdf\n",
      "Writing hockey0.eps\n",
      "Writing hockey1.pdf\n",
      "Writing hockey1.eps\n",
      "Writing hockey2.pdf\n",
      "Writing hockey2.eps\n",
      "MLE bruins 2.872\n",
      "MLE canucks 2.608\n",
      "Writing hockey3.pdf\n",
      "Writing hockey3.eps\n",
      "0.457996492072 0.370293408955 0.171710098973\n",
      "p_overtime 0.523471221795\n",
      "0.089885295304\n",
      "p_win 0.547881787376\n",
      "p_series 0.571603127215\n"
     ]
    }
   ],
   "source": [
    "from __future__ import print_function, division\n",
    "\n",
    "import math\n",
    "\n",
    "import columns\n",
    "import thinkbayes2\n",
    "import thinkbayes2\n",
    "import thinkplot\n",
    "\n",
    "\n",
    "USE_SUMMARY_DATA = True\n",
    "\n",
    "class Hockey(thinkbayes2.Suite):\n",
    "    \"\"\"Represents hypotheses about the scoring rate for a team.\"\"\"\n",
    "\n",
    "    def __init__(self, label=None):\n",
    "        \"\"\"Initializes the Hockey object.\n",
    "\n",
    "        label: string\n",
    "        \"\"\"\n",
    "        if USE_SUMMARY_DATA:\n",
    "            # prior based on each team's average goals scored\n",
    "            mu = 2.8\n",
    "            sigma = 0.3\n",
    "        else:\n",
    "            # prior based on each pair-wise match-up\n",
    "            mu = 2.8\n",
    "            sigma = 0.85\n",
    "\n",
    "        pmf = thinkbayes2.MakeNormalPmf(mu, sigma, 4)\n",
    "        thinkbayes2.Suite.__init__(self, pmf, label=label)\n",
    "            \n",
    "    def Likelihood(self, data, hypo):\n",
    "        \"\"\"Computes the likelihood of the data under the hypothesis.\n",
    "\n",
    "        Evaluates the Poisson PMF for lambda and k.\n",
    "\n",
    "        hypo: goal scoring rate in goals per game\n",
    "        data: goals scored in one period\n",
    "        \"\"\"\n",
    "        lam = hypo\n",
    "        k = data\n",
    "        like = thinkbayes2.EvalPoissonPmf(k, lam)\n",
    "        return like\n",
    "\n",
    "\n",
    "def MakeGoalPmf(suite, high=10):\n",
    "    \"\"\"Makes the distribution of goals scored, given distribution of lam.\n",
    "\n",
    "    suite: distribution of goal-scoring rate\n",
    "    high: upper bound\n",
    "\n",
    "    returns: Pmf of goals per game\n",
    "    \"\"\"\n",
    "    metapmf = thinkbayes2.Pmf()\n",
    "\n",
    "    for lam, prob in suite.Items():\n",
    "        pmf = thinkbayes2.MakePoissonPmf(lam, high)\n",
    "        metapmf.Set(pmf, prob)\n",
    "\n",
    "    mix = thinkbayes2.MakeMixture(metapmf, label=suite.label)\n",
    "    return mix\n",
    "\n",
    "\n",
    "def MakeGoalTimePmf(suite):\n",
    "    \"\"\"Makes the distribution of time til first goal.\n",
    "\n",
    "    suite: distribution of goal-scoring rate\n",
    "\n",
    "    returns: Pmf of goals per game\n",
    "    \"\"\"\n",
    "    metapmf = thinkbayes2.Pmf()\n",
    "\n",
    "    for lam, prob in suite.Items():\n",
    "        pmf = thinkbayes2.MakeExponentialPmf(lam, high=2, n=2001)\n",
    "        metapmf.Set(pmf, prob)\n",
    "\n",
    "    mix = thinkbayes2.MakeMixture(metapmf, label=suite.label)\n",
    "    return mix\n",
    "\n",
    "\n",
    "class Game(object):\n",
    "    \"\"\"Represents a game.\n",
    "\n",
    "    Attributes are set in columns.read_csv.\n",
    "    \"\"\"\n",
    "    convert = dict()\n",
    "\n",
    "    def clean(self):\n",
    "        self.goals = self.pd1 + self.pd2 + self.pd3\n",
    "\n",
    "\n",
    "def ReadHockeyData(filename='hockey_data.csv'):\n",
    "    \"\"\"Read game scores from the data file.\n",
    "\n",
    "    filename: string\n",
    "    \"\"\"\n",
    "    game_list = columns.read_csv(filename, Game)\n",
    "\n",
    "    # map from gameID to list of two games\n",
    "    games = {}\n",
    "    for game in game_list:\n",
    "        if game.season != 2011:\n",
    "            continue\n",
    "        key = game.game\n",
    "        games.setdefault(key, []).append(game)\n",
    "\n",
    "    # map from (team1, team2) to (score1, score2)\n",
    "    pairs = {}\n",
    "    for key, pair in games.iteritems():\n",
    "        t1, t2 = pair\n",
    "        key = t1.team, t2.team\n",
    "        entry = t1.total, t2.total\n",
    "        pairs.setdefault(key, []).append(entry)\n",
    "\n",
    "    ProcessScoresTeamwise(pairs)\n",
    "    ProcessScoresPairwise(pairs)\n",
    "\n",
    "\n",
    "def ProcessScoresPairwise(pairs):\n",
    "    \"\"\"Average number of goals for each team against each opponent.\n",
    "\n",
    "    pairs: map from (team1, team2) to (score1, score2)\n",
    "    \"\"\"\n",
    "    # map from (team1, team2) to list of goals scored\n",
    "    goals_scored = {}\n",
    "    for key, entries in pairs.iteritems():\n",
    "        t1, t2 = key\n",
    "        for entry in entries:\n",
    "            g1, g2 = entry\n",
    "            goals_scored.setdefault((t1, t2), []).append(g1)\n",
    "            goals_scored.setdefault((t2, t1), []).append(g2)\n",
    "\n",
    "    # make a list of average goals scored\n",
    "    lams = []\n",
    "    for key, goals in goals_scored.iteritems():\n",
    "        if len(goals) < 3:\n",
    "            continue\n",
    "        lam = thinkbayes2.Mean(goals)\n",
    "        lams.append(lam)\n",
    "\n",
    "    # make the distribution of average goals scored\n",
    "    cdf = thinkbayes2.MakeCdfFromList(lams)\n",
    "    thinkplot.Cdf(cdf)\n",
    "    thinkplot.Show()\n",
    "\n",
    "    mu, var = thinkbayes2.MeanVar(lams)\n",
    "    print('mu, sig', mu, math.sqrt(var))\n",
    "\n",
    "    print('BOS v VAN', pairs['BOS', 'VAN'])\n",
    "\n",
    "\n",
    "def ProcessScoresTeamwise(pairs):\n",
    "    \"\"\"Average number of goals for each team.\n",
    "\n",
    "    pairs: map from (team1, team2) to (score1, score2)\n",
    "    \"\"\"\n",
    "    # map from team to list of goals scored\n",
    "    goals_scored = {}\n",
    "    for key, entries in pairs.iteritems():\n",
    "        t1, t2 = key\n",
    "        for entry in entries:\n",
    "            g1, g2 = entry\n",
    "            goals_scored.setdefault(t1, []).append(g1)\n",
    "            goals_scored.setdefault(t2, []).append(g2)\n",
    "\n",
    "    # make a list of average goals scored\n",
    "    lams = []\n",
    "    for key, goals in goals_scored.iteritems():\n",
    "        lam = thinkbayes2.Mean(goals)\n",
    "        lams.append(lam)\n",
    "\n",
    "    # make the distribution of average goals scored\n",
    "    cdf = thinkbayes2.MakeCdfFromList(lams)\n",
    "    thinkplot.Cdf(cdf)\n",
    "    thinkplot.Show()\n",
    "\n",
    "    mu, var = thinkbayes2.MeanVar(lams)\n",
    "    print('mu, sig', mu, math.sqrt(var))\n",
    "\n",
    "\n",
    "def main():\n",
    "    #ReadHockeyData()\n",
    "    #return\n",
    "\n",
    "    formats = ['pdf', 'eps']\n",
    "\n",
    "    suite1 = Hockey('bruins')\n",
    "    suite2 = Hockey('canucks')\n",
    "\n",
    "    thinkplot.Clf()\n",
    "    thinkplot.PrePlot(num=2)\n",
    "    thinkplot.Pmf(suite1)\n",
    "    thinkplot.Pmf(suite2)\n",
    "    thinkplot.Save(root='hockey0',\n",
    "                xlabel='Goals per game',\n",
    "                ylabel='Probability',\n",
    "                formats=formats)\n",
    "\n",
    "    suite1.UpdateSet([0, 2, 8, 4])\n",
    "    suite2.UpdateSet([1, 3, 1, 0])\n",
    "\n",
    "    thinkplot.Clf()\n",
    "    thinkplot.PrePlot(num=2)\n",
    "    thinkplot.Pmf(suite1)\n",
    "    thinkplot.Pmf(suite2)\n",
    "    thinkplot.Save(root='hockey1',\n",
    "                xlabel='Goals per game',\n",
    "                ylabel='Probability',\n",
    "                formats=formats)\n",
    "\n",
    "\n",
    "    goal_dist1 = MakeGoalPmf(suite1)\n",
    "    goal_dist2 = MakeGoalPmf(suite2)\n",
    "\n",
    "    thinkplot.Clf()\n",
    "    thinkplot.PrePlot(num=2)\n",
    "    thinkplot.Pmf(goal_dist1)\n",
    "    thinkplot.Pmf(goal_dist2)\n",
    "    thinkplot.Save(root='hockey2',\n",
    "                xlabel='Goals',\n",
    "                ylabel='Probability',\n",
    "                formats=formats)\n",
    "\n",
    "    time_dist1 = MakeGoalTimePmf(suite1)    \n",
    "    time_dist2 = MakeGoalTimePmf(suite2)\n",
    " \n",
    "    print('MLE bruins', suite1.MaximumLikelihood())\n",
    "    print('MLE canucks', suite2.MaximumLikelihood())\n",
    "   \n",
    "    thinkplot.Clf()\n",
    "    thinkplot.PrePlot(num=2)\n",
    "    thinkplot.Pmf(time_dist1)\n",
    "    thinkplot.Pmf(time_dist2)    \n",
    "    thinkplot.Save(root='hockey3',\n",
    "                   xlabel='Games until goal',\n",
    "                   ylabel='Probability',\n",
    "                   formats=formats)\n",
    "\n",
    "    diff = goal_dist1 - goal_dist2\n",
    "    p_win = diff.ProbGreater(0)\n",
    "    p_loss = diff.ProbLess(0)\n",
    "    p_tie = diff.Prob(0)\n",
    "\n",
    "    print(p_win, p_loss, p_tie)\n",
    "\n",
    "    p_overtime = thinkbayes2.PmfProbLess(time_dist1, time_dist2)\n",
    "    p_adjust = thinkbayes2.PmfProbEqual(time_dist1, time_dist2)\n",
    "    p_overtime += p_adjust / 2\n",
    "    print('p_overtime', p_overtime) \n",
    "\n",
    "    print(p_overtime * p_tie)\n",
    "    p_win += p_overtime * p_tie\n",
    "    print('p_win', p_win)\n",
    "\n",
    "    # win the next two\n",
    "    p_series = p_win**2\n",
    "\n",
    "    # split the next two, win the third\n",
    "    p_series += 2 * p_win * (1-p_win) * p_win\n",
    "\n",
    "    print('p_series', p_series)\n",
    "\n",
    "\n",
    "if __name__ == '__main__':\n",
    "    main()\n"
   ]
  },
  {
   "cell_type": "markdown",
   "metadata": {},
   "source": [
    "이런 문제에 대답할 때는 몇 가지 가정을 해야 한다. <br />\n",
    "첫 번째로, 하키의 골에 대한 점수는 최소한 게임의 어떤 때든 골이 성공할 가능성이 동일하다고 보는 포아송 프로세스를 따른다. <br />\n",
    "두 번째로, 특정 상대에 대해서, 각 팀의 게임별 장기적 평균 골 수는 $\\lambda$라고 표기한다."
   ]
  },
  {
   "cell_type": "markdown",
   "metadata": {},
   "source": [
    "주어진 가정에 대해 이 질문에 대답하려면 다음 과정을 거친다.\n",
    "- $\\lambda$에 대한 사전 분포를 고르기 위해 전 게임에 대한 통계를 확인한다.\n",
    "- 각 팀에 대한 $\\lambda$추정을 위해 처음 네 게임의 점수를 사용한다.\n",
    "- $\\lambda$의 사후 분포를 통해 각 팀의 골의 분포, 골 차이의 분포, 각 팀이 다음에 이길 확률을 구한다.\n",
    "- 각 팀이 이번 시리즈에서 이길 확률을 구한다."
   ]
  },
  {
   "cell_type": "markdown",
   "metadata": {},
   "source": [
    "사전 분포는 11-12시즌의 각 팀의 게임당 평균 골 수를 사용했다. 분포는 평균 2.8에 표준편차 0.3의 가우시안으로 나타났다."
   ]
  },
  {
   "cell_type": "markdown",
   "metadata": {},
   "source": [
    "가우시안 분포는 연속형이나, 이를 이산 Pmf로 추정해 보겠다."
   ]
  },
  {
   "cell_type": "code",
   "execution_count": null,
   "metadata": {
    "collapsed": true
   },
   "outputs": [],
   "source": [
    "def MakeGaussianPmf(mu, sigma, num_sigmas, n=101):\n",
    "    pmf = Pmf()\n",
    "    low = mu - num_sigmas*sigma\n",
    "    high = mu - num_sigmas*sigma\n",
    "    \n",
    "    for x in numpy.linspace(low, high, n):\n",
    "        p = scipy.stats.norm.pdf(mu, sigma, x)\n",
    "        pmf.Set(x, p)\n",
    "    pmf.Normalize()\n",
    "    return pmf"
   ]
  },
  {
   "cell_type": "markdown",
   "metadata": {},
   "source": [
    "mu와 sigma는 가우시안 분포의 평균과 표준편차다. num_sigmas는 Pmf 범위의 평균 이상/이하 범위에 속하는 편차의 수이고, n은 Pmf의 값의 수다. <br />\n",
    "여기서도 low이상 hugh이하의 범위 값을 n개의 동일한 구간으로 나눈 값을 배열로 만드는 num.linspace를 사용한다. norm.pdf는 가우시안 확률 밀도 함수를 구한다."
   ]
  },
  {
   "cell_type": "markdown",
   "metadata": {},
   "source": [
    "하키 문제로 돌아가서 다음은 $\\lambda$의 값에 대한 가설의 스윗에 대한 정의다."
   ]
  },
  {
   "cell_type": "code",
   "execution_count": null,
   "metadata": {
    "collapsed": true
   },
   "outputs": [],
   "source": [
    "class Hockey(thinkbayes2.Suite):\n",
    "    \n",
    "    def __init__(self):\n",
    "        pmf = thinkbayes2.MakeGaussianPmf(2.7, 0.3, 4)\n",
    "        thinkbayes2.Suite.__init__(self, pmf)"
   ]
  },
  {
   "cell_type": "markdown",
   "metadata": {},
   "source": [
    "사전 분포는 평균 2.7에 표준편차가 0.3인 가우시안 분포를 따르고, 평균 상하로 4시그마씩의 범위를 갖는다. <br />\n",
    "늘 그렇듯이, 각 가설을 어떻게 나타낼지 결정해야 한다. 이 경우에는 소수점 값을 갖는 x를 사용하여 $\\lambda=x$형식으로 가설을 나타내기로 한다."
   ]
  },
  {
   "cell_type": "markdown",
   "metadata": {},
   "source": [
    "### (2) 포아송 프로세스"
   ]
  },
  {
   "cell_type": "code",
   "execution_count": null,
   "metadata": {
    "collapsed": true
   },
   "outputs": [],
   "source": [
    "포아송 프로세스는 베르누이 프로세스의 연속형으로 사건이 어떤 시점에서든 동일한 확률로 발생할 수 있는 형태다. <br />\n",
    "실제 많은 시스템의 경우 사건 확률은 시간에 따라 변한다. <br /> \n",
    "하지만 모든 모델은 단순화에서 기인하였으며, 이 경우 포아송 프로세스를 따르는 하키 게임을 모델링하는 것은 설득력 있는 선택이다. <br />\n",
    "이 모델을 사용하면 효율적으로 게임당 골 수의 분포를 계산할 수 있을 뿐더러, 골 간의 시간 분포에 대해서도 알 수 있다. <br />\n",
    "특히 게임당 평균 골 수가 lam이라면, 게임당 골의 분포는 포아송 PMF로 주어진다."
   ]
  },
  {
   "cell_type": "code",
   "execution_count": null,
   "metadata": {
    "collapsed": true
   },
   "outputs": [],
   "source": [
    "def EvalPoissonPmf(lam, k):\n",
    "    return (lam)**k * math.exp(-lam) / math.factorial(k)"
   ]
  },
  {
   "cell_type": "markdown",
   "metadata": {},
   "source": [
    "골 간의 시간 분포는 지수 PDF를 따른다."
   ]
  },
  {
   "cell_type": "code",
   "execution_count": null,
   "metadata": {
    "collapsed": true
   },
   "outputs": [],
   "source": [
    "def EvalExponentialPdf(lam, x):\n",
    "    return lam*math.exp(-lam*x)"
   ]
  },
  {
   "cell_type": "markdown",
   "metadata": {},
   "source": [
    "### (3) 사후 분포"
   ]
  },
  {
   "cell_type": "markdown",
   "metadata": {},
   "source": [
    "게임에서 k골을 넣었을 때의 점수 lam의 가설 값을 갖는 팀의 우도를 구할 수 있다."
   ]
  },
  {
   "cell_type": "code",
   "execution_count": null,
   "metadata": {
    "collapsed": true
   },
   "outputs": [],
   "source": [
    "# class Hockey\n",
    "    \n",
    "    def Likelihood(self, data, hypo):\n",
    "        lam = hypo\n",
    "        k = data\n",
    "        like = thinkbayes2.EvalPoissonPmf(lam, k)\n",
    "        return like"
   ]
  },
  {
   "cell_type": "markdown",
   "metadata": {},
   "source": [
    "각 가설은 $\\lambda$에 대한 가능한 값으로 데이터는 관측된 골의 개수다. <br />\n",
    "나와있는 우도 함수를 사용해서, 각 팀의 스윗을 만들고 처음 네 경기의 점수를 사용해서 갱신 할 수 있다."
   ]
  },
  {
   "cell_type": "code",
   "execution_count": null,
   "metadata": {
    "collapsed": true
   },
   "outputs": [],
   "source": [
    "    suite1 = Hockey('bruins')\n",
    "    suite1.UpdateSet([0, 2, 8, 4])\n",
    "    \n",
    "    suite2 = Hockey('canucks')\n",
    "    suite2.UpdateSet([1, 3, 1, 0])"
   ]
  },
  {
   "cell_type": "markdown",
   "metadata": {},
   "source": [
    "다음 그림은 lam의 결과 사후 분포를 나타낸다. 처음의 네 경기를 기반으로 lam의 근사값은 개넉스의 경우 2.6이고 브루인스의 경우 2.9이다."
   ]
  },
  {
   "cell_type": "markdown",
   "metadata": {},
   "source": [
    "<img src=\"./Images/1.png\" width=500 />"
   ]
  },
  {
   "cell_type": "markdown",
   "metadata": {},
   "source": [
    "### (4) 골의 분포"
   ]
  },
  {
   "cell_type": "markdown",
   "metadata": {},
   "source": [
    "각 팀이 다음 경기에서 이길 확률을 계산하려면 각 팀의 골의 분포를 계산해야 한다."
   ]
  },
  {
   "cell_type": "markdown",
   "metadata": {},
   "source": [
    "만약 우리가 lam값을 정확히 알고 있다면 포아송 분포를 다시 사용할 수 있다. <br />\n",
    "다음은 포아송 분포의 절단 근사값을 계산하는 메서드이다."
   ]
  },
  {
   "cell_type": "code",
   "execution_count": null,
   "metadata": {
    "collapsed": true
   },
   "outputs": [],
   "source": [
    "def MakePoissonPmf(lam, high):\n",
    "    pmf = Pmf()\n",
    "    for k in range(0, high+1):\n",
    "        p = EvalPoissonPmf(lam, k)\n",
    "        pmf.Set(k, p)\n",
    "    pmf.Normalize()\n",
    "    return pmf"
   ]
  },
  {
   "cell_type": "markdown",
   "metadata": {},
   "source": [
    "구해진 Pmf값의 범위는 0부터 high까지다. 따라서 lam의 값이 정확히 3.4라면 다음과 같이 계산할 수 있다."
   ]
  },
  {
   "cell_type": "code",
   "execution_count": null,
   "metadata": {
    "collapsed": true
   },
   "outputs": [],
   "source": [
    "lam = 3.4\n",
    "goal_dist = thinkbayes2.MakePoissonPmf(lam, 10)"
   ]
  },
  {
   "cell_type": "markdown",
   "metadata": {},
   "source": [
    "한 게임에서 10골 이상이 나올 가능성은 매우 낮으므로 여기서는 최대값을 10으로 정했다. <br />\n",
    "여기까지는 매우 간단하다. 문제는 우리가 lam의 값을 정확하게 모른다는 것이다. 대신 lam의 가능한 값에 대한 분포가 있다. <br />\n",
    "lam의 각 값에 대해, 골의 분포는 포아송 분포를 따른다. 따라서 골의 전체 분포는 포아송 분포의 혼합형으로 lam의 분포 확률에 따라 가중치가 주어진다. <br />\n",
    "lam이 주어진 사후 분포에 대해, 골의 분포를 생성하는 코드는 다음과 같다."
   ]
  },
  {
   "cell_type": "code",
   "execution_count": null,
   "metadata": {
    "collapsed": true
   },
   "outputs": [],
   "source": [
    "def MakeGoalPmf(suite):\n",
    "    metapmf = thinkbayes2.Pmf()\n",
    "    \n",
    "    for lam, prob in suite.Items():\n",
    "        pmf = thinkbayes2.MakePoissonPmf(lam, 10)\n",
    "        metapmf.Set(pmf, prob)\n",
    "    \n",
    "    mix = thinkbayes2.MakeMixture(metapmf)\n",
    "    return mix"
   ]
  },
  {
   "cell_type": "markdown",
   "metadata": {},
   "source": [
    "lam의 각 값에 포아송 Pmf를 만들고 이를 메타-Pmf에 더한다. 이 값은 Pmf의 값에 대한 pmf이므로 이를 메타-Pmf라고 부르기로 한다. <br />\n",
    "그 다음은 혼합 분포 값 계산을 위해 MakeMixture를 사용한다. <br />\n",
    "아래의 그림에서 브루인스와 캐넉스의 골의 분포 결과를 확인할 수 있다. 브루인스가 다음 게임에서 3골 이하를 받을 가능성은 더 적도 4골 이상을 받을 가능성은 더 높다."
   ]
  },
  {
   "cell_type": "markdown",
   "metadata": {},
   "source": [
    "<img src=\"./Images/2.png\" width=500 />"
   ]
  },
  {
   "cell_type": "markdown",
   "metadata": {},
   "source": [
    "### (5) 이길 확률"
   ]
  },
  {
   "cell_type": "markdown",
   "metadata": {},
   "source": [
    "이길 확률을 구하기 위해서는, 우선 골 수 차이의 분포를 계산해야 한다."
   ]
  },
  {
   "cell_type": "code",
   "execution_count": null,
   "metadata": {
    "collapsed": true
   },
   "outputs": [],
   "source": [
    "    goal_dist1 = MakeGoalPmf(suite1)\n",
    "    goal_dist2 = MakeGoalPmf(suite2)\n",
    "    diff = goal_dist1 = goal_dist2"
   ]
  },
  {
   "cell_type": "markdown",
   "metadata": {},
   "source": [
    "차이를 구하는 연산에서는 값의 쌍을 받아서 이 값 간의 차이를 구하는 Pmf.\\__sub__를 호출한다. <br />\n",
    "골의 차이가 양수라면 브루인스가 이기고, 음수라면 캐넉스가 이기는 것이다. 0일 경우는 비긴다."
   ]
  },
  {
   "cell_type": "code",
   "execution_count": null,
   "metadata": {
    "collapsed": true
   },
   "outputs": [],
   "source": [
    "    p_win = diff.ProbGreater(0)\n",
    "    p_loss = diff.ProbLess(0)\n",
    "    p_tie = diff.Prob(0)"
   ]
  },
  {
   "cell_type": "markdown",
   "metadata": {},
   "source": [
    "앞 장의 분포대로라면, p_win은 46%, p_loss는 37%, p_tie는 17%이다. <br />"
   ]
  },
  {
   "cell_type": "markdown",
   "metadata": {},
   "source": [
    "### (6) 서든 데스"
   ]
  },
  {
   "cell_type": "markdown",
   "metadata": {},
   "source": [
    "정규 경기가 동점으로 끝나는 경우, 한 팀이 이길 때까지 정규 시간 이후에도 경기를 진행한다. <br />\n",
    "첫 번째 골이 들어가는 순간 게임은 끝나고, 이런 시간 외 경기 형태를 서든 데스라고 한다."
   ]
  },
  {
   "cell_type": "markdown",
   "metadata": {},
   "source": [
    "시간 외의 서든 데스에서 이길 확률을 계산하기 위해서, 중요한 통계치는 게임당 골 수가 아니라 처음 골을 넣기 까지 걸리는 시간이다."
   ]
  },
  {
   "cell_type": "markdown",
   "metadata": {},
   "source": [
    "주어진 lam에 대해 다음과 같이 골 간의 시간을 계산할 수 있다."
   ]
  },
  {
   "cell_type": "code",
   "execution_count": null,
   "metadata": {
    "collapsed": true
   },
   "outputs": [],
   "source": [
    "lam = 3.4\n",
    "time_dist = thinkbayes2.MakeExponentialPmf(lam, high=2, n=101)"
   ]
  },
  {
   "cell_type": "markdown",
   "metadata": {},
   "source": [
    "high분포는 상한값이다. 이 경우 점수가 나지 않은 채 두 게임 이상 진행될 확률은 적으므로 2를 선택했다. n은 Pmf값의 개수다."
   ]
  },
  {
   "cell_type": "markdown",
   "metadata": {},
   "source": [
    "만약 lam을 정확히 알고 있다면 다 해결할 수 있다. 하지만 우리는 이 값을 알지 못한다. 대신 우리는 가능한 값의 사후 분포를 가지고 있다. <br />\n",
    "따라서 골의 분포를 구해서, 메타-Pmf를 구하고 Pmf의 혼합값을 계산할 것이다."
   ]
  },
  {
   "cell_type": "code",
   "execution_count": null,
   "metadata": {
    "collapsed": true
   },
   "outputs": [],
   "source": [
    "def MakeGoalTimePmf(suite):\n",
    "    metapmf = thinkbayes2.Pmf()\n",
    "    \n",
    "    for lam, prob in suite.Items():\n",
    "        pmf = thinkbayes2.MakeExponentialPmf(lam, high=2, n=2001)\n",
    "        metapmf.Set(pmf, prob)\n",
    "        \n",
    "    mix = thinkbayes2.MakeMixture(metapmf)\n",
    "    ruturn mix"
   ]
  },
  {
   "cell_type": "markdown",
   "metadata": {},
   "source": [
    "다음 그림은 결과 분포를 나타낸다. 시간 값이 1피리어드(게임의 1/3)보다 짧을 경우, 브루인스가 먼저 득점할 가능성이 높다. 캐넉스가 점수를 따기까지는 시간이 더 걸린다."
   ]
  },
  {
   "cell_type": "markdown",
   "metadata": {},
   "source": [
    "<img src=\"./Images/3.png\" width=500 />"
   ]
  },
  {
   "cell_type": "markdown",
   "metadata": {},
   "source": [
    "두 팀이 동시에 점수를 내기는 불가능하므로 동점 수를 최소화하기 위해 값의 수 n을 높게 설정한다. <br />\n",
    "다음 브루인스가 먼저 점수를 낼 확률을 구해보자"
   ]
  },
  {
   "cell_type": "code",
   "execution_count": null,
   "metadata": {
    "collapsed": true
   },
   "outputs": [],
   "source": [
    "    time_dist1 = MakeGoalTimePmf(suite1)\n",
    "    time_dist2 = MakeGoalTimePmf(suite2)\n",
    "    p_overtime = thinkbayes2.PmfProbLess(time_dist1, time_dist2)"
   ]
  },
  {
   "cell_type": "markdown",
   "metadata": {},
   "source": [
    "브루인스가 본 경기 후 이길 확률은 52%이다. <br />\n",
    "마지막으로 이길 전체 학률은 정규 경기 끝에 이길 확률과 경기 후 이길 확률의 합이다."
   ]
  },
  {
   "cell_type": "code",
   "execution_count": null,
   "metadata": {
    "collapsed": true
   },
   "outputs": [],
   "source": [
    "    p_tie = diff.Prob(0)\n",
    "    p_overtime = thinkbayes2.PmfProbLess(time_dist1, time_dist2)\n",
    "    p_win = diff.ProbGreater(0) + p_tie * p_overtime"
   ]
  },
  {
   "cell_type": "markdown",
   "metadata": {},
   "source": [
    "브루인스가 다음 게임에서 이길 총 확률은 55%이다. <br />\n",
    "이 시리즈에서 이기려면 브루인스는 다음 두 게임을 이기거나 다음 두 게임까지 승점이 동일하고 세 번째 게임에서 이겨야 한다. <br />\n",
    "그럼 다시 총 확률을 계산해보자."
   ]
  },
  {
   "cell_type": "code",
   "execution_count": null,
   "metadata": {
    "collapsed": true
   },
   "outputs": [],
   "source": [
    "    # 다음 두 경기에서 이길 확률\n",
    "    p_series = p_win**2\n",
    "    \n",
    "    # 다음 두 경기에서 승점이 동일하고, 세 번째 게임에서 이길 확률\n",
    "    p_series += 2*p_win*(1-p_win)*p_win"
   ]
  },
  {
   "cell_type": "markdown",
   "metadata": {},
   "source": [
    "브루인스가 시리즈에서 이길 확률은 57%이다."
   ]
  }
 ],
 "metadata": {
  "kernelspec": {
   "display_name": "Python 3",
   "language": "python",
   "name": "python3"
  },
  "language_info": {
   "codemirror_mode": {
    "name": "ipython",
    "version": 3
   },
   "file_extension": ".py",
   "mimetype": "text/x-python",
   "name": "python",
   "nbconvert_exporter": "python",
   "pygments_lexer": "ipython3",
   "version": "3.6.1"
  }
 },
 "nbformat": 4,
 "nbformat_minor": 2
}
