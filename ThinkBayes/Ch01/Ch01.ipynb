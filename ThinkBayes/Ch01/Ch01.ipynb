{
 "cells": [
  {
   "cell_type": "markdown",
   "metadata": {},
   "source": [
    "# 1. 베이즈 이론"
   ]
  },
  {
   "cell_type": "markdown",
   "metadata": {},
   "source": [
    "### (1) 조건부 확률"
   ]
  },
  {
   "cell_type": "markdown",
   "metadata": {},
   "source": [
    "모든 베이지안 통계에 깔린 기본 개념이 바로 베이즈 이론이다. <br />\n",
    "이 이론은 조건부 확률을 이해하는 사람에게는 굉장히 쉽다. <br />\n",
    "그러므로 우선 확률에서 시작해서 조건부 확률, 베이즈 이론, 베이지안 통계 순서로 넘어갈 것이다.<br />\n",
    "확률은 명제 혹은 예측에 대한 확신도를 나타내는 0과 1사이의 숫자(0 또는 1을 포함)다. <br />\n",
    "값 1은 이 명제가 확실히 참이거나 예측이 실제로 일어났음을 뜻한다. <br />\n",
    "값 0은 명제가 확실히 거짓임을 뜻한다. <br />\n",
    "이 사이의 값은 확실성의 정도를 나타낸다. 보통 50%로도 사용되는 값 0.5는 예측 결과가 일어날 확률이 반이란 뜻이다. <br />\n",
    "조건부 확률은 특정 조건 안에서의 확률이다. <br />\n",
    "조건부 확률의 일반적 표기법은 p(A|B)로, 이는 B라는 조건이 주어졌을  때의 A가 참일 확률이라는 뜻이다. <br />"
   ]
  },
  {
   "cell_type": "markdown",
   "metadata": {},
   "source": [
    "### (2) 결합확률\n",
    "결합 확률은 두 가지에 대한 조건이 참이라고 말하는 방법이다. A와 B가 모두 참인 확률에 대해서 p(A and B)처럼 쓴다. <br />\n",
    "일반적으로 결합 확률은 어떤 A와 B의 경우에도 다음과 같이 나타난다. <br />\n",
    "p(A and B) = p(A)p(B|A) <br />\n",
    "A와 B가 독립일 경우에는 다음 식을 만족한다. \n",
    "p(A and B) = p(A)p(B)"
   ]
  },
  {
   "cell_type": "markdown",
   "metadata": {},
   "source": [
    "### (3) 쿠키 문제\n",
    "쿠키 두 그릇이 있다고 가정해 보자. 첫 번째 그릇에는 바닐라 쿠키 30개와 초콜렛 쿠키 10개가 들어있고 <br />\n",
    "두 번째 그릇에는 두 가지 쿠키가 종류별로 20개씩 들어있다. <br />\n",
    "어떤 그릇인지 보지 않고 한 그릇에서 임의로 쿠키를 집었는데 바닐라 쿠키였다. <br />\n",
    "그렇다면 이 때 바닐라 쿠키가 그릇 1에서 나왔을 가능성은 얼마일까? <br />\n",
    "이런 것이 바로 조건부 확률인데 p(Bowl 1|vanilla)이지만 이것을 바로 계산하기는 쉽지 않다. <br />\n",
    "그렇지만 만약 \"그릇 1에서 바닐라 쿠키가 나올 확률은 얼마일까\" 라고 질문했다면 구하기 쉽다. <br />\n",
    "p(vanilla|Bowl 1) = 3/4 <br />\n",
    "p(A|B)와 p(B|A)는 같지 않지만, 이 중 하나로부터 다른 하나를 구할 수 있는 방법이 바로 베이즈 이론이다."
   ]
  },
  {
   "cell_type": "markdown",
   "metadata": {},
   "source": [
    "### (4) 베이즈 이론"
   ]
  },
  {
   "cell_type": "markdown",
   "metadata": {},
   "source": [
    "어떤 사건 A와 B에 대하여 순서가 교환가능하다. 이는 다음과 같다."
   ]
  },
  {
   "cell_type": "markdown",
   "metadata": {
    "collapsed": true
   },
   "source": [
    "<img src=\"./Images/1.png\" width=300 />"
   ]
  },
  {
   "cell_type": "markdown",
   "metadata": {},
   "source": [
    "다음으로 결합 확률은 다음과 같다."
   ]
  },
  {
   "cell_type": "markdown",
   "metadata": {},
   "source": [
    "<img src=\"./Images/2.png\" width=300 />"
   ]
  },
  {
   "cell_type": "markdown",
   "metadata": {},
   "source": [
    "A와 B를 교환할 수 있다. 이를 교환하면 다음과 같다."
   ]
  },
  {
   "cell_type": "markdown",
   "metadata": {},
   "source": [
    "<img src=\"./Images/3.png\" width=300 />"
   ]
  },
  {
   "cell_type": "markdown",
   "metadata": {},
   "source": [
    "다음 식이 우리가 필요로 하는 것이다. 위 두식을 결합하면 다음 식을 얻을 수 있다."
   ]
  },
  {
   "cell_type": "markdown",
   "metadata": {},
   "source": [
    "<img src=\"./Images/4.png\" width=300 />"
   ]
  },
  {
   "cell_type": "markdown",
   "metadata": {},
   "source": [
    "즉 결합에 대해 두 가지 방법으로 계산할 수 있다는 뜻이다. <br />\n",
    "만약 p(A)가 있다면 조건부 확률 p(B|A)를 곱하면 된다. 만약 p(B)가 있다면 p(A|B)를 곱한다.\n",
    "따라서 다음과 같은 식이 나오게 된다."
   ]
  },
  {
   "cell_type": "markdown",
   "metadata": {},
   "source": [
    "<img src=\"./Images/5.png\" width=300 />"
   ]
  },
  {
   "cell_type": "markdown",
   "metadata": {},
   "source": [
    "이것이 바로 베이즈 정리이다."
   ]
  },
  {
   "cell_type": "markdown",
   "metadata": {},
   "source": [
    "예를 들면 쿠키 문제를 푸는 데 베이즈 정리를 사용할 수 있다. 1번 그릇에서 쿠키를 꺼내는 것을 B(1)이라고 하고 <br />\n",
    "V를 바닐라 쿠키라고 하겠다. 여기에 베이즈 정리를 적용하면 다음의 식을 얻을 수 있다."
   ]
  },
  {
   "cell_type": "markdown",
   "metadata": {},
   "source": [
    "<img src=\"./Images/01.png\" width=300 />"
   ]
  },
  {
   "cell_type": "markdown",
   "metadata": {},
   "source": [
    "왼쪽 식이 구하고자 하는 것으로 바닐라 쿠리를 골랐다는 조건이 주어졌을 때 이를 그릇 1번에서 꺼냈을 확률이다. <br />\n",
    "p(B(1)): 어떤 쿠기를 골랐던지 상관없이 그릇 1을 골랐을 확률이다. 그릇을 임의로 선택한 것이므로 p(B(1)) = 1/2라고 가정 할 수 있다. <br />\n",
    "p(V|B(1)): 그릇 1에서 바닐라 쿠키를 고를 확률로 3/4이다. <br />\n",
    "p(V): 각 그릇에서 바닐라 쿠키를 고를 확률이다. 각 그릇을 고를 확률이 동일하고 그릇에 동일한 숫자의 쿠키가 들어있으므로 <br />\n",
    "각 쿠키를 고를 확률도 동일하다. 두 그릇에 50개의 바닐라 쿠키와 30개의 초콜렛 쿠키가 들어있으므로 p(V) = 5/8이다."
   ]
  },
  {
   "cell_type": "markdown",
   "metadata": {},
   "source": [
    "이를 다 합쳐보면 다음처럼 값이 3/5로 줄어든 것을 알 수 있다. <br />\n",
    "p(B(1)|V) = (1/2)(3/4)/(5/8)\n",
    "따라서 바닐라 쿠리를 골랐다는 것은 그릇 1을 선택했다는 가정에 대한 증거가 된다. <br />\n",
    "바닐라 쿠키는 그릇 1에서 나왔을 가능성이 더 높기 때문이다. "
   ]
  },
  {
   "cell_type": "markdown",
   "metadata": {},
   "source": [
    "### (5) 통시적 해석"
   ]
  },
  {
   "cell_type": "markdown",
   "metadata": {},
   "source": [
    "베이즈 이론을 다르게 해석할 수 있는 방법이 있다. <br />\n",
    "데이터 D의 관점에서 봤을 때 가설 H의 확률을 수정해준다는 식이다. <br />\n",
    "이런 방법으로 베이즈 이론을 해석하는 방법을 \"통시적 해석\"이라고 한다. <br />\n",
    "\"통시적\"은 무언가가 시간에 따라 일어나는 것으로 이 경우 가설에 대한 확률이 시간에 따라 새로운 데이터를 접하게 되면서 달라진다는 뜻이다."
   ]
  },
  {
   "cell_type": "markdown",
   "metadata": {},
   "source": [
    "베이즈 이론을 H와 D에 대해서 새로 써보면 다음과 같다."
   ]
  },
  {
   "cell_type": "markdown",
   "metadata": {},
   "source": [
    "<img src=\"./Images/6.png\" width=300 />"
   ]
  },
  {
   "cell_type": "markdown",
   "metadata": {},
   "source": [
    "- p(H)는 데이터를 보기 전 가설의 확률로, 사전 확률이라고 한다.\n",
    "- p(H|D)는 여기서 계산하고자 하는 데이터를 확인한 이후의 가설로, 사후 확률이라고 한다.\n",
    "- p(D|H)는 데이터가 가설에 포함될 확률로, 우도(가능도)라고 한다.\n",
    "- p(D)는 어떤 가설에든 포함되는 데이터의 비율로 한정 상수라고 한다."
   ]
  },
  {
   "cell_type": "markdown",
   "metadata": {},
   "source": [
    "종종 배경 지식을 기반으로 한 사전 확률을 계산하는 일도 있다. <br />\n",
    "예를 들어, 쿠키 문제는 동일한 확률로 그릇을 임의로 선택한다고 정의한다. <br />\n",
    "반면 사전 확률이 주관적인 일도 있다. 하지만 이는 지양하여야 한다."
   ]
  },
  {
   "cell_type": "markdown",
   "metadata": {},
   "source": [
    "우도는 보통 계산하기 가장 쉽다. 쿠키 문제에서 만약 쿠키가 어느 그릇에서 나왔는지 안다면 바닐라 쿠키일 확률은 크냥 세보면 된다."
   ]
  },
  {
   "cell_type": "markdown",
   "metadata": {},
   "source": [
    "한정 상수는 좀 까다로울 수 있다. <br /> \n",
    "어떤 가정에서든 데이터를 볼 수 있는 확률이라고 해도 되지만 <br /> \n",
    "여기서 한정 상수는 보통 다음 가정 집합을 단순화하여 정의한다.\n",
    "- 상호 배재: 집합 중 하나의 가설만 참일 경우\n",
    "- 전체 포괄: 다른 가능성이 전혀 없는 경우. 단 하나의 가설이라도 참일 경우 <br />"
   ]
  },
  {
   "cell_type": "markdown",
   "metadata": {},
   "source": [
    "이런 성격의 가설 집합을 스윗(Suite)이라고 한다."
   ]
  },
  {
   "cell_type": "markdown",
   "metadata": {},
   "source": [
    "쿠키 문제에는 쿠키가 그릇1이나 2에서 왔다는 것과 이 두 그릇은 상호 배제 및 전체 포괄적이라는 두개의 가설만 있다."
   ]
  },
  {
   "cell_type": "markdown",
   "metadata": {},
   "source": [
    "이 문제에서는 전체 확률의 법칙을 사용하여 p(D)를 계산할 수 있다. <br />\n",
    "무언가가 일어날 두 개의 배타적 방법이 있다면 다음과 같이 확률을 더할 수 있다."
   ]
  },
  {
   "cell_type": "markdown",
   "metadata": {},
   "source": [
    "<img src=\"./Images/8.png\" width=400 />"
   ]
  },
  {
   "cell_type": "markdown",
   "metadata": {},
   "source": [
    "### (6) M&M 문제"
   ]
  },
  {
   "cell_type": "markdown",
   "metadata": {},
   "source": [
    "M&M은 여러 색의 설탕이 입혀진 작은 초콜렛으로 시간에 따라 색의 조합을 바꿔왔다."
   ]
  },
  {
   "cell_type": "markdown",
   "metadata": {},
   "source": [
    "1995년에 M&M에 파란색이 추가되었다. <br />\n",
    "그 전에는 기본 조합은 갈색30%, 노랑20%, 녹색10%, 주황10%, 황갈색10% 이었다. <br />\n",
    "파란색을 추가한 후에는 파랑24%, 녹색20%, 주황16%, 노랑14%, 빨강13%, 갈색13% 가 되었다."
   ]
  },
  {
   "cell_type": "markdown",
   "metadata": {},
   "source": [
    "어떤 사람이 M&M 두 봉지를 샀는데 각각 생산년도가 1994년, 1996년 이었다. <br />\n",
    "생산년도를 알려주지 않고 각 봉지에서 M&M을 하나씩 꺼내었을 때 한 알은 노란색이고 한 알은 녹색이었다. <br />\n",
    "이 때 노랑 초콜렛이 1994년에 생산한 봉지에서 나왔을 확률은 얼마인가?"
   ]
  },
  {
   "cell_type": "markdown",
   "metadata": {},
   "source": [
    "이 문제는 각 봉지에서 샘플을 하나 추출하는 내용을 꼬아놓은 문제로 쿠키문제와 유사하다."
   ]
  },
  {
   "cell_type": "markdown",
   "metadata": {},
   "source": [
    "#### 1단계 가설의 수치화\n",
    "노란 초콜렛은 봉지1에서 녹색 초콜렛은 봉지2에서 꺼내었다고 하자.\n",
    "- A: 봉지1은 1994년에 생산, 봉지2는 1996년에 생산\n",
    "- B: 봉지2는 1996년에 생산, 봉지1은 1994년에 생산"
   ]
  },
  {
   "cell_type": "markdown",
   "metadata": {},
   "source": [
    "그런다음 각 가설을 행으로 두고 베이즈 이론의 각 항목을 열로 놓은 표를 만들어 보자."
   ]
  },
  {
   "cell_type": "markdown",
   "metadata": {},
   "source": [
    "<img src=\"./Images/7.png\" width=400 />"
   ]
  },
  {
   "cell_type": "markdown",
   "metadata": {},
   "source": [
    "- 첫 번째 열은 사전 확률이다. 문제의 조건에 따라 P(A) = P(B) = 1/2 이다.\n",
    "- 두 번째 열은 우도이다. 예를 들어, A가 참이라면 노랑 M&M은 1994년 봉지에서 나왔을 확률이 20% 이고 <br />\n",
    "녹색 M&M은 1996년 봉지에서 나왔을 확률이 20%이다. <br /> \n",
    "각 선택은 독립적이므로 이 둘을 곱하여 결합 확률을 구할 수 있다.\n",
    "- 세 번째 열은 앞 두 값의 곱이다. 이 열의 합인 270은 한정 상수다.\n",
    "- P(D|H)를 확률값이 아닌 상수 10,000을 곱한 퍼센트 값을 사용하였다. <br />\n",
    "하지만 한정 상수로 나누면서 이 표기가 무의미해지므로 결과에 영향을 미치지 않는다."
   ]
  },
  {
   "cell_type": "markdown",
   "metadata": {},
   "source": [
    "가설 집합이 상호 배체와 전체 포괄 조건을 만족한다면 계산의 편의성을 위해 전체 열에 동일한 상수를 적용하여 우도에 곱해도 된다."
   ]
  },
  {
   "cell_type": "markdown",
   "metadata": {},
   "source": [
    "### (7) 몬티 홀 문제"
   ]
  },
  {
   "cell_type": "markdown",
   "metadata": {},
   "source": [
    "몬티 홀은 '거래를 하자'라는 게임 쇼의 사회자이다. <br />\n",
    "- 몬티는 당신에게 세 개의 문을 보여주고 각 문 뒤에 상품이 있다고 말할 것이다. <br />\n",
    "한 가지 상품은 비싼 자동차, 나머지 두 개는 땅콩 버터나 가짜 손톱과 같은 비교적 저가의 상품이다. <br />\n",
    "상품은 임의로 놓여 있다.\n",
    "- 게임의 목적은 뒤에 자동차가 있는 문을 맞추는 것이다. 맞춘다면 자동차를 가질 수 있다.\n",
    "- 문을 각각 A, B, C라고 하고 문 A를 선택했다고 하자.\n",
    "- 선택한 문을 열기 전에 몬티는 B나 C중에 자동차가 없는 문을 열어 긴장감을 높인다. <br />\n",
    "(자동차는 세 문 중 한 곳에만 있으니 B와 C중 하나는 분명히 자동차가 없을 것이다.)\n",
    "- 그 다음 몬티는 이제 그대로 문 A를 선택할지 아니면 열리지 않은 다른 문으로 바꿀지 다시 선택하라고 한다.\n"
   ]
  },
  {
   "cell_type": "markdown",
   "metadata": {},
   "source": [
    "베이즈 이론을 적용하여 문제를 풀어보자."
   ]
  },
  {
   "cell_type": "markdown",
   "metadata": {},
   "source": [
    "먼저 데이터를 명확히 정의한다. 이 경우 D는 두 부분으로 구성된다. <br />\n",
    "1.몬티는 문 B를 선택했고 2.거기에는 자동차가 없다는 것이다. <br />\n",
    "다음으로 세 개의 가설을 정의한다. <br />\n",
    "A, B, C는 자동차가 문A, 문B, 문C 뒤에 있다는 가설이다."
   ]
  },
  {
   "cell_type": "markdown",
   "metadata": {},
   "source": [
    "<img src=\"./Images/9.png\" width=400 />"
   ]
  },
  {
   "cell_type": "markdown",
   "metadata": {},
   "source": [
    "- 상품은 임의로 놓여진다고 했으므로 차는 어느 문 뒤에든 동일한 확률로 있을 수 있다.\n",
    "- 만약 차가 실제로 문 A뒤에 있다면 몬티는 문 B나 C를 안전하게 열 수 있다. <br />\n",
    "따라서 몬티가 문 B를 선택할 확률은 1/2이다. <br />\n",
    "그리고 차가 문 A뒤에 있으므로 차가 문 B뒤에 없을 확률을 1이다.\n",
    "- 만약 차가 문 B뒤에 있다면 몬티는 문 C를 열어야 하므로 몬티가 문 B를 열 확률은 0이다.\n",
    "- 마지막으로 차가 문 C뒤에 있다면 몬티는 1의 확률로 문 B를 열 것이고 1의 확률로 차가 없을 것이다."
   ]
  },
  {
   "cell_type": "markdown",
   "metadata": {},
   "source": [
    "남은 부분은 그냥 산수다. 세 번째 열의 합은 1/2이다. 이에 대해서 나눠주면 p(A|D) = 1/3이고 p(C|D) = 2/3이다. <br />\n",
    "그러니깐 바꾸는 것이 낫다."
   ]
  },
  {
   "cell_type": "markdown",
   "metadata": {},
   "source": [
    "다른 방법으로 위 문제를 변형하여 보자. <br />\n",
    "몬티가 가능한 한 항상 문 B를 선택하고 자동차가 B뒤에 있어서 그럴 수 없을 때에만 문 C를 선택한다고 하자. <br />\n",
    "이 경우 테이블은 다음과 같이 수정된다."
   ]
  },
  {
   "cell_type": "markdown",
   "metadata": {},
   "source": [
    "<img src=\"./Images/10.png\" width=400 />"
   ]
  },
  {
   "cell_type": "markdown",
   "metadata": {},
   "source": [
    "바뀐 건 p(D|A)뿐이다. <br />\n",
    "만약 차가 A뒤에 있다면 몬티는 문 B나 C를 선택할 수 있다. <br />\n",
    "하지만 이 변형 문제에서 몬티는 항상 문 B를 선택할 것이므로 p(D|A)=1이다.<br />\n",
    "따라서, A와 C의 우도는 같고, 사후  확률도 p(A|D)=p(C|D)=1/2로 같다. <br />\n",
    "이 경우 몬티가 B를 골랐다는 사실은 차의 위치에 대해서는 아무런 정보를 주지 않으므로 <br />\n",
    "참가자가 결정을 고수하든 바꾸든 상관없다."
   ]
  },
  {
   "cell_type": "markdown",
   "metadata": {},
   "source": [
    "하지만 몬티가 C를 열었다면 p(B|D)=1 이라는 것을 알게 된다."
   ]
  },
  {
   "cell_type": "markdown",
   "metadata": {},
   "source": [
    "### (8) 토의\n",
    "조건부 확률을 포함하는 많은 문제에서, 베이즈 이론은 분할/정복 전략을 제시해 준다. <br />\n",
    "만약 p(A|B)를 계산하기 어렵거나 측정이 어렵다면 베이즈 이론의 다른 계수인 <br />\n",
    "p(B|A), p(A), p(B)를 계산하는 것이 더 쉬운지 확인해보자."
   ]
  },
  {
   "cell_type": "code",
   "execution_count": null,
   "metadata": {
    "collapsed": true
   },
   "outputs": [],
   "source": []
  }
 ],
 "metadata": {
  "kernelspec": {
   "display_name": "Python 3",
   "language": "python",
   "name": "python3"
  },
  "language_info": {
   "codemirror_mode": {
    "name": "ipython",
    "version": 3
   },
   "file_extension": ".py",
   "mimetype": "text/x-python",
   "name": "python",
   "nbconvert_exporter": "python",
   "pygments_lexer": "ipython3",
   "version": "3.6.1"
  }
 },
 "nbformat": 4,
 "nbformat_minor": 2
}
