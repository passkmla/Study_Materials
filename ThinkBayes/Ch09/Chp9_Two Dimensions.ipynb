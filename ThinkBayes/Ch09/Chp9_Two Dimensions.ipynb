{
 "cells": [
  {
   "cell_type": "markdown",
   "metadata": {},
   "source": [
    "# Chp 9. Two Dimensions\n",
    "\n",
    "- 발표자 : 이아름\n",
    "- 발표일 : 2017.9.16(토)"
   ]
  },
  {
   "cell_type": "markdown",
   "metadata": {},
   "source": [
    "## 9.1 Paintball\n",
    "\n",
    "- 페인트볼 게임 : 서로에게 총을 쏘는 게임\n",
    "    \n",
    "    - 30피트 * 50피트 인 실내 경기장에서 게임을 할 때, 당신이 30피트 벽 옆에 서 있고 근처에 숨어있는 사람을 찾고있다.\n",
    "\n",
    "    - 벽에 같은 색의 페인트 자국이 있는데 실내 경기장 왼쪽 아래에서 부터 15,16,18,21피트 거리에 있다. \n",
    "    지금까지 데이터로 추정했을 때, 상대편이 어디쯤 숨어있는 것 같은가?\n",
    "\n",
    "\n",
    "\n",
    "\n",
    "<img src=\"./figures/01.png\" width=300 />\n",
    "\n",
    "\n",
    "\n",
    "\n",
    "- 위의 그림은 경기장의 다이어그램이다. \n",
    "\n",
    "    - 왼쪽 아래가 원점. \n",
    "    - a,b 좌표에 총을 쏜 사람이 있다고 나타낸다.\n",
    "    - 페인트 자국의 위치는 x로 표시\n",
    "    - 상대편이 발사한 각도는 θ\n",
    "    \n",
    "    \n",
    "## 9.2 The suite\n",
    "\n",
    "- 상대방 위치에 대한 가설 집합을 나타내는 suite 만들기\n",
    "    - 가설은 좌표 (a,b) 순서쌍\n",
    "    - 페인트볼의 수윗 정의는 다음과 같다"
   ]
  },
  {
   "cell_type": "code",
   "execution_count": 1,
   "metadata": {
    "collapsed": true
   },
   "outputs": [],
   "source": [
    "from __future__ import print_function, division\n",
    "\n",
    "% matplotlib inline\n",
    "import warnings\n",
    "warnings.filterwarnings('ignore')\n",
    "\n",
    "import math\n",
    "import numpy as np\n",
    "\n",
    "from thinkbayes2 import Pmf, Cdf, Suite, Joint\n",
    "import thinkplot\n",
    "import thinkbayes2"
   ]
  },
  {
   "cell_type": "code",
   "execution_count": 2,
   "metadata": {
    "collapsed": false
   },
   "outputs": [],
   "source": [
    "class Paintball(thinkbayes2.Suite, thinkbayes2.Joint):\n",
    "    def __init__(self, alphas, betas, locations):\n",
    "        self.locations = locations\n",
    "        pairs = [(alpha, beta)\n",
    "            for alpha in alphas\n",
    "            for beta in betas]\n",
    "        thinkbayes2.Suite.__init__(self, pairs)"
   ]
  },
  {
   "cell_type": "markdown",
   "metadata": {},
   "source": [
    "    - paintball은 suite과 joint 상속받는다\n",
    "    - alphas betas : 각 알파 베타 값의 리스트\n",
    "    - locations 은 벽을 따라 가능한 모든 장소의 리스트 <- likelihood 가 사용함\n",
    "    \n",
    "- suite 만들기 코드는 아래와 같다"
   ]
  },
  {
   "cell_type": "code",
   "execution_count": 3,
   "metadata": {
    "collapsed": true
   },
   "outputs": [],
   "source": [
    "alphas=range(0,31)\n",
    "betas = range(1, 51)\n",
    "locations = range(0, 31)\n",
    "suite = Paintball(alphas, betas, locations)"
   ]
  },
  {
   "cell_type": "markdown",
   "metadata": {},
   "source": [
    "## 9.3 Trigonometry\n",
    "\n",
    "- 주어진 상대방의 위치에 대해, 벽에 어떻게 자국을 남길 수 있을지에 대한 우도를 계산해야함 -> 우도 함수가 필요함\n",
    "\n",
    "- 상대방이  θ의 각도로 총을 쏘았을 때, 총알은 x위치 벽을 맞출 것이고 식은 아래와 같다.\n",
    "\n",
    "\n",
    "<img src=\"./figures/02.png\" width=200 />\n",
    "\n",
    "    - 벽의 위치가 주어지면 θ 구할 수 있다.\n",
    "    - θ에 대해 미분\n",
    "    \n",
    "<img src=\"./figures/03.png\" width=200 />\n",
    "\n",
    "\n",
    "    - θ가 증가함에 따라 대상 위치에 대한 속도에 대한 것으로 strafing speed(총격속도) 라고 함\n",
    "    - 벽의 주어진 점을 맞출 확률은 총격 속도의 역수에 비례함!\n",
    "    \n",
    "    - 총을 쏜 사람, 벽의 위치좌표 알면은 strafing speed 계산 가능\n",
    "    \n",
    "    - alpha와 beta는 총을 쏜 사람의 좌표\n",
    "    - x는 벽에 난 자국의 위치\n",
    "    - 결과는 theta에 대한 x의 미분값!"
   ]
  },
  {
   "cell_type": "code",
   "execution_count": 4,
   "metadata": {
    "collapsed": true
   },
   "outputs": [],
   "source": [
    "def StrafingSpeed(alpha, beta, x):\n",
    "    theta = math.atan2(x - alpha, beta)\n",
    "    speed = beta / math.cos(theta)**2\n",
    "    return speed"
   ]
  },
  {
   "cell_type": "markdown",
   "metadata": {},
   "source": [
    "    - 벽의 어떤 위치를 맞출 확률을 나타내는 pmf 계산\n",
    "    - 이때, 위에서 주어진 locations 사용"
   ]
  },
  {
   "cell_type": "code",
   "execution_count": 5,
   "metadata": {
    "collapsed": true
   },
   "outputs": [],
   "source": [
    "def MakeLocationPmf(alpha, beta, locations):\n",
    "    pmf = thinkbayes.Pmf()\n",
    "    for x in locations:\n",
    "        prob = 1.0 / StrafingSpeed(alpha, beta, x)\n",
    "        pmf.Set(x, prob)\n",
    "    pmf.Normalize()\n",
    "    return pmf"
   ]
  },
  {
   "cell_type": "markdown",
   "metadata": {},
   "source": [
    "    - makelocationpmf는 총격 속도에 역으로 비례하는, 각 위치를 맞출 확률을 계산함.\n",
    "    - 결과는 위치에 대한 pmf와 이에 해당하는 확률 임!\n",
    "    \n",
    "    - 아래 그림은, alpha =10 에 대해 beta 값별 위치 pmf 보여줌.\n",
    "    - beta의 모든 값에 대해 페인트볼에 맞을 확률이 가장 높은 위치는 x=10 이다.\n",
    "    - beta가 증가할수록 pmf 분포도 증가한다.\n",
    "    \n",
    "<img src=\"./figures/04.png\" width=200 />\n",
    "\n",
    "\n",
    "## 9.4 likelihood\n",
    "\n",
    "- 우도 함수 계산하기\n",
    "\n",
    "- makelocationpmf 사용해서 '상대방 좌표 x값'에 대한 우도 계산하기\n",
    "    - alpha와 beta는 저격수에 대한 가설의 좌표. \n",
    "    - x는 관측된 페인트 자국의 위치\n",
    "    \n",
    "    -pmf는 주어진 저격수의 좌표에 대한 각 위치에 대한 확률이 들어있다.\n",
    "        - 이 pmf에서 관측장소에 대한 확률 확인할 수 있음."
   ]
  },
  {
   "cell_type": "code",
   "execution_count": 6,
   "metadata": {
    "collapsed": true
   },
   "outputs": [],
   "source": [
    "def Likelihood(self, data, hypo):\n",
    "    alpha, beta = hypo\n",
    "    x = data\n",
    "    pmf = MakeLocationPmf(alpha, beta, self.locations)\n",
    "    like = pmf.Prob(x)\n",
    "    return like"
   ]
  },
  {
   "cell_type": "markdown",
   "metadata": {},
   "source": [
    "    - update 사용해서 suite 갱신\n",
    "    - 결과는 각 (a,b)쌍의 사후 확률 분포라고 할 수 있다"
   ]
  },
  {
   "cell_type": "code",
   "execution_count": 7,
   "metadata": {
    "collapsed": false
   },
   "outputs": [
    {
     "ename": "UnimplementedMethodException",
     "evalue": "",
     "output_type": "error",
     "traceback": [
      "\u001b[0;31m---------------------------------------------------------------------------\u001b[0m",
      "\u001b[0;31mUnimplementedMethodException\u001b[0m              Traceback (most recent call last)",
      "\u001b[0;32m<ipython-input-7-dbade9b1eaea>\u001b[0m in \u001b[0;36m<module>\u001b[0;34m()\u001b[0m\n\u001b[0;32m----> 1\u001b[0;31m \u001b[0msuite\u001b[0m\u001b[1;33m.\u001b[0m\u001b[0mUpdateSet\u001b[0m\u001b[1;33m(\u001b[0m\u001b[1;33m[\u001b[0m\u001b[1;36m15\u001b[0m\u001b[1;33m,\u001b[0m\u001b[1;36m16\u001b[0m\u001b[1;33m,\u001b[0m\u001b[1;36m18\u001b[0m\u001b[1;33m,\u001b[0m\u001b[1;36m21\u001b[0m\u001b[1;33m]\u001b[0m\u001b[1;33m)\u001b[0m\u001b[1;33m\u001b[0m\u001b[0m\n\u001b[0m",
      "\u001b[0;32mC:\\Users\\areumlee\\Documents\\thinkbayes2.py\u001b[0m in \u001b[0;36mUpdateSet\u001b[0;34m(self, dataset)\u001b[0m\n\u001b[1;32m   1438\u001b[0m         \u001b[1;32mfor\u001b[0m \u001b[0mdata\u001b[0m \u001b[1;32min\u001b[0m \u001b[0mdataset\u001b[0m\u001b[1;33m:\u001b[0m\u001b[1;33m\u001b[0m\u001b[0m\n\u001b[1;32m   1439\u001b[0m             \u001b[1;32mfor\u001b[0m \u001b[0mhypo\u001b[0m \u001b[1;32min\u001b[0m \u001b[0mself\u001b[0m\u001b[1;33m.\u001b[0m\u001b[0mValues\u001b[0m\u001b[1;33m(\u001b[0m\u001b[1;33m)\u001b[0m\u001b[1;33m:\u001b[0m\u001b[1;33m\u001b[0m\u001b[0m\n\u001b[0;32m-> 1440\u001b[0;31m                 \u001b[0mlike\u001b[0m \u001b[1;33m=\u001b[0m \u001b[0mself\u001b[0m\u001b[1;33m.\u001b[0m\u001b[0mLikelihood\u001b[0m\u001b[1;33m(\u001b[0m\u001b[0mdata\u001b[0m\u001b[1;33m,\u001b[0m \u001b[0mhypo\u001b[0m\u001b[1;33m)\u001b[0m\u001b[1;33m\u001b[0m\u001b[0m\n\u001b[0m\u001b[1;32m   1441\u001b[0m                 \u001b[0mself\u001b[0m\u001b[1;33m.\u001b[0m\u001b[0mMult\u001b[0m\u001b[1;33m(\u001b[0m\u001b[0mhypo\u001b[0m\u001b[1;33m,\u001b[0m \u001b[0mlike\u001b[0m\u001b[1;33m)\u001b[0m\u001b[1;33m\u001b[0m\u001b[0m\n\u001b[1;32m   1442\u001b[0m         \u001b[1;32mreturn\u001b[0m \u001b[0mself\u001b[0m\u001b[1;33m.\u001b[0m\u001b[0mNormalize\u001b[0m\u001b[1;33m(\u001b[0m\u001b[1;33m)\u001b[0m\u001b[1;33m\u001b[0m\u001b[0m\n",
      "\u001b[0;32mC:\\Users\\areumlee\\Documents\\thinkbayes2.py\u001b[0m in \u001b[0;36mLikelihood\u001b[0;34m(self, data, hypo)\u001b[0m\n\u001b[1;32m   1461\u001b[0m         \u001b[0mdata\u001b[0m\u001b[1;33m:\u001b[0m \u001b[0msome\u001b[0m \u001b[0mrepresentation\u001b[0m \u001b[0mof\u001b[0m \u001b[0mthe\u001b[0m \u001b[0mdata\u001b[0m\u001b[1;33m\u001b[0m\u001b[0m\n\u001b[1;32m   1462\u001b[0m         \"\"\"\n\u001b[0;32m-> 1463\u001b[0;31m         \u001b[1;32mraise\u001b[0m \u001b[0mUnimplementedMethodException\u001b[0m\u001b[1;33m(\u001b[0m\u001b[1;33m)\u001b[0m\u001b[1;33m\u001b[0m\u001b[0m\n\u001b[0m\u001b[1;32m   1464\u001b[0m \u001b[1;33m\u001b[0m\u001b[0m\n\u001b[1;32m   1465\u001b[0m     \u001b[1;32mdef\u001b[0m \u001b[0mLogLikelihood\u001b[0m\u001b[1;33m(\u001b[0m\u001b[0mself\u001b[0m\u001b[1;33m,\u001b[0m \u001b[0mdata\u001b[0m\u001b[1;33m,\u001b[0m \u001b[0mhypo\u001b[0m\u001b[1;33m)\u001b[0m\u001b[1;33m:\u001b[0m\u001b[1;33m\u001b[0m\u001b[0m\n",
      "\u001b[0;31mUnimplementedMethodException\u001b[0m: "
     ]
    }
   ],
   "source": [
    "suite.UpdateSet([15,16,18,21])"
   ]
  },
  {
   "cell_type": "markdown",
   "metadata": {},
   "source": [
    "## 9.5 Joint distributions\n",
    "\n",
    "- 분포의 각 값이 튜플로 되어 있을 때, 이는 변수가 함께 있는 상태의 분포를 나타내므로 joint distribution 이라고 하낟.\n",
    "- joint distribution 에는 변수들의 분포와 변수 간의 관계에 대한 정보가 들어있음\n",
    "\n",
    "- 결합 분포가 주어지면, 이를 사용해서 각 변수의 분포를 독립적으로 계산 -> 주변분포\n"
   ]
  },
  {
   "cell_type": "code",
   "execution_count": 8,
   "metadata": {
    "collapsed": false
   },
   "outputs": [],
   "source": [
    "# class Joint:\n",
    "def Marginal(self, i):\n",
    "    \n",
    "    pmf = Pmf()\n",
    "    for vs, prob in self.Items():\n",
    "        pmf.Incr(vs[i], prob)\n",
    "    return pmf"
   ]
  },
  {
   "cell_type": "markdown",
   "metadata": {},
   "source": [
    "- i는 구하고자 하는 변수\n",
    "- i=0은 알파 분포, i=1은 베타 분포\n",
    "\n",
    "- 주변분포 계산하기"
   ]
  },
  {
   "cell_type": "code",
   "execution_count": 9,
   "metadata": {
    "collapsed": true
   },
   "outputs": [],
   "source": [
    "marginal_alpha = suite.Marginal(0)\n",
    "marginal_beta = suite.Marginal(1)"
   ]
  },
  {
   "cell_type": "markdown",
   "metadata": {},
   "source": [
    "- 변환된 결과를 보면, alpha 중간 값은 18, -> 관측된 자국의 위치 [15,16,18,21] 의 중간 근처\n",
    "- beta 값은 가장 높은 값은 벽 근처이지만, 10피트 이상까진 거의 정규분포에 가깝다\n",
    "\n",
    "\n",
    "<img src=\"./figures/07.png\" width=400 />\n",
    "\n",
    "\n",
    "- 사후 주변 분포를 사용해서, 독립적으로 신뢰구간 구할 수 있다\n",
    "\n",
    "    - 알파 신뢰구간은 7,21\n",
    "    - 베타 신뢰구간은 13,38"
   ]
  },
  {
   "cell_type": "code",
   "execution_count": 10,
   "metadata": {
    "collapsed": false
   },
   "outputs": [
    {
     "name": "stdout",
     "output_type": "stream",
     "text": [
      "alpha CI (7, 23)\n",
      "beta CI (13, 38)\n"
     ]
    }
   ],
   "source": [
    "print ('alpha CI', marginal_alpha.CredibleInterval(50))\n",
    "print ('beta CI', marginal_beta.CredibleInterval(50))"
   ]
  },
  {
   "cell_type": "markdown",
   "metadata": {},
   "source": [
    "## 9.6 Conditional distributions\n",
    "\n",
    "- 주변분포는 변수가 독립적으로 담고 있기 때문에 변수의 종속성에 대해서는 알 수 없다.\n",
    "\n",
    "- 조건분포(conditional distributions)를 계산해서 종속성을 시각화 할 수 있다.\n",
    "    - i는 변수 인덱스\n",
    "    - j는 조건 변수 인덱스\n",
    "    - val은 조건값\n"
   ]
  },
  {
   "cell_type": "code",
   "execution_count": 11,
   "metadata": {
    "collapsed": true
   },
   "outputs": [],
   "source": [
    "def Conditional(self, i, j, val):\n",
    "    pmf = Pmf()\n",
    "    for vs, prob in self.Items():\n",
    "        if vs[j] != val: continue\n",
    "        pmf.Incr(vs[i], prob)\n",
    "    pmf.Normalize()\n",
    "    return pmf"
   ]
  },
  {
   "cell_type": "code",
   "execution_count": 12,
   "metadata": {
    "collapsed": true
   },
   "outputs": [],
   "source": [
    "betas=[10,20,40]\n",
    "for beta in betas:\n",
    "    cond = suite.Conditional(0, 1, beta)"
   ]
  },
  {
   "cell_type": "markdown",
   "metadata": {},
   "source": [
    "- 변수가 독립적인 경우, 조건 분포는 항상 동일하다.\n",
    "- 분포가 모무 다를 경우, 변수가 상호의존적이라고 볼 수 있다.\n",
    "    - beta =10 이라는걸 알고 있으면, alpha의 조건분포는 좁아짐\n",
    "    - beta가 더 크면 alpha의 분포는 더 넓어짐\n",
    "    \n",
    "    \n",
    "<img src=\"./figures/05.png\" width=400 />\n",
    "\n",
    "## 9.7 Credible intervals\n",
    "\n",
    "- 사후결합확률을 시각화 하는 다른 방법으로는 신뢰구간 계산 하는 것임\n",
    "    - 주어진 분포에 대해, 신뢰도가 동일한 구간이 많이 있다는 것\n",
    "        - ex) 50% 신뢰구간을 찾는 경우, 각 확률을 합쳐 50%가 되는 어떤 값의 집합이든 선택할 수 있다.\n",
    "    \n",
    "    - 값이 1차원일 경우, 중심신뢰구간!을 선택하는 것이 일반적\n",
    "        - ex) 중심부터 50%의 신뢰구간은 25번째부터 75번째까지의 구간의 모든 값을 포함함\n",
    "        \n",
    "    - 다차원의 경우, 신뢰구간이 50%가 될 수 있을 가능성이 가장 높은 값들을 포함하는 '최대 우도 신뢰구간'을 선택함.\n",
    "    \n",
    "    \n",
    "    - maxlikinterval\n",
    "        - 첫 단계는 확률이 큰 순서대로 suite 에 리스트로 넣기\n",
    "        - 리스트로, 전체확률 percentage를 초과할 때까지 각 값을 구간에 더한다.\n",
    "         \n",
    "    "
   ]
  },
  {
   "cell_type": "code",
   "execution_count": 13,
   "metadata": {
    "collapsed": false
   },
   "outputs": [],
   "source": [
    "# class Joint:\n",
    "def MaxLikeInterval(self, percentage=90):\n",
    "    interval = []\n",
    "    total = 0\n",
    "    t = [(prob, val) for val, prob in self.Items()]\n",
    "    t.sort(reverse=True)\n",
    "    for prob, val in t:\n",
    "        interval.append(val)\n",
    "        total += prob\n",
    "        if total >= percentage/100.0:\n",
    "            break\n",
    "    return interval"
   ]
  },
  {
   "cell_type": "code",
   "execution_count": 14,
   "metadata": {
    "collapsed": true
   },
   "outputs": [],
   "source": [
    "def MakeCrediblePlot(suite):\n",
    "    d = dict((pair, 0) for pair in suite.Values())\n",
    "    percentages = [75, 50, 25]\n",
    "    for p in percentages:\n",
    "        interval = suite.MaxLikeInterval(p)\n",
    "        for pair in interval:\n",
    "            d[pair] += 1\n",
    "    return d"
   ]
  },
  {
   "cell_type": "markdown",
   "metadata": {},
   "source": [
    "- makecredibleplot 를 사용하여 신뢰구간 시각화 할 수 있다.\n",
    "\n",
    "- return d 는 suite의 각 리스트 값을 ,  이 값이 있는 구간에 연결해 주는 딕셔너리.\n",
    "    - 반복문에서 각 비율에 대한 구간 계산하고 d 수행\n",
    "\n",
    "\n",
    "\n",
    "<img src=\"./figures/06.png\" width=400 />\n",
    "\n",
    "- 위 이미지는 상대좌표에 대한 신뢰구간.\n",
    "- 25% 신뢰구간은 벽 근처의 가장 어두운 부분, \n",
    "    - 비율이 높을수록 신뢰구간은 커지고, 경기장의 오른쪽으로 치우쳐 있다"
   ]
  },
  {
   "cell_type": "code",
   "execution_count": null,
   "metadata": {
    "collapsed": true
   },
   "outputs": [],
   "source": []
  }
 ],
 "metadata": {
  "kernelspec": {
   "display_name": "Python [conda root]",
   "language": "python",
   "name": "conda-root-py"
  },
  "language_info": {
   "codemirror_mode": {
    "name": "ipython",
    "version": 3
   },
   "file_extension": ".py",
   "mimetype": "text/x-python",
   "name": "python",
   "nbconvert_exporter": "python",
   "pygments_lexer": "ipython3",
   "version": "3.5.2"
  }
 },
 "nbformat": 4,
 "nbformat_minor": 1
}
