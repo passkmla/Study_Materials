{
 "cells": [
  {
   "cell_type": "markdown",
   "metadata": {},
   "source": [
    "# 추정1"
   ]
  },
  {
   "cell_type": "markdown",
   "metadata": {},
   "source": [
    "### (1) 주사위 문제"
   ]
  },
  {
   "cell_type": "markdown",
   "metadata": {},
   "source": [
    "4면체, 6면체, 8면체, 12면체, 20면체 주사위가 든 상자가 있다고 해보자 <br />\n",
    "상자에서 임의로 주사위 하나를 집어서 던졌더니 6이 나왔다. <br />\n",
    "이 경우 각 주사위를 선택했을 확률은 어떻게 될까?"
   ]
  },
  {
   "cell_type": "markdown",
   "metadata": {},
   "source": [
    "3단계로 구분하여 접근한다.\n",
    "- 가설을 나타내자\n",
    "- 데이터를 나타내자\n",
    "- 우도 함수를 작성하자"
   ]
  },
  {
   "cell_type": "markdown",
   "metadata": {},
   "source": [
    "#### 전체 코드"
   ]
  },
  {
   "cell_type": "code",
   "execution_count": 1,
   "metadata": {},
   "outputs": [
    {
     "name": "stdout",
     "output_type": "stream",
     "text": [
      "After one 6\n",
      "4 0.0\n",
      "6 0.3921568627450981\n",
      "8 0.29411764705882354\n",
      "12 0.19607843137254904\n",
      "20 0.11764705882352944\n",
      "After more rolls\n",
      "4 0.0\n",
      "6 0.0\n",
      "8 0.9158452719690099\n",
      "12 0.08040342579700499\n",
      "20 0.0037513022339850668\n"
     ]
    }
   ],
   "source": [
    "from thinkbayes2 import Suite\n",
    "\n",
    "class Dice(Suite):\n",
    "    \"\"\"Represents hypotheses about which die was rolled.\"\"\"\n",
    "\n",
    "    def Likelihood(self, data, hypo):\n",
    "        \"\"\"Computes the likelihood of the data under the hypothesis.\n",
    "\n",
    "        hypo: integer number of sides on the die\n",
    "        data: integer die rolla\n",
    "        \"\"\"\n",
    "        if hypo < data:\n",
    "            return 0\n",
    "        else:\n",
    "            return 1.0/hypo\n",
    "\n",
    "\n",
    "def main():\n",
    "    suite = Dice([4, 6, 8, 12, 20])\n",
    "\n",
    "    suite.Update(6)\n",
    "    print('After one 6')\n",
    "    suite.Print()\n",
    "\n",
    "    for roll in [4, 8, 7, 7, 2]:\n",
    "        suite.Update(roll)\n",
    "\n",
    "    print('After more rolls')\n",
    "    suite.Print()\n",
    "\n",
    "\n",
    "if __name__ == '__main__':\n",
    "    main()\n"
   ]
  },
  {
   "cell_type": "markdown",
   "metadata": {},
   "source": [
    "2장에서는 가설과 데이터를 문자열로 나타냈지만, 주사위 문제는 숫자로 표현하겠다. <br />\n",
    "정확히 정수 4, 6, 8, 12, 20으로 가설을 나타내겠다."
   ]
  },
  {
   "cell_type": "code",
   "execution_count": null,
   "metadata": {
    "collapsed": true
   },
   "outputs": [],
   "source": [
    "    suite = Dice([4, 6, 8, 12, 20])"
   ]
  },
  {
   "cell_type": "markdown",
   "metadata": {},
   "source": [
    "그리고 정수 1부터 20까지를 사용하여 데이터를 나타낼 것이다. <br />\n",
    "이렇게 표현하면 우도 함수를 작성하기가 쉬워진다."
   ]
  },
  {
   "cell_type": "code",
   "execution_count": null,
   "metadata": {
    "collapsed": true
   },
   "outputs": [],
   "source": [
    "class Dice(Suite):\n",
    "    def Likelihood(self, data, hypo):\n",
    "        if hypo < data:\n",
    "            return 0\n",
    "        else \n",
    "            return 1.0/hypo"
   ]
  },
  {
   "cell_type": "markdown",
   "metadata": {},
   "source": [
    "위처럼 Likelihood가 작동한다. <br />\n",
    "hypo < data는 주사위를 굴려서 나온 값이 주사위의 면수 보다 크다는 말이다. <br />\n",
    "이런 일은 발생할 수 없으므로 우도는 0이다. <br />\n",
    "다른 경우는 hyop-면체의 주사위가 있을 때 각 데이터의 값이 나 올 수 있는 확률은 데이터에 상관없이 답은 1/hypo이다."
   ]
  },
  {
   "cell_type": "markdown",
   "metadata": {},
   "source": [
    "다음은 6이 나왔을 때를 가정한 데이터 갱신 코드다."
   ]
  },
  {
   "cell_type": "code",
   "execution_count": null,
   "metadata": {
    "collapsed": true
   },
   "outputs": [],
   "source": [
    "suite.Update(6)"
   ]
  },
  {
   "cell_type": "markdown",
   "metadata": {},
   "source": [
    "몇 번 더 던져서 6, 8, 7, ,7 ,5, 4가 나왔다면 어떨까?"
   ]
  },
  {
   "cell_type": "code",
   "execution_count": null,
   "metadata": {
    "collapsed": true
   },
   "outputs": [],
   "source": [
    "    for roll in [6, 8, 7, 7, 5, 4]:\n",
    "        suite.Update(roll)"
   ]
  },
  {
   "cell_type": "markdown",
   "metadata": {},
   "source": [
    "### (2)기관차 문제"
   ]
  },
  {
   "cell_type": "markdown",
   "metadata": {},
   "source": [
    "\"각 철도에는 이를 지나가는 기관차에 1부터 N까지의 순서로 번호를 붙인다. <br />\n",
    "어느날 60호 기관차를 보았다. 이 때 이 철도에는 몇 개의 기관차가 지나가는지 추측해보자.\""
   ]
  },
  {
   "cell_type": "markdown",
   "metadata": {},
   "source": [
    "관측 결과에 따르면, 이 철도에는 60개 이상의 기관차가 있다는 것을 알 수 있다. <br />\n",
    "하지만 얼마나 더 많을까? <br />"
   ]
  },
  {
   "cell_type": "markdown",
   "metadata": {},
   "source": [
    "베이지안 추론법에 따라 2단계로 해결한다.\n",
    "- 데이터를 보기전에 N에 대해서 알고 있는 것이 무엇인가?\n",
    "- N에 어떤 값이 주어졌을 때 관측한 데이터(60호 기관차)의 우도는 어떻게 되는가? <br />\n",
    "첫 번째 질문의 답은 사전확률, 두 번째 질문의 답은 우도이다."
   ]
  },
  {
   "cell_type": "markdown",
   "metadata": {},
   "source": [
    "#### 전체 코드"
   ]
  },
  {
   "cell_type": "code",
   "execution_count": 2,
   "metadata": {},
   "outputs": [
    {
     "name": "stdout",
     "output_type": "stream",
     "text": [
      "333.41989326371095\n",
      "Writing train1.pdf\n",
      "Writing train1.eps\n"
     ]
    },
    {
     "name": "stderr",
     "output_type": "stream",
     "text": [
      "/Users/choi/anaconda/lib/python3.6/site-packages/matplotlib/axes/_axes.py:545: UserWarning: No labelled objects found. Use label='...' kwarg on individual plots.\n",
      "  warnings.warn(\"No labelled objects found. \"\n"
     ]
    }
   ],
   "source": [
    "from dice import Dice\n",
    "import thinkplot\n",
    "\n",
    "\n",
    "class Train(Dice):\n",
    "    \"\"\"Represents hypotheses about how many trains the company has.\n",
    "\n",
    "    The likelihood function for the train problem is the same as\n",
    "    for the Dice problem.\n",
    "    \"\"\"\n",
    "\n",
    "\n",
    "def main():\n",
    "    hypos = range(1, 1001)\n",
    "    suite = Train(hypos)\n",
    "\n",
    "    suite.Update(60)\n",
    "    print(suite.Mean())\n",
    "\n",
    "    thinkplot.PrePlot(1)\n",
    "    thinkplot.Pmf(suite)\n",
    "    thinkplot.Save(root='train1',\n",
    "                   xlabel='Number of trains',\n",
    "                   ylabel='Probability',\n",
    "                   formats=['pdf', 'eps'])\n",
    "\n",
    "\n",
    "if __name__ == '__main__':\n",
    "    main()\n"
   ]
  },
  {
   "cell_type": "markdown",
   "metadata": {},
   "source": [
    "사전 확률을 간단한 가정으로 시작한 다음 이를 변경해 가자. <br />\n",
    "일단 N은 1부터 1,000까지 어떤 값이든 동일한 확률로 선택될 수 있다고 가정하자."
   ]
  },
  {
   "cell_type": "code",
   "execution_count": null,
   "metadata": {
    "collapsed": true
   },
   "outputs": [],
   "source": [
    "    hypos = xrange(1, 1001)"
   ]
  },
  {
   "cell_type": "markdown",
   "metadata": {},
   "source": [
    "이제 우도 함수만 있으면 된다. <br /> \n",
    "N개의 기관차 무리중에 60호 기관차를 볼 확률은 얼마인가? <br />\n",
    "각 기관차를 볼 확률이 동일하다면 그 확률은 1/N이다."
   ]
  },
  {
   "cell_type": "markdown",
   "metadata": {},
   "source": [
    "우도 함수는 다음과 같다."
   ]
  },
  {
   "cell_type": "code",
   "execution_count": null,
   "metadata": {
    "collapsed": true
   },
   "outputs": [],
   "source": [
    "class Train(Suite):\n",
    "    def Likelihood(self, data, hypo):\n",
    "        if hypo < data:\n",
    "            return 0\n",
    "        else:\n",
    "            return 1.0/hypo"
   ]
  },
  {
   "cell_type": "code",
   "execution_count": null,
   "metadata": {
    "collapsed": true
   },
   "outputs": [],
   "source": [
    "갱신 함수는 다음과 같다."
   ]
  },
  {
   "cell_type": "code",
   "execution_count": null,
   "metadata": {
    "collapsed": true
   },
   "outputs": [],
   "source": [
    "suite = Train(hypos)\n",
    "suite.Update(60)"
   ]
  },
  {
   "cell_type": "markdown",
   "metadata": {},
   "source": [
    "출력하기엔 가설 수가 너무 많으므로 아래의 그래프로 나타내었다. <br />\n",
    "당연히 60이하의 모든 값은 제거한다. <br />\n",
    "추측하기에 가장 가능성이 높은 값은 60이다.<br />"
   ]
  },
  {
   "cell_type": "markdown",
   "metadata": {},
   "source": [
    "<img src=\"./Images/1.png\" width=400 />"
   ]
  },
  {
   "cell_type": "markdown",
   "metadata": {},
   "source": [
    "하지만 원하는 것은 이게 아니다. <br />\n",
    "다음은 사후 확률의 평균을 계산하는 것이다."
   ]
  },
  {
   "cell_type": "code",
   "execution_count": null,
   "metadata": {
    "collapsed": true
   },
   "outputs": [],
   "source": [
    "def Mean(suite):\n",
    "    total = 0\n",
    "    for hypo, prob in suite.Items():\n",
    "        total += hypo*prob\n",
    "    return total"
   ]
  },
  {
   "cell_type": "code",
   "execution_count": null,
   "metadata": {
    "collapsed": true
   },
   "outputs": [],
   "source": [
    "print(Mean(suite))\n",
    "print(suite.Mean())"
   ]
  },
  {
   "cell_type": "markdown",
   "metadata": {},
   "source": [
    "### (3) 사전 확률로 할 수 있는 것"
   ]
  },
  {
   "cell_type": "markdown",
   "metadata": {},
   "source": [
    "기관차 문제를 해결하기 위해, 몇 가지 임의적인 가설을 만들어 봐야한다. <br />\n",
    "예를들면, 균등 분포라고 설정하거나 상세한 설정 정의하에 1,000개를 고르는 대신 <br />\n",
    "1부터 1,000까지의 균등 사전 확률을 만든다."
   ]
  },
  {
   "cell_type": "markdown",
   "metadata": {},
   "source": [
    "철도 회사에서 기관차 1,000대를 운행한다고 생각하는 게 이상한 것은 아니지만, 합리적인 사람이라면 <br />\n",
    "이보다 많거나 적게 추측할 수도 있다. 따라서 이후 두 가지 방식으로 진행 할 수 있다."
   ]
  },
  {
   "cell_type": "markdown",
   "metadata": {},
   "source": [
    "데이터가 적다면(관측을 한 번만 했다면) 사후 확률 분포는 사전 확률 분포에 민감하게 반응한다."
   ]
  },
  {
   "cell_type": "markdown",
   "metadata": {},
   "source": [
    "- 데이터를 더 확보할 것\n",
    "- 배경 지식을 더 확보할 것"
   ]
  },
  {
   "cell_type": "markdown",
   "metadata": {},
   "source": [
    "#### 전체 코드"
   ]
  },
  {
   "cell_type": "code",
   "execution_count": 5,
   "metadata": {},
   "outputs": [
    {
     "name": "stdout",
     "output_type": "stream",
     "text": [
      "500 151.84958795903822\n",
      "1000 164.30558642273363\n",
      "2000 171.33818109150937\n",
      "Writing train2.pdf\n",
      "Writing train2.eps\n"
     ]
    },
    {
     "name": "stderr",
     "output_type": "stream",
     "text": [
      "/Users/choi/anaconda/lib/python3.6/site-packages/matplotlib/axes/_axes.py:545: UserWarning: No labelled objects found. Use label='...' kwarg on individual plots.\n",
      "  warnings.warn(\"No labelled objects found. \"\n"
     ]
    }
   ],
   "source": [
    "from dice import Dice\n",
    "import thinkplot\n",
    "\n",
    "class Train(Dice):\n",
    "    \"\"\"The likelihood function for the train problem is the same as\n",
    "    for the Dice problem.\"\"\"\n",
    "\n",
    "\n",
    "def Mean(suite):\n",
    "    total = 0\n",
    "    for hypo, prob in suite.Items():\n",
    "        total += hypo * prob\n",
    "    return total\n",
    "\n",
    "\n",
    "def MakePosterior(high, dataset):\n",
    "    hypos = range(1, high+1)\n",
    "    suite = Train(hypos)\n",
    "    suite.name = str(high)\n",
    "\n",
    "    for data in dataset:\n",
    "        suite.Update(data)\n",
    "\n",
    "    thinkplot.Pmf(suite)\n",
    "    return suite\n",
    "\n",
    "\n",
    "def main():\n",
    "    dataset = [30, 60, 90]\n",
    "\n",
    "    for high in [500, 1000, 2000]:\n",
    "        suite = MakePosterior(high, dataset)\n",
    "        print(high, suite.Mean())\n",
    "\n",
    "    thinkplot.Save(root='train2',\n",
    "                   xlabel='Number of trains',\n",
    "                   ylabel='Probability')\n",
    "\n",
    "\n",
    "if __name__ == '__main__':\n",
    "    main()"
   ]
  },
  {
   "cell_type": "markdown",
   "metadata": {},
   "source": [
    "데이터가 더 많다면 다른 사전 확률 기반의 사후 확률도 수렴하는 경향을 보일 것이다. <br />\n",
    "예를들어, 60호 기관차에 이어 30번과 90번 기관차도 봤다고 해보자 그러면 다음과 같이 분포를 갱신할 수 있다. "
   ]
  },
  {
   "cell_type": "code",
   "execution_count": null,
   "metadata": {
    "collapsed": true
   },
   "outputs": [],
   "source": [
    "    for data in [60, 30, 90]:\n",
    "        suite.Update(data)"
   ]
  },
  {
   "cell_type": "markdown",
   "metadata": {},
   "source": [
    "### (4) 사전 확률의 대안"
   ]
  },
  {
   "cell_type": "markdown",
   "metadata": {},
   "source": [
    "만약 데이터를 더 확보할 수 없다면 다른 옵션으로 배경지식을 많이 수집해서 사전 확률을 개선하는 방식이 있다. <br />\n",
    "예를 들어, 로버트 엑스텔이 사이언스 지에 기고한 멱법칙을 사용한다."
   ]
  },
  {
   "cell_type": "markdown",
   "metadata": {},
   "source": [
    "이 법칙에 따르면 기관차가 10대 미만인 회사가 1,000개일 때 100대의 기관차를 소유한 회사는 100개일 것이고 <br />\n",
    "1,000대의 기관차를 소유한 회사는 10개, 10,000대의 기관차를 소유한 회사는 1개다."
   ]
  },
  {
   "cell_type": "markdown",
   "metadata": {},
   "source": [
    "수학적으로 멱법칙은 주어진 규모의 회사의 크기는 규모의 분포의 역수라는 뜻이다."
   ]
  },
  {
   "cell_type": "markdown",
   "metadata": {},
   "source": [
    "<img src=\"./Images/2.png\" width=200 />"
   ]
  },
  {
   "cell_type": "markdown",
   "metadata": {},
   "source": [
    "위와 같이 PMF(x)는 x의 확률 누적 함수고 알파는 보통 1에 가깝게 설정되는 매개변수이다.\n",
    "멱법칙에 따르게 되면 사후 확률은 선택값에 대한 민감도가 낮아진다."
   ]
  },
  {
   "cell_type": "markdown",
   "metadata": {},
   "source": [
    "### 전체 코드"
   ]
  },
  {
   "cell_type": "code",
   "execution_count": 6,
   "metadata": {},
   "outputs": [
    {
     "name": "stderr",
     "output_type": "stream",
     "text": [
      "/Users/choi/anaconda/lib/python3.6/site-packages/matplotlib/axes/_axes.py:545: UserWarning: No labelled objects found. Use label='...' kwarg on individual plots.\n",
      "  warnings.warn(\"No labelled objects found. \"\n"
     ]
    },
    {
     "name": "stdout",
     "output_type": "stream",
     "text": [
      "Writing train4.pdf\n",
      "Writing train4.eps\n",
      "500 130.70846986256004\n",
      "1000 133.2752313750312\n",
      "2000 133.99746308073065\n",
      "Writing train3.pdf\n",
      "Writing train3.eps\n",
      "(91, 243)\n",
      "(91, 243)\n"
     ]
    }
   ],
   "source": [
    "import thinkbayes2\n",
    "import thinkplot\n",
    "\n",
    "from dice import Dice\n",
    "\n",
    "\n",
    "class Train(Dice):\n",
    "    \"\"\"Represents hypotheses about how many trains the company has.\"\"\"\n",
    "\n",
    "\n",
    "class Train2(Dice):\n",
    "    \"\"\"Represents hypotheses about how many trains the company has.\"\"\"\n",
    "\n",
    "    def __init__(self, hypos, alpha=1.0):\n",
    "        \"\"\"Initializes the hypotheses with a power law distribution.\n",
    "\n",
    "        hypos: sequence of hypotheses\n",
    "        alpha: parameter of the power law prior\n",
    "        \"\"\"\n",
    "        thinkbayes2.Pmf.__init__(self)\n",
    "        for hypo in hypos:\n",
    "            self.Set(hypo, hypo**(-alpha))\n",
    "        self.Normalize()\n",
    "\n",
    "\n",
    "def MakePosterior(high, dataset, constructor):\n",
    "    \"\"\"Makes and updates a Suite.\n",
    "\n",
    "    high: upper bound on the range of hypotheses\n",
    "    dataset: observed data to use for the update\n",
    "    constructor: function that makes a new suite\n",
    "\n",
    "    Returns: posterior Suite\n",
    "    \"\"\"\n",
    "    hypos = range(1, high+1)\n",
    "    suite = constructor(hypos)\n",
    "    suite.name = str(high)\n",
    "\n",
    "    for data in dataset:\n",
    "        suite.Update(data)\n",
    "\n",
    "    return suite\n",
    "\n",
    "\n",
    "def ComparePriors():\n",
    "    \"\"\"Runs the analysis with two different priors and compares them.\"\"\"\n",
    "    dataset = [60]\n",
    "    high = 1000\n",
    "\n",
    "    thinkplot.Clf()\n",
    "    thinkplot.PrePlot(num=2)\n",
    "\n",
    "    constructors = [Train, Train2]\n",
    "    labels = ['uniform', 'power law']\n",
    "\n",
    "    for constructor, label in zip(constructors, labels):\n",
    "        suite = MakePosterior(high, dataset, constructor)\n",
    "        suite.name = label\n",
    "        thinkplot.Pmf(suite)\n",
    "\n",
    "    thinkplot.Save(root='train4',\n",
    "                xlabel='Number of trains',\n",
    "                ylabel='Probability')\n",
    "\n",
    "def main():\n",
    "    ComparePriors()\n",
    "\n",
    "    dataset = [30, 60, 90]\n",
    "\n",
    "    thinkplot.Clf()\n",
    "    thinkplot.PrePlot(num=3)\n",
    "\n",
    "    for high in [500, 1000, 2000]:\n",
    "        suite = MakePosterior(high, dataset, Train2)\n",
    "        print(high, suite.Mean())\n",
    "\n",
    "    thinkplot.Save(root='train3',\n",
    "                   xlabel='Number of trains',\n",
    "                   ylabel='Probability')\n",
    "\n",
    "    interval = suite.Percentile(5), suite.Percentile(95)\n",
    "    print(interval)\n",
    "\n",
    "    cdf = thinkbayes2.Cdf(suite)\n",
    "    interval = cdf.Percentile(5), cdf.Percentile(95)\n",
    "    print(interval)\n",
    "\n",
    "\n",
    "if __name__ == '__main__':\n",
    "    main()"
   ]
  },
  {
   "cell_type": "markdown",
   "metadata": {},
   "source": [
    "멱법칙 사전 확률은 다음과 같이 만들 수 있다."
   ]
  },
  {
   "cell_type": "code",
   "execution_count": null,
   "metadata": {
    "collapsed": true
   },
   "outputs": [],
   "source": [
    "class Train(Dice):\n",
    "    def __init__(self, hypos, alpha=1.0):\n",
    "        Pmf.__init__(self)\n",
    "        for hypo in hypos:\n",
    "            self.Set(hypo, hypo**(-alpha))\n",
    "        self.Normalize()"
   ]
  },
  {
   "cell_type": "markdown",
   "metadata": {},
   "source": [
    "다음은 사전 확률을 생성하는 코드다."
   ]
  },
  {
   "cell_type": "code",
   "execution_count": null,
   "metadata": {
    "collapsed": true
   },
   "outputs": [],
   "source": [
    "    hypos = range(1, 1001)\n",
    "    suite = Trian(hypos)"
   ]
  },
  {
   "cell_type": "code",
   "execution_count": null,
   "metadata": {
    "collapsed": true
   },
   "outputs": [],
   "source": [
    "상한값은 임의적이지만, 멱법칙에 따르게 되면 사후 확률은 선택값에 대해 민감도가 낮아진다."
   ]
  },
  {
   "cell_type": "code",
   "execution_count": null,
   "metadata": {
    "collapsed": true
   },
   "outputs": [],
   "source": []
  },
  {
   "cell_type": "markdown",
   "metadata": {},
   "source": [
    "<img src=\"./Images/3.png\" width=400 />"
   ]
  },
  {
   "cell_type": "markdown",
   "metadata": {},
   "source": [
    "- 파란색: 멱법칙에 의한 새로운 사후 확률\n",
    "- 하늘색: 기존 균등 분포에 의한 사후 확률"
   ]
  },
  {
   "cell_type": "markdown",
   "metadata": {},
   "source": [
    "### (5) 신뢰 구간"
   ]
  },
  {
   "cell_type": "markdown",
   "metadata": {},
   "source": [
    "구간의 경우 보통 미확인 값이 어느 두 값 사이에 올 확률이 90%인 값을 나타낸다. 이 값들이 신뢰구간을 정의한다. <br />\n",
    "신뢰구간을 계산하는 간단한 방법은 사후 분포 확률을 더한 후 그 값이 5%와 95%에 해당하는 값을 기록하는 것이다. <br />\n",
    "즉, 5분위와 95분위 값이다."
   ]
  },
  {
   "cell_type": "markdown",
   "metadata": {},
   "source": [
    "다음은 분위값을 계산하는 함수이다. "
   ]
  },
  {
   "cell_type": "code",
   "execution_count": null,
   "metadata": {
    "collapsed": true
   },
   "outputs": [],
   "source": [
    "def Percentile(pmf, percentage):\n",
    "    p = percentage / 100.0\n",
    "    total = 0\n",
    "    for val, prob in pmf.Items():\n",
    "        total += prob\n",
    "        if total >= p:\n",
    "            return val"
   ]
  },
  {
   "cell_type": "code",
   "execution_count": null,
   "metadata": {
    "collapsed": true
   },
   "outputs": [],
   "source": [
    "    interval = Percentile(suite, 5), Percentile(suite, 95)\n",
    "    print(interval)"
   ]
  },
  {
   "cell_type": "markdown",
   "metadata": {},
   "source": [
    "### (6) 누적 분포 함수"
   ]
  },
  {
   "cell_type": "markdown",
   "metadata": {},
   "source": [
    "앞 장에서 Pmf에서 반복해서 값과 확률을 통해 분위수를 반복적으로 계산하였다. <br />\n",
    "만약 몇 분위수 이상을 계산해야 하는 경우라면, 누적 분포 함수나 Cdf를 사용하는 것이 훨씬 효율적이다."
   ]
  },
  {
   "cell_type": "markdown",
   "metadata": {},
   "source": [
    "Cdf는 분포에 대해 동일한 정보를 가진다는 면에서 Pmf와 동일하고, 언제나 한 쪽에서 다른 쪽으로 바꾸는 것이 가능하다.<br />\n",
    "Cdf의 장점은 분위수를 조금 더 효율적으로 계산할 수 있다는 것이다."
   ]
  },
  {
   "cell_type": "markdown",
   "metadata": {},
   "source": [
    "Pmf에서는 이에 대응하는 Cdf를 만드는 메서드를 제공한다."
   ]
  },
  {
   "cell_type": "code",
   "execution_count": null,
   "metadata": {
    "collapsed": true
   },
   "outputs": [],
   "source": [
    "cdf = suite.MakeCdf()"
   ]
  },
  {
   "cell_type": "code",
   "execution_count": null,
   "metadata": {
    "collapsed": true
   },
   "outputs": [],
   "source": [
    "그리고 Cdf는 Percentile라는 함수를 제공한다."
   ]
  },
  {
   "cell_type": "code",
   "execution_count": null,
   "metadata": {
    "collapsed": true
   },
   "outputs": [],
   "source": [
    "    interval = cdf.Percentile(5), cdf.Percentile(95)"
   ]
  },
  {
   "cell_type": "markdown",
   "metadata": {},
   "source": [
    "Pmf를 Cdf로 바꾸는 데에 값의 개수에 비례해 시간이 사용되는 len(pmf)를 사용한다. <br />\n",
    "Cdf는 정렬된 리스트에 값과 확률을 저장하므로 값에 해당하는 확률을 찾는 데에 '로그의 시간'이 소요된다. <br />\n",
    "즉 값의 개수의 로그에 비례해서 시간이 소요된다는 것이다. <br />\n",
    "확률에 해당하는 값을 찾는 것 역시 로그값에 비례하므로 많은 계산에서 Cdf가 효율적이다."
   ]
  },
  {
   "cell_type": "markdown",
   "metadata": {},
   "source": [
    "### (8) 토의\n",
    "베이지안의 선행 분포를 택하는 방법은 두 가지가 있다. \n",
    "- 정보적: 문제의 배경 지식을 가장 잘 표현하는 선행 분포를 고르는 것을 추천 <br />\n",
    "단점으로 사람들이 서로 다른 배경 지식을 사용할 수 있음 (주관적)\n",
    "- 비 정보적: 데이터가 최대한 말 하도록 가능한 한 제약을 두지 않는것\n",
    "    \n",
    "어차피 베이지안의 모델 판단에는 주관이 들어갈 수 밖에 없으므로 분석자의 주관적 판단 아래 <br />\n",
    "정보적인 선행 분포를 택하는 것이 오히려 더 합리적이다."
   ]
  },
  {
   "cell_type": "code",
   "execution_count": null,
   "metadata": {
    "collapsed": true
   },
   "outputs": [],
   "source": []
  }
 ],
 "metadata": {
  "kernelspec": {
   "display_name": "Python 3",
   "language": "python",
   "name": "python3"
  },
  "language_info": {
   "codemirror_mode": {
    "name": "ipython",
    "version": 3
   },
   "file_extension": ".py",
   "mimetype": "text/x-python",
   "name": "python",
   "nbconvert_exporter": "python",
   "pygments_lexer": "ipython3",
   "version": "3.6.1"
  }
 },
 "nbformat": 4,
 "nbformat_minor": 2
}
