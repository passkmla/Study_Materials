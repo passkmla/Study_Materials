{
 "cells": [
  {
   "cell_type": "markdown",
   "metadata": {},
   "source": [
    "## 머신 러닝이 필요한 분야"
   ]
  },
  {
   "cell_type": "markdown",
   "metadata": {},
   "source": [
    "어느 분야나 머신 러닝을 적용하면 효과를 볼 수 있겠지만, 특히 다음과 같은 분야는 사람들이 어떻게 하기가 어려운 분야라서 머신 러닝이 꼭 필요하다고 볼 수 있다.\n",
    "\n",
    "- 명쾌하게 정의하기가 어려운 경우 – 예, 얼굴 인식\n",
    "- 많은 양의 데이터의 속에 내재되어 있는 정보를 해석해내야 하는 경우 – 빅데이터 분석\n",
    "- 특정 분야에 대한 지식이 너무 방대하여 사람이 일일이 코딩하기가 힘든 경우 – 예, 의료 진단\n",
    "- 환경이 시간에 따라 변하는 경우"
   ]
  },
  {
   "cell_type": "markdown",
   "metadata": {},
   "source": [
    "## 머신 러닝이 가능하게 된 이유"
   ]
  },
  {
   "cell_type": "markdown",
   "metadata": {},
   "source": [
    "머신 러닝의 역사는 수십년 전으로 거슬러 올라가지만 왜 요즘 들어 가능하게 되었고 더 활발하게 되었을까? <br /> \n",
    "그 이유는 다음과 같다. <br />\n",
    "대용량 저장 장치의 가격이 점점 싸지고 있고 학습에 이용할 수 있는 데이터의 양이 점점 많아졌다. <br />\n",
    "강력한 GPU로 무장한 컴퓨터의 성능이 점점 좋아지고 있고, GPU를 효과적으로 사용할 수 있는 라이브러리가 개발되어 공급되고 있다. <br />\n",
    "훌륭한 머신 러닝 알고리즘이 최근 몇 년 사이에 많이 발표가 되었다."
   ]
  },
  {
   "cell_type": "markdown",
   "metadata": {},
   "source": [
    "## 머신 러닝과 일반적인 프로그래밍의 차이"
   ]
  },
  {
   "cell_type": "markdown",
   "metadata": {},
   "source": [
    "일반적인 프로그래밍은 프로그램을 짜고 입력 데이터를 넣어주면 사전에 기대했던 출력이 나오는 방식이다. <br /> \n",
    "하지만 머신 러닝은 데이터를 입력하고 그 데이터가 입력되었을 때 나오는 출력(학습결과)를 넣어주면 학습을 통해 프로그램을 만들어내는 점이 다르다. <br /> \n",
    "자율학습(unsupervised learning)의 경우는 기대 학습 결과를 넣어줄 필요 없이 입력 데이터만 넣어주면 스스로 학습을 통해 결과를 만들어 낸다. <br /> \n",
    "아래 그림은 두 방식의 차이를 보여주는 그림이다.\n",
    "___"
   ]
  },
  {
   "cell_type": "markdown",
   "metadata": {},
   "source": [
    "<img src=\"./Images/1.png\" width=800 />\n",
    "___"
   ]
  },
  {
   "cell_type": "markdown",
   "metadata": {},
   "source": [
    "## 머신 러닝 framework"
   ]
  },
  {
   "cell_type": "markdown",
   "metadata": {},
   "source": [
    "머신 러닝이란 학습 집합(training set)을 이용해, 예측 함수 $f$를 만들어 내는 과정이라 생각할 수 있다. <br />\n",
    "이것을 수식으로 표현을 하면 아래와 같다. <br />\n",
    "           $y = f(x)$ <br />\n",
    "여기서 $x$는 입력이고, $y$는 출력에 해당하며, $f$는 학습을 통해서 만들어진 프로그램이라고 보면 된다. <br /> \n",
    "프로그램 혹은 예측 함수 $f$를 구하기 위해서 $(x1, y1), (x2, y2), (x3, y3), … (xn, yn)$과 같은 학습 집합을 활용한다. <br /> \n",
    "아래 그림은 그 예를 보여준다. <br /> \n",
    "(사과 그림, “apple”), (토마토 그림, “tomato”), (젖소 그림, “cow”)를 학습 데이터로 사용을 하여 함수 f를 구하는 과정이 바로 머신 러닝이다.\n",
    "___"
   ]
  },
  {
   "cell_type": "markdown",
   "metadata": {},
   "source": [
    "<img src=\"./Images/2.png\" width=300 />\n",
    "___"
   ]
  },
  {
   "cell_type": "markdown",
   "metadata": {},
   "source": [
    "사과 그림에 “apple”이라는 학습 결과를 달아주는 것을 label을 달아준다고 표현을 하며, label이 달려 있는 데이터를 이용한 학습법을 지도학습(supervised learning)이라고 한다. <br /> \n",
    "학습을 위해 학습 데이터에 label을 일일이 달아주는 것은 상당히 피곤하고 힘든 작업이며, bench marking을 위해서 공인된 학습 데이터 집합들이 있다.\n",
    "그런데 학습 시 사과 그림 1장만 보여주면 이 세상에 있는 다양한 형태의 사과를 전부다 예측 혹은 분류해 낼 수 있을까? <br /> \n",
    "그것을 불가능하다. <br />\n",
    "학습의 질을 높이려면, 학습 데이터가 좀 더 많아지면 결과가 좋아진다. <br /> \n",
    "아래 그림처럼 다양한 학습 데이터를 인가해줘야 하며, 학습의 질 즉 예측 함수 f의 성능은 학습 데이터에 의해서 결정이 된다고 봐도 무방하다. <br /> \n",
    "당연히 사과 그림 1장으로 학습하는 경우보다 아래 그림 처럼 다양한 그림을 이용하는 것이 다양한 경우에 대응이 가능하기 때문에 훨씬 뛰어난 예측 함수가 만들어지게 된다. <br />\n",
    "토마토나 젖소의 경우도 마찬가지다.\n",
    "___"
   ]
  },
  {
   "cell_type": "markdown",
   "metadata": {},
   "source": [
    "<img src=\"./Images/3.png\" width=300 />\n",
    "___"
   ]
  },
  {
   "cell_type": "markdown",
   "metadata": {},
   "source": [
    "## 머신 러닝의 과정"
   ]
  },
  {
   "cell_type": "markdown",
   "metadata": {},
   "source": [
    "머신 러닝은 크게 보면 학습(Training)과 검사(Testing)로 나눌 수 있다. <br />\n",
    "학습이란 이미 앞에서 살펴본 것처럼, 학습 데이터를 이용해 예측 함수를 구하는 과정이며, 검사는 그 학습된 결과를 실제로 적용하는 것이라고 볼 수 있다. <br />\n",
    "예를 들어, 이미지를 학습하여 분류하는 머신러닝 프로그램을 개발한다고 생각해 보자. <br />\n",
    "학습 과정(Training)은 아래 그림과 같다.\n",
    "___"
   ]
  },
  {
   "cell_type": "markdown",
   "metadata": {},
   "source": [
    "<img src=\"./Images/4.png\" width=500 />"
   ]
  },
  {
   "cell_type": "markdown",
   "metadata": {},
   "source": [
    "학습을 위해 라벨이 붙은 이미지 데이터를 인가하고, 기대했던 라벨의 결과가 나올 수 있도록 학습을 진행하게 되면, 이미지을 분류할 수 있는 “학습된 모델(예측 함수 $f$)”이 얻어진다.\n",
    "___"
   ]
  },
  {
   "cell_type": "markdown",
   "metadata": {},
   "source": [
    "검사 과정은 아래 그림과 같다.\n",
    "___"
   ]
  },
  {
   "cell_type": "markdown",
   "metadata": {},
   "source": [
    "<img src=\"./Images/5.png\" width=600 />"
   ]
  },
  {
   "cell_type": "markdown",
   "metadata": {},
   "source": [
    "검사 과정은 학습된 모델을 실제로 이용을 하는 경우를 말하며, 학습된 모델을 이용하여 예측이나 판단을 수행한다.\n",
    "___"
   ]
  },
  {
   "cell_type": "markdown",
   "metadata": {},
   "source": [
    "앞서 예를 들어 살펴본 것처럼, 아래 그림은 사과 그림을 입력으로 넣어줬는데 학습이 잘 되었다면 결과는 “사과”라고 출력을 한다. <br /> \n",
    "학습 시에는 꼭지가 없는 다양한 색깔의 사과를 학습을 시켰다. 만약 사과에 대한 학습이 제대로 되었다면 꼭지가 있을지라도 결과를 “사과”라고 예측 혹은 판단을 해야 한다. <br /> \n",
    "만약 검사에서 잘못된 결과가 나왔다면 다시 학습을 시키면 된다."
   ]
  },
  {
   "cell_type": "markdown",
   "metadata": {},
   "source": [
    "학습과 검사로 간단하게 나누는 대신에 “검증(validation)” 과정을 넣기도 한다. <br /> \n",
    "검증은 학습과 다른 데이터를 이용해 학습이 제대로 되었는지를 확인하는 것을 말한다. 너무 주어진 학습데이타에만 특화가 된다면, 학습 데이터에서 조금만 벗어난 입력이 <br /> \n",
    "들어오더라도 결과가 나쁘게 나올 수 있으며, 이것은 전문 용어로는 “오버피팅(overfitting)”이라고 부른다."
   ]
  },
  {
   "cell_type": "markdown",
   "metadata": {},
   "source": [
    "## 학습은 일반화(Generalization)의 과정"
   ]
  },
  {
   "cell_type": "markdown",
   "metadata": {},
   "source": [
    "결국 학습이란 주어진 학습 데이터를 이용해 학습에 사용하지 않은 새로운 데이터를 얼마나 잘 판단할 수 있는지 일반화(generalization)의 과정이라고 볼 수 있다.\n",
    "___"
   ]
  },
  {
   "cell_type": "markdown",
   "metadata": {},
   "source": [
    "<img src=\"./Images/6.png\" width=500 />\n",
    "___"
   ]
  },
  {
   "cell_type": "markdown",
   "metadata": {},
   "source": [
    "물론 일반화를 잘 시키려면 양질의 많은 학습 데이터와 좋은 알고리즘이 필요하며, 학습에 필요한 많은 시스템 변수(hyper-parameter)를 설계자가 잘 설정을 해주어야 한다. <br />\n",
    "이 과정은 아래 그림처럼 농사를 짓는 과정과 비슷하다고 볼 수 있다.\n",
    "___"
   ]
  },
  {
   "cell_type": "markdown",
   "metadata": {},
   "source": [
    "<img src=\"./Images/7.png\" width=500 />"
   ]
  },
  {
   "cell_type": "markdown",
   "metadata": {},
   "source": [
    "먼저 농부가 농사의 전과정을 담당하듯이 설계자는 머신 러닝 프로그램 개발의 전 과정에 대한 책임을 진다. <br /> \n",
    "설계자는 학습 알고리즘에 해당하는 좋은 씨앗을 선정하여 심고, 학습 데이터라는 비료를 주면서 잘 키우면, 그 결과로서 학습된 모델(프로그램)이라는 열매를 맺을 수 있다.\n",
    "___"
   ]
  },
  {
   "cell_type": "markdown",
   "metadata": {},
   "source": [
    "## 결론적으로, 머신 러닝이란?"
   ]
  },
  {
   "cell_type": "markdown",
   "metadata": {},
   "source": [
    "특정 개념(concept)을 갖고 있는 label이 붙어 있는 학습 데이터를 준비해야 하며, 이 데이터들은 “특징” 들을 이용해 설명이나 묘사를 할 수가 있다. <br /> \n",
    "머신 러닝 알고리즘은 학습 데이터가 갖고 있는 특징을 이용해 예측 함수(학습된 모델)를 만들어 내고, 아직 label이 없는 새로운 데이터에 대해 학습된 모델을 이용해 예측/판단을 한다. <br /> \n",
    "결과적으로 머신 러닝은 사람이 학습하는 방법을 아주 간략하게 구현한 것과 비슷하며, 예측함수의 형태는 아주 다양하다."
   ]
  },
  {
   "cell_type": "markdown",
   "metadata": {},
   "source": [
    "## 머신 러닝의 학습 알고리즘"
   ]
  },
  {
   "cell_type": "markdown",
   "metadata": {},
   "source": [
    "머신 러닝의 알고리즘은 매우 다양하다. <br /> \n",
    "아래 그림은 Ranzato의 슬라이드에서 발췌한 자료로 머신 러닝의 알고리즘의 분류를 보여주는 그림이다.\n",
    "___"
   ]
  },
  {
   "cell_type": "markdown",
   "metadata": {},
   "source": [
    "<img src=\"./Images/8.png\" width=400 />"
   ]
  },
  {
   "cell_type": "markdown",
   "metadata": {},
   "source": [
    "위 그림은 학습 알고리즘을 ‘지도 학습(Supervised)’와 ‘자율 학습(Un-supervised)’, 그리고 학습을 위한 layer의 數에 따라 ‘깊게(Deep)’ 혹은 ‘얇게(Shallow)’로 나누고 <br /> \n",
    "각 머신 러닝 알고리즘들을 분류하였다.\n",
    "___"
   ]
  },
  {
   "cell_type": "markdown",
   "metadata": {},
   "source": [
    "특정 알고리즘은 다양한 범위에 놓일 수 있어 Ranzato의 분류에 이견이 있을 수 있지만, 대략적으로 큰 문제는 없어 보인다. <br /> \n",
    "이 그림에 나와 있는 알고리즘 이외에도 다양한 종류의 머신 러닝 알고리즘들이 존재하고 있다."
   ]
  },
  {
   "cell_type": "markdown",
   "metadata": {},
   "source": [
    "<img src=\"./Images/9.png\" width=600 />"
   ]
  },
  {
   "cell_type": "markdown",
   "metadata": {},
   "source": [
    "앞서 살펴본 Ranzato의 분류처럼 머신 러닝의 알고리즘을 학습 데이터에 대한 기대값(correct answer, label)의 유/무에 따라 지도 학습과 자율 학습으로 분류하기도 하지만, <br /> \n",
    "일반적인 분류 방법은 크게 3가지로 분류가 가능하며, 그것들은 다음과 같다.\n",
    "\n",
    "- 지도 학습(Supervised Learning)\n",
    "\n",
    "- 자율 학습(Un-supervised Learning)\n",
    "\n",
    "- 강화 학습(Reinforcement Learning)"
   ]
  },
  {
   "cell_type": "markdown",
   "metadata": {},
   "source": [
    "## 지도 학습 (Supervised Learning)"
   ]
  },
  {
   "cell_type": "markdown",
   "metadata": {},
   "source": [
    "지도 학습이란 마치 선생님이 학생을 가르치듯, 주어진 입력에 대해 어떤 결과가 나올지 알고 있는 (즉, 학습 데이터($x$)에 대한 기대값($y$)이 label로 붙어 있는) 학습 데이터를 이용해, <br /> \n",
    "데이터를 해석할 수 있는 모델($y = f(x)$)을 만들고 그것을 바탕으로 새로운 데이터를 추정(predict) 하는 방법이다. <br />\n",
    "학습 방법은 모델 $f$를 결정하기 위한 많은 변수들을 풀어야 하는데, 변수의 수가 너무 많기 되면 대수(algebra)를 이용해 풀어내는 것이 불가능하기 때문에 <br /> \n",
    "수치해석(numerical analysis) 방법으로 조금씩 최적값을 찾아가는 과정을 반복적으로 수행한다. <br />\n",
    "즉, 학습 데이터를 인가하고 기대값($y$)이 나올 수 있게 변수를 조금씩 수정해 가는 방식으로 학습을 진행한다.\n",
    "지도 학습은 직관적이기 때문에 다른 학습법에 비해 상대적으로 이해하기가 쉽지만, 제대로 된 학습 결과를 얻으려면 좋은 학습 알고리즘의 선정은 물론이고 양질의 많은 학습 데이터가 준비되어야 한다. <br />\n",
    "하지만 데이터에 일일이 기대값을 달아주는 작업은 굉장히 힘든 과정이다. "
   ]
  },
  {
   "cell_type": "markdown",
   "metadata": {},
   "source": [
    "## 자율 학습 (Un-supervised Learning)"
   ]
  },
  {
   "cell_type": "markdown",
   "metadata": {},
   "source": [
    "자율 학습이란 마치 학생 스스로 학습을 하는 것처럼, 학습 데이터에 대한 기대값이 붙어 있지 않기 때문에, 학습 알고리즘을 통해 학습 데이터 속에 있는 어떤 패턴이나 <br /> \n",
    "숨어 있는 중요한 핵심 컨셉을 찾아서 학습을 하는 것이다. <br /> \n",
    "예를 들어, 과일 상자에 들어 있는 과일이 어떤 과일이 들어 있는지 모르는 상태에서 과일을 분류한다고 가정을 해보자. <br /> \n",
    "과일들에 대한 label이 없어 잘 모른다고 가정을 하면, 과일을 분류할 수 있는 기준은 과일의 색깔, 크기, 향기, 모양 등이 될 수 있다. <br />  \n",
    "이렇게 과일 이름에 따라 분류하는 것이 아니라 과일들이 갖고 있는 특징에 따라 과일을 분류하는 방식이 바로 자율 학습이라고 한다. <br /> \n",
    "학습 데이터만 넣어주면 스스로 학습을 하기 때문에 편리하기는 하지만, 지도 학습에 비해 좀 더 어렵기도 하고 연구도 더 필요하며, 특정 가이드가 없기 때문에 기대했던 것과 <br /> \n",
    "다른 결과가 나올 수도 있다."
   ]
  },
  {
   "cell_type": "markdown",
   "metadata": {},
   "source": [
    "## 강화 학습 (Reinforcement Learning)"
   ]
  },
  {
   "cell_type": "markdown",
   "metadata": {},
   "source": [
    "강화 학습이란 군견을 훈련 시키는 것처럼, 훈련을 잘 따르면 ‘상(reward)’을 주고, 그렇지 못하면 ‘벌(punishment)’을 주며, 상과 벌을 통해 훈련의 감독관이 <br />\n",
    "원하는 방향으로 학습을 하게 된다. <br /> \n",
    "지도 학습의 경우처럼, 입력과 출력이 명확한 관계를 갖고 있는 상황이 아니라, 환경과의 상호 작용의 결과로서 학습을 하거나, 경우의 수가 너무 많아 옳고 그른 것들에 대하여 <br />\n",
    "사전에 명확하게 기술하기 어려운 경우에 적합한 학습방법이다. <br /> \n",
    "이런 특징을 갖고 있기 때문에 자동차의 자율 주행이나, 전략 시뮬레이션이나, 상황에 따라 다양한 대응을 할 수 있는 응용에 적합한 방법이라고 볼 수 있다."
   ]
  },
  {
   "cell_type": "markdown",
   "metadata": {},
   "source": [
    "## Boosting"
   ]
  },
  {
   "cell_type": "markdown",
   "metadata": {},
   "source": [
    "가령 경마의 초보자가 경마의 승률을 높이기 위해 경마의 고수들을 찾아가서 조언을 듣는 경우를 가정해보자. <br /> \n",
    "초보자가 경마의 고수들에게 어떤 경주마를 선택해야 할 것인지 질문을 하면, 고수들도 언제든 통할 수 있는 경주마를 고를 수 있는 golden rule은 별로 없다고 할 것이다. <br />\n",
    "어느 경우든 적용이 가능한 golden rule을 말하는 것은 어렵겠지만, 팁을 한가지씩 알려달라고 하면 나름대로의 규칙(weak rule)을 말해줄 것이다. <br />\n",
    "가령, “최근 경주에서 우승을 많이 한 말을 골라라”, “승률의 가능성이 높은 말을 골라라”, “랩타임(lap time)이 가장 짧은 말을 골라라” 등등의 조언을 듣게 될 것이다. <br /> \n",
    "여러 전문가로부터 들은 조언에 따라 말을 선택하면 다양한 경우가 발생하겠지만, 경우의 수가 겹치는 쪽을 택하여 경주마 선택의 범위를 좁히면, 승률이 올라갈 것이다. <br />\n",
    "여러 전문가로부터 조언을 들었고 의견도 분분하다면, 자신만의 경주마 선정 규칙을 정해야 한다. <br /> \n",
    "경기가 달라지면 적용되는 규칙도 달라져야 할 것이고, 특정 경기에서는 다양한 조언을 어떻게 통합해서 그것을 적용해야 할까? <br />"
   ]
  },
  {
   "cell_type": "markdown",
   "metadata": {},
   "source": [
    "이 때 쓸 수 있는 방법이 바로 “Boosting”이다. <br />\n",
    "Boosting이란 무작위로 선택하는 것보다 약간 가능성이 높은 규칙(전문 용어로는 weak learner/classifier라고 함)들을 결합시켜 보다 정확한 예측 모델을 만들어 내는 것을 말한다. <br /> \n",
    "Boosting이란 이름이 붙은 이유도 약한 것들을 여러 개 결합시켜 강한 모델을 만들어낸다는 의미에서 붙은 것이다."
   ]
  },
  {
   "cell_type": "markdown",
   "metadata": {},
   "source": [
    "## Boosting의 예"
   ]
  },
  {
   "cell_type": "markdown",
   "metadata": {},
   "source": [
    "가령 스팸 여부를 가릴 수 있는 방법을 개발한다고 해보자. <br />\n",
    "스팸 여부 판정할 수 있는 기준은 많으며, 다음과 같은 것들이 있다고 하자. (간단한 규칙들에 대하여 Yes/No로만 판정) <br />\n",
    "\n",
    "- 링크만 있는 경우 => 스팸\n",
    "\n",
    "- 메일 내용에 “당신의 보험료가 xxx 입니다”라는 내용이 들어 있는 경우 => 스팸\n",
    "\n",
    "- 도메인 주소가 확실한 경우 => 스팸 아님\n",
    "\n",
    "- 보낸 사람이 확실한 경우 => 스팸 아님\n",
    "\n",
    "스팸 여부를 판단할 수 있는 기준들은 위에서 열거한 일부 경우뿐만 아니라 매우 많은 기준이 있을 수 있다. <br /> \n",
    "그런데 위에서 열거한 기준들은 모든 메일에 똑같이 적용할 수 있을 정도로 확실한/강력한 규칙은 아니다. <br /> \n",
    "이런 것들을 weak learner(rule, classifier)라고 한다."
   ]
  },
  {
   "cell_type": "markdown",
   "metadata": {},
   "source": [
    "Weak learner를 strong learner로 바꿀 수 있는 방법은 무엇일까?\n",
    "\n",
    "- 평균/ 가중 평균(weighted average)를 사용하는 방법\n",
    "\n",
    "- 가장 많은 의견(vote)을 얻은 것을 선정하는 방법\n",
    "\n",
    "앞서 살펴본 스팸 메일 여부를 가리는 규칙에 위 두 가지 방법을 적용하면, 더 강력한 스팸 필터를 만들 수 있이며, 규칙이 늘어나면 늘어날수록 더 좋은 결과를 기대할 수 있게 된다."
   ]
  },
  {
   "cell_type": "markdown",
   "metadata": {},
   "source": [
    "## Boosting 학습 방법"
   ]
  },
  {
   "cell_type": "markdown",
   "metadata": {},
   "source": [
    "먼저 Weak learner를 정의하자면, 무작위로 선정하는 것보다는 성공 확률이 높은, 다시 말하면 오차율이 50% 이하인 학습 규칙을 말한다. <br /> \n",
    "Weak learner를 선정하는 방법은 머신러닝 알고리즘을 적용하여 서로 다른 분포(distribution)을 갖도록 해주는 것이다. <br />\n",
    "매번 기본 러닝 알고리즘을 적용할 때마다 새로운 weak learner를 만들며, 이 과정을 반복적으로 수행을 한다. <br /> \n",
    "반복 수행 후 weak learner를 boosting 알고리즘으로 묶어서 strong learner를 만든다. <br />\n",
    "위 과정을 요약하면 아래 그림과 같이 표현이 가능하다.\n",
    "___"
   ]
  },
  {
   "cell_type": "markdown",
   "metadata": {},
   "source": [
    "<img src=\"./Images/10.png\" width=500 />"
   ]
  },
  {
   "cell_type": "markdown",
   "metadata": {},
   "source": [
    "Weak learner를 이용해 학습을 하면서 에러가 발생하면, 그 에러에 좀 더 집중하기 위해 error에 대한 weighting을 올리고 그 에러를 잘 처리하는 방향으로 <br /> \n",
    "새로운 weak learner를 학습을 해나가며, 모든 것들이 결합된 최종 결과는 아래 식과 같이 표현이 된다.\n",
    "___"
   ]
  },
  {
   "cell_type": "markdown",
   "metadata": {},
   "source": [
    "<img src=\"./Images/11.png\" width=300 />"
   ]
  },
  {
   "cell_type": "markdown",
   "metadata": {},
   "source": [
    "여기서 ${\\alpha}_{t}$는 가중치이다.\n",
    "___"
   ]
  },
  {
   "cell_type": "markdown",
   "metadata": {},
   "source": [
    "Boosting은 새로운 learner(classifier)를 학습할 때마다 이전 결과를 참조하는 방식이며, 이것이 bagging(bootstrap aggregation)과 다른 점이다. <br /> \n",
    "최종적으로 weak learner로부터의 출력을 결합하여 더 좋은 예측율을 갖는 strong learner가 만들어진다."
   ]
  },
  {
   "cell_type": "markdown",
   "metadata": {},
   "source": [
    "## 통계학과 머신 러닝"
   ]
  },
  {
   "cell_type": "markdown",
   "metadata": {},
   "source": [
    "머신 러닝의 주요 개념들은 통계학에서 온 것들이 많다. <br /> \n",
    "통계학은 작은 표본 데이터만을 사용하여 전체를 신뢰도 몇 %로 예측을 해야 하기 때문에, 데이터의 샘플링, 데이터의 해석과 처리, 그것을 바탕으로 전체 데이터를 <br /> \n",
    "이해할 수 있는 모델을 만드는 과정을 거친다. <br />\n",
    "머신 러닝 역시 비슷하다. 유한한 학습 데이터를 분석하고, 그것으로부터 유용한 특징을 추출한 후 새로운(학습되지 않은) 데이터를 예측할 수 있는 일반화된 모델을 만들어야 한다. <br />\n",
    "통계학에서는 샘플 데이터의 수가 적거나 샘플이 치우쳐 있는 경우에, 혹은 모델이 올바르지 못한 경우에 overfitting의 문제로 고생할 수 있다. <br />\n",
    "머신 러닝의 경우도 학습 데이터의 양이 작거나, 너무 학습 데이터에 특화되게 학습되면 학습 데이터에 한해서는 좋은 결과를 내지만 실제 테스트에서는 성능이 개선 되지 않거나 <br /> \n",
    "더 나빠지는 overfitting 문제가 발생할 수 있다."
   ]
  },
  {
   "cell_type": "markdown",
   "metadata": {},
   "source": [
    "## Bagging"
   ]
  },
  {
   "cell_type": "markdown",
   "metadata": {},
   "source": [
    "Bagging은 Bootstrap aggregating에서 온 말이다. <br />\n",
    "Bootstrap이라는 말은 원래 통계에서 사용되던 용어이다. <br />\n",
    "예를 들어 전세계 남성들의 평균 키를 구하는 경우를 생각해보자. <br /> \n",
    "제일 정확한 방법은 전세계 남성들의 키를 모두 잰 후에 평균을 구하는 것이다. <br /> \n",
    "하지만 이것은 사실상 불가능하기 때문에, 적절한 방법을 통해 표본(sample)을 추출하고 그 표본으로부터 전세계 남성의 평균 키를 추정하는 것이 합리적인 대안일 것이다."
   ]
  },
  {
   "cell_type": "markdown",
   "metadata": {},
   "source": [
    "Boostrapping은 전체 모집단의 분포를 확실하게 알 수 없는 경우에 표본을 취한 후 그 표본이 전체 집단을 대표한다는 가정하에 전체의 분포를 예측할 수 있게 할 때 사용을 한다. <br /> \n",
    "먼저 표본을 취하게 되면, 그 표본에 대한 분포는 정확하게 구할 수 있다. <br /> \n",
    "그리고 나서 표본을 전체라고 생각하고, 표본으로부터 많은 횟수에 걸쳐 (동일한 갯수의) 샘플을 복원 추출(resample with replacement)한 후 각 샘플들에 대한 분포를 구한다. <br /> \n",
    "그 후 전체 표본의 분포와 샘플들 간의 분포의 관계를 통해, 전체 집단의 분포를 유추하는 방식이 바로 Bootstrapping이며 1979에 Bradley Efron이라는 사람이 <br /> \n",
    "처음 언급을 하면서 널리 쓰이기 시작했다. <br />\n",
    "Bagging은 그 이름이 Bootstrap aggregation에서 유래되었듯이, 머신 러닝/통계에 Bootstrap을 사용하여 머신 러닝/통계의 정확도를 높이고 안정성을 얻는 방식이다. <br />\n",
    "Bagging은 실제로 머신 러닝에서 많이 쓰이는 방식이며, model averaging을 통해 성능을 높인다. <br /> \n",
    "Regression의 경우는 평균(model averaging)을 취해 분산(variance)를 줄이는 효과를 얻을 수 있고, 분류(classification)에서는 투표 효과(voting)을 통해 <br />\n",
    "가장 많은 결과가 나오는 것을 취하는 방식을 사용한다."
   ]
  },
  {
   "cell_type": "markdown",
   "metadata": {},
   "source": [
    "## Bagging의 예"
   ]
  },
  {
   "cell_type": "markdown",
   "metadata": {},
   "source": [
    "온도와 오존 데이터의 관계는 아래 그림처럼 non-linear 하며, 여러 개의 점으로 구성이 된다.\n",
    "___"
   ]
  },
  {
   "cell_type": "markdown",
   "metadata": {},
   "source": [
    "<img src=\"./Images/12.png\" width=500 />"
   ]
  },
  {
   "cell_type": "markdown",
   "metadata": {},
   "source": [
    "모든 점을 이용하여 regression 방식으로 대표 곡선을 구할 수도 있지만, Bagging을 사용하면, 전체 데이터로부터 일부 샘플, 예를 들면 100개의 Bootstrap 샘플을 취한다. <br /> \n",
    "그 샘플들을 사용하여 곡선을 추정하면, 위 그림에서 회색 선처럼 구불구불한 곡선이 나온다. <br /> \n",
    "하지만 이런 곡선 100개를 이용하여 평균을 취하게 되면, 그림의 빨간선처럼 비교적 부드러운 곡선을 얻을 수 있게 된다.\n",
    "___"
   ]
  },
  {
   "cell_type": "markdown",
   "metadata": {},
   "source": [
    "머신 러닝을 하게 되면, 초기값의 상태나 hyper-parameter의 설정에 따라 다른 모델이 학습이 된다. <br /> \n",
    "연산 능력이 충분하다면, 여러 개의 모델에 대하여 학습을 진행하고, 그 학습의 결과가 많이 모이는 것을 최종 결과로 선택할 수가 있으며, <br /> \n",
    "이 때 Bagging (Ensemble)을 사용할 수 있다. <br />\n",
    "또 다른 예는 Dropout 이라는 방식이 있는데, 이 방식은 학습의 효과를 높이기 위해 신경망의 일부를 생략하면서 학습을 하고, 실제 적용 시에는 model averaging을 사용한다."
   ]
  },
  {
   "cell_type": "markdown",
   "metadata": {},
   "source": [
    "## Bagging을 적용하면 안되는 경우"
   ]
  },
  {
   "cell_type": "markdown",
   "metadata": {},
   "source": [
    "Bagging은 대부분 효과적이지만 다음과 같은 경우에는 적용을 하면 안된다.\n",
    "\n",
    "- 표본 데이터가 작은 경우: 표본 데이터가 전체 데이터를 잘 반영하지 못함.\n",
    "\n",
    "- 데이터에 잡음이 많은 경우: 특이점(outlier)가 추정을 크게 왜곡 시킬 가능성이 존재.\n",
    "\n",
    "- 데이터에 의존성이 있는 경우: 기본적으로 Boostrapping은 데이터가 독립적인 경우를 가정."
   ]
  },
  {
   "cell_type": "markdown",
   "metadata": {},
   "source": [
    "## Bagging과 Boosting의 차이"
   ]
  },
  {
   "cell_type": "markdown",
   "metadata": {},
   "source": [
    "Boosting과 Bagging은 모델 결합(ensemble) 방식이라는 관점에서는 동일하지만 좀 다르다. <br />\n",
    "Bagging은 모든 Bootstrap이 서로 독립적인 관계를 갖는다. <br /> \n",
    "하지만 Boosting은 순차적으로 처리가 되며, error가 발생하면 그 error의 weighting을 올리기 때문에 현재의 weak learner가 이전 weak learner의 영향을 받는다. <br />\n",
    "Boosting은 최종적으로 weighted vote를 하지만, Bagging은 단순 vote를 한다. <br />\n",
    "Bagging은 분산을 줄이는 것이 주 목적이지만, Boosting은 바이어스를 줄이는 것이 주 목적이다.  <br />\n",
    "잡음이 없는 데이터에 대해서는 Boosting이 Bagging보다 우수하다. <br />\n",
    "Bagging은 overfitting 문제를 해결할 수 있지만, Boosting은 overfitting 문제로부터 자유롭지 못하다. <br />"
   ]
  }
 ],
 "metadata": {
  "kernelspec": {
   "display_name": "Python 3",
   "language": "python",
   "name": "python3"
  },
  "language_info": {
   "codemirror_mode": {
    "name": "ipython",
    "version": 3
   },
   "file_extension": ".py",
   "mimetype": "text/x-python",
   "name": "python",
   "nbconvert_exporter": "python",
   "pygments_lexer": "ipython3",
   "version": "3.6.1"
  }
 },
 "nbformat": 4,
 "nbformat_minor": 2
}
