{
 "cells": [
  {
   "cell_type": "markdown",
   "metadata": {},
   "source": [
    "## Naïve Bayes란?"
   ]
  },
  {
   "cell_type": "markdown",
   "metadata": {},
   "source": [
    "Naïve Bayes는 ‘Bayes 법칙’에 기반한 분류기(classifier) 혹은 학습 방법을 말한다. <br /> \n",
    "Naïve의 사전적 의미는 “(경험. 지식 부족 등으로) 순진해 빠진, (모자랄 정도로) 순진한” 이라는 약간의 부정적 뉘앙스를 갖고 있다. <br />\n",
    "Naïve라는 형용사가 붙은 이유는 분류를 쉽고 빠르게 하기 위해 분류기에 사용하는 특징(feature)들이 서로 “확률적으로 독립(independent)”라는 가정이 들어갔기 때문이며, <br /> \n",
    "그래서 “Simple Bayes” 혹은 “Idiot Bayes”라고도 불린다. <br /> \n",
    "그러므로 확률적으로 독립이라는 가정에 위반되는 경우에는 error가 발생할 수 있기 때문에 주의가 필요하다. <br />\n",
    "하지만 특징(feature)이 너무 많은 경우에는 이 특징들 간의 연간 관계를 모두 고려하게 되면 너무 복잡해지는 경향이 있기 때문에 단순화시켜 쉽고 빠르게 판단을 내릴 때 <br /> \n",
    "주로 사용이 되며, 문서 분류나 질병 진단 혹은 스팸 메일 분류 등에서 많이 사용이 되고 있다."
   ]
  },
  {
   "cell_type": "markdown",
   "metadata": {},
   "source": [
    "## Bayes theorem에서 유도"
   ]
  },
  {
   "cell_type": "markdown",
   "metadata": {},
   "source": [
    "Bayes 법칙은 아래와 같다.\n",
    "___"
   ]
  },
  {
   "cell_type": "markdown",
   "metadata": {},
   "source": [
    "<img src=\"./Images/1.png\" width=400 />"
   ]
  },
  {
   "cell_type": "markdown",
   "metadata": {},
   "source": [
    "여기서 $P(c|x)$는 특정 개체 $x$가 특정 그룹 $c$에 속할 사후 확률(Posterior Probability)이며, Naïve Bayes를 통해 구하고자 하는 것이다. <br />\n",
    "$P(x|c)$는 특정 그룹 $c$인 경우에 특정 개체 $x$가 거기에 속할 조건부 확률이며 가능성(Likelihood)이다. <br />\n",
    "$P(c)$는 특정 그룹 $c$가 발생할 빈도, 즉 클래스 사전 고유 확률(Class Prior Probability) 이며, $P(x)$는 특정 개체가 발생할 확률, <br />\n",
    "Predictor 사전 확률 이라고 하며, 모든 그룹에 대해 동일하기 때문에 보통 이 항목은 무시가 된다. <br /> \n",
    "그러므로 구하고자 하는 사후 확률은 Likelihood와 Class Prior Probability의 곱으로 이해할 수가 있다.\n",
    "___"
   ]
  },
  {
   "cell_type": "markdown",
   "metadata": {},
   "source": [
    "여기서 중요한 부분은 특정 개체 $x$를 규정 짓는 많은 특징 $({x}_{1}, …., {x}_{n})$이 서로 독립적이라면, $P(x|c)$는 위 식에서 볼 수 있는 것처럼, <br /> \n",
    "각각의 특징들이 발생할 확률의 곱으로 쉽게 표현할 수가 있게 된다."
   ]
  },
  {
   "cell_type": "markdown",
   "metadata": {},
   "source": [
    "## Naïve Bayes 예"
   ]
  },
  {
   "cell_type": "markdown",
   "metadata": {},
   "source": [
    "[Naïve Bayes 예](http://www.cs.ucr.edu/~eamonn/CE/Bayesian%20Classification%20withInsect_examples.pdf)"
   ]
  },
  {
   "cell_type": "markdown",
   "metadata": {},
   "source": [
    "가령 Drew라는 이름을 갖는 사람이 많이있는 경우를 생각해보자. <br /> \n",
    "아래 그림처럼, Drew는 여자 이름일 수도 있고, 남자 이름일 수도 있다. <br /> \n",
    "Drew라는 이름을 사용하는 남자의 그룹을 c1이라 하고, 여자 그룹을 c2라고 하자.\n",
    "___"
   ]
  },
  {
   "cell_type": "markdown",
   "metadata": {},
   "source": [
    "<img src=\"./Images/2.png\" width=400 />\n",
    "___"
   ]
  },
  {
   "cell_type": "markdown",
   "metadata": {},
   "source": [
    "여기서 남자인지 여자인지 모르는 Drew라는 사람이 남자 그룹 c1에 속할 확률은 어떻게 될까? <br /> \n",
    "이것은 아래 식처럼 표현할 수 있다.\n",
    "___"
   ]
  },
  {
   "cell_type": "markdown",
   "metadata": {},
   "source": [
    "<img src=\"./Images/3.png\" width=600 />\n",
    "___"
   ]
  },
  {
   "cell_type": "markdown",
   "metadata": {},
   "source": [
    "특정 경찰서에 있는 경찰관의 이름이 아래 그림의 오른쪽과 같을 때, Drew라는 이름의 경찰관이 남자인지 혹은 여자인지 알아 내는 문제를 고민해보자.\n",
    "___"
   ]
  },
  {
   "cell_type": "markdown",
   "metadata": {},
   "source": [
    "<img src=\"./Images/4.png\" width=400 />"
   ]
  },
  {
   "cell_type": "markdown",
   "metadata": {},
   "source": [
    "이 문제를 풀려면, P(male|drew)와 P(female|drew)를 구해 큰 쪽을 선택하면 된다. <br /> \n",
    "Bayes 법칙에 따라 계산을 하면, 분모에 위치하는 P(drew)는 어느 경우든 동일하므로 Bayes 법칙의 분자만을 계산하면 다음과 같다.\n",
    "___"
   ]
  },
  {
   "cell_type": "markdown",
   "metadata": {},
   "source": [
    "P(male|drew)= 1/3 * 3/8 = 0.125 <br />\n",
    "P(female|drew) = 2/5 * 5/8 = 0.25 <br />\n",
    "결과적으로 여성 쪽이 높은 값이 나오기 때문에 Drew라는 이름을 쓰는 경찰관은 여성일 경우가 많다."
   ]
  },
  {
   "cell_type": "markdown",
   "metadata": {},
   "source": [
    "위 예는 굳이 Bayes Theorem을 쓰지 않아도 한눈에 파악이 된다. <br />\n",
    "하지만 데이터의 양이 많아지거나 고려해야 할 특징이 많아지는 경우라면 다른 이야기가 된다. <br /> \n",
    "고려해야 할 특징이나 class가 3개 이상만 되더라도 한 눈에 판단하기가 쉽지가 않다. <br /> \n",
    "이럴 때 Naïve Bayes를 쓰면 빠르게 분류가 가능해진다."
   ]
  },
  {
   "cell_type": "markdown",
   "metadata": {},
   "source": [
    "## Naïve Bayes의 장단점"
   ]
  },
  {
   "cell_type": "markdown",
   "metadata": {},
   "source": [
    "Naïve Bayes의 장점은 다음과 같다.\n",
    "\n",
    "- 그룹이 여러 개 있는 multi-class 분류에서 특히 쉽고 빠르게 예측이 가능.\n",
    "\n",
    "- 만약에 독립이라는 가정이 유효하다고 한다면, logistic regression과 같은 다른 방식에 비해 훨씬 결과가 좋고, 학습 데이터도 적게 필요.\n",
    "\n",
    "- 수치형 데이터 보다는 범주형 데이터(categorical data)에 특히 효과적."
   ]
  },
  {
   "cell_type": "markdown",
   "metadata": {},
   "source": [
    "반면에 다음과 같은 단점도 있다.\n",
    "\n",
    "- 학습 데이터에는 없고 검사 데이터에서는 있는 범주(category)에서는 확률이 0이 되어 정상적인 예측이 불가능하며, 이것을 “zero frequency”라고 부른다. <br /> \n",
    "이 문제를 피하기 위해서는 smoothing technique을 필요로 하며, Laplace 추정이 대표적인 기법임.\n",
    "\n",
    "- 독립이라는 가정이 성립하지 않거나 약한 경우라면 결과에 에러가 발생할 수 있기 때문에, 나오는 결과를 너무 신뢰하면 안됨.\n",
    "\n",
    "- 실제 적용에서는 완전하게 독립적인 상황이 많지 않아, 사용에 어려움이 있음."
   ]
  },
  {
   "cell_type": "markdown",
   "metadata": {},
   "source": [
    "Naïve Bayes는 빠르고 쉽지만, 독립이라는 가정이 성립하지 않는 곳에서는 다른 학습 방법을 적용하거나 주의를 기울여야 한다. <br />\n",
    "하지만 다음과 실시간 예측처럼 빠른 판단이 요구되는 분야나, Test classification, Spam filtering, Sentiment analysis 및 질병 예측 분야 등에서는 <br /> \n",
    "Naïve Bayes가 효과적으로 사용이 되고 있다."
   ]
  }
 ],
 "metadata": {
  "kernelspec": {
   "display_name": "Python 3",
   "language": "python",
   "name": "python3"
  },
  "language_info": {
   "codemirror_mode": {
    "name": "ipython",
    "version": 3
   },
   "file_extension": ".py",
   "mimetype": "text/x-python",
   "name": "python",
   "nbconvert_exporter": "python",
   "pygments_lexer": "ipython3",
   "version": "3.6.1"
  }
 },
 "nbformat": 4,
 "nbformat_minor": 2
}
