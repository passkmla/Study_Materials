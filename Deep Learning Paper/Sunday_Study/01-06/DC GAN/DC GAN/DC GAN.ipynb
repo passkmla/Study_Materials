{
 "cells": [
  {
   "cell_type": "markdown",
   "metadata": {},
   "source": [
    "KING(왕) - MAN(남자) + WOMAN(여자) = QUEEN(여왕) <br />\n",
    "위 수식은 DC GAN을 언어적으로 보여주는 예시이다."
   ]
  },
  {
   "cell_type": "markdown",
   "metadata": {},
   "source": [
    "아래의 그림은 실제 논문에 있는 그림이다."
   ]
  },
  {
   "cell_type": "markdown",
   "metadata": {},
   "source": [
    "<img src=\"./Images/1.png\" width=400 />"
   ]
  },
  {
   "cell_type": "markdown",
   "metadata": {},
   "source": [
    "위 사진들은 실제 사진등으로 찍은 이미지가 아닌 모두 다 학습된 신경망이 만들어낸 이미지이다. <br />\n",
    "이 이미지를 만들어내는 입력값($z$) 중에 \"안경을 쓰고 있는 남자들\"을 그리게 하는 입력값들을 모아 평균치를 구하고, \"안경을 쓰지 않고 있는 남자\"와 \"안경 없는 여자\"들을 <br /> \n",
    "만들어 내는 입력값들에 대해서 평균치를 구한 후 각각 빼고 더해주면 새로운 입력값 $(\\overset { \\sim  }{ z } )$들이 나올 것이다."
   ]
  },
  {
   "cell_type": "markdown",
   "metadata": {},
   "source": [
    "그 입력값들 $(\\overset { \\sim  }{ z } )$를 다시 신경망에 입력하여 어떤 이미지가 나오는지 살펴보면 놀랍게도 \"안경을 쓴 여자\"가 나온다는 것이다. <br />\n",
    "심지어 이런 결과들은 처음부터 이런 문제를 풀기 위한 것이 아니라 이미지를 생성하기 위해 학습을 하고나서 부수적으로 얻는 것들이다. <br />"
   ]
  },
  {
   "cell_type": "markdown",
   "metadata": {},
   "source": [
    "## DC GAN이 대단한 이유"
   ]
  },
  {
   "cell_type": "markdown",
   "metadata": {},
   "source": [
    "### GAN의 불안정성"
   ]
  },
  {
   "cell_type": "markdown",
   "metadata": {},
   "source": [
    "Ian Goodfellow가 GAN을 발표한 이후로 많은 분야에 GAN이 적용하여 연구가 되었지만 그 때마다 항상 불안정한 구조가 문제가 되었다. <br /> \n",
    "그래서 GAN을 다룬 논문들을 보면 대부분 이 부분에 대한 어려움에 대하여 얘기를 하고 있다.\n",
    "\n",
    "Minimax 혹은 saddle problem을 풀어야하는 GAN은 어쩔 수 없이 불안정할 수 밖에 없는데, 이는 이론적으로는 fixed solution으로 수렴하는 것이 보장되어 있지만, 실제 적용에서는 이론적 가정이 깨지면서 생기는 불안정한 구조적 단점을 보인다.\n",
    "\n",
    "이후 나온 여러 논문들이 GAN의 이런 단점을 지적하고 극복하기 위해서 다양한 접근을 통해 해결하고자 했는데, DC GAN은 이들 중 끝판왕이라고 불릴만한 결과를 보여주며 이 논문 이후에 나오는 대다수의 GAN 구조는 대부분 DC GAN 구조를 사용하고 있다."
   ]
  },
  {
   "cell_type": "markdown",
   "metadata": {},
   "source": [
    "\"Most GANs today are at least loosely based on the DCGAN architecture.\" - NIPS 2016 Tutorial by Ian Goodfellow"
   ]
  },
  {
   "cell_type": "markdown",
   "metadata": {},
   "source": [
    "DC GAN은 이름에서 알 수 있듯 Convolutional 구조를 GAN에 접목하였다. <br /> \n",
    "지도학습(Supervised Learning)에 Convolutional Neural Network (CNN)을 이용한 것은 Computer vision application에 큰 반향을 일으켰다. 하지만 그에 반해 비지도 학습(Unsupervised Learning)에 CNN을 이용하는 것은 아주 적은 관심을 받았었다. DC GAN paper는 지도학습에서의 CNN의 성공과 비지도 학습 간의 격차를 줄이는 데에 큰 역할을 하였습니다고 볼 수 있다.\n",
    "\n",
    "DC GAN에서 제시한 가이드 라인대로 GAN 구조를 짜면 상당히 안정적으로 학습이 되는 것을 볼 수 있는데다, 생성 모델(Generative Model)이 보여줄 수 있는 역할은 <br /> 거의 다 보여주고 있다."
   ]
  },
  {
   "cell_type": "markdown",
   "metadata": {},
   "source": [
    "이 논문이 기여한 바를 정리해보면"
   ]
  },
  {
   "cell_type": "markdown",
   "metadata": {},
   "source": [
    "- 대부분의 상황에서 언제나 안정적으로 학습이 되는 Convolutional GAN 구조(DCGAN)를 제안하였다\n",
    "- 마치 word2vec과 같이 DC GAN으로 학습된 Generator가 벡터 산술 연산이 가능한 성질을 갖고 이것으로 semantic 수준에서의 sample generation을 해볼 수 있다\n",
    "- DC GAN이 학습한 filter들을 시각화하여 보여주고 특정 filter들이 이미지의 특정 물체를 학습했다는 것을 보여주었다\n",
    "- 이렇게 학습된 Discriminator가 다른 비지도 학습 알고리즘들과 비교하여 비등한 이미지 분류 성능을 보였다"
   ]
  },
  {
   "cell_type": "markdown",
   "metadata": {},
   "source": [
    "## DC GAN이 해결하고자 하는 문제"
   ]
  },
  {
   "cell_type": "markdown",
   "metadata": {},
   "source": [
    "### 생성 이미지의 해상도"
   ]
  },
  {
   "cell_type": "markdown",
   "metadata": {},
   "source": [
    "DC GAN이 처음으로 Convolution을 GAN에 넣으려 시도한 논문은 아니다. <br /> \n",
    "이전에도 다른 연구자들이 Convolution을 GAN 구조에 넣으려 시도했으나 별로 좋은 결과를 얻지는 못하였다. \n",
    "그 이유는 Scale up의 문제 때문에 그렇다. <br /> \n",
    "DC GAN의 이전에 고해상도 이미지 생성이 가능한 GAN 모델으로는 LAPGANs(Denton et al.,2015)가 유일했다. <br /> \n",
    "그러다 최소한 한정된 이미지 종류에 대해서(예를 들어, 침실 이미지들) DC GAN이 최초로 상당히 높은 품질의 이미지를 single shot으로 만들어 내는 것에 성공하였다.\n",
    "\n",
    "이전에 있던 여러 생성 모델들의 결과를 보면, MNIST 숫자에 대한 결과들이나 질감 합성(texture synthesis) 등에 한정적으로 사용이 된 경우이고, <br />현실로부터 얻을 수 있는 자연적인 이미지를 생성하는 것에 성공한 모델은 거의 없다. <br />\n",
    "Ian Goodfellow가 제시한 초기 GAN도 생성된 이미지를 보면 정말 사람이 보아도 그럴듯한 이미지를 만들어 내지는 못했다. <br /> \n",
    "LAP GAN은 조금 더 그럴듯한 이미지를 만들기는 했지만 구조로부터 생성되는 잡음으로 인해 물체들이 마치 흔들린 듯한 형체로 생성되는 문제가 여전히 남아있었다."
   ]
  },
  {
   "cell_type": "markdown",
   "metadata": {},
   "source": [
    "### CNNs are Black-box Methods"
   ]
  },
  {
   "cell_type": "markdown",
   "metadata": {},
   "source": [
    "생성 이미지의 품질에 대한 문제 외에도 신경망 항상 black-box method일뿐이라는 지적을 피할 수 없다. <br /> \n",
    "이를 해결하기 위해 Zeiler가 2014년에 deconvolution을 이용해서 convolution filter들이 네트워크에서 어떤 역할을 하고 있는지 보여주려한 시도 등이 있었지만 여전히 남아있는 문제들이 있다."
   ]
  },
  {
   "cell_type": "markdown",
   "metadata": {},
   "source": [
    "### Measure for sample evaluation "
   ]
  },
  {
   "cell_type": "markdown",
   "metadata": {},
   "source": [
    "특히나 생성 모델(Generative Model)의 성능을 판단하는 기준이 모호하기 때문에 실제 네트워크가 잘했는지 못했는지를 정량적으로 얘기하기가 쉽지 않다.\n",
    "정답이 있는 것이 아니다보니 생성한 이미지가 얼마나 정확한지 평가하기가 쉽지 않을뿐더러 그에 맞는 측정 방법이 마땅치 않다. <br /> \n",
    "이 때문에 아직도 이 부분은 많은 연구가 필요한 부분이다. <br /> \n",
    "다만 이런 측정 방법이 없는 문제를 우회적으로나마 해결하기 위해 GAN의 학습이 끝난 이후 얻은 Discriminator 혹은 Generator의 feature(weight)들을 이용하여 데이터를 transform한 후 K-mean clustering 등을 통해 분류한 결과가 얼마나 좋은 지로 간접적으로 얘기하는 방법을 택하는 경우도 있다."
   ]
  },
  {
   "cell_type": "markdown",
   "metadata": {},
   "source": [
    "## 짚고 넘어갈 점"
   ]
  },
  {
   "cell_type": "markdown",
   "metadata": {},
   "source": [
    "Measure에 관한 부분은 DC GAN이 해결했다거나 해결하고자 한 문제는 아니다. <br /> \n",
    "하지만 DC GAN 논문을 보면, 측정 방법을 사용하지 않더라도 최소한 생성 모델이 학습이 잘 되었다는 것을 어떻게 보여줄 수 있는지 매우 잘 분석하였다.\n",
    "즉, 생성 모델에 대한 연구에서는 측정 방법보다 더 중요한 점을 보여줄 수 있어야 한다는 일종의 기준을 저자들이 분석해두었다.\n",
    "\n",
    "앞으로 나올 결과 분석들이 이 기준에 따라 제시된다.\n",
    "\n",
    "- Generator가 이미지를 외워서 보여주는 것이 아니란 것을 확인시켜 주어야한다. (즉, memorization이 일어난 것이 아니라는 것을 보여주어야 한다) \n",
    "- Generator의 input 공간인 latent space ($z$ space)에서 움직일 때 급작스러운 변화(sharp transition)이 일어나는 것이 아닌 부드러운 변화를 보여주어야한다. (이를 논문에서는 \"walking in the latent space\"라고 표현한다.)\n",
    "\n",
    "1과 2는 사실 같은 맥락에서 이해할 수 있는데 Memorization이 일어난다는 말은 Generator가 유의미한 특정을 학습하는 것이 아니라 overfitting이 일어나서 1:1 matching을 하는 mapping을 배웠다는 것이다. <br /> \n",
    "따라서 latent space에서 어떤 부드러운 변화가 일어날 수 없다. (바로 옆의 $z$값이 다른 sample과 1:1 연동이 될 수 있다는 의미이다)"
   ]
  },
  {
   "cell_type": "markdown",
   "metadata": {},
   "source": [
    "## DC GAN Architecture"
   ]
  },
  {
   "cell_type": "markdown",
   "metadata": {},
   "source": [
    "<img src=\"./Images/2.png\" width=600 />"
   ]
  },
  {
   "cell_type": "markdown",
   "metadata": {},
   "source": [
    "<img src=\"./Images/3.png\" width=600 />"
   ]
  },
  {
   "cell_type": "markdown",
   "metadata": {},
   "source": [
    "1. Max pooling과 같이 미분이 되지 않는 부분을 convolution으로 대체하여 \"all convolutional net\" (Springenberg et al 2014) 사용하였다. Spatial pooling이 Convolution을 통해 되기 때문에 어떤 의미로는 generator와 discriminator가 own spatial upsampling을 학습 수 있게 해주어 구조의 자유도를 증대한 것이다.\n",
    "\n",
    "2. Fully connected layers를 쓰지 않고 없앴다. <br />\n",
    "\n",
    "3. Batch Normalization (BN)을 추가하였다. <br />\n",
    "모든 layer에 BN을 추가하면 문제가 생기기 때문에 Generator의 output layer와 discriminator의 input layer에는 BN을 넣지 않는다. <br />\n",
    "이유를 추측해보자면, Generator가 생성하는 이미지가 BN을 지나면서 다시 normalize 되면 실제 이미지와는 값의 범위가 다를 수 밖에 없으니 문제가 생기지 않을까 싶다. <br />\n",
    "저자들은 BN을 넣으면 GAN의 고질적 문제 중 하나인 Mode collapsing 문제를 어느 정도 완화해준다고 주장한다.\n",
    "\n",
    "4. ReLU를 사용하였는데 generator에서는 ReLU를 사용하되 output에서만 Tanh를 사용하였고 discriminator에서는 leacky ReLU를 사용하였다."
   ]
  },
  {
   "cell_type": "markdown",
   "metadata": {},
   "source": [
    "## 테스트 데이터 셋"
   ]
  },
  {
   "cell_type": "markdown",
   "metadata": {},
   "source": [
    "총 세가지 데이터 셋에 대하여 DC GAN을 학습한 결과를 확인할 수 있다.\n",
    "- LSUN (Large-scale Scene Understanding): 침실 사진들이 모여있는 데이터셋\n",
    "- FACES: Web에서 random image들을 받아온 근대에 태어난 사람들 얼굴\n",
    "- IMAGENET-1K: DC GAN으로 학습시킨 후 disriminator의 feature를 가져다가 K-means classification을 하니 state-of-art 결과와 비등한 정도의 정확도를 보였다고 한다. <br /> \n",
    "DC GAN은 IMAGENET-1K 데이터로 학습한 후 K-means test는 CIFAR-10으로 했는데도 비슷한 결과를 보였다. <br /> 특징 추출(Feature Extractor)로써의 역할을 DCGAN이 잘 해줄 수 있다는 점을 시사하고 있다. "
   ]
  },
  {
   "cell_type": "markdown",
   "metadata": {},
   "source": [
    "LSUN의 경우 Deduplication이라고 해서 혹시나 생길지 모르는 1번 문제 즉, memorization 문제를 피하기 위해서 이미지들을 Autoencoder를 이용하여 <br /> \n",
    "짧은 code로 변환할 수 있도록 학습한 후 이 code들에서 가까운 값들을 제거했다고 한다. <br />\n",
    "비슷한 이미지들을 약 275,000개 제외할 수 있었다고 하네요."
   ]
  },
  {
   "cell_type": "markdown",
   "metadata": {},
   "source": [
    "## DC GAN 결과"
   ]
  },
  {
   "cell_type": "markdown",
   "metadata": {},
   "source": [
    "LSUN 결과이다. <br /> \n",
    "앞서 언급하였던 1번 문제(Memorization)가 일어나지 않았다는 것을 검증하기 위해서 네트워크에 학습 데이터(training data)를 한 번만 보여준 결과를 확인해준다. <br /> \n",
    "한 번 밖에 안 보여줬기 때문에 학습이 아무리 빠르게 되었더라도 과적합이 일어났을리는 없다. <br /> \n",
    "\n",
    "아래 그림은 DC GAN이 이런 경우에도 첫 epoch만에 문제가 없이 (이미지를 외워서 그대로 내보내는 것이 아닌) 이미지를 스스로 잘 만들어내었다는 것을 보여준다."
   ]
  },
  {
   "cell_type": "markdown",
   "metadata": {},
   "source": [
    "<img src=\"./Images/4.png\" width=600 />"
   ]
  },
  {
   "cell_type": "markdown",
   "metadata": {},
   "source": [
    "조금 더 학습을 시키면 다음과 같은 결과가 나온다."
   ]
  },
  {
   "cell_type": "markdown",
   "metadata": {},
   "source": [
    "<img src=\"./Images/5.png\" width=600 />"
   ]
  },
  {
   "cell_type": "markdown",
   "metadata": {},
   "source": [
    "논문에서는 overfitting이 아니라 오히려 아직 underfitting이 일어났다고 말하면서 그 증거로 침대의 머리 부분에 약간의 노이즈 질감이 반복되는 것을 볼 수 있다고 주장한다."
   ]
  },
  {
   "cell_type": "markdown",
   "metadata": {},
   "source": [
    "<img src=\"./Images/6.png\" width=600 />"
   ]
  },
  {
   "cell_type": "markdown",
   "metadata": {},
   "source": [
    "위 그림이 DC GAN에서 학습된 Generator의 input인 $z$값(latent space)을 조금씩 바꿔가면서(walking) 생성되는 output 이미지가 어떻게 바뀌는지를 확인한 그림이다. <br />\n",
    "상당히 부드럽게 그림이 바뀌는 것을 알 수 있다."
   ]
  },
  {
   "cell_type": "markdown",
   "metadata": {},
   "source": [
    "<img src=\"./Images/7.png\" width=600 />"
   ]
  },
  {
   "cell_type": "markdown",
   "metadata": {},
   "source": [
    "위 그림은 input까지 backpropagation을 하여 어떤 input이 discriminator가 학습한 feature의 어떤 부분을 active하게 하는지를 보여준다."
   ]
  },
  {
   "cell_type": "markdown",
   "metadata": {},
   "source": [
    "왼쪽 그림과 같이 filter가 무작위 값을 가지고 있는 경우는 딱히 구조를 특정할 수 없지만 학습된 filter들은 나름 DC GAN이 구조의 특징들을 이해하고 구별하여 침대나 창문과 같은 구조 등으로 나누어 역할을 담당하고 있는 것을 확인할 수 있다."
   ]
  },
  {
   "cell_type": "markdown",
   "metadata": {},
   "source": [
    "<img src=\"./Images/8.png\" width=600 />"
   ]
  },
  {
   "cell_type": "markdown",
   "metadata": {},
   "source": [
    "각 특징을 맡고 있는 filter를 drop out 시켜서 이미지를 생성하면 실제로 이미지에서 해당 특징이 사라지는 즉, \"학습\"뿐만 아니라 \"잊어버리는\" 것이 가능하다는 것을 보여줌으로서 역설적으로 학습이 매우 잘 되었다는 것을 보여주고 있다.\n",
    "실제로 위의 그림에서 첫 번째 줄의 그림에서 두 번째 줄의 그림과 비교해볼 때 창문이 사라진 것을 확인할 수 있다. <br /> \n",
    "창문을 학습한 filter를 없애고 이미지를 생성한 결과 창문 대신 다른 특징으로 채우려고 네트워크가 노력한 것이 보인다. <br />\n",
    "예를 들어 여섯 번째 그림을 보시면 창문 대신 일반 문이 대신 들어가 있는 듯한 그림을 보실 수 있습니다. "
   ]
  },
  {
   "cell_type": "markdown",
   "metadata": {},
   "source": [
    "<img src=\"./Images/9.png\" width=600 />"
   ]
  },
  {
   "cell_type": "markdown",
   "metadata": {},
   "source": [
    "Generator의 input인 $z$ vector가 하나로는 잘 안 되어서 세 개 정도를 평균한 z¯를 사용하여 위와 같은 결과가 나왔다고 한다.\n",
    "\n",
    "$z$ input은 Gaussian noise이기 때문에 $z$가 특별한 것이 아니라 Generator가 학습한 어떤 함수 즉 mapping이 의미가 있다고 볼 수 있는데 이는 어떻게 보면 네트워크가 이미지의 의미를 이해했다고 생각할 수 있다. <br /> \n",
    "남자를 생성하는 mapping이 단순히 1:1 matching을 하고 있는 것이 아니란 것이다."
   ]
  },
  {
   "cell_type": "markdown",
   "metadata": {},
   "source": [
    "<img src=\"./Images/10.png\" width=600 />"
   ]
  },
  {
   "cell_type": "markdown",
   "metadata": {},
   "source": [
    "왼쪽을 보고 있는 얼굴을 만들어내는 input ${z}_{left}$들의 평균 vector $\\overset { \\sim  }{ z }_{left}$와 오른쪽을 보고 있는 얼굴에 대응하는 ${z}_{right}$들의 평균 vector $\\overset { \\sim  }{ z }_{right}$를 계산하고 이 두 벡터의 사이를 잇는 축(axis)을 interpolating하여 Generator에 넣어보았더니 천천히 \"회전(turn)\"하는 얼굴들이 나오는 것을 볼 수 있었다고 한다."
   ]
  },
  {
   "cell_type": "markdown",
   "metadata": {},
   "source": [
    "DC GAN이 GAN의 불안정한 학습을 많은 부분 해소해주기는 하였습니다만 간혹 너무 학습을 오래 할 경우 여전히 mode collapsing이나 oscillating mode 등의 불안정한 모습을 보인다."
   ]
  },
  {
   "cell_type": "markdown",
   "metadata": {},
   "source": []
  },
  {
   "cell_type": "markdown",
   "metadata": {},
   "source": []
  },
  {
   "cell_type": "markdown",
   "metadata": {},
   "source": []
  },
  {
   "cell_type": "markdown",
   "metadata": {},
   "source": []
  },
  {
   "cell_type": "markdown",
   "metadata": {},
   "source": []
  },
  {
   "cell_type": "markdown",
   "metadata": {},
   "source": []
  },
  {
   "cell_type": "markdown",
   "metadata": {},
   "source": []
  }
 ],
 "metadata": {
  "kernelspec": {
   "display_name": "Python 3",
   "language": "python",
   "name": "python3"
  },
  "language_info": {
   "codemirror_mode": {
    "name": "ipython",
    "version": 3
   },
   "file_extension": ".py",
   "mimetype": "text/x-python",
   "name": "python",
   "nbconvert_exporter": "python",
   "pygments_lexer": "ipython3",
   "version": "3.6.3"
  }
 },
 "nbformat": 4,
 "nbformat_minor": 2
}
