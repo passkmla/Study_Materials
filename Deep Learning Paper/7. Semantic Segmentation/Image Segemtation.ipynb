{
 "cells": [
  {
   "cell_type": "markdown",
   "metadata": {},
   "source": [
    "## Basic Theory"
   ]
  },
  {
   "cell_type": "markdown",
   "metadata": {},
   "source": [
    "이미지에서 의미있는 부분으로 구별을 해내는 분야를 Segmentation이다."
   ]
  },
  {
   "cell_type": "markdown",
   "metadata": {},
   "source": [
    "___"
   ]
  },
  {
   "cell_type": "markdown",
   "metadata": {},
   "source": [
    "<img src=\"./Images/1.png\" width=600 />"
   ]
  },
  {
   "cell_type": "markdown",
   "metadata": {},
   "source": [
    "Threshold나 edge에 기반한 단순 구별이 아니라 이미지에서 의미있는 부분으로 구별해내는 기술을 Semantic segmentation 이라고 한다. <br />\n",
    "Detection 분야와 Semantic segmentation 분야 모두 CNN 기술을 활용하여 상당한 성과를 거두고 있다.\n",
    "___"
   ]
  },
  {
   "cell_type": "markdown",
   "metadata": {},
   "source": [
    "Classification은 전체 이미지에서 특정 객체의 존재 여부만 알아내면 되지만, detection은 위치까지 파악을 해야 하고 해당 개체의 주위로 bounding box로 <br />\n",
    "구별을 해줘야 하기 때문에 classification에 비해서 더 어려운 것은 당연하고, CNN으로 구현을 할 때도 이 점을 고려해줘야 하기 때문에 구조가 좀 더 복잡하다."
   ]
  },
  {
   "cell_type": "markdown",
   "metadata": {},
   "source": [
    "반면에 segmentation은, 특히 semantic segmentation은 bounding box로 대강의 영역을 표시하는 것이 아니라, 이미지에서 정확하게 개체의 경계선까지 <br /> \n",
    "추출하여 이미지를 의미 있는 영역으로 나눠주는 작업을 해줘야 하기 때문에 더 어렵다고 볼 수 있다."
   ]
  },
  {
   "cell_type": "markdown",
   "metadata": {},
   "source": [
    "## Gestalt 시지각 이론"
   ]
  },
  {
   "cell_type": "markdown",
   "metadata": {},
   "source": [
    "이 이론에 따르면 이미지 속에 있는 개체를 집단화할 수 있는 5개 법칙이 있다. 이것을 집단화의 법칙(Law of Grouping)이라고도 하고, 1923년 베르트하이머가 체계화 시켰다."
   ]
  },
  {
   "cell_type": "markdown",
   "metadata": {},
   "source": [
    "- 유사성(Similarity): 모양이나 크기, 색상 등 유사한 시각 요소들끼리 그룹을 지어 하나의 패턴으로 보려는 경향이 있으며, 다른 요인이 동일하다면 유사성에 따라 형태는 집단화.\n",
    "\n",
    "- 근접성(Proximity): 시공간적으로 서로 가까이 있는 것들을 함께 집단화해서 보는 경향.\n",
    "\n",
    "- 공통성(Commonality): 같은 방향으로 움직이거나 같은 영역에 있는 것들을 하나의 단위로 인식하며, 배열이나 성질이 같은 것들끼리 집단화 되어 보이는 경향.\n",
    "\n",
    "- 연속성(Continuity): 요소들이 부드럽게 연결될 수 있도록 직선 혹은 곡선으로 서로 묶여 지각되는 경향.\n",
    "\n",
    "- 통폐합(Closure): 기존 지식을 바탕으로 완성되지 않은 형태를 완성시켜 지각하는 경향.\n",
    "___"
   ]
  },
  {
   "cell_type": "markdown",
   "metadata": {},
   "source": [
    "<img src=\"./Images/2.png\" width=500 />"
   ]
  },
  {
   "cell_type": "markdown",
   "metadata": {},
   "source": [
    "Gestalt 이론은 이런 인지심리학적인 면에 대한 고찰의 결과이며 이미지에 대한 segmentation 연구나 이론 개발 시에도 고려가 되어야 한다.\n",
    "___"
   ]
  },
  {
   "cell_type": "markdown",
   "metadata": {},
   "source": [
    "## Image Segmentation"
   ]
  },
  {
   "cell_type": "markdown",
   "metadata": {},
   "source": [
    "Segmentation의 목표는 이미지를 의미적인 면이나 인지적인 관점에서 서로 비슷한 영역으로 분할하는 것을 것이다. <br />\n",
    "예를 들어 아래 그림에서 기차 부분만을 완벽하게 분리해내는 것이 최고의 segmentation이 되겠지만, 실제로는 그렇게 쉽지만은 않다.\n",
    "___"
   ]
  },
  {
   "cell_type": "markdown",
   "metadata": {},
   "source": [
    "<img src=\"./Images/3.png\" width=500 />"
   ]
  },
  {
   "cell_type": "markdown",
   "metadata": {},
   "source": [
    "Segmentation은 이미지를 분석하고 이해하는데 필요한 기본적인 단계이며, 이미지를 구성하고 있는 주요 성분으로 분해를 하고, 관심인 객체의 위치와 외곽선을 추출해 낸다.\n",
    "___"
   ]
  },
  {
   "cell_type": "markdown",
   "metadata": {},
   "source": [
    "Segmentation의 접근 방법에 따라 크게 3가지 방식으로 분류가 가능하다."
   ]
  },
  {
   "cell_type": "markdown",
   "metadata": {},
   "source": [
    "- 픽셀 기반 방법: 이 방법은 흔히 thresholding에 기반한 방식으로 histogram을 이용해 픽셀들의 분포를 확인한 후 적절한 threshold를 설정하고, 픽셀 <br /> \n",
    "단위 연산을 통해 픽셀 별로 나누는 방식이며, 이진화에 많이 사용이 된다. <br /> \n",
    "Thresholding으로는 전역(global) 혹은 지역(local)로 적용하는 영역에 따른 구분도 가능하고, 적응적(adaptive) 혹은 고정(fixed) 방식으로 경계값을 <br /> \n",
    "설정하는 방식에 따른 구별도 가능하다."
   ]
  },
  {
   "cell_type": "markdown",
   "metadata": {},
   "source": [
    "- Edge 기반 방법: Edge를 추출하는 필터 등을 사용하여 이미지로부터 경계를 추출하고, 흔히 non-maximum suppression과 같은 방식을 사용하여 의미 있는 <br /> \n",
    "edge와 없는 edge를 구별하는 방식을 사용한다."
   ]
  },
  {
   "cell_type": "markdown",
   "metadata": {},
   "source": [
    "- 영역 기반 방법: Thresholding이나 Edge에 기반한 방식으로는 의미 있는 영역으로 구별하는 것이 쉽지 않으며, 특히 잡음이 있는 환경에서 결과가 좋지 못하다. <br /> \n",
    "하지만 영역 기반의 방법은 기본적으로 영역의 동질성(homogeneity)에 기반하고 있기 때문에 다른 방법보다 의미 있는 영역으로 나누는데 적합하지만 동질성을 <br />\n",
    "규정하는 rule을 어떻게 정할 것인가가 관건이 된다. <br /> \n",
    "흔히 seed라고 부르는 몇 개의 픽셀에서 시작하여 영역을 넓혀가는 region growing 방식이 여기에 해당이 된다. <br /> \n",
    "이외에도 region merging, region splitting, split and merge, watershed 방식 등도 있다."
   ]
  },
  {
   "cell_type": "markdown",
   "metadata": {},
   "source": [
    "## Image Segmentation의 과정"
   ]
  },
  {
   "cell_type": "markdown",
   "metadata": {},
   "source": [
    "Segmentation 과정은 bottom-up 방식과 top-down 방식이 있다. <br />\n",
    "Bottom-up 방식은 비슷한 특징을 갖는 것들끼리 집단화 하는 것을 말하며, top-down 방식은 같은 객체에 해당하는 것들끼리 집단화 하는 것을 말하며, <br /> 아래 그림과 같다.\n",
    "___"
   ]
  },
  {
   "cell_type": "markdown",
   "metadata": {},
   "source": [
    "<img src=\"./Images/4.png\" width=600 />\n",
    "___"
   ]
  },
  {
   "cell_type": "markdown",
   "metadata": {},
   "source": [
    "## 픽셀 기반의 Segmentation "
   ]
  },
  {
   "cell_type": "markdown",
   "metadata": {},
   "source": [
    "픽셀 기반의 segmentation에서 흔히 사용되는 방식은 thresholding이다. <br />\n",
    "특정 임계값을 정하고 그보다 작으면 검은색으로 그보다 같거나 크면 흰색으로 표시하는 단순한 방법으로 아래 그림과 같다.\n",
    "___"
   ]
  },
  {
   "cell_type": "markdown",
   "metadata": {},
   "source": [
    "<img src=\"./Images/5.png\" width=500 />"
   ]
  },
  {
   "cell_type": "markdown",
   "metadata": {},
   "source": [
    "위 그림은 임계값 $T$를 1개만 적용한 경우이다.\n",
    "___"
   ]
  },
  {
   "cell_type": "markdown",
   "metadata": {},
   "source": [
    "새로운 픽셀값은 아래 수식에 의해서 결정이 된다.\n",
    "___"
   ]
  },
  {
   "cell_type": "markdown",
   "metadata": {},
   "source": [
    "<img src=\"./Images/6.png\" width=400 />\n",
    "___"
   ]
  },
  {
   "cell_type": "markdown",
   "metadata": {},
   "source": [
    "경우에 따라서는 2개 혹은 그 이상의 threshold가 필요한 경우도 있다. <br />\n",
    "아래의 예는 2개의 threshold를 적용한 경우로 임계값 T1과 T2를 두고 그 사이에 있는 경우는 흰색으로 밖에 있는 경우는 검은색으로 표시를 하였다.\n",
    "___"
   ]
  },
  {
   "cell_type": "markdown",
   "metadata": {},
   "source": [
    "<img src=\"./Images/7.png\" width=600 />\n",
    "___"
   ]
  },
  {
   "cell_type": "markdown",
   "metadata": {},
   "source": [
    "이 그림에 대한 수식은 아래와 같다.\n",
    "___"
   ]
  },
  {
   "cell_type": "markdown",
   "metadata": {},
   "source": [
    "<img src=\"./Images/8.png\" width=400 />\n",
    "___"
   ]
  },
  {
   "cell_type": "markdown",
   "metadata": {},
   "source": [
    "## Threshold를 설정하는 방법"
   ]
  },
  {
   "cell_type": "markdown",
   "metadata": {},
   "source": [
    "아래 그림을 보면 임계값을 너무 낮게 혹은 너무 높게 설정하여 thresholding을 한 경우를 보여준다.\n",
    "___"
   ]
  },
  {
   "cell_type": "markdown",
   "metadata": {},
   "source": [
    "<img src=\"./Images/9.png\" width=600 />"
   ]
  },
  {
   "cell_type": "markdown",
   "metadata": {},
   "source": [
    "임계값이 제대로 설정되지 못하면 엉뚱한 결과가 나오므로, 임계값을 적절하게 설정하기 위한 방법이 필요하다.\n",
    "___"
   ]
  },
  {
   "cell_type": "markdown",
   "metadata": {},
   "source": [
    "이 때 가장 많이 사용되는 방식이 픽셀값의 누적 분포를 알 수 있는 히스토그램을 사용하는 것이다."
   ]
  },
  {
   "cell_type": "markdown",
   "metadata": {},
   "source": [
    "아래 그림을 보면 픽셀 값 분포를 보여주는 히스토그램이 나오는 peak가 2개이고, 그 간격이 상당히 떨어져 있는 것을 확인할 수 있다.\n",
    "___"
   ]
  },
  {
   "cell_type": "markdown",
   "metadata": {},
   "source": [
    "<img src=\"./Images/10.png\" width=600 />"
   ]
  },
  {
   "cell_type": "markdown",
   "metadata": {},
   "source": [
    "이럴 경우는 대략적으로 2개의 peak 가운데 값으로 잘라주는 방식으로 쉽게 thresholding이 가능하다.\n",
    "___"
   ]
  },
  {
   "cell_type": "markdown",
   "metadata": {},
   "source": [
    "## Otsu Algorithm"
   ]
  },
  {
   "cell_type": "markdown",
   "metadata": {},
   "source": [
    "위 그림은 peak 사이의 간격도 멀고, peak가 2개이며 peak 근처로 확실하게 데이터가 몰려 있기 때문에 쉽게 임계값 T를 정할 수가 있었다. <br />\n",
    "하지만, 그렇지 못한 경우도 많다. 이 때 최적의 T를 결정할 수 있는 방법은 무엇일까?"
   ]
  },
  {
   "cell_type": "markdown",
   "metadata": {},
   "source": [
    "Otsu 알고리즘을 적용하면 된다. <br /> \n",
    "임계값 설정에 대한 여러 알고리즘이 알려져 있지만, 그 중에서 통계적 방법을 이용한 Otsu 알고리즘이 가장 자연스러운 임계값을 설정할 수 있게 해준다. <br /> 이 알고리즘은 1979년에 발표가 되었으며, 논문 제목은 “A threshold selection method from gray-level histograms”이다. <br /> \n",
    "알고리즘이 그리 복잡하지 않으면서도 결과가 상당히 좋으며, 무엇보다도 직관이 아니라 자동화가 가능하다는 점이 매우 유용하다.\n",
    "___"
   ]
  },
  {
   "cell_type": "markdown",
   "metadata": {},
   "source": [
    "<img src=\"./Images/11.png\" width=600 />"
   ]
  },
  {
   "cell_type": "markdown",
   "metadata": {},
   "source": [
    "예를 들어 위 그림의 왼쪽과 같은 쌀을 찍은 이미지에서 쌀의 경계만을 추출하여, 쌀의 품질을 검사하는 경우를 생각해보자. <br />\n",
    "쌀의 경계를 잘 추출하기 위해 히스토그램을 구했더니 오른쪽 그림과 같은 분포를 보였다. <br />\n",
    "Peak의 경계가 명확하지 않기 때문에 어느 값을 기준으로 삼아야 할 것인지 애매하다.\n",
    "___"
   ]
  },
  {
   "cell_type": "markdown",
   "metadata": {},
   "source": [
    "이런 경우에 Otsu 알고리즘을 사용하면 알맞은 T값을 구할 수 있다. <br />\n",
    "이미지에서 임의의 임계값 $T$를 기준으로 하여 $T$보다 작은 픽셀(즉, 어두운 픽셀)의 비율을 $q1$라고 하고, 같거나 큰 픽셀의 비율을 $q2$라고 하자. <br />\n",
    "또한 $T$를 기준으로 만들어진 2개의 그룹에 대하여 평균과 표준편차를 구하고 각각 μ1, μ2 및 σ1, σ2라고 하자."
   ]
  },
  {
   "cell_type": "markdown",
   "metadata": {},
   "source": [
    "Otsu 알고리즘의 핵심 아이디어는 간단하다. 2개의 그룹에 대하여 ‘그룹 내 분산(within class variance)’을 최소화하거나 혹은 ‘그룹 간 분산(inter class variance)을 <br /> \n",
    "최대로 하는 방향으로 $T$를 정하면, 가장 적절한 임계값을 구할 수 있다.\n",
    "___"
   ]
  },
  {
   "cell_type": "markdown",
   "metadata": {},
   "source": [
    "<img src=\"./Images/20.png\" width=500 />\n",
    "___"
   ]
  },
  {
   "cell_type": "markdown",
   "metadata": {},
   "source": [
    "예를 들어 6개의 $T$ 값에 대하여 다음과 같은 결과를 얻었다고 하면, $T=3$ 인 경우가 Otsu 알고리즘 상으로는 최적의 임계값이 된다.\n",
    "___"
   ]
  },
  {
   "cell_type": "markdown",
   "metadata": {},
   "source": [
    "<img src=\"./Images/12.png\" width=600 />"
   ]
  },
  {
   "cell_type": "markdown",
   "metadata": {},
   "source": [
    "‘그룹 내 분산’을 최소화하는 것과 ‘그룹 간 분산’을 최대화 하는 것은 같은 의미를 갖는다. <br /> \n",
    "하지만 식은 ‘그룹 간 분산’을 구하는 식이 좀 더 쉽기 때문에 일반적으로는 ‘그룹 간 분산’ 방식을 더 많이 사용한다.\n",
    "___"
   ]
  },
  {
   "cell_type": "markdown",
   "metadata": {},
   "source": [
    "## Global or Local"
   ]
  },
  {
   "cell_type": "markdown",
   "metadata": {},
   "source": [
    "이미지 전체에 동일한 임계값을 적용하는 경우에 조명이나 특정 잡음으로 인해 문제가 되는 경우가 있다. <br /> \n",
    "아래 그림은 lens shading의 문제로 인해 중심은 밝고 주변은 어두운 이미지(왼쪽)에 대하여, 그림 전체에 대하여 동일한 임계값을 적용하는 경우는 중간에 있는 <br /> \n",
    "그림과 같이 문제가 있지만, 전체 영역을 여러 개로 나누고 각각의 영역에 대하여 적절한 thresholding을 하는 경우는 왼쪽의 그림과 같이 좋은 결과를 얻을 수 있다.\n",
    "___"
   ]
  },
  {
   "cell_type": "markdown",
   "metadata": {},
   "source": [
    "<img src=\"./Images/13.png\" width=600 />"
   ]
  },
  {
   "cell_type": "markdown",
   "metadata": {},
   "source": [
    "이처럼 그림 영역을 여러 개의 영역으로 나누고 각각에 대하여 다른 임계값을 적용하는 것을 local thresholding이라고 부른다.\n",
    "___"
   ]
  },
  {
   "cell_type": "markdown",
   "metadata": {},
   "source": [
    "또 다른 예로 아래와 같이 banding noise가 있는 경우에도 local thresholding을 적용하면 유용한 결과를 얻을 수 있다.\n",
    "___"
   ]
  },
  {
   "cell_type": "markdown",
   "metadata": {},
   "source": [
    "<img src=\"./Images/14.png\" width=600 />\n",
    "___"
   ]
  },
  {
   "cell_type": "markdown",
   "metadata": {},
   "source": [
    "Thresholding은 직관적이기 때문에 쉽게 이해가 가능하고, 실제로 비전 알고리즘의 응용 분야에서 이미지의 경계를 추출하거나 이진화(Binarization)를 위해 사용된다."
   ]
  },
  {
   "cell_type": "markdown",
   "metadata": {},
   "source": [
    "## 엣지(edge) 기반의 segmentation"
   ]
  },
  {
   "cell_type": "markdown",
   "metadata": {},
   "source": [
    "엣지 기반의 segmentation의 장점은 복잡하지 않다는 것과 영역을 분리할 때 엣지가 중요한 특징이 된다는 점이다. <br />\n",
    "그리 복잡하지 않으면서도 효과는 매우 좋기 때문에 이미지의 segmentation에서 많이 사용이 된다. <br /> \n",
    "하지만 엣지 기반의 방식은 이미지에 잡음이 있거나 부분적으로 가려지는 현상이 발생하면 성능이 떨어지는 문제가 있다."
   ]
  },
  {
   "cell_type": "markdown",
   "metadata": {},
   "source": [
    "엣지 기반의 방법은 크게 2개의 과정으로 이루어진다."
   ]
  },
  {
   "cell_type": "markdown",
   "metadata": {},
   "source": [
    "- 엣지 검출: 엣지에 있는 픽셀(edgel이라고도 부름)을 찾아내는 과정, Gradient, Laplacian, LoG, Canny filter 등등"
   ]
  },
  {
   "cell_type": "markdown",
   "metadata": {},
   "source": [
    "- 엣지 연결: 엣지에 있는 픽셀들을 연결하는 과정, <br />\n",
    "지역적인 방식(local processing) - Gradient의 방향과 크기가 미리 정한 기준을 만족하는 경우 인접한 픽셀을 연결 <br />\n",
    "전역적인 방식(global processing) - 허프 변환(Hough transform)"
   ]
  },
  {
   "cell_type": "markdown",
   "metadata": {},
   "source": [
    "## Gradient"
   ]
  },
  {
   "cell_type": "markdown",
   "metadata": {},
   "source": [
    "엣지란 이미지에 존재한 불연속적인 부분을 말하여, 대상으로는 밝기, 컬러, 표면의 무늬(texture) 같은 것들이 있다. <br />\n",
    "엣지 검출 방법은 매우 많으며, 흔히 공간 필터(spatial filter)를 많이 사용한다. <br />\n",
    "공간 필터들의 역할은 이미지로부터 gradient를 추출하며, 아래 그림과 같이 gradient는 가장 변화의 속도가 빠른 방향을 나타내게 된다.\n",
    "___"
   ]
  },
  {
   "cell_type": "markdown",
   "metadata": {},
   "source": [
    "<img src=\"./Images/15.png\" width=700 />\n",
    "___"
   ]
  },
  {
   "cell_type": "markdown",
   "metadata": {},
   "source": [
    "또한 gradient는 변화의 세기를 나타내는 “크기”와 가장 변화의 속도가 빠른 쪽을 나타내는 “방향”을 가지며 아래 식과 같다.\n",
    "___"
   ]
  },
  {
   "cell_type": "markdown",
   "metadata": {},
   "source": [
    "<img src=\"./Images/16.png\" width=600 />\n",
    "___"
   ]
  },
  {
   "cell_type": "markdown",
   "metadata": {},
   "source": [
    "## 에지 검출 필터 (1차 미분/2차미분)"
   ]
  },
  {
   "cell_type": "markdown",
   "metadata": {},
   "source": [
    "엣지 검출이란 불연속한 부분을 찾아내는 것이기 때문에 흔히 1차 미분과 2차 미분을 이용한다. <br /> \n",
    "1차 미분을 사용하는 대표적인 필터로는 Prewitt, Robert, Sobel 등이 있다. <br />\n",
    "많이 사용하는 Sobel 필터만 살펴보면 아래의 수식과 같으며, $x$와 $y$방향의 엣지를 각각 검출한 후 합치는 과정을 거친다.\n",
    "___"
   ]
  },
  {
   "cell_type": "markdown",
   "metadata": {},
   "source": [
    "<img src=\"./Images/17.png\" width=500 />\n",
    "___"
   ]
  },
  {
   "cell_type": "markdown",
   "metadata": {},
   "source": [
    "<img src=\"./Images/18.png\" width=500 />\n",
    "___"
   ]
  },
  {
   "cell_type": "markdown",
   "metadata": {},
   "source": [
    "## 엣지 검출과 잡음의 영향"
   ]
  },
  {
   "cell_type": "markdown",
   "metadata": {},
   "source": [
    "잡음이 많은 경우에는 아래 그림처럼, 미분을 하더라도 엣지 검출이 어려울 수도 있다.\n",
    "___"
   ]
  },
  {
   "cell_type": "markdown",
   "metadata": {},
   "source": [
    "<img src=\"./Images/19.png\" width=500 />"
   ]
  },
  {
   "cell_type": "markdown",
   "metadata": {},
   "source": [
    "그러므로 효과적인 엣지 검출을 하려면, 사전에 smoothing 필터 등을 사용하여 잡음의 영향을 줄이는 것이 필요하다.\n",
    "___"
   ]
  },
  {
   "cell_type": "markdown",
   "metadata": {},
   "source": [
    "아래 그림은 동일한 데이터에 대하여 가우시안 필터를 적용한 후에 엣지 검출이 되는 것을 보여준다.\n",
    "___"
   ]
  },
  {
   "cell_type": "markdown",
   "metadata": {},
   "source": [
    "<img src=\"./Images/21.png\" width=600 />\n",
    "___"
   ]
  },
  {
   "cell_type": "markdown",
   "metadata": {},
   "source": [
    "## Laplacian of Gaussian (LoG), Difference of Gaussian (DoG)"
   ]
  },
  {
   "cell_type": "markdown",
   "metadata": {},
   "source": [
    "사전에 가우시안 필터를 적용하여 잡음을 제거하고 여기에 2차 미분 필터인 라플라시안 필터를 적용하면, 아래 그림처럼 큰 엣지를 비교적 쉽게 찾아낼 수 있다.\n",
    "___"
   ]
  },
  {
   "cell_type": "markdown",
   "metadata": {},
   "source": [
    "<img src=\"./Images/22.png\" width=600 />\n",
    "___"
   ]
  },
  {
   "cell_type": "markdown",
   "metadata": {},
   "source": [
    "가우시안과 LoG 필터의 커널은 아래 그림과 같다.\n",
    "___"
   ]
  },
  {
   "cell_type": "markdown",
   "metadata": {},
   "source": [
    "<img src=\"./Images/23.png\" width=600 />"
   ]
  },
  {
   "cell_type": "markdown",
   "metadata": {},
   "source": [
    "LoG는 잡음이 있는 환경에서도 엣지를 잘 찾을 수 있기 때문에 여러 곳에서 많이 쓰이고 있다. <br />\n",
    "가우시안 필터는 σ 값에 따라 smoothing을 적용하는 범위가 달라지게 되며, SIFT(Scale Invariant Feature Transform)에서는 연산량이 많은 LoG 대신에 <br /> \n",
    "DoG(Difference of Gaussian)을 사용하기도 한다.\n",
    "___"
   ]
  },
  {
   "cell_type": "markdown",
   "metadata": {},
   "source": [
    "아래 그림의 왼쪽은 원 영상이며, 오른쪽은 5x5 가우시안 필터를 적용한 영상이다.\n",
    "___"
   ]
  },
  {
   "cell_type": "markdown",
   "metadata": {},
   "source": [
    "<img src=\"./Images/24.png\" width=600 />"
   ]
  },
  {
   "cell_type": "markdown",
   "metadata": {},
   "source": [
    "5x5 가우시안 필터를 적용하면 이미지의 detail이 많이 무너지는데, 같은 공간에 원 이미지와 가우시안 핕터가 적용된 이미지를 같이 나타내기 위해 이미지의 크기를 <br /> \n",
    "줄였더니, 가우시안 필터 효과가 작아보인다는 점은 감안이 필요하다.\n",
    "___"
   ]
  },
  {
   "cell_type": "markdown",
   "metadata": {},
   "source": [
    "어쨌든 이 두 개의 그림의 차(difference)를 이용하면, 즉 DoG 된, 이미지를 구하면 엣지가 그런대로 잘 검출되는 것을 확인할 수 있다."
   ]
  },
  {
   "cell_type": "markdown",
   "metadata": {},
   "source": [
    "위 2개의 이미지의 차를 구하게 되면, 아래 그림과 같으며 어느 정도 엣지 검출 능력이 있음을 알 수 있다.\n",
    "___"
   ]
  },
  {
   "cell_type": "markdown",
   "metadata": {},
   "source": [
    "<img src=\"./Images/25.png\" width=300 />"
   ]
  },
  {
   "cell_type": "markdown",
   "metadata": {},
   "source": [
    "이 그림은 위 두 이미지의 차이에 4를 곱하고 128을 offset으로 더해서 얻어진 이미지이다. (검출되는 엣지를 확인할 수 있도록 좀 더 큰 그림으로 나타내었다)\n",
    "___"
   ]
  },
  {
   "cell_type": "markdown",
   "metadata": {},
   "source": [
    "## 검출된 엣지의 후 처리 (post-processing)"
   ]
  },
  {
   "cell_type": "markdown",
   "metadata": {},
   "source": [
    "공간 필터를 통해 검출된 엣지는 곧바로 사용하기에는 부적절하기 때문에 후처리(post-processing)을 필요로 한다. <br /> \n",
    "왜냐하면, 아래 그림에서 볼 수 있는 것처럼, 개체의 경계 부분만 검출이 되면 좋겠지만 경계가 아닌 부분도 같이 검출이 되고 때로는 경계에 해당하는 부분에서 <br />\n",
    "검출된 값이 작아서 후처리 과정에서 사라지는 경우도 존재한다.\n",
    "___"
   ]
  },
  {
   "cell_type": "markdown",
   "metadata": {},
   "source": [
    "<img src=\"./Images/26.png\" width=700 />"
   ]
  },
  {
   "cell_type": "markdown",
   "metadata": {},
   "source": [
    "앞에서 살펴본 LoG의 장점에도 불구하고, LoG를 사용하게 되면 경계 부분이 smoothing 되면서 사라질 수 있어 정확한 외곽선 검출이 어려울 수도 있다.\n",
    "___"
   ]
  },
  {
   "cell_type": "markdown",
   "metadata": {},
   "source": [
    "위 그림은 그래도 상태가 좋지만, 아래와 같은 경우를 고려해보자.\n",
    "___"
   ]
  },
  {
   "cell_type": "markdown",
   "metadata": {},
   "source": [
    "<img src=\"./Images/27.png\" width=700 />"
   ]
  },
  {
   "cell_type": "markdown",
   "metadata": {},
   "source": [
    "원 이미지에 작은 detail이 너무 많기 때문에 gradient를 구하더라도 상당히 곤혹스럽다. 왼쪽은 원 이미지이고 오른쪽은 공간필터를 이용하여 구한 ‘gradient 크기’ 이미지이다.\n",
    "___"
   ]
  },
  {
   "cell_type": "markdown",
   "metadata": {},
   "source": [
    "이 ‘gradient 크기’ 이미지로부터 좀 더 의미 있는 엣지를 추출하려면 추출된 엣지들에 대하여 thresholding을 적용해야 하며, 아래 그림은 서로 다른 <br /> \n",
    "thresholding을 적용한 경우를 보여준다. \n",
    "___"
   ]
  },
  {
   "cell_type": "markdown",
   "metadata": {},
   "source": [
    "<img src=\"./Images/28.png\" width=700 />"
   ]
  },
  {
   "cell_type": "markdown",
   "metadata": {},
   "source": [
    "Thresholding 값을 달리하였을 때 좀 왼쪽이 좀 나은 것처럼 보이지만 여전히 여기서 무언가를 끄집어내기는 쉽지 않다.\n",
    "___"
   ]
  },
  {
   "cell_type": "markdown",
   "metadata": {},
   "source": [
    "후처리 과정으로 대표적인 것들은 다음과 같다."
   ]
  },
  {
   "cell_type": "markdown",
   "metadata": {},
   "source": [
    "- Thresholding: 일정 크기 이하의 엣지들을 제거하여 큰 엣지 위주로 정리\n",
    "\n",
    "- Thinning: non-maximum suppression을 적용하여, 굵은 엣지를 얇게 처리\n",
    "\n",
    "- Hysteresis thresholding: 1 개의 threshold를 이용하는 대신에, high와 low 2개의 threshold를 사용하며, high threshold 엣지에 연결된 <br /> \n",
    "low threshold 엣지는 제거하지 않고 살려두는 것을 말한다.\n",
    "___"
   ]
  },
  {
   "cell_type": "markdown",
   "metadata": {},
   "source": [
    "<img src=\"./Images/29.png\" width=600 />"
   ]
  },
  {
   "cell_type": "markdown",
   "metadata": {},
   "source": [
    "위 그림에서 왼쪽 위에 있는 그림은 작은 threshold를 적용했기 때문에 많은 작은 엣지가 살아 있으며, 오른쪽은 높은 threshold를 적용했기 때문에 엣지가 많이 사라졌으며, <br /> \n",
    "밑에 있는 그림은 hysteresis thresholding을 적용하였을 때를 보여준다. <br /> \n",
    "Low와 High threshold의 두 가지 threshold의 장점을 취할 수 있게 되었다.\n",
    "___"
   ]
  },
  {
   "cell_type": "markdown",
   "metadata": {},
   "source": [
    "앞서 살펴본 대부분의 후처리 과정 및 장점들은 “Canny Edge Detector”에 거의 대부분 적용이 된다."
   ]
  },
  {
   "cell_type": "markdown",
   "metadata": {},
   "source": [
    "## Edge thinning"
   ]
  },
  {
   "cell_type": "markdown",
   "metadata": {},
   "source": [
    "Edge thinning 이란 말 그대로 검출한 엣지를 1 픽셀 크기로 얇게 만드는 것을 말한다. <br /> \n",
    "보통 엣지 검출을 하기 전에 잡음을 제거하기 위해 미디안(median)이나 가우시안 필터와 같은 smoothing 필터를 적용한다. <br />\n",
    "그 후 엣지 검출을 위해 공간 필터를 적용하면, 보통은 선폭이 1 픽셀 이상이기 때문에 이것을 적절한 방법으로 얇게 만들어줘야 하는데, 이것을 thinning 이라고 부른다."
   ]
  },
  {
   "cell_type": "markdown",
   "metadata": {},
   "source": [
    "Thinning을 하는 이유는 얇고 선명한(sharp) 엣지가 객체 등의 응용에서 훨씬 유용하기 때문이며, 허프 변환(Hough transform)을 이용하여 직선이나 타원 등을 <br />\n",
    "검출할 때도 얇은 경우에 결과가 더 좋게 나오기 때문이며, 때로는 엣지가 객체의 경계에 위치하고 있는 경우는 객체의 perimeter를 구할 때 복잡한 공식을 사용하지 않고도 <br /> \n",
    "쉽게 할 수 있기 때문이다. <br />\n",
    "Thinning은 아래 그림처럼 보통 4방향 혹은 8 방향 방법을 사용한다.\n",
    "___"
   ]
  },
  {
   "cell_type": "markdown",
   "metadata": {},
   "source": [
    "<img src=\"./Images/30.png\" width=600 />"
   ]
  },
  {
   "cell_type": "markdown",
   "metadata": {},
   "source": [
    "4 방향 또는 8 방향 방법을 정했다면, 중심 픽셀의 엣지값과 주변 픽셀의 엣지값을 비교하여 중심 픽셀이 가장 큰 값인 경우는 남겨두고, 그렇지 않은 경우는 제거하는 방식이다. <br /> \n",
    "그래서 이것을 non-maximum suppression이라고도 부른다.\n",
    "___"
   ]
  },
  {
   "cell_type": "markdown",
   "metadata": {},
   "source": [
    "예를 들면, 왼쪽과 같은 이미지에 대하여 thinning을 하면 오른쪽과 같은 결과가 나온다.\n",
    "___"
   ]
  },
  {
   "cell_type": "markdown",
   "metadata": {},
   "source": [
    "<img src=\"./Images/31.png\" width=600 />"
   ]
  },
  {
   "cell_type": "markdown",
   "metadata": {},
   "source": [
    "먼저 맨 왼쪽/위 방향부터 3x3 sliding window를 적용시키면서 3x3 window의 중심값보다 큰 주변값이 있으면 중심값을 계속 0으로 바꿔가면, 최종적으로는 오른쪽과 같은 이미지를 얻을 수 있다.\n",
    "___"
   ]
  },
  {
   "cell_type": "markdown",
   "metadata": {},
   "source": [
    "## Canny Edge Detector"
   ]
  },
  {
   "cell_type": "markdown",
   "metadata": {},
   "source": [
    "Canny 엣지 검출기는 1986년에 “A Computational Approach to Edge Detection” 라는 제목으로 J. Canny가 발표를 하였으며, 다른 엣지 검출기에 비해 <br /> \n",
    "성능이 뛰어나기 때문에 가장 많이 사용되는 엣지 검출 알고리즘 중 하나이다. <br />\n",
    "최적의 엣지(optimal edge)를 검출하려면 다음과 같은 3가지 항목의 특성이 좋아야 한다.\n",
    "\n",
    "- 잡음 제거 또는 평활화(Noise smoothing)\n",
    "\n",
    "- 엣지 개선(Edge enhancement)\n",
    "\n",
    "- 엣지 위치 파악(Edge localization)"
   ]
  },
  {
   "cell_type": "markdown",
   "metadata": {},
   "source": [
    "3가지 항목의 특성을 살펴보기 위해 아래 그림과 같은 이상적인 edge에 백색 가우시안 잡음이 추가된 경우를 고려해보자. \n",
    "___"
   ]
  },
  {
   "cell_type": "markdown",
   "metadata": {},
   "source": [
    "<img src=\"./Images/32.png\" width=500 />"
   ]
  },
  {
   "cell_type": "markdown",
   "metadata": {},
   "source": [
    "잡음이 있더라도 우수한 엣지 검출력을 보이려면, 실제로 엣지가 위치하고 있는 $x=0$에서 잡음보다 큰 응답 특성이 나와야 하고, 실제로 가장 큰 엣지 값이 나와야 한다. <br />\n",
    "(Noise smoothing, Edge localization)\n",
    "___"
   ]
  },
  {
   "cell_type": "markdown",
   "metadata": {},
   "source": [
    "또한 x = 0 일정 근처에서 단 1개의 최고값만을 갖도록 해줘야 한다. <br /> \n",
    "아래 그림에서 볼 수 있는 것처럼, 다음 peak와는 어느 정도 거리 확보가 필요하다. (Edge enhancement)\n",
    "___"
   ]
  },
  {
   "cell_type": "markdown",
   "metadata": {},
   "source": [
    "<img src=\"./Images/33.png\" width=500 />"
   ]
  },
  {
   "cell_type": "markdown",
   "metadata": {},
   "source": [
    "<img src=\"./Images/33.png\" width=500 />\n",
    "___"
   ]
  },
  {
   "cell_type": "markdown",
   "metadata": {},
   "source": [
    "Canny 엣지 검출기는 위 3가지 특성을 극대화하기 위한 목적으로 개발된 개발된 엣지 검출기라고 볼 수 있다. <br /> \n",
    "Canny 엣지 검출기는 다음과 같은 3개의 과정으로 이루어져 있다.\n",
    "\n",
    "- Gaussian smoothing한 후에 Gradient의 크기와 방향을 구한다.\n",
    "\n",
    "- Non-maximum suppression을 통해 검출된 엣지를 1 픽셀의 크기로 얇게 만든다.\n",
    "\n",
    "- Edge Linking 및 Hysteresis thresholding을 통해 의미 있는 엣지만을 남긴다"
   ]
  },
  {
   "cell_type": "markdown",
   "metadata": {},
   "source": [
    "## Canny 엣지 검출의 상세 과정 – Smoothing, Gradient 구하기"
   ]
  },
  {
   "cell_type": "markdown",
   "metadata": {},
   "source": [
    "첫 번째 과정은 잡음의 영향을 최소화하기 위해 가우시안 필터를 적용하여 영상을 부드럽게 만들고, gradient를 구하기 위해 $x$ 및 $y$ 방향으로 미분을 하는 것이다."
   ]
  },
  {
   "cell_type": "markdown",
   "metadata": {},
   "source": [
    "원래는 가우시안 필터링을 먼저 하고 미분을 하는 것이 맞지만, 가우시안 함수의 convolution 특성 상 가우시안 함수의 미분을 먼저 한 뒤에 convolution을 해도 상관없다. <br /> \n",
    "이 수식은 아래와 같다. 여기서 $I$는 엣지를 구할 원 이미지이다.\n",
    "___"
   ]
  },
  {
   "cell_type": "markdown",
   "metadata": {},
   "source": [
    "<img src=\"./Images/35.png\" width=600 />\n",
    "___"
   ]
  },
  {
   "cell_type": "markdown",
   "metadata": {},
   "source": [
    "가우시안 함수를 미분한 수식은 아래와 같으며, 이 식에서 σ는 연산을 적용할 커널의 크기를 결정한다.\n",
    "___"
   ]
  },
  {
   "cell_type": "markdown",
   "metadata": {},
   "source": [
    "<img src=\"./Images/36.png\" width=600 />"
   ]
  },
  {
   "cell_type": "markdown",
   "metadata": {},
   "source": [
    "이 식에서 scale(σ)는 smoothing이 되는 정도를 결정하는 변수이며, 이 값이 커지면 커질수록 아래와 같은 성질을 갖는다.\n",
    "\n",
    "- 잡음 엣지를 더 많이 제거할 수 있게 됨.\n",
    "\n",
    "- 엣지를 더 부드럽게 하면서 두껍게 만드는 경향이 있음.\n",
    "\n",
    "- 이미지에 있는 섬세한 detail들을 제거.\n",
    "___"
   ]
  },
  {
   "cell_type": "markdown",
   "metadata": {},
   "source": [
    "이런 점들을 고려하여, smoothing 된 이미지에 대하여 $x$, $y$ 방향의 미분을 구하면 아래 그림과 같이 된다.\n",
    "___"
   ]
  },
  {
   "cell_type": "markdown",
   "metadata": {},
   "source": [
    "<img src=\"./Images/37.png\" width=600 />\n",
    "___"
   ]
  },
  {
   "cell_type": "markdown",
   "metadata": {},
   "source": [
    "이 결과를 이용해 gradient의 크기와 방향을 구하고, 이렇게 구해진 엣지를 thresholding을 통해 임계값 이상만을 보여주면 아래와 같아진다."
   ]
  },
  {
   "cell_type": "markdown",
   "metadata": {},
   "source": [
    "___"
   ]
  },
  {
   "cell_type": "markdown",
   "metadata": {},
   "source": [
    "<img src=\"./Images/38.png\" width=600 />"
   ]
  },
  {
   "cell_type": "markdown",
   "metadata": {},
   "source": [
    "## Canny 엣지 검출의 상세 과정 – Thinning (Non-maximum Suppression)"
   ]
  },
  {
   "cell_type": "markdown",
   "metadata": {},
   "source": [
    "Canny 엣지 검출에서의 thinning은 앞서 살핀 것과 약간 다르다. <br />\n",
    "첫번째 과정을 통해 gradient의 방향을 구했기 때문에 gradient의 변화의 방향을 이미 알고 있으므로, 변화하는 방향으로 스캔을 하면서 최대값이 되는 부분을 찾는다."
   ]
  },
  {
   "cell_type": "markdown",
   "metadata": {},
   "source": [
    "아래 그림은 thinning을 설명할 때 흔히 사용되는 그림으로 왼쪽과 같이 gradient magnitude 이미지가 얻어졌고, gradient의 방향이 오른쪽의 직선과 같은 방향이라면, <br /> \n",
    "직선 방향으로 스캔을 하면서 가장 큰 값만 남기고 픽셀 값을 모두 0으로 만든다. <br /> \n",
    "그러면 1 픽셀단위의 얇은 선이 만들어지게 된다.\n",
    "___"
   ]
  },
  {
   "cell_type": "markdown",
   "metadata": {},
   "source": [
    "<img src=\"./Images/39.png\" width=500 />"
   ]
  },
  {
   "cell_type": "markdown",
   "metadata": {},
   "source": [
    "앞서 구한 동일한 이미지에 대하여 thinning을 적용하면, 아래 그림과 같이 얇은 선을 얻을 수 있다.\n",
    "___"
   ]
  },
  {
   "cell_type": "markdown",
   "metadata": {},
   "source": [
    "이전과 동일하게 특정 임계값에 대한 thresholding을 한 결과 역시 아래와 같음을 확인할 수 있다.\n",
    "___"
   ]
  },
  {
   "cell_type": "markdown",
   "metadata": {},
   "source": [
    "<img src=\"./Images/40.png\" width=600 />"
   ]
  },
  {
   "cell_type": "markdown",
   "metadata": {},
   "source": [
    "## Canny 엣지 검출의 상세 과정 – Hysteresis"
   ]
  },
  {
   "cell_type": "markdown",
   "metadata": {},
   "source": [
    "아래 그림은 high와 low 및 hysteresis 엣지에 대한 예이며, 그림을 보면 hysteresis thresholding을 사용한 경우가 적절하게 엣지가 살아 있는 것을 확인할 수 있다.\n",
    "___"
   ]
  },
  {
   "cell_type": "markdown",
   "metadata": {},
   "source": [
    "<img src=\"./Images/41.png\" width=600 />"
   ]
  },
  {
   "cell_type": "markdown",
   "metadata": {},
   "source": [
    "## Canny 엣지 검출에서 σ의 영향"
   ]
  },
  {
   "cell_type": "markdown",
   "metadata": {},
   "source": [
    "아래 그림은 scale의 변화에 따라 검출되는 엣지의 모양이 달라지는 것을 보여주는 예이다. <br /> \n",
    "σ가 클수록 강한 엣지가 검출이 되고, σ가 작아지면 섬세한 특징을 보기에 좋다.\n",
    "___"
   ]
  },
  {
   "cell_type": "markdown",
   "metadata": {},
   "source": [
    "<img src=\"./Images/42.png\" width=600 />"
   ]
  },
  {
   "cell_type": "markdown",
   "metadata": {},
   "source": [
    "또한 σ가 커지면 커지면 엣지 검출은 잘 되지만 엣지의 위치가 smoothing에 의해 달라질 수 있기 때문에, 엣지 검출과 정확도에 trade-off 관계가 있다는 점에도 주의를 해야 한다.\n",
    "___"
   ]
  },
  {
   "cell_type": "markdown",
   "metadata": {},
   "source": [
    "Image Segmentation 5"
   ]
  }
 ],
 "metadata": {
  "kernelspec": {
   "display_name": "Python 3",
   "language": "python",
   "name": "python3"
  },
  "language_info": {
   "codemirror_mode": {
    "name": "ipython",
    "version": 3
   },
   "file_extension": ".py",
   "mimetype": "text/x-python",
   "name": "python",
   "nbconvert_exporter": "python",
   "pygments_lexer": "ipython3",
   "version": "3.6.1"
  }
 },
 "nbformat": 4,
 "nbformat_minor": 2
}
