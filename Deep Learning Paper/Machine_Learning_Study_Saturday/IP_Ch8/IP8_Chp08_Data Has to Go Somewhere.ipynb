{
 "cells": [
  {
   "cell_type": "markdown",
   "metadata": {},
   "source": [
    "# IP8_Chp08_Data Has to Go Somewhere\n",
    "* 작성자: 최시현, 이아름\n",
    "* 발표일자: 2017. 09. 02(토)\n",
    "---\n",
    "\n",
    "  "
   ]
  },
  {
   "cell_type": "markdown",
   "metadata": {
    "collapsed": true
   },
   "source": [
    "##### Table of contents\n",
    "1. File Input, Output (파일 입출력)\n",
    "2. Structured Text Files (구조화된 텍스트 파일)\n",
    "3. Structured Binary Files(구조화된 이진 파일)"
   ]
  },
  {
   "cell_type": "markdown",
   "metadata": {},
   "source": [
    "## File Input, Output\n"
   ]
  },
  {
   "cell_type": "markdown",
   "metadata": {},
   "source": [
    ">### Cf 절대경로 VS 상대경로\n",
    ">절대경로: 작업 디렉토리와 관계없이 절대적인 위치를 가리키는 경로\n",
    ">- ex) C:\\Users\\Choi\\Machine_Learning_Study_Saturday\\ABC.py\n",
    "\n",
    ">상대경로: 작업 디렉토리를 기준으로 상대적인 위치를 가리키는 경로\n",
    ">- / : 최상위 경로를 의미\n",
    ">- ./: 현재 디렉토리(폴더)를 의미\n",
    ">- ../: 상위 디렉토리를 의미\n",
    ">- ex) ./ABC.PY\n",
    ">- 파이썬 언어에서 작업 디렉토리를 파악하고자 할 때 <br />\n",
    ">import os <br />\n",
    ">os.getcwd()"
   ]
  },
  {
   "cell_type": "markdown",
   "metadata": {},
   "source": [
    "파일을 읽고 쓰려면 먼저 파일을 열어야 한다."
   ]
  },
  {
   "cell_type": "code",
   "execution_count": null,
   "metadata": {
    "collapsed": true
   },
   "outputs": [],
   "source": [
    "fileobj = open(filename, mode)"
   ]
  },
  {
   "cell_type": "markdown",
   "metadata": {},
   "source": [
    "- fileobj는 open()에 의해 반환되는 파일 객체다.\n",
    "- filename은 파일의 문자열 이름이다.\n",
    "- mode는 파일 타입과 파일로 무엇을 할지 명시하는 문자열이다."
   ]
  },
  {
   "cell_type": "markdown",
   "metadata": {},
   "source": [
    "mode의 첫번째 글자는 작업을 명시한다\n",
    "- r: 파일 읽기\n",
    "- w: 파일 쓰기(덮어 쓰기 o)\n",
    "- x: 파일 쓰기(덮어 쓰기 x)\n",
    "- a: 파일 추가하기(파일이 존재하면 파일의 끝에서부터 쓴다)"
   ]
  },
  {
   "cell_type": "markdown",
   "metadata": {},
   "source": [
    "mode의 두번째 글자는 파일 타입을 명시한다\n",
    "- t(또는 비움): 텍스트 타입\n",
    "- b: 이진 타입"
   ]
  },
  {
   "cell_type": "markdown",
   "metadata": {},
   "source": [
    "### 1. 텍스트 파일 쓰기: Write()\n",
    "예제를 통해 살펴보자."
   ]
  },
  {
   "cell_type": "code",
   "execution_count": null,
   "metadata": {
    "collapsed": true
   },
   "outputs": [],
   "source": [
    "poem = '''There was a young lady name Bright,\n",
    "Whose speed was far faster than light;\n",
    "She started one day\n",
    "In a relatively way,\n",
    "And returned on the previous night.'''"
   ]
  },
  {
   "cell_type": "code",
   "execution_count": null,
   "metadata": {
    "collapsed": true
   },
   "outputs": [],
   "source": [
    "fout = open('relativity', 'wt') #쓰기 모드로 relatively 파일을 open\n",
    "fout.write(poem)\n",
    "fout.close() #파일을 열고 다 사용했다면 반드시 다시 닫아주어야 함"
   ]
  },
  {
   "cell_type": "code",
   "execution_count": null,
   "metadata": {
    "collapsed": true
   },
   "outputs": [],
   "source": [
    "fout = open('relativity', 'wt') \n",
    "print(poem, file=fout) \n",
    "fout.close() "
   ]
  },
  {
   "cell_type": "markdown",
   "metadata": {},
   "source": [
    "#### write()와 print()의 차이?\n",
    "print()를 write()처럼 사용하려면"
   ]
  },
  {
   "cell_type": "code",
   "execution_count": null,
   "metadata": {
    "collapsed": true
   },
   "outputs": [],
   "source": [
    "fout = open('relativity', 'wt') \n",
    "print(poem, file=fout, sep='', end='') \n",
    "fout.close() "
   ]
  },
  {
   "cell_type": "markdown",
   "metadata": {},
   "source": [
    "- sep(구분자): 기본값은 스페이스(' ')다.\n",
    "- end(문자열 끝): 기본값은 줄바꿈('\\n')다."
   ]
  },
  {
   "cell_type": "markdown",
   "metadata": {},
   "source": [
    "파일에 쓸 문자열이 크면 특정 단위로 나누어서 파일에 쓴다."
   ]
  },
  {
   "cell_type": "code",
   "execution_count": null,
   "metadata": {
    "collapsed": true
   },
   "outputs": [],
   "source": [
    "fout = open('relativity', 'wt')\n",
    "size = len(poem)\n",
    "offset = 0\n",
    "chunk = 100\n",
    "while True:\n",
    "    if offset > size:\n",
    "        break\n",
    "    fout.write(poem[offset:offset+chunk])\n",
    "    offset += chunk\n",
    "fout.close()"
   ]
  },
  {
   "cell_type": "markdown",
   "metadata": {},
   "source": [
    "만일 relativity 파일이 중요하다면 모드 x를 사용하여 파일을 덮어쓰지 않도록 한다"
   ]
  },
  {
   "cell_type": "code",
   "execution_count": null,
   "metadata": {
    "collapsed": true
   },
   "outputs": [],
   "source": [
    "try:\n",
    "    fout = open('relativity', 'xt')\n",
    "    fout.write('stomp stomp stomp')\n",
    "except FileExistsError:\n",
    "    print('relativity already exist!. That was a close one.')\n",
    "    \n"
   ]
  },
  {
   "cell_type": "markdown",
   "metadata": {},
   "source": [
    "### 2. 텍스트 파일 읽기: read(), readline(), readlines()"
   ]
  },
  {
   "cell_type": "markdown",
   "metadata": {},
   "source": [
    "- read()"
   ]
  },
  {
   "cell_type": "code",
   "execution_count": null,
   "metadata": {
    "collapsed": true
   },
   "outputs": [],
   "source": [
    "fin = open('relativity', 'rt')\n",
    "poem = fin.read()\n",
    "fin.close()\n",
    "len(poem)\n",
    "\n",
    "# 만약 큰 파일을 이와 같이 읽으면 메모리가 소비될 수 있으므로 주의한다."
   ]
  },
  {
   "cell_type": "code",
   "execution_count": null,
   "metadata": {
    "collapsed": true
   },
   "outputs": [],
   "source": [
    "# read() 함수가 한 번에 읽을 수 있는 문자수를 제한하려면 최대 문자수를 인자로 입력한다.\n",
    "poem = ''\n",
    "fin = open('relativity', 'rt')\n",
    "chunk = 100\n",
    "while True:\n",
    "    fragment = fin.read(chunk)\n",
    "    if not fragment: # 파일을 다 읽고나면 fragement는 False가 되고 not fragment는 True가 되어 조건문을 빠져나온다\n",
    "        break\n",
    "    poem += fragment\n",
    "fin.close\n",
    "len(poem)\n",
    "\n",
    "# 파일을 다 읽어서 끝에 도달하면 read()함수는 빈 문자열('')을 반환한다."
   ]
  },
  {
   "cell_type": "markdown",
   "metadata": {},
   "source": [
    "- readline()"
   ]
  },
  {
   "cell_type": "code",
   "execution_count": null,
   "metadata": {
    "collapsed": true
   },
   "outputs": [],
   "source": [
    "# readline() 함수를 사용하여 파일을 라인 단위로 읽을 수 있다.\n",
    "poem = ''\n",
    "fin = open('relativity', 'rt')\n",
    "while True:\n",
    "    line = fin.readline() # 파일 읽기의 끝에 도달했을 때 readline() 함수 또한 False로 간주하는 빈 문자열을 반환한다.\n",
    "    if not line:\n",
    "        break\n",
    "    poem += line\n",
    "fin.close()\n",
    "len(poem)"
   ]
  },
  {
   "cell_type": "code",
   "execution_count": null,
   "metadata": {
    "collapsed": true
   },
   "outputs": [],
   "source": [
    "# for(iterator) 사용. (가장 쉬운 방법)\n",
    "poem = ''\n",
    "fin = open('relativity', 'rt')\n",
    "for line in fin:\n",
    "    poem += line\n",
    "fin.close()\n",
    "len(poem)"
   ]
  },
  {
   "cell_type": "markdown",
   "metadata": {},
   "source": [
    "- readlines()"
   ]
  },
  {
   "cell_type": "code",
   "execution_count": null,
   "metadata": {
    "collapsed": true
   },
   "outputs": [],
   "source": [
    "# readlines() 호출은 한 번에 모든 라인을 읽고, 한 라인으로 된 문자열들의 리스트를 반환한다.\n",
    "fin = open('relativity', 'rt')\n",
    "lines = fin.readlines()\n",
    "fin.close()\n",
    "print(len(lines), 'lines read')\n",
    "for line in lines:\n",
    "    print(line, end='')"
   ]
  },
  {
   "cell_type": "markdown",
   "metadata": {},
   "source": [
    "### 3. 이진 파일 쓰기: write()\n",
    "'b'를 포함시키면 파일은 이진 모드로 연다. 이 경우 문자얄 대신 바이트를 읽고 쓸 수 있다. "
   ]
  },
  {
   "cell_type": "code",
   "execution_count": null,
   "metadata": {
    "collapsed": true
   },
   "outputs": [],
   "source": [
    "bdata = bytes(range(0, 256)) # 256바이트 값을 생성한다.\n",
    "len(bdata)"
   ]
  },
  {
   "cell_type": "code",
   "execution_count": null,
   "metadata": {
    "collapsed": true
   },
   "outputs": [],
   "source": [
    "fout = open('bfile', 'wb') #이진 모드로 파일을 연다.\n",
    "fout.write(bdata)\n",
    "fout.close()"
   ]
  },
  {
   "cell_type": "code",
   "execution_count": null,
   "metadata": {
    "collapsed": true
   },
   "outputs": [],
   "source": [
    "# 특정 단위로 이진 데이터를 쓸 수 있다.\n",
    "fout = open('bfile', 'wb')\n",
    "size = len(bdata)\n",
    "offset = 0\n",
    "chunk = 100\n",
    "while True:\n",
    "    if offset > size:\n",
    "        break\n",
    "    fout.write(bdata[offset:offset+chunk])\n",
    "    offset += chunk\n",
    "fout.close()"
   ]
  },
  {
   "cell_type": "markdown",
   "metadata": {},
   "source": [
    "### 4. 이진 파일 읽기: read()\n",
    "파일을 'rb'모드로 연다."
   ]
  },
  {
   "cell_type": "code",
   "execution_count": null,
   "metadata": {
    "collapsed": true
   },
   "outputs": [],
   "source": [
    "fin = open('bfile', 'rb')\n",
    "bdata = fin.read()\n",
    "len(bdata)\n",
    "fin.close()"
   ]
  },
  {
   "cell_type": "markdown",
   "metadata": {},
   "source": [
    "### 5. 자동으로 파일 닫기: with\n",
    "콘텍스트 매니저 코드 블록의 한 줄이 실행되고 나서 자동으로 파일을 닫아준다."
   ]
  },
  {
   "cell_type": "code",
   "execution_count": null,
   "metadata": {
    "collapsed": true
   },
   "outputs": [],
   "source": [
    "with open('relativity', 'wt') as fout:\n",
    "    fout.write(poem)"
   ]
  },
  {
   "cell_type": "markdown",
   "metadata": {},
   "source": [
    "### 6. 파일 위치 찾기: seek()\n",
    "파일을 읽고 쓸 때, 파이썬은 파일에서 위치를 추적한다.<br />\n",
    "tell() 함수는 파일의 시작으로부터의 현재 오프셋 바이트 단위로 반환한다.<br />\n",
    "seek() 함수는 다른 바이트 오프셋으로 위치를 이동할 수 있다."
   ]
  },
  {
   "cell_type": "code",
   "execution_count": null,
   "metadata": {
    "collapsed": true
   },
   "outputs": [],
   "source": [
    "# 이전에 작성한 256바이트의 이진 파일('bfile')을 사용해보자.\n",
    "fin = open('bfile', 'rb')\n",
    "fin.tell()"
   ]
  },
  {
   "cell_type": "code",
   "execution_count": null,
   "metadata": {
    "collapsed": true
   },
   "outputs": [],
   "source": [
    "# seek()함수를 사용하여 파일의 마지막에서 1바이트 전 위치로 이동한다.\n",
    "fin.seek(255)"
   ]
  },
  {
   "cell_type": "code",
   "execution_count": null,
   "metadata": {
    "collapsed": true
   },
   "outputs": [],
   "source": [
    "bdata = fin.read()\n",
    "len(bdata)"
   ]
  },
  {
   "cell_type": "code",
   "execution_count": null,
   "metadata": {
    "collapsed": true
   },
   "outputs": [],
   "source": [
    "bdata[0]"
   ]
  },
  {
   "cell_type": "markdown",
   "metadata": {},
   "source": [
    "seek() 함수의 형식은 seek(offset, origin)이다. <br />\n",
    "- origin이 0 일 때, 시작 위치에서 offset바이트를 이동한다.\n",
    "- origin이 1일 때, 현재 위치에서 offset바이트 이동한다.\n",
    "- origin이 2일 때, 마지막 위치에서 offset바이트 전 위치로 이동한다."
   ]
  },
  {
   "cell_type": "code",
   "execution_count": null,
   "metadata": {
    "collapsed": true
   },
   "outputs": [],
   "source": [
    "# 이 값은 표준 os 모듈에 정의 되어있다.\n",
    "import os\n",
    "os.SEEK_SET\n",
    "os.SEEK_CUR\n",
    "os.SEEK_END"
   ]
  },
  {
   "cell_type": "code",
   "execution_count": null,
   "metadata": {
    "collapsed": true
   },
   "outputs": [],
   "source": [
    "# 다른 방법으로 마지막 바이트를 읽어보자.\n",
    "fin = open('bfile', 'rb') \n",
    "fin.seek(-1, 2) # 파일의 마지막에서 1바이트 전 위치로 이동한다.\n",
    "fin.tell()\n",
    "\n",
    "# 파일의 마지막 바이트를 읽어보자.\n",
    "bdata = fin.read()\n",
    "len(bdata)\n",
    "bdata[0]\n",
    "\n",
    "# 파일에서 현재 위치를 이동해보자.\n",
    "fin = open('bfile', 'rb')\n",
    "\n",
    "fin.seek(254, 0)\n",
    "fin.tell()\n",
    "\n",
    "# 1바이트 앞으로 이동하자.\n",
    "fin.seek(1, 1)\n",
    "fin.tell()\n",
    "\n",
    "# 파일의 마지막 바이트를 읽어보자.\n",
    "bdata = fin.read()\n",
    "len(bdata)\n",
    "bdata[0]"
   ]
  },
  {
   "cell_type": "markdown",
   "metadata": {},
   "source": [
    "위 함수들은 이진 파일에서 위치를 이동할 때 아주 유용하게 쓰인다. <br />\n",
    "텍스트 파일에도 이 함수를 쓸 수 있으나, 아스키코드(한 문자당 1바이트)가 아니라면 오프셋을 계산하기 힘들다. <br />\n",
    "텍스트는 인코딩에 따라 다르지만, 가장 인기 있는 인코딩(UTF-8)은 한 문자당 여러 바이트를 사용한다."
   ]
  },
  {
   "cell_type": "markdown",
   "metadata": {},
   "source": [
    "## 구조화된 텍스트 파일"
   ]
  },
  {
   "cell_type": "markdown",
   "metadata": {},
   "source": [
    "### 1. CSV\n",
    "- 스프레드시트와 데이터베이스의 데이터 교환 형식으로 자주 사용된다."
   ]
  },
  {
   "cell_type": "code",
   "execution_count": null,
   "metadata": {
    "collapsed": true
   },
   "outputs": [],
   "source": [
    "# 리스트를 읽어서 CSV형식의 파일을 작성해보자\n",
    "import csv\n",
    "villains = [ \n",
    "['Doctor', 'No'],\n",
    "['Rosa', 'Klebb'],\n",
    "['Mister', 'Big'],\n",
    "['Auric', 'Goldfinger'],\n",
    "['Ernst', 'Blofeld']\n",
    "]\n",
    "with open('villains', 'wt') as fout:\n",
    "    csvout = csv.writer(fout)\n",
    "    csvout.writerows(villains)"
   ]
  },
  {
   "cell_type": "code",
   "execution_count": null,
   "metadata": {
    "collapsed": true
   },
   "outputs": [],
   "source": [
    "import csv\n",
    "with open('villains', 'rt') as fin:\n",
    "    cin = csv.reader(fin) # reader() 함수를 사용하여 CSV 형식의 파일을 쉽게 읽을 수 있다.\n",
    "    villains = [row for row in cin] # 리스트 불러오기, for문에서 cin객체의 행을 추출\n",
    "print(villains)\n",
    "# 기본적으로 reader()와 writer()함수는 열은 콤마로 나누어지고, 행은 줄바꿈 문자로 나누어진다."
   ]
  },
  {
   "cell_type": "code",
   "execution_count": null,
   "metadata": {
    "collapsed": true
   },
   "outputs": [],
   "source": [
    "# 딕셔너리의 리스트로 데이터를 만들어보자\n",
    "import csv\n",
    "with open('villains', 'rt') as fin:\n",
    "    cin = csv.DictReader(fin, fieldnames=['first', 'last'])\n",
    "    villains = [row for row in cin]\n",
    "print(villains)"
   ]
  },
  {
   "cell_type": "code",
   "execution_count": null,
   "metadata": {
    "collapsed": true
   },
   "outputs": [],
   "source": [
    "# DictWriter() 함수 사용\n",
    "import csv\n",
    "villains = [\n",
    "{'first': 'Doctor', 'last': 'No'},\n",
    "{'first': 'Rosa', 'last': 'Klebb'},\n",
    "{'first': 'Mister', 'last': 'Big'},\n",
    "{'first': 'Auric', 'last': 'Goldfinger'},\n",
    "{'first': 'Ernst', 'last': 'Blofeld'},\n",
    "]\n",
    "with open('villains', 'wt') as fout:\n",
    "    cout = csv.DictWriter(fout, ['first', 'last'])\n",
    "    cout.writeheader()\n",
    "    cout.writerows(villains)\n",
    "print(villains)"
   ]
  },
  {
   "cell_type": "code",
   "execution_count": null,
   "metadata": {
    "collapsed": true
   },
   "outputs": [],
   "source": [
    "# DictReader()호출에서 필드 이름의 인자를 빼면, 첫 번째 라인(first, last)의 값은 딕셔너리의 키로 사용된다.\n",
    "import csv\n",
    "with open('villains', 'rt') as fin:\n",
    "    cin = csv.DictReader(fin)\n",
    "    villains = [row for row in cin]\n",
    "print(villains)"
   ]
  },
  {
   "cell_type": "markdown",
   "metadata": {},
   "source": [
    "### 2. XML\n",
    "XML은 가장 잘 알려진 마크업 형식이다.<br />\n",
    "XML은 데이터를 구분하기 위해 태그를 사용한다."
   ]
  },
  {
   "cell_type": "code",
   "execution_count": null,
   "metadata": {
    "collapsed": true
   },
   "outputs": [],
   "source": [
    "# XML예제 menu.xml\n",
    "<?xml version=\"1.0\"?> <br />\n",
    "<menu>\n",
    "    <breakfast hour=\"7-11\">\n",
    "        <item price = \"$6.00\">breakfast burritos</item>\n",
    "        <item price = \"$4.00\">pancakes</item>\n",
    "    </breakfast>\n",
    "    <lunch hours=\"11-3\"\n",
    "        <item price=\"$5.00\">hambuger</item>\n",
    "    </lunch>\n",
    "    <dinner hours=\"3-10\">\n",
    "        <item price=\"8.00\">spaghetti</item>\n",
    "    </dinner>\n",
    "</menu> "
   ]
  },
  {
   "cell_type": "markdown",
   "metadata": {},
   "source": [
    "##### XML의 특징\n",
    "- 태그는 < 문자로 시작한다. \n",
    "- 공백은 무시된다.\n",
    "- 일반적으로 시작 태그와 끝 태그가 매칭된다.\n",
    "- 태그안에 태그를 중첩할 수 있다.\n",
    "- 옵션 속성은 시작 태그에 나올 수 있다.\n",
    "- 태그는 값을 가질 수 있다."
   ]
  },
  {
   "cell_type": "markdown",
   "metadata": {},
   "source": [
    "XML은 데이터 피드와 메시지 전송에 많이 쓰인다. <br />"
   ]
  },
  {
   "cell_type": "code",
   "execution_count": null,
   "metadata": {
    "collapsed": true
   },
   "outputs": [],
   "source": [
    "# XML을 파싱하는 간단한 방법은 ElementTree 모듈을 사용하는 것이다, menu.xml을 파싱해보자\n",
    "import xml.etree.ElementTree as et\n",
    "tree = et.ElementTree(file='menu.xml')\n",
    "root = tree.getroot()\n",
    "root.tag\n",
    "for child in root:\n",
    "    print('tag:', child.tag, 'attributes:', child.attrib) #tag는 태그 문자열, attributes은 속성 딕셔너리\n",
    "    for grandchild in child:\n",
    "        print('\\ttag:', grandchild.tag, 'attributes:', grandchild.attrib)\n",
    "len(root) # menu의 하위 태그 수\n",
    "len(root[0])"
   ]
  },
  {
   "cell_type": "markdown",
   "metadata": {},
   "source": [
    "### 3.HTML\n",
    "웹 문서의 기본형식 (9장에서 다룰 예정)"
   ]
  },
  {
   "cell_type": "markdown",
   "metadata": {
    "collapsed": true
   },
   "source": [
    "### 4. JSON\n",
    "데이터를 교환하는 인기 있는 형식이다. <br />\n",
    "파이썬과 JSON은 궁합이 잘 맞다. <br />\n",
    "json이라고 하는 하나의 모듈만 존재한다. <br />\n",
    "이 모듈을 이용하여 JSON 문자열로 인코딩하고, JSON문자열을 다시 데이터로 디코딩 할 수 있다. <br />"
   ]
  },
  {
   "cell_type": "code",
   "execution_count": null,
   "metadata": {
    "collapsed": true
   },
   "outputs": [],
   "source": [
    "menu = \\\n",
    "{\n",
    "\"breakfast\": {\n",
    "    \"hours\": \"7-11\",\n",
    "    \"items\": {\n",
    "        \"breakfast burritos\": \"$6:00\",\n",
    "        \"pancakes\": \"$4:00\"\n",
    "    }\n",
    "},\n",
    "\"lunch\": {\n",
    "    \"hours\": \"11-3\",\n",
    "    \"items\": {\n",
    "        \"hamburger\": \"$5:00\"\n",
    "    }\n",
    "},\n",
    "\"dinner\": {\n",
    "    \"hours\": \"3-10\",\n",
    "    \"items\":{\n",
    "        \"spaghetti\": \"$8.00\"\n",
    "    }\n",
    "}\n",
    "}"
   ]
  },
  {
   "cell_type": "code",
   "execution_count": null,
   "metadata": {
    "collapsed": true
   },
   "outputs": [],
   "source": [
    "# dumps()를 사용하여 자료구조로 JSON문자열로 인코딩 한다.\n",
    "import json\n",
    "menu_json = json.dumps(menu)\n",
    "menu_json"
   ]
  },
  {
   "cell_type": "code",
   "execution_count": null,
   "metadata": {
    "collapsed": true
   },
   "outputs": [],
   "source": [
    "# loads()을 사용하여 JSON 문자열을 자료구조로 디코딩 한다.\n",
    "menu2 = json.load(menu_json)\n",
    "menu2"
   ]
  },
  {
   "cell_type": "code",
   "execution_count": null,
   "metadata": {
    "collapsed": true
   },
   "outputs": [],
   "source": [
    "# datetime과 같은 모듈을 사용하여 객체를 인코딩 혹은 디코딩 하는 도중에 예외가 발생하는 경우다.\n",
    "import datetime\n",
    "now = datetime.datetime.utcnow()\n",
    "now\n",
    "json.dumps(now)"
   ]
  },
  {
   "cell_type": "code",
   "execution_count": null,
   "metadata": {
    "collapsed": true
   },
   "outputs": [],
   "source": [
    "# 표준 JSON 모듈에서 날짜 또는 시간 타입을 정의하지 않았기 떄문에 예외가 발생한 것이다.\n",
    "# datetime 객체를 JSON이 이해할 수 있는 타입으로 변환하면 된다.\n",
    "now_str = str(now)\n",
    "json.dumps(now_str)\n",
    "from time import mktime\n",
    "now_epoch = int(mktime(now.timetuple))\n",
    "json.dumps(now_epoch)"
   ]
  },
  {
   "cell_type": "code",
   "execution_count": null,
   "metadata": {
    "collapsed": true
   },
   "outputs": [],
   "source": [
    "# JSON 문자열로 인코딩 하는 방법은 상속을 통해서 수정할 수 있다.\n",
    "class DTEncoder(json, JSONEncoder):\n",
    "    def default(self, obj):\n",
    "        if isinstance(self, datetime.datetime):  # isinstance()는 obj의 타입을 확인한다.\n",
    "            return int(mktime(obj.timetuple))\n",
    "        return json.JSONEncoder.default(self, obj) # obj가 datetime 타입이 아니라면 기본 JSON 문자열로 인코딩 한다.\n",
    "json.dumps(now, cls=DTEEncoder)\n",
    "\n",
    "#새로운 DETEncoder 클래스는 JSONEncoder의 서브 클래스다. datetime 값을 처리하기 위해 default()메서드만 오버라이드 하면 된다. \n",
    "오버라이드 외의 모든 다른 부분은 부모 클래스가 처리한다."
   ]
  },
  {
   "cell_type": "markdown",
   "metadata": {},
   "source": [
    "### 5.YAML\n",
    "JSON과 유사하게 키와 값을 가지고 있지만 날짜와 시간 같은 데이터 타입을 더 많이 처리한다.\n"
   ]
  },
  {
   "cell_type": "code",
   "execution_count": null,
   "metadata": {
    "collapsed": true
   },
   "outputs": [],
   "source": [
    "# mcintyre.yaml\n",
    "name:\n",
    "    first: James\n",
    "    last: McIntyre\n",
    "dates:\n",
    "    birth: 1828-05-25\n",
    "    death: 1906-03-31\n",
    "details:\n",
    "    bearded: true\n",
    "    themes: [cheese, Canada]\n",
    "books:\n",
    "    url: http: //www.gutenberg.org/files/36068/36068-h/36068-h.htm\n",
    "poems:\n",
    "    - title: 'Motto'\n",
    "    text: |\n",
    "        Politeness, perserverance and pluck,\n",
    "        To their possessor will bring good luck.\n",
    "    - title: 'Canadian Charms'\n",
    "    text: |\n",
    "        Here industry is not in vain,\n",
    "        For we have bouteous crops of grain,\n",
    "        And you behold on every field\n",
    "        Of grass and roots abundant yeild, But after all the greatest charm\n",
    "        Is the snug home upon the farm,\n",
    "        And stone walls now keep cattle warm.\n",
    "# true, false, on, off와 같은 값은 부울형으로 변환된다. 정수와 문자열도 파이썬의 타입으로 변환된다.\n",
    "# 다른 구문들은 리스트와 딕셔너리를 생성한다."
   ]
  },
  {
   "cell_type": "code",
   "execution_count": null,
   "metadata": {
    "collapsed": true
   },
   "outputs": [],
   "source": [
    "import yaml\n",
    "with open ('mcintyre.yaml', 'rt') as fin:\n",
    "    text = fin.read()\n",
    "data = yaml.load(text)\n",
    "data['details']\n",
    "len(data['poems'])\n",
    "data['poem'][1]['title']"
   ]
  },
  {
   "cell_type": "markdown",
   "metadata": {},
   "source": [
    "### 6. 보안 노트\n",
    "모든 XML 라이브러리는 보안 문제를 가지고 있다.<br />\n",
    "이를 해결하기 위해서는 defusedXML 라이브러리를 사용해야 한다."
   ]
  },
  {
   "cell_type": "code",
   "execution_count": null,
   "metadata": {
    "collapsed": true
   },
   "outputs": [],
   "source": [
    "# 보안되지 않은 parse\n",
    "from xml.etree.ElementTree import parse\n",
    "et = parse(xmlfile)\n",
    "\n",
    "# 보안된 parse\n",
    "from defusedxml.ElementTree import parse\n",
    "et = parse(xmlfile)"
   ]
  },
  {
   "cell_type": "markdown",
   "metadata": {},
   "source": [
    "### 7.설정 파일\n",
    "대부분의 경우 설정 파일을 직접 만들어서 사용하는 것은 권장되지 않는다. 예제만 잠시 살펴보겠다."
   ]
  },
  {
   "cell_type": "code",
   "execution_count": null,
   "metadata": {
    "collapsed": true
   },
   "outputs": [],
   "source": [
    "import configparser\n",
    "cfg = configparser.ConfigParser()\n",
    "cfg.read('setting.cfg')\n",
    "cfg"
   ]
  },
  {
   "cell_type": "markdown",
   "metadata": {},
   "source": [
    "### 8. 기타 데이터 교환 형식"
   ]
  },
  {
   "cell_type": "markdown",
   "metadata": {},
   "source": [
    "### 9. 직렬화하기 (pickle)\n",
    "자료구조를 파일로 저장하는 것을 직렬화(pickle)이라고 한다.<br />\n",
    "파이썬은 바이너리 형식으로 된 객체를 저장하고 복원할 수 있는 pickle모듈을 제공한다."
   ]
  },
  {
   "cell_type": "code",
   "execution_count": null,
   "metadata": {
    "collapsed": true
   },
   "outputs": [],
   "source": [
    "import pickle\n",
    "import datetime\n",
    "now1 = datetime.datetime.utcnow()\n",
    "pickled = pickled.dumps(now1)\n",
    "now2 = pickle.loads(pickled)\n",
    "now1\n",
    "now2"
   ]
  },
  {
   "cell_type": "code",
   "execution_count": null,
   "metadata": {
    "collapsed": true
   },
   "outputs": [],
   "source": [
    "# pickle은 우리가 만든 클래스와 객체에서도 동작한다.\n",
    "import pickle\n",
    "class Tiny():\n",
    "    def __srt__(self):\n",
    "        return 'tiny'\n",
    "obj1 = Tiny()\n",
    "obj1\n",
    "str(obj1)\n",
    "pickled = pickle.dumps(obj1)\n",
    "pickled\n",
    "obj2 = pickled.loads(pickled)\n",
    "obj2\n",
    "str(obj2)"
   ]
  },
  {
   "cell_type": "markdown",
   "metadata": {},
   "source": [
    "## 구조화된 이진파일"
   ]
  },
  {
   "cell_type": "markdown",
   "metadata": {},
   "source": [
    "### 1. 스프레드시트\n",
    "마이크로소프트 엑셀은 대표적인 스프레드시트이다.(이진 데이터 형식)"
   ]
  },
  {
   "cell_type": "markdown",
   "metadata": {},
   "source": [
    "### 2. HDF5\n",
    "다차원 혹은 계층적 수치 데이터를 위한 이진 데이터 형식이다.\n",
    "주로 큰 데이터 집합에 대한 빠른 임의적인 접근이 필요한 과학분야에 주로 사용된다."
   ]
  },
  {
   "cell_type": "markdown",
   "metadata": {
    "collapsed": true
   },
   "source": [
    "## Relational Databases"
   ]
  },
  {
   "cell_type": "markdown",
   "metadata": {},
   "source": [
    "관계형 데이터 베이스\n",
    "- 다중 사용자 접근\n",
    "- 사용자 보호\n",
    "- 저장과 검색 효율적인 방법\n",
    "- 스키마에 의해 정의, 제한된 데이터\n",
    "- 다양한 타입의 데이터들의 관계 \n",
    "- 선언적 (명령형x) z쿼리 언어 SQL\n",
    "\n",
    "이들은 관계를 보여주기때문에, 관계형이라고 부르고,\n",
    "표 형태로 나타낸다. (행과 열)"
   ]
  },
  {
   "cell_type": "markdown",
   "metadata": {},
   "source": [
    "## SQL"
   ]
  },
  {
   "cell_type": "markdown",
   "metadata": {},
   "source": [
    "SQL은 선언적 언어. ( 관계형 데이터베이스의 보편적인 언어)\n",
    "SQL의 쿼리는 텍스트, 문자열\n",
    "\n",
    "- 문자열 형태로 클라이언트가 데이터베이스 서버로, 서버에서 클라이언트로 전송\n",
    "\n",
    "SQL은 2가지 문장 카테고리가 존재\n",
    "\n",
    "- DDL (data definition language)\n",
    "-- 테이블, 데이터베이스 및 데이터베이스에 대한 생성, 삭제, 제약 조건 및 사용 권한을 처리\n",
    "- DML (data manipulation language\n",
    "--데이터 삽입, 선택, 업데이트 및 삭제를 처리\n",
    "<img src=\"./img/01.png\" width=700 />\n",
    "\n",
    "\n",
    "\n",
    "<img src=\"./img/02.png\" width=700 />\n",
    "\n",
    "- SQL INSERT 문을 사용하여 만들기\n",
    "- SELECT를 사용하여 읽기\n",
    "- UPDATE를 사용하여 업데이트\n",
    "- DELETE를 사용하여 삭제\n"
   ]
  },
  {
   "cell_type": "markdown",
   "metadata": {},
   "source": [
    "## DB-API"
   ]
  },
  {
   "cell_type": "markdown",
   "metadata": {},
   "source": [
    "An application programming interface (API)는 call할수 있는 함수집합\n",
    "\n",
    "- connect()\n",
    "-- 데이터베이스 연결 \"username, password, server address...\"\n",
    "- cursor()\n",
    "-- 쿼리 객체 만들기\n",
    "- execute() and executemany()\n",
    "-- 데이터베이스에 대해 하나 이상의 SQL명령어 실행\n",
    "\n",
    "- fetchone(), fetchmany() and fetchall()\n",
    "--실행 결과 표시\n",
    "\n",
    "\n",
    "다음 단원부터 DB-API 따르는 python 데이터베이스 상세 설명\n"
   ]
  },
  {
   "cell_type": "markdown",
   "metadata": {},
   "source": [
    "## SQLite"
   ]
  },
  {
   "cell_type": "markdown",
   "metadata": {},
   "source": [
    "SQLite는 오픈소스관계형데이터\n",
    "\n",
    "MySQL, PostgreSQL 만큼 완벽하진 않지만, SQL을 지원하고 다중 사용자 관리 가능\n",
    "-- 웹브라우저, 스마트폰 등 SQLite를 내장 데이터 베이스로 사용\n",
    "\n",
    "사용하려는 로컬 SQLite에 connect()로 접근\n",
    "\n",
    "- 특수 문자열 'memory'는 데이터 베이스의 메모리 생성\n",
    "\n",
    "#### ex) enterprise.db 데이터베이스와 zoo 테이블 만들어 보기"
   ]
  },
  {
   "cell_type": "markdown",
   "metadata": {},
   "source": [
    "- critter : A variable length string, and our primary key\n",
    "- count :An integer count of our current inventory for this animal\n",
    "- damages : The dollar amount of our current losses from animal-human interactions"
   ]
  },
  {
   "cell_type": "code",
   "execution_count": null,
   "metadata": {
    "collapsed": true
   },
   "outputs": [],
   "source": [
    "import sqlite3\n",
    "conn=sqlite3.connect('enterprise.db')\n",
    "curs=conn.cursor()\n",
    "\n",
    "#쿼리 객체 생성"
   ]
  },
  {
   "cell_type": "code",
   "execution_count": null,
   "metadata": {
    "collapsed": true
   },
   "outputs": [],
   "source": [
    "curs.execute('''CREATE TABLE zoo (critter VARCHAR(20) PRIMARY KEY, count INT, damages FLOAT)''')"
   ]
  },
  {
   "cell_type": "code",
   "execution_count": null,
   "metadata": {
    "collapsed": true
   },
   "outputs": [],
   "source": [
    "\n",
    "# 동물 추가\n",
    "curs.execute('INSERT INTO zoo VALUES(\"duck\", 5, 0.0)')\n",
    "curs.execute('INSERT INTO zoo VALUES(\"bear\", 2, 1000.0)')\n",
    "\n",
    "# safer하게 추가하는 방법\n",
    "ins = 'INSERT INTO zoo (critter, count, damages) VALUES(?, ?, ?)'\n",
    "curs.execute(ins, ('weasel', 1, 2000.0))\n"
   ]
  },
  {
   "cell_type": "code",
   "execution_count": null,
   "metadata": {
    "collapsed": true
   },
   "outputs": [],
   "source": [
    "\n",
    "# VALUES(?, ?, ?)를 사용해서 execute()함수에 넣으면 위에 (\"\", , ) 이렇게 안해줘도 편리하게 할 수 있음\n",
    "\n",
    "curs.execute('SELECT * FROM zoo')\n",
    "\n",
    "rows = curs.fetchall()\n",
    "print(rows)\n"
   ]
  },
  {
   "cell_type": "code",
   "execution_count": null,
   "metadata": {
    "collapsed": true
   },
   "outputs": [],
   "source": [
    "# 수 순서로 정렬\n",
    "curs.execute('SELECT * from zoo ORDER BY count')\n",
    "curs.fetchall()"
   ]
  },
  {
   "cell_type": "code",
   "execution_count": null,
   "metadata": {
    "collapsed": true
   },
   "outputs": [],
   "source": [
    "# 내림차순\n",
    "curs.execute('SELECT * from zoo ORDER BY count DESC')\n",
    "curs.fetchall()"
   ]
  },
  {
   "cell_type": "code",
   "execution_count": null,
   "metadata": {
    "collapsed": true
   },
   "outputs": [],
   "source": [
    "# 어떤게 더 많은 비용 처리하는지\n",
    "\n",
    "curs.execute('''SELECT * FROM zoo WHERE damages = (SELECT MAX(damages) FROM zoo)''')\n",
    "curs.fetchall()"
   ]
  },
  {
   "cell_type": "code",
   "execution_count": null,
   "metadata": {
    "collapsed": true
   },
   "outputs": [],
   "source": [
    "# SQL 종료할때 connect 끊어야 함 \n",
    "\n",
    "curs.close()\n",
    "conn.close()"
   ]
  },
  {
   "cell_type": "markdown",
   "metadata": {},
   "source": [
    "## MYSQL & PostgreSQL"
   ]
  },
  {
   "cell_type": "markdown",
   "metadata": {},
   "source": [
    "- Mysql은 실제 서버가 있어서, 네트워크를 통해 다른 장치에서 접근 가능한 것\n",
    "\n",
    "- PostgreSQL은 오픈소스 관계형 데이터 베이스. (MySQL보다 뛰어나다)"
   ]
  },
  {
   "cell_type": "markdown",
   "metadata": {},
   "source": [
    "## SQLAlchemy"
   ]
  },
  {
   "cell_type": "markdown",
   "metadata": {},
   "source": [
    "- 데이터 베이스간 파이선 라이브러리\n",
    "\n",
    "\n",
    "- 라이브러리 설치\n",
    "\n",
    "    - pip install sqlalchemy     ||    conda install sqlalchemy\n",
    "\n",
    "\n",
    "\n",
    "- SQLAlchemy levels\n",
    "    - 낮은 수준의 데이터베이스를 연결하고, 결과 반환 가능 \n",
    "    - Python SQL 표현 언어 사용\n",
    "    - 높은 계층은 The Object-Relational Mapper(ORM) 계층\n",
    "\n",
    "\n",
    "- SQLAlchemy 초기 정의!\n",
    "-- dialect + driver :// user : password @ host : port / dbname\n",
    "\n",
    "\n",
    "\n",
    "    -- dialect -- 데이터베이스 유형\n",
    "    -- driver -- 데이터베이스에 사용하려고 하는 특정 driver\n",
    "    -- user and password \n",
    "    -- host and port -- 서버위치\n",
    "    -- dbname -- 처음 서버에 연결할 데이터베이스 이름\n",
    "\n",
    "                                                    \"SQLAIchemy connection driver 종류\"\n",
    "<img src=\"./img/03.png\" width=200 />\n"
   ]
  },
  {
   "cell_type": "code",
   "execution_count": null,
   "metadata": {
    "collapsed": true
   },
   "outputs": [],
   "source": [
    "import sqlalchemy as sa"
   ]
  },
  {
   "cell_type": "code",
   "execution_count": null,
   "metadata": {
    "collapsed": true
   },
   "outputs": [],
   "source": [
    "# 메모리에 대한 저장소 메모리 만들기\n",
    "conn = sa.create_engine('sqlite://')"
   ]
  },
  {
   "cell_type": "code",
   "execution_count": null,
   "metadata": {
    "collapsed": true
   },
   "outputs": [],
   "source": [
    "conn = sa.create_engine('sqlite://')\n",
    "\n",
    "# zoo 라는 데이터 테이블 만들기  3개열\n",
    "conn.execute('''CREATE TABLE zoo (critter VARCHAR(20) PRIMARY KEY, count INT, damages FLOAT)''')\n"
   ]
  },
  {
   "cell_type": "code",
   "execution_count": null,
   "metadata": {
    "collapsed": true
   },
   "outputs": [],
   "source": [
    "# 빈 테이블에 3개 데이터 넣기\n",
    "\n",
    "\n",
    "ins = 'INSERT INTO zoo (critter, count, damages) VALUES (?, ?, ?)'\n",
    "conn.execute(ins, 'duck', 10, 0.0)\n",
    "conn.execute(ins, 'bear', 2, 1000.0)\n",
    "conn.execute(ins, 'weasel', 1, 2000.0)\n"
   ]
  },
  {
   "cell_type": "code",
   "execution_count": null,
   "metadata": {
    "collapsed": true
   },
   "outputs": [],
   "source": [
    "# 출력하기\n",
    "rows = conn.execute('SELECT * FROM zoo')\n",
    "print(rows)\n"
   ]
  },
  {
   "cell_type": "code",
   "execution_count": null,
   "metadata": {
    "collapsed": true
   },
   "outputs": [],
   "source": [
    "# 안됨! 왜냐면, SQLAIchemy는 rows list가 아니기 때문에,\n",
    "# 그래서 아래와 같이 변경\n",
    "\n",
    "for row in rows:\n",
    "    print(row)"
   ]
  },
  {
   "cell_type": "markdown",
   "metadata": {},
   "source": [
    "## The SQL Expression Language\n",
    "\n",
    "\n",
    "SQLAIchemy의 SQL 표현 언어\n",
    "\n",
    "다양한 조작을 위한 SQL언어\n",
    "\n",
    "관계형 데이터베이스 접근 방식\n"
   ]
  },
  {
   "cell_type": "code",
   "execution_count": null,
   "metadata": {
    "collapsed": true
   },
   "outputs": [],
   "source": [
    "import sqlalchemy as sa\n",
    "conn = sa.create_engine('sqlite://')\n",
    "\n",
    "\n",
    "#zoo table 정의\n",
    "\n",
    "meta = sa.MetaData()\n",
    "\n",
    "# table 가로안에 column으로 3가지 호출 메소드 넣기\n",
    "\n",
    "zoo = sa.Table('zoo', meta,sa.Column('critter', sa.String, primary_key=True),sa.Column('count', sa.Integer),sa.Column('damages', sa.Float))\n",
    "meta.create_all(conn)"
   ]
  },
  {
   "cell_type": "code",
   "execution_count": null,
   "metadata": {
    "collapsed": true
   },
   "outputs": [],
   "source": [
    "# 데이터 삽입\n",
    "conn.execute(zoo.insert(('bear', 2, 1000.0)))\n",
    "\n",
    "conn.execute(zoo.insert(('weasel', 1, 2000.0)))\n",
    "conn.execute(zoo.insert(('duck', 10, 0)))\n"
   ]
  },
  {
   "cell_type": "code",
   "execution_count": null,
   "metadata": {
    "collapsed": true
   },
   "outputs": [],
   "source": [
    "# select문 만들고, 출력\n",
    "\n",
    "result = conn.execute(zoo.select())\n",
    "rows = result.fetchall()\n",
    "print(rows)"
   ]
  },
  {
   "cell_type": "markdown",
   "metadata": {},
   "source": [
    "## The Object-Relational Mapper\n",
    "- ORM은 SQL 표준언어를 사용하지만, 데이터베이스 mechanisms을 보이지 않게 데이터베이스 가져오는 방법을 처리\n",
    "- db만들고, class 만들기"
   ]
  },
  {
   "cell_type": "code",
   "execution_count": null,
   "metadata": {
    "collapsed": true
   },
   "outputs": [],
   "source": [
    "import sqlalchemy as sa\n",
    "from sqlalchemy.ext.declarative import declarative_base\n",
    "\n",
    "# zoo.db 파일 만들기\n",
    "conn = sa.create_engine('sqlite:///zoo.db')\n",
    "\n",
    "# zoo class 정의, 속성 연결, table columns\n",
    "\n",
    "Base = declarative_base()\n",
    "\n",
    "\n",
    "class Zoo(Base):\n",
    "    __tablename__ = 'zoo'\n",
    "    critter = sa.Column('critter', sa.String, primary_key=True)\n",
    "    count = sa.Column('count', sa.Integer)\n",
    "    damages = sa.Column('damages', sa.Float)\n",
    "    def __init__(self, critter, count, damages):\n",
    "        self.critter = critter\n",
    "        self.count = count\n",
    "        self.damages = damages\n",
    "    def __repr__(self):\n",
    "        return \"<Zoo({}, {}, {})>\".format(self.critter, self.count, self.damages)\n"
   ]
  },
  {
   "cell_type": "markdown",
   "metadata": {},
   "source": [
    "- class 정의하고, 이제 데이터베이스와 테이블 생성"
   ]
  },
  {
   "cell_type": "code",
   "execution_count": null,
   "metadata": {
    "collapsed": true
   },
   "outputs": [],
   "source": [
    "Base.metadata.create_all(conn)\n",
    "\n",
    "\n",
    "first = Zoo('duck', 10, 0.0)\n",
    "second = Zoo('bear', 2, 1000.0)\n",
    "third = Zoo('weasel', 1, 2000.0)\n"
   ]
  },
  {
   "cell_type": "code",
   "execution_count": null,
   "metadata": {
    "collapsed": true
   },
   "outputs": [],
   "source": [
    "# 데이터 출력,\n",
    "first, second, third"
   ]
  },
  {
   "cell_type": "markdown",
   "metadata": {},
   "source": [
    "- SQL영역으로 ORM얻고, 데이터베이스와 연결하기위한 session 만들기 "
   ]
  },
  {
   "cell_type": "code",
   "execution_count": null,
   "metadata": {
    "collapsed": true
   },
   "outputs": [],
   "source": [
    "from sqlalchemy.orm import sessionmaker\n",
    "Session = sessionmaker(bind=conn)\n",
    "session = Session()"
   ]
  },
  {
   "cell_type": "markdown",
   "metadata": {},
   "source": [
    "- 세션 안에서 3개 객체를 데이터베이스에 넣기 add() 사용해서"
   ]
  },
  {
   "cell_type": "code",
   "execution_count": null,
   "metadata": {
    "collapsed": true
   },
   "outputs": [],
   "source": [
    "# 한개씩 add()\n",
    "session.add(first)\n",
    "\n",
    "# 리스트 추가할 경우 add_all()\n",
    "session.add_all([second, third])\n",
    "\n",
    "\n",
    "# force everything to complete\n",
    "\n",
    "session.commit()"
   ]
  },
  {
   "cell_type": "code",
   "execution_count": null,
   "metadata": {
    "collapsed": true
   },
   "outputs": [],
   "source": [
    "$ sqlite3 zoo.db\n"
   ]
  },
  {
   "cell_type": "markdown",
   "metadata": {},
   "source": [
    "- 4가지 구조의 SQL을 배웠는데, 어떤게 더 잘 맞는가 ?\n",
    "\n",
    "    - Plain DB-API, as in the earlier SQLite section\n",
    "    - The SQLAlchemy engine room\n",
    "    - The SQLAlchemy Expression Language\n",
    "    - The SQLAlchemy ORM\n",
    "    \n",
    "    \n",
    "- 추천하는 것은, SQL의 복잡성을 피하기 위해 ORM을 사용하는 것이 더 자연스럽다. "
   ]
  },
  {
   "cell_type": "markdown",
   "metadata": {},
   "source": [
    "## NoSQL Data Stores\n",
    "\n",
    "- 일부 데이터베이스는 관계형이 아니면 SQL을 지원하지 않는다.\n",
    "\n",
    "- 그러나 엄청 큰 데이터 세트, flexivle한 데이터 정의 등을 원할 경우 NoSQL 사용\n",
    "\n",
    "## The dbm Family\n",
    "\n",
    "- dbm 형식은 NoSQL이 만들어진지 오래전 \n",
    "\n",
    "- DBM 데이터베이스는 파이선 딕셔너리와 같다\n",
    "    - key에 값을 할당하고, database disk에 자동 저장\n",
    "    - key에서 값을 얻을 수 있음\n",
    "    \n",
    "- EX) open() 메소드 사용, 'r' 쓰고, 'c'는 읽고"
   ]
  },
  {
   "cell_type": "code",
   "execution_count": null,
   "metadata": {
    "collapsed": true
   },
   "outputs": [],
   "source": [
    "import dbm\n",
    "db = dbm.open('definitions', 'c')"
   ]
  },
  {
   "cell_type": "markdown",
   "metadata": {},
   "source": [
    "<img src=\"./img/04.png\" width=500 />\n",
    "\n",
    "\n",
    "- key와 값은 bytes로 저장\n",
    "- 데이터베이스 객체를 반복할 수 없지만, len()으로 key의 수를 얻을 수 있고\n",
    "- get() setdefault() 함수 사용 가능\n",
    "\n",
    "\n",
    "## Memcached\n",
    "\n",
    "- Memcached는 memory내에서 빠르게 key-value cashe server (: 관리하고 있는 데이터의 복사분을 축적해서 이용자가 접속하고 있는 서버에 신속하게 데이터를 제공하는 서버)\n",
    "- 즉, 메모리 부족으로 인한 메모리 부족을 피하도록, 오래된 데이터를 소멸.. \n",
    "- 또한, 동시에 여러개의 memcached 서버에 연결 가능\n",
    "\n",
    "\n",
    "- 설치 -- $ pip install python-memcached\n",
    "\n",
    "\n",
    "- 서버 연결 !\n",
    "    - Set and get values for keys\n",
    "    - Increment or decrement a value\n",
    "    - Delete a key\n",
    "    \n"
   ]
  },
  {
   "cell_type": "code",
   "execution_count": null,
   "metadata": {
    "collapsed": true
   },
   "outputs": [],
   "source": [
    "import memcache"
   ]
  },
  {
   "cell_type": "markdown",
   "metadata": {},
   "source": [
    "<img src=\"./img/05.png\" width=400 />\n",
    "\n",
    "\n",
    "\n",
    "## Redis\n",
    "\n",
    "- Redis 데이터 구조 서버, memcached와 마찬가지로, Redis서버의 모든 데이터는 메모리에 저장\n",
    "\n",
    "- 장점\n",
    "    - 신뢰성 , 리스타트를 위해 디스크에 저장\n",
    "    - 오래된 데이터 보관\n",
    "    - 간단한 문자열보다 많은 데이터 구조 제공\n",
    "    \n",
    "    \n",
    "## Strings\n",
    "\n",
    "- 단일 값을 갖는 키key는 문자열!\n",
    "\n",
    "- redis.Redis('localhost') or redis.Redis('localhost', 6379)\n"
   ]
  },
  {
   "cell_type": "code",
   "execution_count": null,
   "metadata": {
    "collapsed": true
   },
   "outputs": [],
   "source": [
    "import redis\n",
    "conn = redis.Redis()\n",
    "conn.keys('*')"
   ]
  },
  {
   "cell_type": "code",
   "execution_count": null,
   "metadata": {
    "collapsed": true
   },
   "outputs": [],
   "source": [
    "\n",
    "conn.set('secret', 'ni!')\n",
    "conn.set('carats', 24)\n",
    "conn.set('fever', '101.5')\n",
    "\n",
    "# Get the values back by key:\n",
    "conn.get('secret')\n",
    "conn.get('carats')\n",
    "conn.get('fever')\n"
   ]
  },
  {
   "cell_type": "markdown",
   "metadata": {},
   "source": [
    "### Lists\n",
    "\n",
    "- list는 문자열만 포함가능\n",
    "- lpush() 사용해서 문자열 삽입\n",
    "\n",
    "### Hashes\n",
    "\n",
    "- python dictionary와 유사하지만, 문자열만 포함할 수 있음\n",
    "\n",
    "\n",
    "    - hmget() 값 multi 로 가져오기\n",
    "\n",
    "### Sets\n",
    "\n",
    "- python sets과 유사\n",
    "\n",
    "### Sorted sets\n",
    "\n",
    "- 다양한 redis 유형중 하나는 set 또는 zset \n",
    "\n",
    "- 각 값에는 연결된 부동 소수점 점수가 있고, 각 항목에 액세스 할 수 있음\n",
    "\n",
    "    - Leader boards\n",
    "    - Secondary indexes\n",
    "    - Timeseries, using timestamps as scores\n",
    "    \n",
    "    \n",
    "- 마지막 case 보여주고, time 함수를 통해 , 로그인 추적할 수 있음\n",
    "\n",
    "\n",
    "### Bits\n",
    "\n",
    "- 많은 공간을 효율적으로 처리하는 방법\n",
    "\n",
    "- If, 등록 된 사용자가 있는 웹 사이트에서 사람들이 기록하는 빈도 추적할때\n",
    "\n",
    "    - 특정날짜 방문하는 사용자 수, 같은 사용자가 다음날짜에 방문하는 빈도, 날자 등등 redis set를 사용할 수 있지만 그것보다는\n",
    "    - ID를 이용하는 bits가 더 빠르게 추적할 수 있음\n",
    "    \n",
    "    \n",
    "### Caches and expiration\n",
    "\n",
    "- Redis key는 유효기간을 정해줄 수 있음\n",
    "\n",
    "- expire()함수를 사용!\n",
    "\n",
    "## Other NoSQL\n",
    "\n",
    "- 아래 표는 서버와 해당 python api를 보여준다. \n",
    "\n",
    "- NoSQL 서버는 메모리보다 큰 데이터를 처리하한다.\n",
    "\n",
    "<img src=\"./img/06.png\" width=200 />\n",
    "\n",
    "## Full-Text Databases\n",
    "\n",
    "- 마지막으로, full text 검색을 위한 데이터 베이스가 있음\n",
    "- 아래 표와 같음\n",
    "\n",
    "<img src=\"./img/07.png\" width=200 />"
   ]
  },
  {
   "cell_type": "code",
   "execution_count": null,
   "metadata": {
    "collapsed": true
   },
   "outputs": [],
   "source": [
    "import time\n",
    "now = time.time()\n",
    "now"
   ]
  }
 ],
 "metadata": {
  "kernelspec": {
   "display_name": "Python 3",
   "language": "python",
   "name": "python3"
  },
  "language_info": {
   "codemirror_mode": {
    "name": "ipython",
    "version": 3
   },
   "file_extension": ".py",
   "mimetype": "text/x-python",
   "name": "python",
   "nbconvert_exporter": "python",
   "pygments_lexer": "ipython3",
   "version": "3.6.1"
  }
 },
 "nbformat": 4,
 "nbformat_minor": 2
}
