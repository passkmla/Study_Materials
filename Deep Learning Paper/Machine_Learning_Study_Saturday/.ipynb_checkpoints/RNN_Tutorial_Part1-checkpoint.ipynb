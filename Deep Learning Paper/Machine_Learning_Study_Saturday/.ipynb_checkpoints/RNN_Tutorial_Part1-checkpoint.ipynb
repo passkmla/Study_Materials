{
 "cells": [
  {
   "cell_type": "markdown",
   "metadata": {
    "collapsed": true
   },
   "source": [
    "# RNN이란"
   ]
  },
  {
   "cell_type": "markdown",
   "metadata": {},
   "source": [
    "RNN에 대한 기본적인 아이디어는 순차적인 정보를 처리하는 데 있다. <br />\n",
    "기존의 신경망 구조에서는 모든 입력과 출력이 각각 독립적이라고 가정했지만, 많은 경우에 이는 옳지 않은 방법이다. <br />\n",
    "한 예로, 문장에서 다음에 나올 단어를 추측하고 싶다면 이전에 나온 단어들을 아는 것이 큰 도움이 될 것이다. <br />\n",
    "RNN이 recurrent하다고 불리는 이유는 동일한 태스크를 한 시퀀스의 모든 요소마다 적용하고, 출력 결과는 이전의 계산 결과에 영향을 받기 때문이다. <br />\n",
    "일반적인 RNN 구조는 다음과 같이 생겼다."
   ]
  },
  {
   "cell_type": "markdown",
   "metadata": {},
   "source": [
    "<img src=\"./RNN_Tutorial_Part1_images/1.png\" width=600 />"
   ]
  },
  {
   "cell_type": "markdown",
   "metadata": {},
   "source": [
    "RNN 네트워크를 펼친다는 말은 간단히 말해서 네트워크를 전체 시퀀스에 대해 그려놓았다고 보면 된다.\n",
    "RNN 구조에서 일어나느 계산에 대한 식은 아래와 같다.\n",
    "- x(t)는 시간 스텝 t에서의 입력값이다.\n",
    "- s(t)는 시간 스텝 t에서의 Hidden state이다. <br /> \n",
    "네트워크의 메모리 부분으로서, 이전 시간 스텝의 Hidden state값과 현재 시간 스텝의 입력값에 의해 계산된다. s(t) = f(U(x(t))+W(s(t-1))) <br />\n",
    "비선형함수 f는 보통 tanh나 ReLU가 사용되고, 첫 Hidden state를 계산하기 위한 s(t-1)은 보통 0으로 초기화 시킨다.\n",
    "- o(t)는 시간 스텝 t에서의 출력값이다. "
   ]
  },
  {
   "cell_type": "markdown",
   "metadata": {},
   "source": [
    "여기서 몇가지 주의해야 할 점들이 있다.\n",
    "- Hidden state s(t)는 네트워크의 메모리라고 생각할 수 있다.<br /> \n",
    "이론적으로 s(t)는 과거의 시간 스텝들에서 일어난 일들에 대한 정보를 전부 담고 있고 <br />\n",
    "출력값 o(t)는 오로지 현재 시간 스텝 t의 메모리에만 의존한다.\n",
    "- 각 layer마다의 파라미터 값들이 전부 다 다른 기존의 deep한 신경망 구조와는 달리 <br />\n",
    "RNN은 모든 시간 스텝에 대한 파라미터 값을 전부 공유하고 있다.<br />\n",
    "이는 RNN이 각 스텝마다 입력값만 다를 뿐 거의 똑같은 계산을 하고 있다는 것을 보여준다. <br />\n",
    "이는 학습해야 하는 파라미터 수를 많이 줄여준다.\n",
    "- 위 다이어그램에서는 매 시간 스텝마다 입력값이 존재하고 출력값을 내지만 이는 필수적인 것은 아니다.  <br />\n",
    "RNN에서의 핵심은 시퀀스 정보에 대한 어떠한 정보를 추출해 주는 Hidden state이기 때문이다."
   ]
  },
  {
   "cell_type": "markdown",
   "metadata": {},
   "source": [
    "# RNN으로 무엇을 할 수 있을까?"
   ]
  },
  {
   "cell_type": "markdown",
   "metadata": {},
   "source": [
    "## 언어 모델링과 텍스트 생성\n",
    "언어 모델은 주어진 문장에서 이전 단어들을 보고 다음 단어가 나올 확률을 계산해주는 모델이다. <br />\n",
    "언어 모델은 어떤 문장이 실제로 존재할 확률이 얼마나 되는지 계산해주기 때문에, 자동 번역의 출력값으로 <br />\n",
    "어떤 문장을 내보내는 것이 더 좋은지 알려줄 수 있다. <br />\n",
    "문장에서 다음 단어가 나타날 확률을 계산해주는 주 목적외의 부수적인 효과로 생성 모델을 얻을 수 있는데, <br />\n",
    "출력 확률 분포에서 샘플링을 통해 문장의 다음 단어가 무엇이 되면 좋을지 정한다면 기존에 없던 새로운 문장을 만들 수 있다. <br />\n",
    "네트워크를 학습할 때에는 시간 스텝 t에서의 출력값이 실제로 다음 입력 단어가 되도록 o(t) = x(t+1)로 정해준다."
   ]
  },
  {
   "cell_type": "markdown",
   "metadata": {},
   "source": [
    "## 자동 번역(기계 번역)"
   ]
  },
  {
   "cell_type": "markdown",
   "metadata": {},
   "source": [
    "기계 번역 문제는 입력이 단어들의 시퀀스라는 점에서 언어 모델링과 비슷하지만, 출력값이 다른 언어로 되어있는 단어들의 <br />\n",
    "시퀀스 라는 점에서 차이가 있다. 네트워크 상에서의 중요한 차이점은, 입력값을 전부 다 받아들인 다음에서야 네트워큭 출력값을 <br />\n",
    "내보낸다는 점에 있는데, 번역 문제에서는 어순이 다른 문제 등이 있기 때문에 대상 언어의 문장의 첫 단어를 알기 위해선 번역할 <br />\n",
    "문장 전체를 봐야 할 수도 있기 때문이다."
   ]
  },
  {
   "cell_type": "markdown",
   "metadata": {},
   "source": [
    "<img src=\"./RNN_Tutorial_Part1_images/2.png\" width=600 />"
   ]
  },
  {
   "cell_type": "markdown",
   "metadata": {},
   "source": [
    "## 음성인식\n",
    "사운드 웨이브의 음향 신호를 입력으로 받아들이고, 출력으로는 음소들의 시퀀스와 각각의 음소별 확률 분포를 추측할 수 있다."
   ]
  },
  {
   "cell_type": "markdown",
   "metadata": {},
   "source": [
    "## 이미지 캡션 생성\n",
    "CNN과 RNN을 함께 사용하여 이미지를 텍스트로 설명해 주는 시스템을 만드는 것도 가능하다."
   ]
  },
  {
   "cell_type": "markdown",
   "metadata": {},
   "source": [
    "<img src=\"./RNN_Tutorial_Part1_images/3.png\" width=600 />"
   ]
  },
  {
   "cell_type": "code",
   "execution_count": null,
   "metadata": {
    "collapsed": true
   },
   "outputs": [],
   "source": []
  }
 ],
 "metadata": {
  "kernelspec": {
   "display_name": "Python 3",
   "language": "python",
   "name": "python3"
  },
  "language_info": {
   "codemirror_mode": {
    "name": "ipython",
    "version": 3
   },
   "file_extension": ".py",
   "mimetype": "text/x-python",
   "name": "python",
   "nbconvert_exporter": "python",
   "pygments_lexer": "ipython3",
   "version": "3.6.1"
  }
 },
 "nbformat": 4,
 "nbformat_minor": 2
}
